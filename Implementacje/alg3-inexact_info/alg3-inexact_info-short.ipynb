{
 "cells": [
  {
   "source": [
    "# ALGORYTM Z \"Approximation of piecewise Hölder functions from inexact information\"\n",
    "\n",
    "# PARAMETRY ALGORYTMU:\n",
    "# h = T/m, gdzie m >= 2r + 1   <--- initial resolution of the mesh\n",
    "# 0 < w < (r + 1) * h"
   ],
   "cell_type": "code",
   "metadata": {},
   "execution_count": 70,
   "outputs": []
  },
  {
   "source": [
    "# Kroki algorytmu:\n",
    "# 1. aproksymacja punktu osobliwego s_f\n",
    "#   1a. siatka regularna (o długości h) oraz różnice dzielne użyte są do lokalizacji s_f na przedziale [u_1, v_1] (o długości (r+1) * h)\n",
    "#   1b. zawęzenie przedziałów z 1a do [u_2, v_2] przy użyciu wielomianów ekstrpolacyjnych p_neg i p_pos\n",
    "#   1c. wyprodukowanie przedziału [u_3, v_3] zawierającego się (lub równego) [u_2, v_2], w którym różnica |p_pos - p_neg| jest nierosnąca na [u_3, ksi] i niemalejąca na [ksi, v_3], gdzie ksi jest finalną aproksymacją s_f\n",
    "# 2."
   ],
   "cell_type": "code",
   "metadata": {},
   "execution_count": 71,
   "outputs": []
  },
  {
   "cell_type": "code",
   "execution_count": 72,
   "metadata": {},
   "outputs": [],
   "source": [
    "import numpy as np\n",
    "import matplotlib.pyplot as plt\n",
    "from scipy.optimize import minimize_scalar\n",
    "from scipy import interpolate"
   ]
  },
  {
   "cell_type": "code",
   "execution_count": 73,
   "metadata": {},
   "outputs": [],
   "source": [
    "# EXAMPLE FUNCTION\n",
    "T = 2 * np.pi + 0.5\n",
    "\n",
    "def f(x):\n",
    "    if 0 <= x < np.pi:\n",
    "        return np.sin(x - np.pi)\n",
    "    if np.pi <= x <= 2 * np.pi + 0.5:\n",
    "        return np.sin(x - np.pi - 0.5)\n"
   ]
  },
  {
   "cell_type": "code",
   "execution_count": 74,
   "metadata": {},
   "outputs": [],
   "source": [
    "# EXAMPLE FUNCTION\n",
    "T = 3 * np.pi\n",
    "\n",
    "def f(x):\n",
    "    if 0 <= x < np.pi:\n",
    "        return np.sin(x)\n",
    "    if np.pi <= x <= 3 * np.pi:\n",
    "        return np.sin(x - np.pi)"
   ]
  },
  {
   "cell_type": "code",
   "execution_count": 75,
   "metadata": {},
   "outputs": [],
   "source": [
    "def d_noisy(i, r, t, y):\n",
    "    '''t : array of data points t_i, ... , t_{i+r+1}\n",
    "       y : array of y_j = f(t_j) + e_j  '''\n",
    "    t.astype('float64')\n",
    "    y.astype('float64')\n",
    "\n",
    "    sum = np.float64(0.0)\n",
    "    for j in range(i, i+r+1):\n",
    "\n",
    "        product = 1.0\n",
    "        for k in range(i, i+r+1):\n",
    "            if k == j:\n",
    "                continue\n",
    "            product *= 1 / (t[k] - t[j])\n",
    "\n",
    "        sum += y[j] * product\n",
    "\n",
    "    return sum"
   ]
  },
  {
   "cell_type": "code",
   "execution_count": 76,
   "metadata": {},
   "outputs": [],
   "source": [
    "# Step 1\n",
    "def step1(t, y):\n",
    "    i_max = np.argmax([d_noisy(i, r, t, y) for i in range(0, m-r)])\n",
    "    u_1 = t[i_max]\n",
    "    v_1 = t[i_max + r +1]\n",
    "    return u_1, v_1, i_max"
   ]
  },
  {
   "cell_type": "code",
   "execution_count": 77,
   "metadata": {},
   "outputs": [],
   "source": [
    "# Step 2\n",
    "def step2(t, y, w, u_1, v_1, i_max):\n",
    "    p_neg = interpolate.interp1d(\n",
    "        t[i_max - r:i_max + 1],\n",
    "        y[i_max - r:i_max + 1],\n",
    "        fill_value=\"extrapolate\"\n",
    "    )\n",
    "    p_pos = interpolate.interp1d(\n",
    "        t[i_max + r + 1: i_max + 2 * r + 1 + 1],\n",
    "        y[i_max + r + 1: i_max + 2 * r + 1 + 1],\n",
    "        fill_value=\"extrapolate\"\n",
    "    )\n",
    "\n",
    "    u = u_1\n",
    "    v = v_1\n",
    "    while v - u > w:\n",
    "        z = np.array([u + j * (v - u) / (r + 2) for j in range(1, r + 2)])\n",
    "        dif = np.abs(p_pos(z) - p_neg(z))\n",
    "        j_max = np.argmax(dif)\n",
    "\n",
    "        # tu chyba nie powinno byc bezposrednio f tylko f_noisy = f() + e\n",
    "        if np.abs(f(z[j_max]) - p_neg(z[j_max])) <= np.abs(f(z[j_max]) - p_pos(z[j_max])):\n",
    "            u = z[j_max]\n",
    "        else:\n",
    "            v = z[j_max]\n",
    "\n",
    "    u_2 = u\n",
    "    v_2 = v\n",
    "    return u_2, v_2, p_neg, p_pos\n"
   ]
  },
  {
   "cell_type": "code",
   "execution_count": 78,
   "metadata": {},
   "outputs": [],
   "source": [
    "# Step 3\n",
    "def step3(t, y, u_2, v_2, p_neg, p_pos, u_1, v_1):\n",
    "    u = u_2\n",
    "    v = v_2\n",
    "\n",
    "    def fun(x):\n",
    "        return -1 * np.abs(p_neg(x) - p_pos(x))\n",
    "        \n",
    "    z_max = [0.0]   # it list only because we need to modify it inside of function (we cannot modify number)\n",
    "    while True:\n",
    "        result = minimize_scalar(fun=fun, bracket=(u,v))\n",
    "        if not result.success:\n",
    "            break\n",
    "        \n",
    "        z_max = result.x\n",
    "        if np.abs(f(z_max) - p_neg(z_max)) <= np.abs(f(z_max) - p_pos(z_max)):\n",
    "            u = z\n",
    "        else:\n",
    "            v = z\n",
    "\n",
    "    u_3 = u\n",
    "    v_3 = v\n",
    "    # Final approximation (i use custom mesh to find argmin)\n",
    "    mesh = np.arange(u_1, v_1, step=0.0005)\n",
    "    x_array = [np.abs(p_pos(k) - p_neg(k)) for k in mesh]\n",
    "    ksi = mesh[np.argmin(x_array)] # ksi is on x-asix\n",
    "\n",
    "    # finding closest value to ksi in orginal mesh\n",
    "    k = 0\n",
    "    while ksi > t[k]:\n",
    "        k += 1\n",
    "    k = k if np.abs(ksi - t[k]) < np.abs(ksi - t[k+1]) else k+1\n",
    "    ksi = t[k]\n",
    "\n",
    "    return u_3, v_3, ksi\n",
    "\n",
    "\n",
    "# x_array = np.append(t[:i_max-1], t[i_max:k], )"
   ]
  },
  {
   "cell_type": "code",
   "execution_count": 79,
   "metadata": {},
   "outputs": [],
   "source": [
    "# ===ALGORITHM===\n",
    "def alg3_inexact_info(f, r, T, m, delta):\n",
    "    '''\n",
    "    f - funkcja, którą aproksymujemy\n",
    "    r - regularność funkcji\n",
    "    T - dlugość przedziału (0,T]\n",
    "    m - początkowa gęstość siatki\n",
    "    delta - \n",
    "    '''\n",
    "    # Step 0 (initialization of algorithm's constants and function evaluations)\n",
    "    h = T / m\n",
    "    w = -1.0 * np.random.uniform(-(r + 1) * h, 0) # multiply by -1 because we need interval (0, (r + 1) * h]\n",
    "\n",
    "    t = np.linspace(0, T, m+1, dtype='float64') # czyli mamy m+1 wezlów postaci t[0], ... , t[m]\n",
    "    e = np.random.uniform(-delta, delta, m+1)\n",
    "    y = np.array([f(t[j]) + e[j] for j in range(0, m+1)])\n",
    "\n",
    "    # kroki algorytmu\n",
    "    u_1, v_1, i_max = step1(t, y)\n",
    "    u_2, v_2, p_neg, p_pos = step2(t, y, w, u_1, v_1, i_max)\n",
    "    u_3, v_3, ksi = step3(t, y, u_2, v_2, p_neg, p_pos, u_1, v_1)\n",
    "\n",
    "    # finalna funkcja approksymująca podaną funkcję\n",
    "    polynomial1 = interpolate.interp1d(\n",
    "                t[:i_max + 1],\n",
    "                y[:i_max + 1])\n",
    "\n",
    "    polynomial2 = interpolate.interp1d(\n",
    "                t[i_max + r + 1:],\n",
    "                y[i_max + r + 1:])\n",
    "\n",
    "    def final_approximation(x):\n",
    "        if (t[0] <= x).all() and (x < u_1).all():\n",
    "            return polynomial1(x)\n",
    "        if (u_1 <= x).all() and (x < ksi).all():\n",
    "            return p_neg(x)\n",
    "        if (ksi <= x).all() and (x < v_1).all():\n",
    "            return p_pos(x)\n",
    "        if (v_1 <= x).all() and (x <= t[m]).all():\n",
    "            return polynomial2(x)\n",
    "    \n",
    "    return t, final_approximation"
   ]
  },
  {
   "cell_type": "code",
   "execution_count": 80,
   "metadata": {},
   "outputs": [],
   "source": [
    "delta = 10e-4\n",
    "r = 2\n",
    "m = 100"
   ]
  },
  {
   "cell_type": "code",
   "execution_count": 81,
   "metadata": {},
   "outputs": [
    {
     "output_type": "stream",
     "name": "stderr",
     "text": [
      "ipykernel_launcher:7: RuntimeWarning: overflow encountered in subtract\n"
     ]
    }
   ],
   "source": [
    "t, f_approximation = alg3_inexact_info(f, r, T, m, delta)"
   ]
  },
  {
   "cell_type": "code",
   "execution_count": 82,
   "metadata": {},
   "outputs": [],
   "source": [
    "# function to calculate values of approximation function\n",
    "def f_values(mesh, fun):\n",
    "    values = []\n",
    "    for x in mesh:\n",
    "        values += [fun(x)]\n",
    "    return np.array(values)"
   ]
  },
  {
   "cell_type": "code",
   "execution_count": 83,
   "metadata": {},
   "outputs": [
    {
     "output_type": "execute_result",
     "data": {
      "text/plain": [
       "<matplotlib.collections.PathCollection at 0x2a880278940>"
      ]
     },
     "metadata": {},
     "execution_count": 83
    },
    {
     "output_type": "display_data",
     "data": {
      "text/plain": "<Figure size 432x288 with 1 Axes>",
      "image/svg+xml": "<?xml version=\"1.0\" encoding=\"utf-8\" standalone=\"no\"?>\r\n<!DOCTYPE svg PUBLIC \"-//W3C//DTD SVG 1.1//EN\"\r\n  \"http://www.w3.org/Graphics/SVG/1.1/DTD/svg11.dtd\">\r\n<!-- Created with matplotlib (https://matplotlib.org/) -->\r\n<svg height=\"248.518125pt\" version=\"1.1\" viewBox=\"0 0 386.845313 248.518125\" width=\"386.845313pt\" xmlns=\"http://www.w3.org/2000/svg\" xmlns:xlink=\"http://www.w3.org/1999/xlink\">\r\n <metadata>\r\n  <rdf:RDF xmlns:cc=\"http://creativecommons.org/ns#\" xmlns:dc=\"http://purl.org/dc/elements/1.1/\" xmlns:rdf=\"http://www.w3.org/1999/02/22-rdf-syntax-ns#\">\r\n   <cc:Work>\r\n    <dc:type rdf:resource=\"http://purl.org/dc/dcmitype/StillImage\"/>\r\n    <dc:date>2021-04-09T11:50:33.996966</dc:date>\r\n    <dc:format>image/svg+xml</dc:format>\r\n    <dc:creator>\r\n     <cc:Agent>\r\n      <dc:title>Matplotlib v3.3.2, https://matplotlib.org/</dc:title>\r\n     </cc:Agent>\r\n    </dc:creator>\r\n   </cc:Work>\r\n  </rdf:RDF>\r\n </metadata>\r\n <defs>\r\n  <style type=\"text/css\">*{stroke-linecap:butt;stroke-linejoin:round;}</style>\r\n </defs>\r\n <g id=\"figure_1\">\r\n  <g id=\"patch_1\">\r\n   <path d=\"M 0 248.518125 \r\nL 386.845313 248.518125 \r\nL 386.845313 0 \r\nL 0 0 \r\nz\r\n\" style=\"fill:none;\"/>\r\n  </g>\r\n  <g id=\"axes_1\">\r\n   <g id=\"patch_2\">\r\n    <path d=\"M 44.845313 224.64 \r\nL 379.645313 224.64 \r\nL 379.645313 7.2 \r\nL 44.845313 7.2 \r\nz\r\n\" style=\"fill:#ffffff;\"/>\r\n   </g>\r\n   <g id=\"PathCollection_1\">\r\n    <defs>\r\n     <path d=\"M 0 3 \r\nC 0.795609 3 1.55874 2.683901 2.12132 2.12132 \r\nC 2.683901 1.55874 3 0.795609 3 0 \r\nC 3 -0.795609 2.683901 -1.55874 2.12132 -2.12132 \r\nC 1.55874 -2.683901 0.795609 -3 0 -3 \r\nC -0.795609 -3 -1.55874 -2.683901 -2.12132 -2.12132 \r\nC -2.683901 -1.55874 -3 -0.795609 -3 0 \r\nC -3 0.795609 -2.683901 1.55874 -2.12132 2.12132 \r\nC -1.55874 2.683901 -0.795609 3 0 3 \r\nz\r\n\" id=\"m28c148f379\" style=\"stroke:#1f77b4;\"/>\r\n    </defs>\r\n    <g clip-path=\"url(#pa126ef597e)\">\r\n     <use style=\"fill:#1f77b4;stroke:#1f77b4;\" x=\"60.063494\" xlink:href=\"#m28c148f379\" y=\"115.981695\"/>\r\n     <use style=\"fill:#1f77b4;stroke:#1f77b4;\" x=\"63.107131\" xlink:href=\"#m28c148f379\" y=\"106.522422\"/>\r\n     <use style=\"fill:#1f77b4;stroke:#1f77b4;\" x=\"66.150767\" xlink:href=\"#m28c148f379\" y=\"97.400927\"/>\r\n     <use style=\"fill:#1f77b4;stroke:#1f77b4;\" x=\"69.194403\" xlink:href=\"#m28c148f379\" y=\"88.377303\"/>\r\n     <use style=\"fill:#1f77b4;stroke:#1f77b4;\" x=\"72.23804\" xlink:href=\"#m28c148f379\" y=\"79.524662\"/>\r\n     <use style=\"fill:#1f77b4;stroke:#1f77b4;\" x=\"75.281676\" xlink:href=\"#m28c148f379\" y=\"70.956416\"/>\r\n     <use style=\"fill:#1f77b4;stroke:#1f77b4;\" x=\"78.325313\" xlink:href=\"#m28c148f379\" y=\"62.959396\"/>\r\n     <use style=\"fill:#1f77b4;stroke:#1f77b4;\" x=\"81.368949\" xlink:href=\"#m28c148f379\" y=\"55.314233\"/>\r\n     <use style=\"fill:#1f77b4;stroke:#1f77b4;\" x=\"84.412585\" xlink:href=\"#m28c148f379\" y=\"48.241927\"/>\r\n     <use style=\"fill:#1f77b4;stroke:#1f77b4;\" x=\"87.456222\" xlink:href=\"#m28c148f379\" y=\"41.74577\"/>\r\n     <use style=\"fill:#1f77b4;stroke:#1f77b4;\" x=\"90.499858\" xlink:href=\"#m28c148f379\" y=\"35.972712\"/>\r\n     <use style=\"fill:#1f77b4;stroke:#1f77b4;\" x=\"93.543494\" xlink:href=\"#m28c148f379\" y=\"30.775564\"/>\r\n     <use style=\"fill:#1f77b4;stroke:#1f77b4;\" x=\"96.587131\" xlink:href=\"#m28c148f379\" y=\"26.555127\"/>\r\n     <use style=\"fill:#1f77b4;stroke:#1f77b4;\" x=\"99.630767\" xlink:href=\"#m28c148f379\" y=\"22.898146\"/>\r\n     <use style=\"fill:#1f77b4;stroke:#1f77b4;\" x=\"102.674403\" xlink:href=\"#m28c148f379\" y=\"20.14013\"/>\r\n     <use style=\"fill:#1f77b4;stroke:#1f77b4;\" x=\"105.71804\" xlink:href=\"#m28c148f379\" y=\"18.362313\"/>\r\n     <use style=\"fill:#1f77b4;stroke:#1f77b4;\" x=\"108.761676\" xlink:href=\"#m28c148f379\" y=\"17.180401\"/>\r\n     <use style=\"fill:#1f77b4;stroke:#1f77b4;\" x=\"111.805313\" xlink:href=\"#m28c148f379\" y=\"17.115164\"/>\r\n     <use style=\"fill:#1f77b4;stroke:#1f77b4;\" x=\"114.848949\" xlink:href=\"#m28c148f379\" y=\"17.935022\"/>\r\n     <use style=\"fill:#1f77b4;stroke:#1f77b4;\" x=\"117.892585\" xlink:href=\"#m28c148f379\" y=\"19.386761\"/>\r\n     <use style=\"fill:#1f77b4;stroke:#1f77b4;\" x=\"120.936222\" xlink:href=\"#m28c148f379\" y=\"21.940578\"/>\r\n     <use style=\"fill:#1f77b4;stroke:#1f77b4;\" x=\"123.979858\" xlink:href=\"#m28c148f379\" y=\"25.218458\"/>\r\n     <use style=\"fill:#1f77b4;stroke:#1f77b4;\" x=\"127.023494\" xlink:href=\"#m28c148f379\" y=\"29.278226\"/>\r\n     <use style=\"fill:#1f77b4;stroke:#1f77b4;\" x=\"130.067131\" xlink:href=\"#m28c148f379\" y=\"34.085002\"/>\r\n     <use style=\"fill:#1f77b4;stroke:#1f77b4;\" x=\"133.110767\" xlink:href=\"#m28c148f379\" y=\"39.781874\"/>\r\n     <use style=\"fill:#1f77b4;stroke:#1f77b4;\" x=\"136.154403\" xlink:href=\"#m28c148f379\" y=\"45.930098\"/>\r\n     <use style=\"fill:#1f77b4;stroke:#1f77b4;\" x=\"139.19804\" xlink:href=\"#m28c148f379\" y=\"52.979949\"/>\r\n     <use style=\"fill:#1f77b4;stroke:#1f77b4;\" x=\"142.241676\" xlink:href=\"#m28c148f379\" y=\"60.432047\"/>\r\n     <use style=\"fill:#1f77b4;stroke:#1f77b4;\" x=\"145.285313\" xlink:href=\"#m28c148f379\" y=\"68.252382\"/>\r\n     <use style=\"fill:#1f77b4;stroke:#1f77b4;\" x=\"148.328949\" xlink:href=\"#m28c148f379\" y=\"76.619144\"/>\r\n     <use style=\"fill:#1f77b4;stroke:#1f77b4;\" x=\"151.372585\" xlink:href=\"#m28c148f379\" y=\"85.268646\"/>\r\n     <use style=\"fill:#1f77b4;stroke:#1f77b4;\" x=\"154.416222\" xlink:href=\"#m28c148f379\" y=\"94.286713\"/>\r\n     <use style=\"fill:#1f77b4;stroke:#1f77b4;\" x=\"157.459858\" xlink:href=\"#m28c148f379\" y=\"103.605045\"/>\r\n     <use style=\"fill:#1f77b4;stroke:#1f77b4;\" x=\"160.503494\" xlink:href=\"#m28c148f379\" y=\"112.923377\"/>\r\n     <use style=\"fill:#1f77b4;stroke:#1f77b4;\" x=\"163.547131\" xlink:href=\"#m28c148f379\" y=\"109.656897\"/>\r\n     <use style=\"fill:#1f77b4;stroke:#1f77b4;\" x=\"166.590767\" xlink:href=\"#m28c148f379\" y=\"100.477387\"/>\r\n     <use style=\"fill:#1f77b4;stroke:#1f77b4;\" x=\"169.634403\" xlink:href=\"#m28c148f379\" y=\"91.297877\"/>\r\n     <use style=\"fill:#1f77b4;stroke:#1f77b4;\" x=\"172.67804\" xlink:href=\"#m28c148f379\" y=\"82.417903\"/>\r\n     <use style=\"fill:#1f77b4;stroke:#1f77b4;\" x=\"175.721676\" xlink:href=\"#m28c148f379\" y=\"73.834721\"/>\r\n     <use style=\"fill:#1f77b4;stroke:#1f77b4;\" x=\"178.765313\" xlink:href=\"#m28c148f379\" y=\"65.53632\"/>\r\n     <use style=\"fill:#1f77b4;stroke:#1f77b4;\" x=\"181.808949\" xlink:href=\"#m28c148f379\" y=\"57.73428\"/>\r\n     <use style=\"fill:#1f77b4;stroke:#1f77b4;\" x=\"184.852585\" xlink:href=\"#m28c148f379\" y=\"50.555237\"/>\r\n     <use style=\"fill:#1f77b4;stroke:#1f77b4;\" x=\"187.896222\" xlink:href=\"#m28c148f379\" y=\"43.862297\"/>\r\n     <use style=\"fill:#1f77b4;stroke:#1f77b4;\" x=\"190.939858\" xlink:href=\"#m28c148f379\" y=\"37.810539\"/>\r\n     <use style=\"fill:#1f77b4;stroke:#1f77b4;\" x=\"193.983494\" xlink:href=\"#m28c148f379\" y=\"32.436876\"/>\r\n     <use style=\"fill:#1f77b4;stroke:#1f77b4;\" x=\"197.027131\" xlink:href=\"#m28c148f379\" y=\"27.870455\"/>\r\n     <use style=\"fill:#1f77b4;stroke:#1f77b4;\" x=\"200.070767\" xlink:href=\"#m28c148f379\" y=\"23.93685\"/>\r\n     <use style=\"fill:#1f77b4;stroke:#1f77b4;\" x=\"203.114403\" xlink:href=\"#m28c148f379\" y=\"21.043814\"/>\r\n     <use style=\"fill:#1f77b4;stroke:#1f77b4;\" x=\"206.15804\" xlink:href=\"#m28c148f379\" y=\"18.906161\"/>\r\n     <use style=\"fill:#1f77b4;stroke:#1f77b4;\" x=\"209.201676\" xlink:href=\"#m28c148f379\" y=\"17.554743\"/>\r\n     <use style=\"fill:#1f77b4;stroke:#1f77b4;\" x=\"212.245313\" xlink:href=\"#m28c148f379\" y=\"17.083636\"/>\r\n     <use style=\"fill:#1f77b4;stroke:#1f77b4;\" x=\"215.288949\" xlink:href=\"#m28c148f379\" y=\"17.399746\"/>\r\n     <use style=\"fill:#1f77b4;stroke:#1f77b4;\" x=\"218.332585\" xlink:href=\"#m28c148f379\" y=\"18.804115\"/>\r\n     <use style=\"fill:#1f77b4;stroke:#1f77b4;\" x=\"221.376222\" xlink:href=\"#m28c148f379\" y=\"20.947931\"/>\r\n     <use style=\"fill:#1f77b4;stroke:#1f77b4;\" x=\"224.419858\" xlink:href=\"#m28c148f379\" y=\"23.916124\"/>\r\n     <use style=\"fill:#1f77b4;stroke:#1f77b4;\" x=\"227.463494\" xlink:href=\"#m28c148f379\" y=\"27.797357\"/>\r\n     <use style=\"fill:#1f77b4;stroke:#1f77b4;\" x=\"230.507131\" xlink:href=\"#m28c148f379\" y=\"32.518883\"/>\r\n     <use style=\"fill:#1f77b4;stroke:#1f77b4;\" x=\"233.550767\" xlink:href=\"#m28c148f379\" y=\"37.70996\"/>\r\n     <use style=\"fill:#1f77b4;stroke:#1f77b4;\" x=\"236.594403\" xlink:href=\"#m28c148f379\" y=\"43.921376\"/>\r\n     <use style=\"fill:#1f77b4;stroke:#1f77b4;\" x=\"239.63804\" xlink:href=\"#m28c148f379\" y=\"50.592237\"/>\r\n     <use style=\"fill:#1f77b4;stroke:#1f77b4;\" x=\"242.681676\" xlink:href=\"#m28c148f379\" y=\"57.886273\"/>\r\n     <use style=\"fill:#1f77b4;stroke:#1f77b4;\" x=\"245.725313\" xlink:href=\"#m28c148f379\" y=\"65.666526\"/>\r\n     <use style=\"fill:#1f77b4;stroke:#1f77b4;\" x=\"248.768949\" xlink:href=\"#m28c148f379\" y=\"73.811757\"/>\r\n     <use style=\"fill:#1f77b4;stroke:#1f77b4;\" x=\"251.812585\" xlink:href=\"#m28c148f379\" y=\"82.379237\"/>\r\n     <use style=\"fill:#1f77b4;stroke:#1f77b4;\" x=\"254.856222\" xlink:href=\"#m28c148f379\" y=\"91.351419\"/>\r\n     <use style=\"fill:#1f77b4;stroke:#1f77b4;\" x=\"257.899858\" xlink:href=\"#m28c148f379\" y=\"100.547036\"/>\r\n     <use style=\"fill:#1f77b4;stroke:#1f77b4;\" x=\"260.943494\" xlink:href=\"#m28c148f379\" y=\"109.711194\"/>\r\n     <use style=\"fill:#1f77b4;stroke:#1f77b4;\" x=\"263.987131\" xlink:href=\"#m28c148f379\" y=\"118.980005\"/>\r\n     <use style=\"fill:#1f77b4;stroke:#1f77b4;\" x=\"267.030767\" xlink:href=\"#m28c148f379\" y=\"128.369394\"/>\r\n     <use style=\"fill:#1f77b4;stroke:#1f77b4;\" x=\"270.074403\" xlink:href=\"#m28c148f379\" y=\"137.481694\"/>\r\n     <use style=\"fill:#1f77b4;stroke:#1f77b4;\" x=\"273.11804\" xlink:href=\"#m28c148f379\" y=\"146.469378\"/>\r\n     <use style=\"fill:#1f77b4;stroke:#1f77b4;\" x=\"276.161676\" xlink:href=\"#m28c148f379\" y=\"155.175147\"/>\r\n     <use style=\"fill:#1f77b4;stroke:#1f77b4;\" x=\"279.205313\" xlink:href=\"#m28c148f379\" y=\"163.635441\"/>\r\n     <use style=\"fill:#1f77b4;stroke:#1f77b4;\" x=\"282.248949\" xlink:href=\"#m28c148f379\" y=\"171.464558\"/>\r\n     <use style=\"fill:#1f77b4;stroke:#1f77b4;\" x=\"285.292585\" xlink:href=\"#m28c148f379\" y=\"178.949421\"/>\r\n     <use style=\"fill:#1f77b4;stroke:#1f77b4;\" x=\"288.336222\" xlink:href=\"#m28c148f379\" y=\"185.892724\"/>\r\n     <use style=\"fill:#1f77b4;stroke:#1f77b4;\" x=\"291.379858\" xlink:href=\"#m28c148f379\" y=\"192.070238\"/>\r\n     <use style=\"fill:#1f77b4;stroke:#1f77b4;\" x=\"294.423494\" xlink:href=\"#m28c148f379\" y=\"197.59617\"/>\r\n     <use style=\"fill:#1f77b4;stroke:#1f77b4;\" x=\"297.467131\" xlink:href=\"#m28c148f379\" y=\"202.459989\"/>\r\n     <use style=\"fill:#1f77b4;stroke:#1f77b4;\" x=\"300.510767\" xlink:href=\"#m28c148f379\" y=\"206.686596\"/>\r\n     <use style=\"fill:#1f77b4;stroke:#1f77b4;\" x=\"303.554403\" xlink:href=\"#m28c148f379\" y=\"209.973169\"/>\r\n     <use style=\"fill:#1f77b4;stroke:#1f77b4;\" x=\"306.59804\" xlink:href=\"#m28c148f379\" y=\"212.435244\"/>\r\n     <use style=\"fill:#1f77b4;stroke:#1f77b4;\" x=\"309.641676\" xlink:href=\"#m28c148f379\" y=\"213.924499\"/>\r\n     <use style=\"fill:#1f77b4;stroke:#1f77b4;\" x=\"312.685313\" xlink:href=\"#m28c148f379\" y=\"214.756364\"/>\r\n     <use style=\"fill:#1f77b4;stroke:#1f77b4;\" x=\"315.728949\" xlink:href=\"#m28c148f379\" y=\"214.607826\"/>\r\n     <use style=\"fill:#1f77b4;stroke:#1f77b4;\" x=\"318.772585\" xlink:href=\"#m28c148f379\" y=\"213.558874\"/>\r\n     <use style=\"fill:#1f77b4;stroke:#1f77b4;\" x=\"321.816222\" xlink:href=\"#m28c148f379\" y=\"211.695554\"/>\r\n     <use style=\"fill:#1f77b4;stroke:#1f77b4;\" x=\"324.859858\" xlink:href=\"#m28c148f379\" y=\"208.960905\"/>\r\n     <use style=\"fill:#1f77b4;stroke:#1f77b4;\" x=\"327.903494\" xlink:href=\"#m28c148f379\" y=\"205.267462\"/>\r\n     <use style=\"fill:#1f77b4;stroke:#1f77b4;\" x=\"330.947131\" xlink:href=\"#m28c148f379\" y=\"200.985974\"/>\r\n     <use style=\"fill:#1f77b4;stroke:#1f77b4;\" x=\"333.990767\" xlink:href=\"#m28c148f379\" y=\"195.931185\"/>\r\n     <use style=\"fill:#1f77b4;stroke:#1f77b4;\" x=\"337.034403\" xlink:href=\"#m28c148f379\" y=\"190.048027\"/>\r\n     <use style=\"fill:#1f77b4;stroke:#1f77b4;\" x=\"340.07804\" xlink:href=\"#m28c148f379\" y=\"183.629904\"/>\r\n     <use style=\"fill:#1f77b4;stroke:#1f77b4;\" x=\"343.121676\" xlink:href=\"#m28c148f379\" y=\"176.554434\"/>\r\n     <use style=\"fill:#1f77b4;stroke:#1f77b4;\" x=\"346.165313\" xlink:href=\"#m28c148f379\" y=\"168.804106\"/>\r\n     <use style=\"fill:#1f77b4;stroke:#1f77b4;\" x=\"349.208949\" xlink:href=\"#m28c148f379\" y=\"160.812236\"/>\r\n     <use style=\"fill:#1f77b4;stroke:#1f77b4;\" x=\"352.252585\" xlink:href=\"#m28c148f379\" y=\"152.33792\"/>\r\n     <use style=\"fill:#1f77b4;stroke:#1f77b4;\" x=\"355.296222\" xlink:href=\"#m28c148f379\" y=\"143.504745\"/>\r\n     <use style=\"fill:#1f77b4;stroke:#1f77b4;\" x=\"358.339858\" xlink:href=\"#m28c148f379\" y=\"134.472285\"/>\r\n     <use style=\"fill:#1f77b4;stroke:#1f77b4;\" x=\"361.383494\" xlink:href=\"#m28c148f379\" y=\"125.276203\"/>\r\n     <use style=\"fill:#1f77b4;stroke:#1f77b4;\" x=\"364.427131\" xlink:href=\"#m28c148f379\" y=\"115.853753\"/>\r\n    </g>\r\n   </g>\r\n   <g id=\"matplotlib.axis_1\">\r\n    <g id=\"xtick_1\">\r\n     <g id=\"line2d_1\">\r\n      <defs>\r\n       <path d=\"M 0 0 \r\nL 0 3.5 \r\n\" id=\"m213e59a722\" style=\"stroke:#000000;stroke-width:0.8;\"/>\r\n      </defs>\r\n      <g>\r\n       <use style=\"stroke:#000000;stroke-width:0.8;\" x=\"60.063494\" xlink:href=\"#m213e59a722\" y=\"224.64\"/>\r\n      </g>\r\n     </g>\r\n     <g id=\"text_1\">\r\n      <!-- 0 -->\r\n      <g transform=\"translate(56.882244 239.238437)scale(0.1 -0.1)\">\r\n       <defs>\r\n        <path d=\"M 31.78125 66.40625 \r\nQ 24.171875 66.40625 20.328125 58.90625 \r\nQ 16.5 51.421875 16.5 36.375 \r\nQ 16.5 21.390625 20.328125 13.890625 \r\nQ 24.171875 6.390625 31.78125 6.390625 \r\nQ 39.453125 6.390625 43.28125 13.890625 \r\nQ 47.125 21.390625 47.125 36.375 \r\nQ 47.125 51.421875 43.28125 58.90625 \r\nQ 39.453125 66.40625 31.78125 66.40625 \r\nz\r\nM 31.78125 74.21875 \r\nQ 44.046875 74.21875 50.515625 64.515625 \r\nQ 56.984375 54.828125 56.984375 36.375 \r\nQ 56.984375 17.96875 50.515625 8.265625 \r\nQ 44.046875 -1.421875 31.78125 -1.421875 \r\nQ 19.53125 -1.421875 13.0625 8.265625 \r\nQ 6.59375 17.96875 6.59375 36.375 \r\nQ 6.59375 54.828125 13.0625 64.515625 \r\nQ 19.53125 74.21875 31.78125 74.21875 \r\nz\r\n\" id=\"DejaVuSans-48\"/>\r\n       </defs>\r\n       <use xlink:href=\"#DejaVuSans-48\"/>\r\n      </g>\r\n     </g>\r\n    </g>\r\n    <g id=\"xtick_2\">\r\n     <g id=\"line2d_2\">\r\n      <g>\r\n       <use style=\"stroke:#000000;stroke-width:0.8;\" x=\"124.651464\" xlink:href=\"#m213e59a722\" y=\"224.64\"/>\r\n      </g>\r\n     </g>\r\n     <g id=\"text_2\">\r\n      <!-- 2 -->\r\n      <g transform=\"translate(121.470214 239.238437)scale(0.1 -0.1)\">\r\n       <defs>\r\n        <path d=\"M 19.1875 8.296875 \r\nL 53.609375 8.296875 \r\nL 53.609375 0 \r\nL 7.328125 0 \r\nL 7.328125 8.296875 \r\nQ 12.9375 14.109375 22.625 23.890625 \r\nQ 32.328125 33.6875 34.8125 36.53125 \r\nQ 39.546875 41.84375 41.421875 45.53125 \r\nQ 43.3125 49.21875 43.3125 52.78125 \r\nQ 43.3125 58.59375 39.234375 62.25 \r\nQ 35.15625 65.921875 28.609375 65.921875 \r\nQ 23.96875 65.921875 18.8125 64.3125 \r\nQ 13.671875 62.703125 7.8125 59.421875 \r\nL 7.8125 69.390625 \r\nQ 13.765625 71.78125 18.9375 73 \r\nQ 24.125 74.21875 28.421875 74.21875 \r\nQ 39.75 74.21875 46.484375 68.546875 \r\nQ 53.21875 62.890625 53.21875 53.421875 \r\nQ 53.21875 48.921875 51.53125 44.890625 \r\nQ 49.859375 40.875 45.40625 35.40625 \r\nQ 44.1875 33.984375 37.640625 27.21875 \r\nQ 31.109375 20.453125 19.1875 8.296875 \r\nz\r\n\" id=\"DejaVuSans-50\"/>\r\n       </defs>\r\n       <use xlink:href=\"#DejaVuSans-50\"/>\r\n      </g>\r\n     </g>\r\n    </g>\r\n    <g id=\"xtick_3\">\r\n     <g id=\"line2d_3\">\r\n      <g>\r\n       <use style=\"stroke:#000000;stroke-width:0.8;\" x=\"189.239434\" xlink:href=\"#m213e59a722\" y=\"224.64\"/>\r\n      </g>\r\n     </g>\r\n     <g id=\"text_3\">\r\n      <!-- 4 -->\r\n      <g transform=\"translate(186.058184 239.238437)scale(0.1 -0.1)\">\r\n       <defs>\r\n        <path d=\"M 37.796875 64.3125 \r\nL 12.890625 25.390625 \r\nL 37.796875 25.390625 \r\nz\r\nM 35.203125 72.90625 \r\nL 47.609375 72.90625 \r\nL 47.609375 25.390625 \r\nL 58.015625 25.390625 \r\nL 58.015625 17.1875 \r\nL 47.609375 17.1875 \r\nL 47.609375 0 \r\nL 37.796875 0 \r\nL 37.796875 17.1875 \r\nL 4.890625 17.1875 \r\nL 4.890625 26.703125 \r\nz\r\n\" id=\"DejaVuSans-52\"/>\r\n       </defs>\r\n       <use xlink:href=\"#DejaVuSans-52\"/>\r\n      </g>\r\n     </g>\r\n    </g>\r\n    <g id=\"xtick_4\">\r\n     <g id=\"line2d_4\">\r\n      <g>\r\n       <use style=\"stroke:#000000;stroke-width:0.8;\" x=\"253.827403\" xlink:href=\"#m213e59a722\" y=\"224.64\"/>\r\n      </g>\r\n     </g>\r\n     <g id=\"text_4\">\r\n      <!-- 6 -->\r\n      <g transform=\"translate(250.646153 239.238437)scale(0.1 -0.1)\">\r\n       <defs>\r\n        <path d=\"M 33.015625 40.375 \r\nQ 26.375 40.375 22.484375 35.828125 \r\nQ 18.609375 31.296875 18.609375 23.390625 \r\nQ 18.609375 15.53125 22.484375 10.953125 \r\nQ 26.375 6.390625 33.015625 6.390625 \r\nQ 39.65625 6.390625 43.53125 10.953125 \r\nQ 47.40625 15.53125 47.40625 23.390625 \r\nQ 47.40625 31.296875 43.53125 35.828125 \r\nQ 39.65625 40.375 33.015625 40.375 \r\nz\r\nM 52.59375 71.296875 \r\nL 52.59375 62.3125 \r\nQ 48.875 64.0625 45.09375 64.984375 \r\nQ 41.3125 65.921875 37.59375 65.921875 \r\nQ 27.828125 65.921875 22.671875 59.328125 \r\nQ 17.53125 52.734375 16.796875 39.40625 \r\nQ 19.671875 43.65625 24.015625 45.921875 \r\nQ 28.375 48.1875 33.59375 48.1875 \r\nQ 44.578125 48.1875 50.953125 41.515625 \r\nQ 57.328125 34.859375 57.328125 23.390625 \r\nQ 57.328125 12.15625 50.6875 5.359375 \r\nQ 44.046875 -1.421875 33.015625 -1.421875 \r\nQ 20.359375 -1.421875 13.671875 8.265625 \r\nQ 6.984375 17.96875 6.984375 36.375 \r\nQ 6.984375 53.65625 15.1875 63.9375 \r\nQ 23.390625 74.21875 37.203125 74.21875 \r\nQ 40.921875 74.21875 44.703125 73.484375 \r\nQ 48.484375 72.75 52.59375 71.296875 \r\nz\r\n\" id=\"DejaVuSans-54\"/>\r\n       </defs>\r\n       <use xlink:href=\"#DejaVuSans-54\"/>\r\n      </g>\r\n     </g>\r\n    </g>\r\n    <g id=\"xtick_5\">\r\n     <g id=\"line2d_5\">\r\n      <g>\r\n       <use style=\"stroke:#000000;stroke-width:0.8;\" x=\"318.415373\" xlink:href=\"#m213e59a722\" y=\"224.64\"/>\r\n      </g>\r\n     </g>\r\n     <g id=\"text_5\">\r\n      <!-- 8 -->\r\n      <g transform=\"translate(315.234123 239.238437)scale(0.1 -0.1)\">\r\n       <defs>\r\n        <path d=\"M 31.78125 34.625 \r\nQ 24.75 34.625 20.71875 30.859375 \r\nQ 16.703125 27.09375 16.703125 20.515625 \r\nQ 16.703125 13.921875 20.71875 10.15625 \r\nQ 24.75 6.390625 31.78125 6.390625 \r\nQ 38.8125 6.390625 42.859375 10.171875 \r\nQ 46.921875 13.96875 46.921875 20.515625 \r\nQ 46.921875 27.09375 42.890625 30.859375 \r\nQ 38.875 34.625 31.78125 34.625 \r\nz\r\nM 21.921875 38.8125 \r\nQ 15.578125 40.375 12.03125 44.71875 \r\nQ 8.5 49.078125 8.5 55.328125 \r\nQ 8.5 64.0625 14.71875 69.140625 \r\nQ 20.953125 74.21875 31.78125 74.21875 \r\nQ 42.671875 74.21875 48.875 69.140625 \r\nQ 55.078125 64.0625 55.078125 55.328125 \r\nQ 55.078125 49.078125 51.53125 44.71875 \r\nQ 48 40.375 41.703125 38.8125 \r\nQ 48.828125 37.15625 52.796875 32.3125 \r\nQ 56.78125 27.484375 56.78125 20.515625 \r\nQ 56.78125 9.90625 50.3125 4.234375 \r\nQ 43.84375 -1.421875 31.78125 -1.421875 \r\nQ 19.734375 -1.421875 13.25 4.234375 \r\nQ 6.78125 9.90625 6.78125 20.515625 \r\nQ 6.78125 27.484375 10.78125 32.3125 \r\nQ 14.796875 37.15625 21.921875 38.8125 \r\nz\r\nM 18.3125 54.390625 \r\nQ 18.3125 48.734375 21.84375 45.5625 \r\nQ 25.390625 42.390625 31.78125 42.390625 \r\nQ 38.140625 42.390625 41.71875 45.5625 \r\nQ 45.3125 48.734375 45.3125 54.390625 \r\nQ 45.3125 60.0625 41.71875 63.234375 \r\nQ 38.140625 66.40625 31.78125 66.40625 \r\nQ 25.390625 66.40625 21.84375 63.234375 \r\nQ 18.3125 60.0625 18.3125 54.390625 \r\nz\r\n\" id=\"DejaVuSans-56\"/>\r\n       </defs>\r\n       <use xlink:href=\"#DejaVuSans-56\"/>\r\n      </g>\r\n     </g>\r\n    </g>\r\n   </g>\r\n   <g id=\"matplotlib.axis_2\">\r\n    <g id=\"ytick_1\">\r\n     <g id=\"line2d_6\">\r\n      <defs>\r\n       <path d=\"M 0 0 \r\nL -3.5 0 \r\n\" id=\"m4219f01470\" style=\"stroke:#000000;stroke-width:0.8;\"/>\r\n      </defs>\r\n      <g>\r\n       <use style=\"stroke:#000000;stroke-width:0.8;\" x=\"44.845313\" xlink:href=\"#m4219f01470\" y=\"214.769945\"/>\r\n      </g>\r\n     </g>\r\n     <g id=\"text_6\">\r\n      <!-- −1.00 -->\r\n      <g transform=\"translate(7.2 218.569164)scale(0.1 -0.1)\">\r\n       <defs>\r\n        <path d=\"M 10.59375 35.5 \r\nL 73.1875 35.5 \r\nL 73.1875 27.203125 \r\nL 10.59375 27.203125 \r\nz\r\n\" id=\"DejaVuSans-8722\"/>\r\n        <path d=\"M 12.40625 8.296875 \r\nL 28.515625 8.296875 \r\nL 28.515625 63.921875 \r\nL 10.984375 60.40625 \r\nL 10.984375 69.390625 \r\nL 28.421875 72.90625 \r\nL 38.28125 72.90625 \r\nL 38.28125 8.296875 \r\nL 54.390625 8.296875 \r\nL 54.390625 0 \r\nL 12.40625 0 \r\nz\r\n\" id=\"DejaVuSans-49\"/>\r\n        <path d=\"M 10.6875 12.40625 \r\nL 21 12.40625 \r\nL 21 0 \r\nL 10.6875 0 \r\nz\r\n\" id=\"DejaVuSans-46\"/>\r\n       </defs>\r\n       <use xlink:href=\"#DejaVuSans-8722\"/>\r\n       <use x=\"83.789062\" xlink:href=\"#DejaVuSans-49\"/>\r\n       <use x=\"147.412109\" xlink:href=\"#DejaVuSans-46\"/>\r\n       <use x=\"179.199219\" xlink:href=\"#DejaVuSans-48\"/>\r\n       <use x=\"242.822266\" xlink:href=\"#DejaVuSans-48\"/>\r\n      </g>\r\n     </g>\r\n    </g>\r\n    <g id=\"ytick_2\">\r\n     <g id=\"line2d_7\">\r\n      <g>\r\n       <use style=\"stroke:#000000;stroke-width:0.8;\" x=\"44.845313\" xlink:href=\"#m4219f01470\" y=\"190.0559\"/>\r\n      </g>\r\n     </g>\r\n     <g id=\"text_7\">\r\n      <!-- −0.75 -->\r\n      <g transform=\"translate(7.2 193.855119)scale(0.1 -0.1)\">\r\n       <defs>\r\n        <path d=\"M 8.203125 72.90625 \r\nL 55.078125 72.90625 \r\nL 55.078125 68.703125 \r\nL 28.609375 0 \r\nL 18.3125 0 \r\nL 43.21875 64.59375 \r\nL 8.203125 64.59375 \r\nz\r\n\" id=\"DejaVuSans-55\"/>\r\n        <path d=\"M 10.796875 72.90625 \r\nL 49.515625 72.90625 \r\nL 49.515625 64.59375 \r\nL 19.828125 64.59375 \r\nL 19.828125 46.734375 \r\nQ 21.96875 47.46875 24.109375 47.828125 \r\nQ 26.265625 48.1875 28.421875 48.1875 \r\nQ 40.625 48.1875 47.75 41.5 \r\nQ 54.890625 34.8125 54.890625 23.390625 \r\nQ 54.890625 11.625 47.5625 5.09375 \r\nQ 40.234375 -1.421875 26.90625 -1.421875 \r\nQ 22.3125 -1.421875 17.546875 -0.640625 \r\nQ 12.796875 0.140625 7.71875 1.703125 \r\nL 7.71875 11.625 \r\nQ 12.109375 9.234375 16.796875 8.0625 \r\nQ 21.484375 6.890625 26.703125 6.890625 \r\nQ 35.15625 6.890625 40.078125 11.328125 \r\nQ 45.015625 15.765625 45.015625 23.390625 \r\nQ 45.015625 31 40.078125 35.4375 \r\nQ 35.15625 39.890625 26.703125 39.890625 \r\nQ 22.75 39.890625 18.8125 39.015625 \r\nQ 14.890625 38.140625 10.796875 36.28125 \r\nz\r\n\" id=\"DejaVuSans-53\"/>\r\n       </defs>\r\n       <use xlink:href=\"#DejaVuSans-8722\"/>\r\n       <use x=\"83.789062\" xlink:href=\"#DejaVuSans-48\"/>\r\n       <use x=\"147.412109\" xlink:href=\"#DejaVuSans-46\"/>\r\n       <use x=\"179.199219\" xlink:href=\"#DejaVuSans-55\"/>\r\n       <use x=\"242.822266\" xlink:href=\"#DejaVuSans-53\"/>\r\n      </g>\r\n     </g>\r\n    </g>\r\n    <g id=\"ytick_3\">\r\n     <g id=\"line2d_8\">\r\n      <g>\r\n       <use style=\"stroke:#000000;stroke-width:0.8;\" x=\"44.845313\" xlink:href=\"#m4219f01470\" y=\"165.341855\"/>\r\n      </g>\r\n     </g>\r\n     <g id=\"text_8\">\r\n      <!-- −0.50 -->\r\n      <g transform=\"translate(7.2 169.141074)scale(0.1 -0.1)\">\r\n       <use xlink:href=\"#DejaVuSans-8722\"/>\r\n       <use x=\"83.789062\" xlink:href=\"#DejaVuSans-48\"/>\r\n       <use x=\"147.412109\" xlink:href=\"#DejaVuSans-46\"/>\r\n       <use x=\"179.199219\" xlink:href=\"#DejaVuSans-53\"/>\r\n       <use x=\"242.822266\" xlink:href=\"#DejaVuSans-48\"/>\r\n      </g>\r\n     </g>\r\n    </g>\r\n    <g id=\"ytick_4\">\r\n     <g id=\"line2d_9\">\r\n      <g>\r\n       <use style=\"stroke:#000000;stroke-width:0.8;\" x=\"44.845313\" xlink:href=\"#m4219f01470\" y=\"140.62781\"/>\r\n      </g>\r\n     </g>\r\n     <g id=\"text_9\">\r\n      <!-- −0.25 -->\r\n      <g transform=\"translate(7.2 144.427028)scale(0.1 -0.1)\">\r\n       <use xlink:href=\"#DejaVuSans-8722\"/>\r\n       <use x=\"83.789062\" xlink:href=\"#DejaVuSans-48\"/>\r\n       <use x=\"147.412109\" xlink:href=\"#DejaVuSans-46\"/>\r\n       <use x=\"179.199219\" xlink:href=\"#DejaVuSans-50\"/>\r\n       <use x=\"242.822266\" xlink:href=\"#DejaVuSans-53\"/>\r\n      </g>\r\n     </g>\r\n    </g>\r\n    <g id=\"ytick_5\">\r\n     <g id=\"line2d_10\">\r\n      <g>\r\n       <use style=\"stroke:#000000;stroke-width:0.8;\" x=\"44.845313\" xlink:href=\"#m4219f01470\" y=\"115.913764\"/>\r\n      </g>\r\n     </g>\r\n     <g id=\"text_10\">\r\n      <!-- 0.00 -->\r\n      <g transform=\"translate(15.579688 119.712983)scale(0.1 -0.1)\">\r\n       <use xlink:href=\"#DejaVuSans-48\"/>\r\n       <use x=\"63.623047\" xlink:href=\"#DejaVuSans-46\"/>\r\n       <use x=\"95.410156\" xlink:href=\"#DejaVuSans-48\"/>\r\n       <use x=\"159.033203\" xlink:href=\"#DejaVuSans-48\"/>\r\n      </g>\r\n     </g>\r\n    </g>\r\n    <g id=\"ytick_6\">\r\n     <g id=\"line2d_11\">\r\n      <g>\r\n       <use style=\"stroke:#000000;stroke-width:0.8;\" x=\"44.845313\" xlink:href=\"#m4219f01470\" y=\"91.199719\"/>\r\n      </g>\r\n     </g>\r\n     <g id=\"text_11\">\r\n      <!-- 0.25 -->\r\n      <g transform=\"translate(15.579688 94.998938)scale(0.1 -0.1)\">\r\n       <use xlink:href=\"#DejaVuSans-48\"/>\r\n       <use x=\"63.623047\" xlink:href=\"#DejaVuSans-46\"/>\r\n       <use x=\"95.410156\" xlink:href=\"#DejaVuSans-50\"/>\r\n       <use x=\"159.033203\" xlink:href=\"#DejaVuSans-53\"/>\r\n      </g>\r\n     </g>\r\n    </g>\r\n    <g id=\"ytick_7\">\r\n     <g id=\"line2d_12\">\r\n      <g>\r\n       <use style=\"stroke:#000000;stroke-width:0.8;\" x=\"44.845313\" xlink:href=\"#m4219f01470\" y=\"66.485674\"/>\r\n      </g>\r\n     </g>\r\n     <g id=\"text_12\">\r\n      <!-- 0.50 -->\r\n      <g transform=\"translate(15.579688 70.284893)scale(0.1 -0.1)\">\r\n       <use xlink:href=\"#DejaVuSans-48\"/>\r\n       <use x=\"63.623047\" xlink:href=\"#DejaVuSans-46\"/>\r\n       <use x=\"95.410156\" xlink:href=\"#DejaVuSans-53\"/>\r\n       <use x=\"159.033203\" xlink:href=\"#DejaVuSans-48\"/>\r\n      </g>\r\n     </g>\r\n    </g>\r\n    <g id=\"ytick_8\">\r\n     <g id=\"line2d_13\">\r\n      <g>\r\n       <use style=\"stroke:#000000;stroke-width:0.8;\" x=\"44.845313\" xlink:href=\"#m4219f01470\" y=\"41.771629\"/>\r\n      </g>\r\n     </g>\r\n     <g id=\"text_13\">\r\n      <!-- 0.75 -->\r\n      <g transform=\"translate(15.579688 45.570848)scale(0.1 -0.1)\">\r\n       <use xlink:href=\"#DejaVuSans-48\"/>\r\n       <use x=\"63.623047\" xlink:href=\"#DejaVuSans-46\"/>\r\n       <use x=\"95.410156\" xlink:href=\"#DejaVuSans-55\"/>\r\n       <use x=\"159.033203\" xlink:href=\"#DejaVuSans-53\"/>\r\n      </g>\r\n     </g>\r\n    </g>\r\n    <g id=\"ytick_9\">\r\n     <g id=\"line2d_14\">\r\n      <g>\r\n       <use style=\"stroke:#000000;stroke-width:0.8;\" x=\"44.845313\" xlink:href=\"#m4219f01470\" y=\"17.057584\"/>\r\n      </g>\r\n     </g>\r\n     <g id=\"text_14\">\r\n      <!-- 1.00 -->\r\n      <g transform=\"translate(15.579688 20.856802)scale(0.1 -0.1)\">\r\n       <use xlink:href=\"#DejaVuSans-49\"/>\r\n       <use x=\"63.623047\" xlink:href=\"#DejaVuSans-46\"/>\r\n       <use x=\"95.410156\" xlink:href=\"#DejaVuSans-48\"/>\r\n       <use x=\"159.033203\" xlink:href=\"#DejaVuSans-48\"/>\r\n      </g>\r\n     </g>\r\n    </g>\r\n   </g>\r\n   <g id=\"patch_3\">\r\n    <path d=\"M 44.845313 224.64 \r\nL 44.845313 7.2 \r\n\" style=\"fill:none;stroke:#000000;stroke-linecap:square;stroke-linejoin:miter;stroke-width:0.8;\"/>\r\n   </g>\r\n   <g id=\"patch_4\">\r\n    <path d=\"M 379.645313 224.64 \r\nL 379.645313 7.2 \r\n\" style=\"fill:none;stroke:#000000;stroke-linecap:square;stroke-linejoin:miter;stroke-width:0.8;\"/>\r\n   </g>\r\n   <g id=\"patch_5\">\r\n    <path d=\"M 44.845313 224.64 \r\nL 379.645313 224.64 \r\n\" style=\"fill:none;stroke:#000000;stroke-linecap:square;stroke-linejoin:miter;stroke-width:0.8;\"/>\r\n   </g>\r\n   <g id=\"patch_6\">\r\n    <path d=\"M 44.845313 7.2 \r\nL 379.645313 7.2 \r\n\" style=\"fill:none;stroke:#000000;stroke-linecap:square;stroke-linejoin:miter;stroke-width:0.8;\"/>\r\n   </g>\r\n  </g>\r\n </g>\r\n <defs>\r\n  <clipPath id=\"pa126ef597e\">\r\n   <rect height=\"217.44\" width=\"334.8\" x=\"44.845313\" y=\"7.2\"/>\r\n  </clipPath>\r\n </defs>\r\n</svg>\r\n",
      "image/png": "[encoded data removed]"
     },
     "metadata": {
      "needs_background": "light"
     }
    }
   ],
   "source": [
    "plt.scatter(t,f_values(t, f_approximation))"
   ]
  },
  {
   "cell_type": "code",
   "execution_count": 84,
   "metadata": {},
   "outputs": [],
   "source": [
    "def worst_case_error(fun, x):\n",
    "    '''\n",
    "    calculate worst case error for function fun\n",
    "    '''\n",
    "    \n",
    "\n",
    "    return np.abs(f(x) - f_approximation(x))"
   ]
  },
  {
   "cell_type": "code",
   "execution_count": 85,
   "metadata": {},
   "outputs": [],
   "source": [
    "m_array = np.arange(10, 10**5, 100)"
   ]
  }
 ],
 "metadata": {
  "kernelspec": {
   "name": "python3612jvsc74a57bd0fdea1c563661d9473c2d386f6f226caac7062ebbd58da9d55fd4abc3b891592d",
   "display_name": "Python 3.6.12 64-bit ('myenv': conda)"
  },
  "language_info": {
   "codemirror_mode": {
    "name": "ipython",
    "version": 3
   },
   "file_extension": ".py",
   "mimetype": "text/x-python",
   "name": "python",
   "nbconvert_exporter": "python",
   "pygments_lexer": "ipython3",
   "version": "3.6.12"
  }
 },
 "nbformat": 4,
 "nbformat_minor": 4
}