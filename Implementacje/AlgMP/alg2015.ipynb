{
 "cells": [
  {
   "cell_type": "code",
   "execution_count": null,
   "source": [
    "# ALGORYTM Z \"Approximation of piecewise Hölder functions from inexact information\"\n",
    "\n",
    "# PARAMETRY ALGORYTMU:\n",
    "# h = T/m, gdzie m >= 2r + 1   <--- initial resolution of the mesh\n",
    "# 0 < w < (r + 1) * h"
   ],
   "outputs": [],
   "metadata": {}
  },
  {
   "cell_type": "code",
   "execution_count": null,
   "source": [
    "# Kroki algorytmu:\n",
    "# 1. aproksymacja punktu osobliwego s_f\n",
    "#   1a. siatka regularna (o długości h) oraz różnice dzielne użyte są do lokalizacji s_f na przedziale [u_1, v_1] (o długości (r+1) * h)\n",
    "#   1b. zawęzenie przedziałów z 1a do [u_2, v_2] przy użyciu wielomianów ekstrpolacyjnych p_neg i p_pos\n",
    "#   1c. wyprodukowanie przedziału [u_3, v_3] zawierającego się (lub równego) [u_2, v_2], w którym różnica |p_pos - p_neg| jest nierosnąca na [u_3, ksi] i niemalejąca na [ksi, v_3], gdzie ksi jest finalną aproksymacją s_f\n",
    "# 2."
   ],
   "outputs": [],
   "metadata": {}
  },
  {
   "cell_type": "code",
   "execution_count": null,
   "source": [
    "import numpy as np"
   ],
   "outputs": [],
   "metadata": {}
  },
  {
   "cell_type": "code",
   "execution_count": null,
   "source": [
    "print(np.finfo(np.longdouble))\n"
   ],
   "outputs": [],
   "metadata": {}
  },
  {
   "cell_type": "code",
   "execution_count": null,
   "source": [
    "T = 2 * np.pi + 0.5\n",
    "\n",
    "def f(x):\n",
    "    if 0 <= x < np.pi:\n",
    "        return np.sin(x - np.pi)\n",
    "    if np.pi <= x <= 2 * np.pi + 0.5:\n",
    "        return np.sin(x - np.pi - 0.5)\n"
   ],
   "outputs": [],
   "metadata": {}
  },
  {
   "cell_type": "code",
   "execution_count": null,
   "source": [
    "T = 3 * np.pi\n",
    "\n",
    "def f(x):\n",
    "    if 0 <= x < np.pi:\n",
    "        return np.sin(x)\n",
    "    if np.pi <= x <= 3 * np.pi:\n",
    "        return np.sin(x - np.pi)"
   ],
   "outputs": [],
   "metadata": {}
  },
  {
   "cell_type": "code",
   "execution_count": null,
   "source": [
    "from math import fsum\n",
    "\n",
    "def prod(i, r, t, j):\n",
    "    product = 1.0\n",
    "    for k in range(i, i+r+1):\n",
    "        if k == j:\n",
    "            continue\n",
    "        product *= 1 / (t[k] - t[j])\n",
    "    return product\n",
    "\n",
    "\n",
    "def d_noisy2(i, r, t, y):\n",
    "    \"\"\"t : array of data points t_i, ... , t_{i+r+1}\n",
    "       y : array of y_j = f(t_j) + e_j  \"\"\"\n",
    "    t.astype('float64')\n",
    "    y.astype('float64')\n",
    "\n",
    "    array = [y[j] * prod(i, r, t, j) for j in range(i, i+r+1)]\n",
    "    # print(array)\n",
    "    return fsum(array)\n",
    "    # return np.sum(np.sort([y[j] * prod(i, r, t, j) for j in range(i, i+r+1)]))"
   ],
   "outputs": [],
   "metadata": {}
  },
  {
   "cell_type": "code",
   "execution_count": null,
   "source": [
    "def d_noisy(i, r, t, y):\n",
    "    \"\"\"t : array of data points t_i, ... , t_{i+r+1}\n",
    "       y : array of y_j = f(t_j) + e_j  \"\"\"\n",
    "    t.astype('float64')\n",
    "    y.astype('float64')\n",
    "\n",
    "    sum = np.float64(0.0)\n",
    "    for j in range(i, i+r+1):\n",
    "\n",
    "        product = 1.0\n",
    "        for k in range(i, i+r+1):\n",
    "            if k == j:\n",
    "                continue\n",
    "            product *= 1 / (t[k] - t[j])\n",
    "\n",
    "        sum += y[j] * product\n",
    "\n",
    "    return sum"
   ],
   "outputs": [],
   "metadata": {}
  },
  {
   "cell_type": "code",
   "execution_count": null,
   "source": [
    "delta = 10e-4\n",
    "r = 2\n",
    "m = 100"
   ],
   "outputs": [],
   "metadata": {}
  },
  {
   "cell_type": "code",
   "execution_count": null,
   "source": [
    "# Step 0 (initialization of algorithm's constants and function evaluations)\n",
    "h = T / m\n",
    "w = -1.0 * np.random.uniform(-(r + 1) * h, 0) # multiply by -1 because we need interval (0, (r + 1) * h]\n",
    "# print(\"h = {}\".format(h))\n",
    "# for i in range(0, m + 1):\n",
    "#     print(\"t_{} = {}\".format(i, i*h))\n",
    "t = np.linspace(0, T, m+1, dtype='float64') # czyli mamy m+1 wezlów postaci t[0], ... , t[m]\n",
    "e = np.random.uniform(-delta, delta, m+1)\n",
    "y = np.array([f(t[j]) + e[j] for j in range(0, m+1)])"
   ],
   "outputs": [],
   "metadata": {
    "tags": []
   }
  },
  {
   "cell_type": "code",
   "execution_count": null,
   "source": [
    "np.set_printoptions(precision = 8, suppress=True)\n",
    "print(t)\n",
    "print(e)\n",
    "print(y)"
   ],
   "outputs": [],
   "metadata": {}
  },
  {
   "cell_type": "code",
   "execution_count": null,
   "source": [
    "# Step 1\n",
    "i_max = np.argmax([d_noisy(i, r, t, y) for i in range(0, m-r)]) # innaczej liczone roznice dzielone\n",
    "u_1 = t[i_max]\n",
    "v_1 = t[i_max + r +1]\n",
    "print(\"i_max = {}  u_1 = {}  v_1 = {}\".format(i_max, t[i_max], t[i_max + r +1]))"
   ],
   "outputs": [],
   "metadata": {}
  },
  {
   "cell_type": "code",
   "execution_count": null,
   "source": [
    "# Step 1\n",
    "i_max = np.argmax([d_noisy2(i, r, t, y) for i in range(0, m-r)])\n",
    "u_1 = t[i_max]\n",
    "v_1 = t[i_max + r +1]\n",
    "print(\"i_max = {}  u_1 = {}  v _1 = {}\".format(i_max, t[i_max], t[i_max + r +1]))"
   ],
   "outputs": [],
   "metadata": {}
  },
  {
   "cell_type": "code",
   "execution_count": null,
   "source": [
    "import matplotlib.pyplot as plt\n",
    "\n",
    "plt.scatter(t,y)"
   ],
   "outputs": [],
   "metadata": {}
  },
  {
   "cell_type": "code",
   "execution_count": null,
   "source": [
    "from scipy import interpolate"
   ],
   "outputs": [],
   "metadata": {}
  },
  {
   "cell_type": "code",
   "execution_count": null,
   "source": [
    "# Step 2\n",
    "p_neg = interpolate.interp1d(\n",
    "    t[i_max - r:i_max + 1],\n",
    "    y[i_max - r:i_max + 1],\n",
    "    fill_value=\"extrapolate\"\n",
    ")\n",
    "p_pos = interpolate.interp1d(\n",
    "    t[i_max + r + 1: i_max + 2 * r + 1 + 1],\n",
    "    y[i_max + r + 1: i_max + 2 * r + 1 + 1],\n",
    "    fill_value=\"extrapolate\"\n",
    ")\n"
   ],
   "outputs": [],
   "metadata": {}
  },
  {
   "cell_type": "code",
   "execution_count": null,
   "source": [
    "# Step 2 continued\n",
    "u = u_1\n",
    "v = v_1\n",
    "\n",
    "while v - u > w:\n",
    "    z = np.array([u + j * (v - u) / (r + 2) for j in range(1, r + 2)])\n",
    "    dif = np.abs(p_pos(z) - p_neg(z))\n",
    "    j_max = np.argmax(dif)\n",
    "\n",
    "    # tu chyba nie powinno byc bezposrednio f tylko f_noisy = f() + e\n",
    "    if np.abs(f(z[j_max]) - p_neg(z[j_max])) <= np.abs(f(z[j_max]) - p_pos(z[j_max])):\n",
    "        u = z[j_max]\n",
    "    else:\n",
    "        v = z[j_max]\n",
    "\n",
    "u_2 = u\n",
    "v_2 = v"
   ],
   "outputs": [],
   "metadata": {
    "tags": []
   }
  },
  {
   "cell_type": "code",
   "execution_count": null,
   "source": [
    "print(u_1, v_1)\n",
    "print(u_2, v_2)"
   ],
   "outputs": [],
   "metadata": {}
  },
  {
   "cell_type": "code",
   "execution_count": null,
   "source": [
    "from scipy.optimize import minimize_scalar"
   ],
   "outputs": [],
   "metadata": {}
  },
  {
   "cell_type": "code",
   "execution_count": null,
   "source": [
    "def fun(x):\n",
    "    return -1 * np.abs(p_neg(x) - p_pos(x))"
   ],
   "outputs": [],
   "metadata": {}
  },
  {
   "cell_type": "code",
   "execution_count": null,
   "source": [
    "interval = np.linspace(u_2, v_2, num=15)\n",
    "\n",
    "fig, ax = plt.subplots(nrows=1, ncols=2)\n",
    "ax[0].scatter(interval, p_pos(interval))\n",
    "ax[0].scatter(interval, p_neg(interval))\n",
    "\n",
    "ax[1].scatter(interval, fun(interval))\n",
    "\n",
    "plt.setp(ax, ylim=(-0.05, 0.05))\n",
    "plt.show()"
   ],
   "outputs": [],
   "metadata": {}
  },
  {
   "cell_type": "markdown",
   "source": [],
   "metadata": {}
  },
  {
   "cell_type": "markdown",
   "source": [
    "result = minimize_scalar(fun=fun, bracket=(u,v))\n",
    "\n",
    "print(\"if success = {}  z_max = {}\".format(result.success, result.x))"
   ],
   "metadata": {}
  },
  {
   "cell_type": "code",
   "execution_count": null,
   "source": [
    "# Step 3\n",
    "u = u_2\n",
    "v = v_2\n",
    "\n",
    "\n",
    "z_max = [0.0]   # it list only because we need to modify it inside of function (we cannot modify number)\n",
    "while True:\n",
    "    result = minimize_scalar(fun=fun, bracket=(u,v))\n",
    "    if result.success == False:\n",
    "        break\n",
    "    \n",
    "    z_max = result.x\n",
    "    if np.abs(f(z_max) - p_neg(z_max)) <= np.abs(f(z_max) - p_pos(z_max)):\n",
    "        u = z\n",
    "    else:\n",
    "        v = z\n",
    "\n",
    "u_3 = u\n",
    "v_3 = v"
   ],
   "outputs": [],
   "metadata": {}
  },
  {
   "cell_type": "code",
   "execution_count": null,
   "source": [
    "print(u_1, v_1)\n",
    "print(u_2, v_2)\n",
    "print(u_3, v_3)"
   ],
   "outputs": [],
   "metadata": {}
  },
  {
   "cell_type": "code",
   "execution_count": null,
   "source": [
    "# Final approximation (i use custom mesh to find argmin)\n",
    "mesh = np.arange(u_1, v_1, step=0.0005)\n",
    "x_array = [np.abs(p_pos(k) - p_neg(k)) for k in mesh]\n",
    "ksi = mesh[np.argmin(x_array)] # ksi is on x-asix"
   ],
   "outputs": [],
   "metadata": {}
  },
  {
   "cell_type": "code",
   "execution_count": null,
   "source": [
    "print(ksi)"
   ],
   "outputs": [],
   "metadata": {}
  },
  {
   "cell_type": "code",
   "execution_count": null,
   "source": [
    "# print(z)\n",
    "# print(t[i_max:i_max + r + 1])\n",
    "\n",
    "# Final approximation    <--- wedlug mnie to jest najlogiczniejsze, gdyz dla tych wezłow juz wczesniej liczylismy wartosci funkcji(możnaby nawet gdzies je zapisac i uzyc jeszcze raz zeby nie narazac sie na powtórne liczenie w arytmetyce fl, jednak z drugiej strony tych ovliczonych wartości fun, nie jest duzo)\n",
    "# x = [np.abs(p_pos(k) - p_neg(k)) for k in z]\n",
    "# ksi = np.argmin(x)\n",
    "# print(x)\n",
    "# print(ksi)\n",
    "\n",
    "# Final approximation\n",
    "# x = [np.abs(p_pos(k) - p_neg(k)) for k in t[i_max:i_max + r + 1]]\n",
    "# ksi = np.argmin(x)\n",
    "# print(x)\n",
    "# print(ksi)"
   ],
   "outputs": [],
   "metadata": {}
  },
  {
   "cell_type": "code",
   "execution_count": null,
   "source": [
    "# mamy \"przedziały\" na osi x-ów:\n",
    "# t[0],...,t[i_max-1]      u_1,...,mesh[ksi]   mesh[ksi],...,v_1   t[i_max + r + 1 + 1],...,T\n",
    "# u_1 = t[i_max]   v_1 = t[i_max + r + 1]\n",
    "\n",
    "# finding closest value to ksi in orginal mesh\n",
    "k = 0\n",
    "while ksi > t[k]:\n",
    "    k += 1\n",
    "\n",
    "k = k if np.abs(ksi - t[k]) < np.abs(ksi - t[k+1]) else k+1\n",
    "\n",
    "x_array = np.append(t[:i_max-1], t[i_max:k], )"
   ],
   "outputs": [],
   "metadata": {}
  },
  {
   "cell_type": "code",
   "execution_count": null,
   "source": [
    "# Final interpolating polynomial\n",
    "\n",
    "polynomial1 = interpolate.interp1d(\n",
    "            t[:i_max + 1],\n",
    "            y[:i_max + 1])\n",
    "\n",
    "polynomial2 = interpolate.interp1d(\n",
    "            t[i_max + r + 1:],\n",
    "            y[i_max + r + 1:])\n",
    "\n",
    "def final_polynomial(x):\n",
    "    if (t[0] <= x).all() and (x < u_1).all():\n",
    "        return polynomial1(x)\n",
    "    if (u_1 <= x).all() and (x < ksi).all():\n",
    "        return p_neg(x)\n",
    "    if (ksi <= x).all() and (x < v_1).all():\n",
    "        return p_pos(x)\n",
    "    if (v_1 <= x).all() and (x <= t[m]).all():\n",
    "        return polynomial2(x)"
   ],
   "outputs": [],
   "metadata": {}
  },
  {
   "cell_type": "code",
   "execution_count": null,
   "source": [
    "values = []\n",
    "for x in t:\n",
    "    values += [final_polynomial(x)]\n",
    "\n",
    "values = np.array(values)"
   ],
   "outputs": [],
   "metadata": {}
  },
  {
   "cell_type": "code",
   "execution_count": null,
   "source": [
    "t.shape"
   ],
   "outputs": [],
   "metadata": {}
  },
  {
   "cell_type": "code",
   "execution_count": null,
   "source": [
    "values.shape"
   ],
   "outputs": [],
   "metadata": {}
  },
  {
   "cell_type": "code",
   "execution_count": null,
   "source": [
    "print(values)"
   ],
   "outputs": [],
   "metadata": {}
  },
  {
   "cell_type": "code",
   "execution_count": null,
   "source": [
    "plt.scatter(t,values)"
   ],
   "outputs": [],
   "metadata": {}
  },
  {
   "cell_type": "code",
   "execution_count": null,
   "source": [
    "plt.plot(t,values)\n",
    "plt.show()"
   ],
   "outputs": [],
   "metadata": {}
  },
  {
   "cell_type": "code",
   "execution_count": null,
   "source": [
    "# here will be error plot"
   ],
   "outputs": [],
   "metadata": {}
  },
  {
   "cell_type": "code",
   "execution_count": null,
   "source": [
    "def error_of_approximation(x):\n",
    "    return np.abs(f(x) - final_polynomial(x))"
   ],
   "outputs": [],
   "metadata": {}
  },
  {
   "cell_type": "code",
   "execution_count": null,
   "source": [
    "error_of_approximation(1.72)"
   ],
   "outputs": [],
   "metadata": {}
  },
  {
   "cell_type": "code",
   "execution_count": null,
   "source": [],
   "outputs": [],
   "metadata": {}
  }
 ],
 "metadata": {
  "kernelspec": {
   "name": "python3",
   "language": "python",
   "display_name": "Python 3"
  },
  "language_info": {
   "codemirror_mode": {
    "name": "ipython",
    "version": 3
   },
   "file_extension": ".py",
   "mimetype": "text/x-python",
   "name": "python",
   "nbconvert_exporter": "python",
   "pygments_lexer": "ipython3",
   "version": "3.6.12"
  },
  "interpreter": {
   "hash": "fdea1c563661d9473c2d386f6f226caac7062ebbd58da9d55fd4abc3b891592d"
  }
 },
 "nbformat": 4,
 "nbformat_minor": 4
}
