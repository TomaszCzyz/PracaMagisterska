{
 "cells": [
  {
   "cell_type": "code",
   "execution_count": null,
   "source": [
    "# ALGORYTM Z \"Approximation of piecewise Hölder functions from inexact information\"\n",
    "\n",
    "# PARAMETRY ALGORYTMU:\n",
    "# h = T/m, gdzie m >= 2r + 1   <--- initial resolution of the mesh\n",
    "# 0 < w < (r + 1) * h"
   ],
   "outputs": [],
   "metadata": {}
  },
  {
   "cell_type": "code",
   "execution_count": null,
   "source": [
    "# Kroki algorytmu:\n",
    "# 1. aproksymacja punktu osobliwego s_f\n",
    "#   1a. siatka regularna (o długości h) oraz różnice dzielne użyte są do lokalizacji s_f na przedziale [u_1, v_1] (o długości (r+1) * h)\n",
    "#   1b. zawęzenie przedziałów z 1a do [u_2, v_2] przy użyciu wielomianów ekstrpolacyjnych p_neg i p_pos\n",
    "#   1c. wyprodukowanie przedziału [u_3, v_3] zawierającego się (lub równego) [u_2, v_2], w którym różnica |p_pos - p_neg| jest nierosnąca na [u_3, ksi] i niemalejąca na [ksi, v_3], gdzie ksi jest finalną aproksymacją s_f\n",
    "# 2."
   ],
   "outputs": [],
   "metadata": {}
  },
  {
   "cell_type": "code",
   "execution_count": null,
   "source": [
    "import numpy as np\n",
    "import matplotlib.pyplot as plt\n",
    "import math\n",
    "from scipy.optimize import fminbound\n",
    "from scipy import interpolate\n",
    "import multiprocessing as mp\n"
   ],
   "outputs": [],
   "metadata": {}
  },
  {
   "cell_type": "code",
   "execution_count": null,
   "source": [
    "# EXAMPLE FUNCTION\n",
    "f1__a = 0\n",
    "f1__b = 2 * np.pi + 0.5\n",
    "f1__r = 3\n",
    "f1__rho = 10e-4\n",
    "\n",
    "def f1(x):\n",
    "    def raw_f(x):\n",
    "        if 0 <= x < np.pi:\n",
    "            return np.sin(x - np.pi)\n",
    "        if np.pi <= x <= 2 * np.pi + 0.5:\n",
    "            return np.sin(x - np.pi - 0.5)\n",
    "\n",
    "    if isinstance(x, (list, np.ndarray)):\n",
    "        return [raw_f(elem) for elem in x]\n",
    "    elif isinstance(x, (float, np.float64)):\n",
    "        return raw_f(x)\n",
    "    \n",
    "    raise Exception(\"x has to be list or float\")"
   ],
   "outputs": [],
   "metadata": {}
  },
  {
   "cell_type": "code",
   "execution_count": null,
   "source": [
    "mesh = np.linspace(f1__a, f1__b, 50, dtype='float64')\n",
    "plt.scatter(mesh, f1(mesh))"
   ],
   "outputs": [],
   "metadata": {}
  },
  {
   "cell_type": "code",
   "execution_count": null,
   "source": [
    "# EXAMPLE FUNCTION\n",
    "f2__a = 0\n",
    "f2__b = 3 * np.pi\n",
    "f2__r = 3\n",
    "f2__rho = 10e-4\n",
    "\n",
    "def f2(x):\n",
    "    def raw_f(x):\n",
    "        if 0 <= x < np.pi:\n",
    "            return np.sin(x)\n",
    "        if np.pi <= x <= 3 * np.pi:\n",
    "            return np.sin(x - np.pi)\n",
    "\n",
    "    if isinstance(x, (list, np.ndarray)):\n",
    "        return [raw_f(elem) for elem in x]\n",
    "    elif isinstance(x, (float, np.float64)):\n",
    "        return raw_f(x)\n",
    "    \n",
    "    raise Exception(\"x has to be list or float\")"
   ],
   "outputs": [],
   "metadata": {}
  },
  {
   "cell_type": "code",
   "execution_count": null,
   "source": [
    "mesh = np.linspace(f2__a, f2__b, 50, dtype='float64')\n",
    "plt.scatter(mesh, f2(mesh))"
   ],
   "outputs": [],
   "metadata": {}
  },
  {
   "cell_type": "code",
   "execution_count": null,
   "source": [
    "def devided_diff(t, y, r, i):\n",
    "    '''\n",
    "    t : array of data points t_i, ... , t_{i+r+1}\n",
    "    y : array of y_j = f(t_j) + e_j\n",
    "    '''\n",
    "    \n",
    "    products = []\n",
    "    for j in range(i, i+r+1):\n",
    "        product = 1.0\n",
    "        for k in range(i, i+r+1):\n",
    "            if k == j:\n",
    "                continue\n",
    "            product *= 1 / (t[k] - t[j])\n",
    "        products.append(y[j] * product)\n",
    "\n",
    "    products.sort()\n",
    "    return math.fsum(products)"
   ],
   "outputs": [],
   "metadata": {}
  },
  {
   "cell_type": "code",
   "execution_count": null,
   "source": [
    "# Step 1\n",
    "def step1(t, y, m, r):\n",
    "    i_max = np.argmax([devided_diff(t, y, r, i) for i in range(0, m-r)])\n",
    "    u_1 = t[i_max]\n",
    "    v_1 = t[i_max + r +1]\n",
    "    return u_1, v_1, i_max"
   ],
   "outputs": [],
   "metadata": {}
  },
  {
   "cell_type": "code",
   "execution_count": null,
   "source": [
    "# Step 2\n",
    "def step2(f, t, y, r, d, u_1, v_1, i_max, noise=None):\n",
    "    p_neg = interpolate.interp1d(\n",
    "        t[i_max - r:i_max + 1],\n",
    "        y[i_max - r:i_max + 1],\n",
    "        fill_value=\"extrapolate\"\n",
    "    )\n",
    "    p_pos = interpolate.interp1d(\n",
    "        t[i_max + r + 1: i_max + 2 * r + 1 + 1],\n",
    "        y[i_max + r + 1: i_max + 2 * r + 1 + 1],\n",
    "        fill_value=\"extrapolate\"\n",
    "    )\n",
    "\n",
    "    u = u_1\n",
    "    v = v_1\n",
    "    while v - u > d:\n",
    "        z = [u + j * (v - u) / (r + 2) for j in range(1, r + 2)]\n",
    "        dif = np.abs(p_pos(z) - p_neg(z))\n",
    "        j_max = np.argmax(dif)\n",
    "\n",
    "        if noise is None:\n",
    "            f_value = f(z[j_max])\n",
    "        else:\n",
    "            f_value = f(z[j_max]) + np.random.uniform(-noise, noise)\n",
    "\n",
    "        if np.abs(f_value - p_neg(z[j_max])) <= np.abs(f_value - p_pos(z[j_max])):\n",
    "            u = z[j_max]\n",
    "        else:\n",
    "            v = z[j_max]\n",
    "    \n",
    "    u_2 = u.item()\n",
    "    v_2 = v.item()\n",
    "    return u_2, v_2, p_neg, p_pos, z\n"
   ],
   "outputs": [],
   "metadata": {}
  },
  {
   "cell_type": "code",
   "execution_count": null,
   "source": [
    "# Step 3\n",
    "def step3(f, t, u_2, v_2, p_neg, p_pos, z, noise=None):\n",
    "    u = u_2\n",
    "    v = v_2\n",
    "\n",
    "    def fun(x):\n",
    "        return -1 * np.abs(p_neg(x) - p_pos(x)) # \"-\" beacuse we are looking for maximum, not minimum\n",
    "        \n",
    "    while True:\n",
    "        z_max = fminbound(func=fun, x1=u, x2=v)\n",
    "        \n",
    "        if np.isclose(z_max, u) or np.isclose(z_max, v): # => no local maximum\n",
    "            break\n",
    "\n",
    "\n",
    "        if noise is None:\n",
    "            f_value = f(z_max)\n",
    "        else:\n",
    "            f_value = f(z_max) + np.random.uniform(-noise, noise)\n",
    "\n",
    "        if np.abs(f_value - p_neg(z_max)) <= np.abs(f_value - p_pos(z_max)): # NOISE HANDLING???\n",
    "            u = z_max\n",
    "        else:\n",
    "            v = z_max\n",
    "\n",
    "    u_3 = u\n",
    "    v_3 = v\n",
    "    \n",
    "    ksi = fminbound(\n",
    "        func=lambda x: np.abs(p_neg(x) - p_pos(x)),\n",
    "        x1=u_3, x2=v_3)\n",
    "    \n",
    "    return u_3, v_3, ksi"
   ],
   "outputs": [],
   "metadata": {}
  },
  {
   "cell_type": "code",
   "execution_count": null,
   "source": [
    "# =====ALGORITHM=====\n",
    "\n",
    "def Alg2015(f, f__a, f__b, r, rho, m, noise=None):\n",
    "    '''\n",
    "    f - funkcja, którą aproksymujemy\n",
    "    r, rho - stałe regularności funkcji\n",
    "    f__a, f__b - aproksymowany przedzial\n",
    "    m - początkowa gęstość siatki\n",
    "    noise - None lub wartosc losowego szumu\n",
    "    '''\n",
    "    # Step 0 (initialization of algorithm's constants and function evaluations)\n",
    "    h = (f__b - f__a) / m\n",
    "    d = h ** (r + rho)  # d = -1.0 * np.random.uniform(-(r + 1) * h, 0) # multiply by -1 because we need interval (0, (r + 1) * h]\n",
    "    t = np.linspace(f__a, f__b, m+1, dtype='float64') # czyli mamy m+1 wezlów postaci t[0], ... , t[m]\n",
    "    \n",
    "    if noise is not None:\n",
    "        e = np.random.uniform(-noise, noise, m+1)\n",
    "        y = [f(t[j]) + e[j] for j in range(0, m+1)]\n",
    "    else:\n",
    "        y = np.array(f(t))\n",
    "\n",
    "    # kroki algorytmu\n",
    "    u_1, v_1, i_max = step1(t, y, m, r)\n",
    "    u_2, v_2, p_neg, p_pos, z = step2(f, t, y, r, d, u_1, v_1, i_max, noise=noise)\n",
    "    u_3, v_3, ksi = step3(f, t, u_2, v_2, p_neg, p_pos, z, noise=noise)\n",
    "\n",
    "    # finalna funkcja approksymująca podaną funkcję\n",
    "    polynomial1 = interpolate.interp1d(\n",
    "                t[:i_max + 1],\n",
    "                y[:i_max + 1])\n",
    "\n",
    "    polynomial2 = interpolate.interp1d(\n",
    "                t[i_max + r + 1:],\n",
    "                y[i_max + r + 1:])\n",
    "\n",
    "    def final_approximation(x):\n",
    "        def raw_f(x):\n",
    "            if t[0] <= x < u_1:\n",
    "                return polynomial1(x)\n",
    "            if u_1 <= x < ksi:\n",
    "                return p_neg(x)\n",
    "            if ksi <= x < v_1:\n",
    "                return p_pos(x)\n",
    "            if v_1 <= x <= t[m]:\n",
    "                return polynomial2(x)\n",
    "            print(\"WATCH OUT!!!\")\n",
    "            return -1\n",
    "\n",
    "        if isinstance(x, (list, np.ndarray)):\n",
    "            return [raw_f(elem) for elem in x]\n",
    "        return raw_f(x)\n",
    "\n",
    "    return t, final_approximation"
   ],
   "outputs": [],
   "metadata": {}
  },
  {
   "cell_type": "code",
   "execution_count": null,
   "source": [
    "# delta = 10e-4\n",
    "# m = 100\n",
    "# t, f_approximation = Alg2015(f1, f1__a, f1__b, f1__r, f1__rho, m, delta)\n",
    "\n",
    "# plt.scatter(t,f_approximation(t), s=1)\n",
    "# plt.plot(t, f_approximation(t))"
   ],
   "outputs": [],
   "metadata": {}
  },
  {
   "cell_type": "code",
   "execution_count": null,
   "source": [
    "import types\n",
    "import functools\n",
    "\n",
    "def copy_func(f):\n",
    "    g = types.FunctionType(f.__code__, f.__globals__, name=f.__name__,\n",
    "                           argdefs=f.__defaults__,\n",
    "                           closure=f.__closure__)\n",
    "    g = functools.update_wrapper(g, f)\n",
    "    g.__kwdefaults__ = f.__kwdefaults__\n",
    "    return g"
   ],
   "outputs": [],
   "metadata": {}
  },
  {
   "cell_type": "code",
   "execution_count": null,
   "source": [
    "import scipy.integrate as integrate\n",
    "\n",
    "def worst_case_error(fun, fun_data, algorithm, alg_data, num, p=2):\n",
    "    '''\n",
    "    calculate worst case error with respect to noise for function fun\n",
    "    '''\n",
    "    f__a, f__b, r, rho = fun_data\n",
    "    m, noise = alg_data\n",
    "    \n",
    "    norms = []\n",
    "    errors = [] # Errors of intergation\n",
    "\n",
    "    fun_copy = copy_func(fun)\n",
    "    algorithm_copy = copy_func(algorithm)\n",
    "\n",
    "    for i in range(num):\n",
    "        f_approximation = algorithm_copy(fun_copy, f__a, f__b, r, rho, m, noise)[1]\n",
    "        result, error = integrate.quad(lambda x: abs(fun(x) - f_approximation(x))**p, f__a, f__b)\n",
    "        norm = result**(1/p)\n",
    "        norms.append(norm)\n",
    "        errors.append(error) \n",
    "\n",
    "    result = np.max(norms)\n",
    "    print(\"worst case error for {} alg runs with m={} equals: {}\".format(num, m, result))\n",
    "\n",
    "    return result"
   ],
   "outputs": [],
   "metadata": {}
  },
  {
   "cell_type": "code",
   "execution_count": null,
   "source": [
    "log10_m_array = np.linspace(1.5, 4.5, num=20)\n",
    "m_array = np.array(np.power(10, log10_m_array), dtype='int')\n",
    "deltas = [None, 10e-12, 10e-8, 10e-4]"
   ],
   "outputs": [],
   "metadata": {}
  },
  {
   "cell_type": "code",
   "execution_count": null,
   "source": [
    "dataset = [(f1, (f1__a, f1__b, 2, f1__rho), Alg2015,(m.item(), None), 10, 2) for m in np.nditer(m_array)]\n",
    "\n",
    "with mp.Pool(processes=3) as pool:\n",
    "    results = pool.starmap(worst_case_error, dataset)\n",
    "\n",
    "    print(results)"
   ],
   "outputs": [],
   "metadata": {}
  },
  {
   "cell_type": "code",
   "execution_count": null,
   "source": [
    "for m in np.nditer(m_array):\n",
    "    error = worst_case_error(\n",
    "        fun=f1,\n",
    "        fun_data=(f1__a, f1__b, 2, f1__rho),\n",
    "        algorithm=Alg2015,\n",
    "        alg_data=(m.item(), None),\n",
    "        num=10,\n",
    "        p=2)"
   ],
   "outputs": [],
   "metadata": {}
  },
  {
   "cell_type": "code",
   "execution_count": null,
   "source": [
    "# errors_for_deltas_f1 = []\n",
    "# for delta in deltas:\n",
    "#     errors = []\n",
    "#     for m in np.nditer(m_array):\n",
    "#         error = worst_case_error(\n",
    "#             fun=f1,\n",
    "#             fun_data=(f1__a, f1__b, 4, f1__rho),\n",
    "#             algorithm=Alg2015,\n",
    "#             alg_data=(m, delta),\n",
    "#             num=1000,\n",
    "#             p=2)\n",
    "\n",
    "#         errors.append(error)\n",
    "#         print(\"delta: {} ---   m: {} -> error: {:.12f}\".format(delta, m, error))\n",
    "    \n",
    "#     errors_for_deltas_f1.append(errors)\n",
    "\n",
    "\n",
    "# errors_for_deltas_f2 = []\n",
    "# for delta in deltas:\n",
    "#     errors = []\n",
    "#     for m in np.nditer(m_array):\n",
    "#         error = worst_case_error(\n",
    "#             fun=f2,\n",
    "#             fun_data=(f2__a, f2__b, 4, f2__rho),\n",
    "#             algorithm=Alg2015,\n",
    "#             alg_data=(m, delta),\n",
    "#             num=1000,\n",
    "#             p=2)\n",
    "\n",
    "#         errors.append(error)\n",
    "#         print(\"delta: {} ---   m: {} -> error: {:.12f}\".format(delta, m, error))\n",
    "    \n",
    "#     errors_for_deltas_f2.append(errors)\n"
   ],
   "outputs": [],
   "metadata": {}
  },
  {
   "cell_type": "code",
   "execution_count": null,
   "source": [
    "log10errors_for_deltas_f1 = np.log10(errors_for_deltas_f1)\n",
    "log10errors_for_deltas_f2 = np.log10(errors_for_deltas_f2)"
   ],
   "outputs": [],
   "metadata": {}
  },
  {
   "cell_type": "code",
   "execution_count": null,
   "source": [
    "log10errors_for_deltas_f1[1]"
   ],
   "outputs": [],
   "metadata": {}
  },
  {
   "cell_type": "code",
   "execution_count": null,
   "source": [
    "colors = ['g', 'red', 'b', 'orange']\n",
    "markers = [',', 'x', 'o', '+', '.', 'v', '^', '<', '>', 's', 'd']\n",
    "\n",
    "for i in range(4):\n",
    "    plt.scatter(log10_m_array, -log10errors_for_deltas_f1[i], c=colors[i], marker=markers[i])\n",
    "\n",
    "plt.show()"
   ],
   "outputs": [],
   "metadata": {}
  },
  {
   "cell_type": "code",
   "execution_count": null,
   "source": [
    "print(log10_m_array)\n",
    "print(deltas)\n",
    "print(log10errors_for_deltas_f1)\n",
    "print(log10errors_for_deltas_f2)"
   ],
   "outputs": [],
   "metadata": {}
  }
 ],
 "metadata": {
  "kernelspec": {
   "name": "python3",
   "display_name": "Python 3.6.12 64-bit ('myenv': conda)"
  },
  "language_info": {
   "codemirror_mode": {
    "name": "ipython",
    "version": 3
   },
   "file_extension": ".py",
   "mimetype": "text/x-python",
   "name": "python",
   "nbconvert_exporter": "python",
   "pygments_lexer": "ipython3",
   "version": "3.6.12"
  },
  "interpreter": {
   "hash": "fdea1c563661d9473c2d386f6f226caac7062ebbd58da9d55fd4abc3b891592d"
  }
 },
 "nbformat": 4,
 "nbformat_minor": 4
}
