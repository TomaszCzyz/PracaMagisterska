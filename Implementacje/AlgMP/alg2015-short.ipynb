{
 "cells": [
  {
   "cell_type": "code",
   "execution_count": 1,
   "source": [
    "# ALGORYTM Z \"Approximation of piecewise Hölder functions from inexact information\"\r\n",
    "\r\n",
    "# PARAMETRY ALGORYTMU:\r\n",
    "# h = T/m, gdzie m >= 2r + 1   <--- initial resolution of the mesh\r\n",
    "# 0 < w < (r + 1) * h"
   ],
   "outputs": [],
   "metadata": {}
  },
  {
   "cell_type": "code",
   "execution_count": 2,
   "source": [
    "# Kroki algorytmu:\r\n",
    "# 1. aproksymacja punktu osobliwego s_f\r\n",
    "#   1a. siatka regularna (o długości h) oraz różnice dzielne użyte są do lokalizacji s_f na przedziale [u_1, v_1] (o długości (r+1) * h)\r\n",
    "#   1b. zawęzenie przedziałów z 1a do [u_2, v_2] przy użyciu wielomianów ekstrpolacyjnych p_neg i p_pos\r\n",
    "#   1c. wyprodukowanie przedziału [u_3, v_3] zawierającego się (lub równego) [u_2, v_2], w którym różnica |p_pos - p_neg| jest nierosnąca na [u_3, ksi] i niemalejąca na [ksi, v_3], gdzie ksi jest finalną aproksymacją s_f\r\n",
    "# 2."
   ],
   "outputs": [],
   "metadata": {}
  },
  {
   "cell_type": "code",
   "execution_count": 3,
   "source": [
    "import numpy as np\r\n",
    "import matplotlib.pyplot as plt\r\n",
    "import math\r\n",
    "from scipy.optimize import fminbound\r\n",
    "from scipy import interpolate\r\n",
    "import multiprocessing as mp\r\n"
   ],
   "outputs": [],
   "metadata": {}
  },
  {
   "cell_type": "code",
   "execution_count": 4,
   "source": [
    "# EXAMPLE FUNCTION\r\n",
    "f1__a = 0\r\n",
    "f1__b = 2 * np.pi + 0.5\r\n",
    "f1__r = 3\r\n",
    "f1__rho = 10e-4\r\n",
    "\r\n",
    "def f1(x):\r\n",
    "    def raw_f(x):\r\n",
    "        if 0 <= x < np.pi:\r\n",
    "            return np.sin(x - np.pi)\r\n",
    "        if np.pi <= x <= 2 * np.pi + 0.5:\r\n",
    "            return np.sin(x - np.pi - 0.5)\r\n",
    "\r\n",
    "    if isinstance(x, (list, np.ndarray)):\r\n",
    "        return [raw_f(elem) for elem in x]\r\n",
    "    elif isinstance(x, (float, np.float64)):\r\n",
    "        return raw_f(x)\r\n",
    "    \r\n",
    "    raise Exception(\"x has to be list or float\")"
   ],
   "outputs": [],
   "metadata": {}
  },
  {
   "cell_type": "code",
   "execution_count": 5,
   "source": [
    "mesh = np.linspace(f1__a, f1__b, 50, dtype='float64')\r\n",
    "plt.scatter(mesh, f1(mesh))"
   ],
   "outputs": [
    {
     "output_type": "execute_result",
     "data": {
      "text/plain": [
       "<matplotlib.collections.PathCollection at 0x16a79af9b70>"
      ]
     },
     "metadata": {},
     "execution_count": 5
    },
    {
     "output_type": "display_data",
     "data": {
      "text/plain": [
       "<Figure size 432x288 with 1 Axes>"
      ],
      "image/svg+xml": "<?xml version=\"1.0\" encoding=\"utf-8\" standalone=\"no\"?>\r\n<!DOCTYPE svg PUBLIC \"-//W3C//DTD SVG 1.1//EN\"\r\n  \"http://www.w3.org/Graphics/SVG/1.1/DTD/svg11.dtd\">\r\n<!-- Created with matplotlib (https://matplotlib.org/) -->\r\n<svg height=\"248.518125pt\" version=\"1.1\" viewBox=\"0 0 386.845312 248.518125\" width=\"386.845312pt\" xmlns=\"http://www.w3.org/2000/svg\" xmlns:xlink=\"http://www.w3.org/1999/xlink\">\r\n <metadata>\r\n  <rdf:RDF xmlns:cc=\"http://creativecommons.org/ns#\" xmlns:dc=\"http://purl.org/dc/elements/1.1/\" xmlns:rdf=\"http://www.w3.org/1999/02/22-rdf-syntax-ns#\">\r\n   <cc:Work>\r\n    <dc:type rdf:resource=\"http://purl.org/dc/dcmitype/StillImage\"/>\r\n    <dc:date>2021-08-28T13:53:21.317194</dc:date>\r\n    <dc:format>image/svg+xml</dc:format>\r\n    <dc:creator>\r\n     <cc:Agent>\r\n      <dc:title>Matplotlib v3.3.2, https://matplotlib.org/</dc:title>\r\n     </cc:Agent>\r\n    </dc:creator>\r\n   </cc:Work>\r\n  </rdf:RDF>\r\n </metadata>\r\n <defs>\r\n  <style type=\"text/css\">*{stroke-linecap:butt;stroke-linejoin:round;}</style>\r\n </defs>\r\n <g id=\"figure_1\">\r\n  <g id=\"patch_1\">\r\n   <path d=\"M 0 248.518125 \r\nL 386.845312 248.518125 \r\nL 386.845312 0 \r\nL 0 0 \r\nz\r\n\" style=\"fill:none;\"/>\r\n  </g>\r\n  <g id=\"axes_1\">\r\n   <g id=\"patch_2\">\r\n    <path d=\"M 44.845313 224.64 \r\nL 379.645313 224.64 \r\nL 379.645313 7.2 \r\nL 44.845313 7.2 \r\nz\r\n\" style=\"fill:#ffffff;\"/>\r\n   </g>\r\n   <g id=\"PathCollection_1\">\r\n    <defs>\r\n     <path d=\"M 0 3 \r\nC 0.795609 3 1.55874 2.683901 2.12132 2.12132 \r\nC 2.683901 1.55874 3 0.795609 3 0 \r\nC 3 -0.795609 2.683901 -1.55874 2.12132 -2.12132 \r\nC 1.55874 -2.683901 0.795609 -3 0 -3 \r\nC -0.795609 -3 -1.55874 -2.683901 -2.12132 -2.12132 \r\nC -2.683901 -1.55874 -3 -0.795609 -3 0 \r\nC -3 0.795609 -2.683901 1.55874 -2.12132 2.12132 \r\nC -1.55874 2.683901 -0.795609 3 0 3 \r\nz\r\n\" id=\"m41c5f88e97\" style=\"stroke:#1f77b4;\"/>\r\n    </defs>\r\n    <g clip-path=\"url(#pe7a5b7f6a3)\">\r\n     <use style=\"fill:#1f77b4;stroke:#1f77b4;\" x=\"60.063494\" xlink:href=\"#m41c5f88e97\" y=\"115.92\"/>\r\n     <use style=\"fill:#1f77b4;stroke:#1f77b4;\" x=\"66.274997\" xlink:href=\"#m41c5f88e97\" y=\"129.574246\"/>\r\n     <use style=\"fill:#1f77b4;stroke:#1f77b4;\" x=\"72.4865\" xlink:href=\"#m41c5f88e97\" y=\"142.967246\"/>\r\n     <use style=\"fill:#1f77b4;stroke:#1f77b4;\" x=\"78.698003\" xlink:href=\"#m41c5f88e97\" y=\"155.842753\"/>\r\n     <use style=\"fill:#1f77b4;stroke:#1f77b4;\" x=\"84.909505\" xlink:href=\"#m41c5f88e97\" y=\"167.95442\"/>\r\n     <use style=\"fill:#1f77b4;stroke:#1f77b4;\" x=\"91.121008\" xlink:href=\"#m41c5f88e97\" y=\"179.070517\"/>\r\n     <use style=\"fill:#1f77b4;stroke:#1f77b4;\" x=\"97.332511\" xlink:href=\"#m41c5f88e97\" y=\"188.978358\"/>\r\n     <use style=\"fill:#1f77b4;stroke:#1f77b4;\" x=\"103.544014\" xlink:href=\"#m41c5f88e97\" y=\"197.48838\"/>\r\n     <use style=\"fill:#1f77b4;stroke:#1f77b4;\" x=\"109.755517\" xlink:href=\"#m41c5f88e97\" y=\"204.437759\"/>\r\n     <use style=\"fill:#1f77b4;stroke:#1f77b4;\" x=\"115.967019\" xlink:href=\"#m41c5f88e97\" y=\"209.693533\"/>\r\n     <use style=\"fill:#1f77b4;stroke:#1f77b4;\" x=\"122.178522\" xlink:href=\"#m41c5f88e97\" y=\"213.155145\"/>\r\n     <use style=\"fill:#1f77b4;stroke:#1f77b4;\" x=\"128.390025\" xlink:href=\"#m41c5f88e97\" y=\"214.756364\"/>\r\n     <use style=\"fill:#1f77b4;stroke:#1f77b4;\" x=\"134.601528\" xlink:href=\"#m41c5f88e97\" y=\"214.466553\"/>\r\n     <use style=\"fill:#1f77b4;stroke:#1f77b4;\" x=\"140.81303\" xlink:href=\"#m41c5f88e97\" y=\"212.291257\"/>\r\n     <use style=\"fill:#1f77b4;stroke:#1f77b4;\" x=\"147.024533\" xlink:href=\"#m41c5f88e97\" y=\"208.272097\"/>\r\n     <use style=\"fill:#1f77b4;stroke:#1f77b4;\" x=\"153.236036\" xlink:href=\"#m41c5f88e97\" y=\"202.48597\"/>\r\n     <use style=\"fill:#1f77b4;stroke:#1f77b4;\" x=\"159.447539\" xlink:href=\"#m41c5f88e97\" y=\"195.043582\"/>\r\n     <use style=\"fill:#1f77b4;stroke:#1f77b4;\" x=\"165.659042\" xlink:href=\"#m41c5f88e97\" y=\"186.087328\"/>\r\n     <use style=\"fill:#1f77b4;stroke:#1f77b4;\" x=\"171.870544\" xlink:href=\"#m41c5f88e97\" y=\"175.788568\"/>\r\n     <use style=\"fill:#1f77b4;stroke:#1f77b4;\" x=\"178.082047\" xlink:href=\"#m41c5f88e97\" y=\"164.344346\"/>\r\n     <use style=\"fill:#1f77b4;stroke:#1f77b4;\" x=\"184.29355\" xlink:href=\"#m41c5f88e97\" y=\"151.973624\"/>\r\n     <use style=\"fill:#1f77b4;stroke:#1f77b4;\" x=\"190.505053\" xlink:href=\"#m41c5f88e97\" y=\"138.913091\"/>\r\n     <use style=\"fill:#1f77b4;stroke:#1f77b4;\" x=\"196.716556\" xlink:href=\"#m41c5f88e97\" y=\"125.412633\"/>\r\n     <use style=\"fill:#1f77b4;stroke:#1f77b4;\" x=\"202.928058\" xlink:href=\"#m41c5f88e97\" y=\"159.640284\"/>\r\n     <use style=\"fill:#1f77b4;stroke:#1f77b4;\" x=\"209.139561\" xlink:href=\"#m41c5f88e97\" y=\"146.972894\"/>\r\n     <use style=\"fill:#1f77b4;stroke:#1f77b4;\" x=\"215.351064\" xlink:href=\"#m41c5f88e97\" y=\"133.711371\"/>\r\n     <use style=\"fill:#1f77b4;stroke:#1f77b4;\" x=\"221.562567\" xlink:href=\"#m41c5f88e97\" y=\"120.109448\"/>\r\n     <use style=\"fill:#1f77b4;stroke:#1f77b4;\" x=\"227.774069\" xlink:href=\"#m41c5f88e97\" y=\"106.427367\"/>\r\n     <use style=\"fill:#1f77b4;stroke:#1f77b4;\" x=\"233.985572\" xlink:href=\"#m41c5f88e97\" y=\"92.926909\"/>\r\n     <use style=\"fill:#1f77b4;stroke:#1f77b4;\" x=\"240.197075\" xlink:href=\"#m41c5f88e97\" y=\"79.866376\"/>\r\n     <use style=\"fill:#1f77b4;stroke:#1f77b4;\" x=\"246.408578\" xlink:href=\"#m41c5f88e97\" y=\"67.495654\"/>\r\n     <use style=\"fill:#1f77b4;stroke:#1f77b4;\" x=\"252.620081\" xlink:href=\"#m41c5f88e97\" y=\"56.051432\"/>\r\n     <use style=\"fill:#1f77b4;stroke:#1f77b4;\" x=\"258.831583\" xlink:href=\"#m41c5f88e97\" y=\"45.752672\"/>\r\n     <use style=\"fill:#1f77b4;stroke:#1f77b4;\" x=\"265.043086\" xlink:href=\"#m41c5f88e97\" y=\"36.796418\"/>\r\n     <use style=\"fill:#1f77b4;stroke:#1f77b4;\" x=\"271.254589\" xlink:href=\"#m41c5f88e97\" y=\"29.35403\"/>\r\n     <use style=\"fill:#1f77b4;stroke:#1f77b4;\" x=\"277.466092\" xlink:href=\"#m41c5f88e97\" y=\"23.567903\"/>\r\n     <use style=\"fill:#1f77b4;stroke:#1f77b4;\" x=\"283.677595\" xlink:href=\"#m41c5f88e97\" y=\"19.548743\"/>\r\n     <use style=\"fill:#1f77b4;stroke:#1f77b4;\" x=\"289.889097\" xlink:href=\"#m41c5f88e97\" y=\"17.373447\"/>\r\n     <use style=\"fill:#1f77b4;stroke:#1f77b4;\" x=\"296.1006\" xlink:href=\"#m41c5f88e97\" y=\"17.083636\"/>\r\n     <use style=\"fill:#1f77b4;stroke:#1f77b4;\" x=\"302.312103\" xlink:href=\"#m41c5f88e97\" y=\"18.684855\"/>\r\n     <use style=\"fill:#1f77b4;stroke:#1f77b4;\" x=\"308.523606\" xlink:href=\"#m41c5f88e97\" y=\"22.146467\"/>\r\n     <use style=\"fill:#1f77b4;stroke:#1f77b4;\" x=\"314.735108\" xlink:href=\"#m41c5f88e97\" y=\"27.402241\"/>\r\n     <use style=\"fill:#1f77b4;stroke:#1f77b4;\" x=\"320.946611\" xlink:href=\"#m41c5f88e97\" y=\"34.35162\"/>\r\n     <use style=\"fill:#1f77b4;stroke:#1f77b4;\" x=\"327.158114\" xlink:href=\"#m41c5f88e97\" y=\"42.861642\"/>\r\n     <use style=\"fill:#1f77b4;stroke:#1f77b4;\" x=\"333.369617\" xlink:href=\"#m41c5f88e97\" y=\"52.769483\"/>\r\n     <use style=\"fill:#1f77b4;stroke:#1f77b4;\" x=\"339.58112\" xlink:href=\"#m41c5f88e97\" y=\"63.88558\"/>\r\n     <use style=\"fill:#1f77b4;stroke:#1f77b4;\" x=\"345.792622\" xlink:href=\"#m41c5f88e97\" y=\"75.997247\"/>\r\n     <use style=\"fill:#1f77b4;stroke:#1f77b4;\" x=\"352.004125\" xlink:href=\"#m41c5f88e97\" y=\"88.872754\"/>\r\n     <use style=\"fill:#1f77b4;stroke:#1f77b4;\" x=\"358.215628\" xlink:href=\"#m41c5f88e97\" y=\"102.265754\"/>\r\n     <use style=\"fill:#1f77b4;stroke:#1f77b4;\" x=\"364.427131\" xlink:href=\"#m41c5f88e97\" y=\"115.92\"/>\r\n    </g>\r\n   </g>\r\n   <g id=\"matplotlib.axis_1\">\r\n    <g id=\"xtick_1\">\r\n     <g id=\"line2d_1\">\r\n      <defs>\r\n       <path d=\"M 0 0 \r\nL 0 3.5 \r\n\" id=\"m0710538e0a\" style=\"stroke:#000000;stroke-width:0.8;\"/>\r\n      </defs>\r\n      <g>\r\n       <use style=\"stroke:#000000;stroke-width:0.8;\" x=\"60.063494\" xlink:href=\"#m0710538e0a\" y=\"224.64\"/>\r\n      </g>\r\n     </g>\r\n     <g id=\"text_1\">\r\n      <!-- 0 -->\r\n      <g transform=\"translate(56.882244 239.238437)scale(0.1 -0.1)\">\r\n       <defs>\r\n        <path d=\"M 31.78125 66.40625 \r\nQ 24.171875 66.40625 20.328125 58.90625 \r\nQ 16.5 51.421875 16.5 36.375 \r\nQ 16.5 21.390625 20.328125 13.890625 \r\nQ 24.171875 6.390625 31.78125 6.390625 \r\nQ 39.453125 6.390625 43.28125 13.890625 \r\nQ 47.125 21.390625 47.125 36.375 \r\nQ 47.125 51.421875 43.28125 58.90625 \r\nQ 39.453125 66.40625 31.78125 66.40625 \r\nz\r\nM 31.78125 74.21875 \r\nQ 44.046875 74.21875 50.515625 64.515625 \r\nQ 56.984375 54.828125 56.984375 36.375 \r\nQ 56.984375 17.96875 50.515625 8.265625 \r\nQ 44.046875 -1.421875 31.78125 -1.421875 \r\nQ 19.53125 -1.421875 13.0625 8.265625 \r\nQ 6.59375 17.96875 6.59375 36.375 \r\nQ 6.59375 54.828125 13.0625 64.515625 \r\nQ 19.53125 74.21875 31.78125 74.21875 \r\nz\r\n\" id=\"DejaVuSans-48\"/>\r\n       </defs>\r\n       <use xlink:href=\"#DejaVuSans-48\"/>\r\n      </g>\r\n     </g>\r\n    </g>\r\n    <g id=\"xtick_2\">\r\n     <g id=\"line2d_2\">\r\n      <g>\r\n       <use style=\"stroke:#000000;stroke-width:0.8;\" x=\"104.933806\" xlink:href=\"#m0710538e0a\" y=\"224.64\"/>\r\n      </g>\r\n     </g>\r\n     <g id=\"text_2\">\r\n      <!-- 1 -->\r\n      <g transform=\"translate(101.752556 239.238437)scale(0.1 -0.1)\">\r\n       <defs>\r\n        <path d=\"M 12.40625 8.296875 \r\nL 28.515625 8.296875 \r\nL 28.515625 63.921875 \r\nL 10.984375 60.40625 \r\nL 10.984375 69.390625 \r\nL 28.421875 72.90625 \r\nL 38.28125 72.90625 \r\nL 38.28125 8.296875 \r\nL 54.390625 8.296875 \r\nL 54.390625 0 \r\nL 12.40625 0 \r\nz\r\n\" id=\"DejaVuSans-49\"/>\r\n       </defs>\r\n       <use xlink:href=\"#DejaVuSans-49\"/>\r\n      </g>\r\n     </g>\r\n    </g>\r\n    <g id=\"xtick_3\">\r\n     <g id=\"line2d_3\">\r\n      <g>\r\n       <use style=\"stroke:#000000;stroke-width:0.8;\" x=\"149.804117\" xlink:href=\"#m0710538e0a\" y=\"224.64\"/>\r\n      </g>\r\n     </g>\r\n     <g id=\"text_3\">\r\n      <!-- 2 -->\r\n      <g transform=\"translate(146.622867 239.238437)scale(0.1 -0.1)\">\r\n       <defs>\r\n        <path d=\"M 19.1875 8.296875 \r\nL 53.609375 8.296875 \r\nL 53.609375 0 \r\nL 7.328125 0 \r\nL 7.328125 8.296875 \r\nQ 12.9375 14.109375 22.625 23.890625 \r\nQ 32.328125 33.6875 34.8125 36.53125 \r\nQ 39.546875 41.84375 41.421875 45.53125 \r\nQ 43.3125 49.21875 43.3125 52.78125 \r\nQ 43.3125 58.59375 39.234375 62.25 \r\nQ 35.15625 65.921875 28.609375 65.921875 \r\nQ 23.96875 65.921875 18.8125 64.3125 \r\nQ 13.671875 62.703125 7.8125 59.421875 \r\nL 7.8125 69.390625 \r\nQ 13.765625 71.78125 18.9375 73 \r\nQ 24.125 74.21875 28.421875 74.21875 \r\nQ 39.75 74.21875 46.484375 68.546875 \r\nQ 53.21875 62.890625 53.21875 53.421875 \r\nQ 53.21875 48.921875 51.53125 44.890625 \r\nQ 49.859375 40.875 45.40625 35.40625 \r\nQ 44.1875 33.984375 37.640625 27.21875 \r\nQ 31.109375 20.453125 19.1875 8.296875 \r\nz\r\n\" id=\"DejaVuSans-50\"/>\r\n       </defs>\r\n       <use xlink:href=\"#DejaVuSans-50\"/>\r\n      </g>\r\n     </g>\r\n    </g>\r\n    <g id=\"xtick_4\">\r\n     <g id=\"line2d_4\">\r\n      <g>\r\n       <use style=\"stroke:#000000;stroke-width:0.8;\" x=\"194.674428\" xlink:href=\"#m0710538e0a\" y=\"224.64\"/>\r\n      </g>\r\n     </g>\r\n     <g id=\"text_4\">\r\n      <!-- 3 -->\r\n      <g transform=\"translate(191.493178 239.238437)scale(0.1 -0.1)\">\r\n       <defs>\r\n        <path d=\"M 40.578125 39.3125 \r\nQ 47.65625 37.796875 51.625 33 \r\nQ 55.609375 28.21875 55.609375 21.1875 \r\nQ 55.609375 10.40625 48.1875 4.484375 \r\nQ 40.765625 -1.421875 27.09375 -1.421875 \r\nQ 22.515625 -1.421875 17.65625 -0.515625 \r\nQ 12.796875 0.390625 7.625 2.203125 \r\nL 7.625 11.71875 \r\nQ 11.71875 9.328125 16.59375 8.109375 \r\nQ 21.484375 6.890625 26.8125 6.890625 \r\nQ 36.078125 6.890625 40.9375 10.546875 \r\nQ 45.796875 14.203125 45.796875 21.1875 \r\nQ 45.796875 27.640625 41.28125 31.265625 \r\nQ 36.765625 34.90625 28.71875 34.90625 \r\nL 20.21875 34.90625 \r\nL 20.21875 43.015625 \r\nL 29.109375 43.015625 \r\nQ 36.375 43.015625 40.234375 45.921875 \r\nQ 44.09375 48.828125 44.09375 54.296875 \r\nQ 44.09375 59.90625 40.109375 62.90625 \r\nQ 36.140625 65.921875 28.71875 65.921875 \r\nQ 24.65625 65.921875 20.015625 65.03125 \r\nQ 15.375 64.15625 9.8125 62.3125 \r\nL 9.8125 71.09375 \r\nQ 15.4375 72.65625 20.34375 73.4375 \r\nQ 25.25 74.21875 29.59375 74.21875 \r\nQ 40.828125 74.21875 47.359375 69.109375 \r\nQ 53.90625 64.015625 53.90625 55.328125 \r\nQ 53.90625 49.265625 50.4375 45.09375 \r\nQ 46.96875 40.921875 40.578125 39.3125 \r\nz\r\n\" id=\"DejaVuSans-51\"/>\r\n       </defs>\r\n       <use xlink:href=\"#DejaVuSans-51\"/>\r\n      </g>\r\n     </g>\r\n    </g>\r\n    <g id=\"xtick_5\">\r\n     <g id=\"line2d_5\">\r\n      <g>\r\n       <use style=\"stroke:#000000;stroke-width:0.8;\" x=\"239.54474\" xlink:href=\"#m0710538e0a\" y=\"224.64\"/>\r\n      </g>\r\n     </g>\r\n     <g id=\"text_5\">\r\n      <!-- 4 -->\r\n      <g transform=\"translate(236.36349 239.238437)scale(0.1 -0.1)\">\r\n       <defs>\r\n        <path d=\"M 37.796875 64.3125 \r\nL 12.890625 25.390625 \r\nL 37.796875 25.390625 \r\nz\r\nM 35.203125 72.90625 \r\nL 47.609375 72.90625 \r\nL 47.609375 25.390625 \r\nL 58.015625 25.390625 \r\nL 58.015625 17.1875 \r\nL 47.609375 17.1875 \r\nL 47.609375 0 \r\nL 37.796875 0 \r\nL 37.796875 17.1875 \r\nL 4.890625 17.1875 \r\nL 4.890625 26.703125 \r\nz\r\n\" id=\"DejaVuSans-52\"/>\r\n       </defs>\r\n       <use xlink:href=\"#DejaVuSans-52\"/>\r\n      </g>\r\n     </g>\r\n    </g>\r\n    <g id=\"xtick_6\">\r\n     <g id=\"line2d_6\">\r\n      <g>\r\n       <use style=\"stroke:#000000;stroke-width:0.8;\" x=\"284.415051\" xlink:href=\"#m0710538e0a\" y=\"224.64\"/>\r\n      </g>\r\n     </g>\r\n     <g id=\"text_6\">\r\n      <!-- 5 -->\r\n      <g transform=\"translate(281.233801 239.238437)scale(0.1 -0.1)\">\r\n       <defs>\r\n        <path d=\"M 10.796875 72.90625 \r\nL 49.515625 72.90625 \r\nL 49.515625 64.59375 \r\nL 19.828125 64.59375 \r\nL 19.828125 46.734375 \r\nQ 21.96875 47.46875 24.109375 47.828125 \r\nQ 26.265625 48.1875 28.421875 48.1875 \r\nQ 40.625 48.1875 47.75 41.5 \r\nQ 54.890625 34.8125 54.890625 23.390625 \r\nQ 54.890625 11.625 47.5625 5.09375 \r\nQ 40.234375 -1.421875 26.90625 -1.421875 \r\nQ 22.3125 -1.421875 17.546875 -0.640625 \r\nQ 12.796875 0.140625 7.71875 1.703125 \r\nL 7.71875 11.625 \r\nQ 12.109375 9.234375 16.796875 8.0625 \r\nQ 21.484375 6.890625 26.703125 6.890625 \r\nQ 35.15625 6.890625 40.078125 11.328125 \r\nQ 45.015625 15.765625 45.015625 23.390625 \r\nQ 45.015625 31 40.078125 35.4375 \r\nQ 35.15625 39.890625 26.703125 39.890625 \r\nQ 22.75 39.890625 18.8125 39.015625 \r\nQ 14.890625 38.140625 10.796875 36.28125 \r\nz\r\n\" id=\"DejaVuSans-53\"/>\r\n       </defs>\r\n       <use xlink:href=\"#DejaVuSans-53\"/>\r\n      </g>\r\n     </g>\r\n    </g>\r\n    <g id=\"xtick_7\">\r\n     <g id=\"line2d_7\">\r\n      <g>\r\n       <use style=\"stroke:#000000;stroke-width:0.8;\" x=\"329.285362\" xlink:href=\"#m0710538e0a\" y=\"224.64\"/>\r\n      </g>\r\n     </g>\r\n     <g id=\"text_7\">\r\n      <!-- 6 -->\r\n      <g transform=\"translate(326.104112 239.238437)scale(0.1 -0.1)\">\r\n       <defs>\r\n        <path d=\"M 33.015625 40.375 \r\nQ 26.375 40.375 22.484375 35.828125 \r\nQ 18.609375 31.296875 18.609375 23.390625 \r\nQ 18.609375 15.53125 22.484375 10.953125 \r\nQ 26.375 6.390625 33.015625 6.390625 \r\nQ 39.65625 6.390625 43.53125 10.953125 \r\nQ 47.40625 15.53125 47.40625 23.390625 \r\nQ 47.40625 31.296875 43.53125 35.828125 \r\nQ 39.65625 40.375 33.015625 40.375 \r\nz\r\nM 52.59375 71.296875 \r\nL 52.59375 62.3125 \r\nQ 48.875 64.0625 45.09375 64.984375 \r\nQ 41.3125 65.921875 37.59375 65.921875 \r\nQ 27.828125 65.921875 22.671875 59.328125 \r\nQ 17.53125 52.734375 16.796875 39.40625 \r\nQ 19.671875 43.65625 24.015625 45.921875 \r\nQ 28.375 48.1875 33.59375 48.1875 \r\nQ 44.578125 48.1875 50.953125 41.515625 \r\nQ 57.328125 34.859375 57.328125 23.390625 \r\nQ 57.328125 12.15625 50.6875 5.359375 \r\nQ 44.046875 -1.421875 33.015625 -1.421875 \r\nQ 20.359375 -1.421875 13.671875 8.265625 \r\nQ 6.984375 17.96875 6.984375 36.375 \r\nQ 6.984375 53.65625 15.1875 63.9375 \r\nQ 23.390625 74.21875 37.203125 74.21875 \r\nQ 40.921875 74.21875 44.703125 73.484375 \r\nQ 48.484375 72.75 52.59375 71.296875 \r\nz\r\n\" id=\"DejaVuSans-54\"/>\r\n       </defs>\r\n       <use xlink:href=\"#DejaVuSans-54\"/>\r\n      </g>\r\n     </g>\r\n    </g>\r\n    <g id=\"xtick_8\">\r\n     <g id=\"line2d_8\">\r\n      <g>\r\n       <use style=\"stroke:#000000;stroke-width:0.8;\" x=\"374.155673\" xlink:href=\"#m0710538e0a\" y=\"224.64\"/>\r\n      </g>\r\n     </g>\r\n     <g id=\"text_8\">\r\n      <!-- 7 -->\r\n      <g transform=\"translate(370.974423 239.238437)scale(0.1 -0.1)\">\r\n       <defs>\r\n        <path d=\"M 8.203125 72.90625 \r\nL 55.078125 72.90625 \r\nL 55.078125 68.703125 \r\nL 28.609375 0 \r\nL 18.3125 0 \r\nL 43.21875 64.59375 \r\nL 8.203125 64.59375 \r\nz\r\n\" id=\"DejaVuSans-55\"/>\r\n       </defs>\r\n       <use xlink:href=\"#DejaVuSans-55\"/>\r\n      </g>\r\n     </g>\r\n    </g>\r\n   </g>\r\n   <g id=\"matplotlib.axis_2\">\r\n    <g id=\"ytick_1\">\r\n     <g id=\"line2d_9\">\r\n      <defs>\r\n       <path d=\"M 0 0 \r\nL -3.5 0 \r\n\" id=\"m52c63e1bd0\" style=\"stroke:#000000;stroke-width:0.8;\"/>\r\n      </defs>\r\n      <g>\r\n       <use style=\"stroke:#000000;stroke-width:0.8;\" x=\"44.845313\" xlink:href=\"#m52c63e1bd0\" y=\"214.870525\"/>\r\n      </g>\r\n     </g>\r\n     <g id=\"text_9\">\r\n      <!-- −1.00 -->\r\n      <g transform=\"translate(7.2 218.669744)scale(0.1 -0.1)\">\r\n       <defs>\r\n        <path d=\"M 10.59375 35.5 \r\nL 73.1875 35.5 \r\nL 73.1875 27.203125 \r\nL 10.59375 27.203125 \r\nz\r\n\" id=\"DejaVuSans-8722\"/>\r\n        <path d=\"M 10.6875 12.40625 \r\nL 21 12.40625 \r\nL 21 0 \r\nL 10.6875 0 \r\nz\r\n\" id=\"DejaVuSans-46\"/>\r\n       </defs>\r\n       <use xlink:href=\"#DejaVuSans-8722\"/>\r\n       <use x=\"83.789062\" xlink:href=\"#DejaVuSans-49\"/>\r\n       <use x=\"147.412109\" xlink:href=\"#DejaVuSans-46\"/>\r\n       <use x=\"179.199219\" xlink:href=\"#DejaVuSans-48\"/>\r\n       <use x=\"242.822266\" xlink:href=\"#DejaVuSans-48\"/>\r\n      </g>\r\n     </g>\r\n    </g>\r\n    <g id=\"ytick_2\">\r\n     <g id=\"line2d_10\">\r\n      <g>\r\n       <use style=\"stroke:#000000;stroke-width:0.8;\" x=\"44.845313\" xlink:href=\"#m52c63e1bd0\" y=\"190.132894\"/>\r\n      </g>\r\n     </g>\r\n     <g id=\"text_10\">\r\n      <!-- −0.75 -->\r\n      <g transform=\"translate(7.2 193.932112)scale(0.1 -0.1)\">\r\n       <use xlink:href=\"#DejaVuSans-8722\"/>\r\n       <use x=\"83.789062\" xlink:href=\"#DejaVuSans-48\"/>\r\n       <use x=\"147.412109\" xlink:href=\"#DejaVuSans-46\"/>\r\n       <use x=\"179.199219\" xlink:href=\"#DejaVuSans-55\"/>\r\n       <use x=\"242.822266\" xlink:href=\"#DejaVuSans-53\"/>\r\n      </g>\r\n     </g>\r\n    </g>\r\n    <g id=\"ytick_3\">\r\n     <g id=\"line2d_11\">\r\n      <g>\r\n       <use style=\"stroke:#000000;stroke-width:0.8;\" x=\"44.845313\" xlink:href=\"#m52c63e1bd0\" y=\"165.395262\"/>\r\n      </g>\r\n     </g>\r\n     <g id=\"text_11\">\r\n      <!-- −0.50 -->\r\n      <g transform=\"translate(7.2 169.194481)scale(0.1 -0.1)\">\r\n       <use xlink:href=\"#DejaVuSans-8722\"/>\r\n       <use x=\"83.789062\" xlink:href=\"#DejaVuSans-48\"/>\r\n       <use x=\"147.412109\" xlink:href=\"#DejaVuSans-46\"/>\r\n       <use x=\"179.199219\" xlink:href=\"#DejaVuSans-53\"/>\r\n       <use x=\"242.822266\" xlink:href=\"#DejaVuSans-48\"/>\r\n      </g>\r\n     </g>\r\n    </g>\r\n    <g id=\"ytick_4\">\r\n     <g id=\"line2d_12\">\r\n      <g>\r\n       <use style=\"stroke:#000000;stroke-width:0.8;\" x=\"44.845313\" xlink:href=\"#m52c63e1bd0\" y=\"140.657631\"/>\r\n      </g>\r\n     </g>\r\n     <g id=\"text_12\">\r\n      <!-- −0.25 -->\r\n      <g transform=\"translate(7.2 144.45685)scale(0.1 -0.1)\">\r\n       <use xlink:href=\"#DejaVuSans-8722\"/>\r\n       <use x=\"83.789062\" xlink:href=\"#DejaVuSans-48\"/>\r\n       <use x=\"147.412109\" xlink:href=\"#DejaVuSans-46\"/>\r\n       <use x=\"179.199219\" xlink:href=\"#DejaVuSans-50\"/>\r\n       <use x=\"242.822266\" xlink:href=\"#DejaVuSans-53\"/>\r\n      </g>\r\n     </g>\r\n    </g>\r\n    <g id=\"ytick_5\">\r\n     <g id=\"line2d_13\">\r\n      <g>\r\n       <use style=\"stroke:#000000;stroke-width:0.8;\" x=\"44.845313\" xlink:href=\"#m52c63e1bd0\" y=\"115.92\"/>\r\n      </g>\r\n     </g>\r\n     <g id=\"text_13\">\r\n      <!-- 0.00 -->\r\n      <g transform=\"translate(15.579688 119.719219)scale(0.1 -0.1)\">\r\n       <use xlink:href=\"#DejaVuSans-48\"/>\r\n       <use x=\"63.623047\" xlink:href=\"#DejaVuSans-46\"/>\r\n       <use x=\"95.410156\" xlink:href=\"#DejaVuSans-48\"/>\r\n       <use x=\"159.033203\" xlink:href=\"#DejaVuSans-48\"/>\r\n      </g>\r\n     </g>\r\n    </g>\r\n    <g id=\"ytick_6\">\r\n     <g id=\"line2d_14\">\r\n      <g>\r\n       <use style=\"stroke:#000000;stroke-width:0.8;\" x=\"44.845313\" xlink:href=\"#m52c63e1bd0\" y=\"91.182369\"/>\r\n      </g>\r\n     </g>\r\n     <g id=\"text_14\">\r\n      <!-- 0.25 -->\r\n      <g transform=\"translate(15.579688 94.981588)scale(0.1 -0.1)\">\r\n       <use xlink:href=\"#DejaVuSans-48\"/>\r\n       <use x=\"63.623047\" xlink:href=\"#DejaVuSans-46\"/>\r\n       <use x=\"95.410156\" xlink:href=\"#DejaVuSans-50\"/>\r\n       <use x=\"159.033203\" xlink:href=\"#DejaVuSans-53\"/>\r\n      </g>\r\n     </g>\r\n    </g>\r\n    <g id=\"ytick_7\">\r\n     <g id=\"line2d_15\">\r\n      <g>\r\n       <use style=\"stroke:#000000;stroke-width:0.8;\" x=\"44.845313\" xlink:href=\"#m52c63e1bd0\" y=\"66.444738\"/>\r\n      </g>\r\n     </g>\r\n     <g id=\"text_15\">\r\n      <!-- 0.50 -->\r\n      <g transform=\"translate(15.579688 70.243956)scale(0.1 -0.1)\">\r\n       <use xlink:href=\"#DejaVuSans-48\"/>\r\n       <use x=\"63.623047\" xlink:href=\"#DejaVuSans-46\"/>\r\n       <use x=\"95.410156\" xlink:href=\"#DejaVuSans-53\"/>\r\n       <use x=\"159.033203\" xlink:href=\"#DejaVuSans-48\"/>\r\n      </g>\r\n     </g>\r\n    </g>\r\n    <g id=\"ytick_8\">\r\n     <g id=\"line2d_16\">\r\n      <g>\r\n       <use style=\"stroke:#000000;stroke-width:0.8;\" x=\"44.845313\" xlink:href=\"#m52c63e1bd0\" y=\"41.707106\"/>\r\n      </g>\r\n     </g>\r\n     <g id=\"text_16\">\r\n      <!-- 0.75 -->\r\n      <g transform=\"translate(15.579688 45.506325)scale(0.1 -0.1)\">\r\n       <use xlink:href=\"#DejaVuSans-48\"/>\r\n       <use x=\"63.623047\" xlink:href=\"#DejaVuSans-46\"/>\r\n       <use x=\"95.410156\" xlink:href=\"#DejaVuSans-55\"/>\r\n       <use x=\"159.033203\" xlink:href=\"#DejaVuSans-53\"/>\r\n      </g>\r\n     </g>\r\n    </g>\r\n    <g id=\"ytick_9\">\r\n     <g id=\"line2d_17\">\r\n      <g>\r\n       <use style=\"stroke:#000000;stroke-width:0.8;\" x=\"44.845313\" xlink:href=\"#m52c63e1bd0\" y=\"16.969475\"/>\r\n      </g>\r\n     </g>\r\n     <g id=\"text_17\">\r\n      <!-- 1.00 -->\r\n      <g transform=\"translate(15.579688 20.768694)scale(0.1 -0.1)\">\r\n       <use xlink:href=\"#DejaVuSans-49\"/>\r\n       <use x=\"63.623047\" xlink:href=\"#DejaVuSans-46\"/>\r\n       <use x=\"95.410156\" xlink:href=\"#DejaVuSans-48\"/>\r\n       <use x=\"159.033203\" xlink:href=\"#DejaVuSans-48\"/>\r\n      </g>\r\n     </g>\r\n    </g>\r\n   </g>\r\n   <g id=\"patch_3\">\r\n    <path d=\"M 44.845313 224.64 \r\nL 44.845313 7.2 \r\n\" style=\"fill:none;stroke:#000000;stroke-linecap:square;stroke-linejoin:miter;stroke-width:0.8;\"/>\r\n   </g>\r\n   <g id=\"patch_4\">\r\n    <path d=\"M 379.645313 224.64 \r\nL 379.645313 7.2 \r\n\" style=\"fill:none;stroke:#000000;stroke-linecap:square;stroke-linejoin:miter;stroke-width:0.8;\"/>\r\n   </g>\r\n   <g id=\"patch_5\">\r\n    <path d=\"M 44.845313 224.64 \r\nL 379.645312 224.64 \r\n\" style=\"fill:none;stroke:#000000;stroke-linecap:square;stroke-linejoin:miter;stroke-width:0.8;\"/>\r\n   </g>\r\n   <g id=\"patch_6\">\r\n    <path d=\"M 44.845313 7.2 \r\nL 379.645312 7.2 \r\n\" style=\"fill:none;stroke:#000000;stroke-linecap:square;stroke-linejoin:miter;stroke-width:0.8;\"/>\r\n   </g>\r\n  </g>\r\n </g>\r\n <defs>\r\n  <clipPath id=\"pe7a5b7f6a3\">\r\n   <rect height=\"217.44\" width=\"334.8\" x=\"44.845313\" y=\"7.2\"/>\r\n  </clipPath>\r\n </defs>\r\n</svg>\r\n",
      "image/png": "[encoded data removed]"
     },
     "metadata": {
      "needs_background": "light"
     }
    }
   ],
   "metadata": {}
  },
  {
   "cell_type": "code",
   "execution_count": 6,
   "source": [
    "# EXAMPLE FUNCTION\r\n",
    "f2__a = 0\r\n",
    "f2__b = 3 * np.pi\r\n",
    "f2__r = 3\r\n",
    "f2__rho = 10e-4\r\n",
    "\r\n",
    "def f2(x):\r\n",
    "    def raw_f(x):\r\n",
    "        if 0 <= x < np.pi:\r\n",
    "            return np.sin(x)\r\n",
    "        if np.pi <= x <= 3 * np.pi:\r\n",
    "            return np.sin(x - np.pi)\r\n",
    "\r\n",
    "    if isinstance(x, (list, np.ndarray)):\r\n",
    "        return [raw_f(elem) for elem in x]\r\n",
    "    elif isinstance(x, (float, np.float64)):\r\n",
    "        return raw_f(x)\r\n",
    "    \r\n",
    "    raise Exception(\"x has to be list or float\")"
   ],
   "outputs": [],
   "metadata": {}
  },
  {
   "cell_type": "code",
   "execution_count": 7,
   "source": [
    "mesh = np.linspace(f2__a, f2__b, 50, dtype='float64')\r\n",
    "plt.scatter(mesh, f2(mesh))"
   ],
   "outputs": [
    {
     "output_type": "execute_result",
     "data": {
      "text/plain": [
       "<matplotlib.collections.PathCollection at 0x16a79e7f550>"
      ]
     },
     "metadata": {},
     "execution_count": 7
    },
    {
     "output_type": "display_data",
     "data": {
      "text/plain": [
       "<Figure size 432x288 with 1 Axes>"
      ],
      "image/svg+xml": "<?xml version=\"1.0\" encoding=\"utf-8\" standalone=\"no\"?>\r\n<!DOCTYPE svg PUBLIC \"-//W3C//DTD SVG 1.1//EN\"\r\n  \"http://www.w3.org/Graphics/SVG/1.1/DTD/svg11.dtd\">\r\n<!-- Created with matplotlib (https://matplotlib.org/) -->\r\n<svg height=\"248.518125pt\" version=\"1.1\" viewBox=\"0 0 386.845313 248.518125\" width=\"386.845313pt\" xmlns=\"http://www.w3.org/2000/svg\" xmlns:xlink=\"http://www.w3.org/1999/xlink\">\r\n <metadata>\r\n  <rdf:RDF xmlns:cc=\"http://creativecommons.org/ns#\" xmlns:dc=\"http://purl.org/dc/elements/1.1/\" xmlns:rdf=\"http://www.w3.org/1999/02/22-rdf-syntax-ns#\">\r\n   <cc:Work>\r\n    <dc:type rdf:resource=\"http://purl.org/dc/dcmitype/StillImage\"/>\r\n    <dc:date>2021-08-28T13:53:21.575999</dc:date>\r\n    <dc:format>image/svg+xml</dc:format>\r\n    <dc:creator>\r\n     <cc:Agent>\r\n      <dc:title>Matplotlib v3.3.2, https://matplotlib.org/</dc:title>\r\n     </cc:Agent>\r\n    </dc:creator>\r\n   </cc:Work>\r\n  </rdf:RDF>\r\n </metadata>\r\n <defs>\r\n  <style type=\"text/css\">*{stroke-linecap:butt;stroke-linejoin:round;}</style>\r\n </defs>\r\n <g id=\"figure_1\">\r\n  <g id=\"patch_1\">\r\n   <path d=\"M 0 248.518125 \r\nL 386.845313 248.518125 \r\nL 386.845313 0 \r\nL 0 0 \r\nz\r\n\" style=\"fill:none;\"/>\r\n  </g>\r\n  <g id=\"axes_1\">\r\n   <g id=\"patch_2\">\r\n    <path d=\"M 44.845313 224.64 \r\nL 379.645313 224.64 \r\nL 379.645313 7.2 \r\nL 44.845313 7.2 \r\nz\r\n\" style=\"fill:#ffffff;\"/>\r\n   </g>\r\n   <g id=\"PathCollection_1\">\r\n    <defs>\r\n     <path d=\"M 0 3 \r\nC 0.795609 3 1.55874 2.683901 2.12132 2.12132 \r\nC 2.683901 1.55874 3 0.795609 3 0 \r\nC 3 -0.795609 2.683901 -1.55874 2.12132 -2.12132 \r\nC 1.55874 -2.683901 0.795609 -3 0 -3 \r\nC -0.795609 -3 -1.55874 -2.683901 -2.12132 -2.12132 \r\nC -2.683901 -1.55874 -3 -0.795609 -3 0 \r\nC -3 0.795609 -2.683901 1.55874 -2.12132 2.12132 \r\nC -1.55874 2.683901 -0.795609 3 0 3 \r\nz\r\n\" id=\"mca5d5677a3\" style=\"stroke:#1f77b4;\"/>\r\n    </defs>\r\n    <g clip-path=\"url(#p5733356547)\">\r\n     <use style=\"fill:#1f77b4;stroke:#1f77b4;\" x=\"60.063494\" xlink:href=\"#mca5d5677a3\" y=\"115.92\"/>\r\n     <use style=\"fill:#1f77b4;stroke:#1f77b4;\" x=\"66.274997\" xlink:href=\"#mca5d5677a3\" y=\"97.016864\"/>\r\n     <use style=\"fill:#1f77b4;stroke:#1f77b4;\" x=\"72.4865\" xlink:href=\"#mca5d5677a3\" y=\"78.810908\"/>\r\n     <use style=\"fill:#1f77b4;stroke:#1f77b4;\" x=\"78.698003\" xlink:href=\"#mca5d5677a3\" y=\"61.973597\"/>\r\n     <use style=\"fill:#1f77b4;stroke:#1f77b4;\" x=\"84.909505\" xlink:href=\"#mca5d5677a3\" y=\"47.125921\"/>\r\n     <use style=\"fill:#1f77b4;stroke:#1f77b4;\" x=\"91.121008\" xlink:href=\"#mca5d5677a3\" y=\"34.815487\"/>\r\n     <use style=\"fill:#1f77b4;stroke:#1f77b4;\" x=\"97.332511\" xlink:href=\"#mca5d5677a3\" y=\"25.496323\"/>\r\n     <use style=\"fill:#1f77b4;stroke:#1f77b4;\" x=\"103.544014\" xlink:href=\"#mca5d5677a3\" y=\"19.512138\"/>\r\n     <use style=\"fill:#1f77b4;stroke:#1f77b4;\" x=\"109.755517\" xlink:href=\"#mca5d5677a3\" y=\"17.083636\"/>\r\n     <use style=\"fill:#1f77b4;stroke:#1f77b4;\" x=\"115.967019\" xlink:href=\"#mca5d5677a3\" y=\"18.300387\"/>\r\n     <use style=\"fill:#1f77b4;stroke:#1f77b4;\" x=\"122.178522\" xlink:href=\"#mca5d5677a3\" y=\"23.117513\"/>\r\n     <use style=\"fill:#1f77b4;stroke:#1f77b4;\" x=\"128.390025\" xlink:href=\"#mca5d5677a3\" y=\"31.357352\"/>\r\n     <use style=\"fill:#1f77b4;stroke:#1f77b4;\" x=\"134.601528\" xlink:href=\"#mca5d5677a3\" y=\"42.716004\"/>\r\n     <use style=\"fill:#1f77b4;stroke:#1f77b4;\" x=\"140.81303\" xlink:href=\"#mca5d5677a3\" y=\"56.774542\"/>\r\n     <use style=\"fill:#1f77b4;stroke:#1f77b4;\" x=\"147.024533\" xlink:href=\"#mca5d5677a3\" y=\"73.014465\"/>\r\n     <use style=\"fill:#1f77b4;stroke:#1f77b4;\" x=\"153.236036\" xlink:href=\"#mca5d5677a3\" y=\"90.836816\"/>\r\n     <use style=\"fill:#1f77b4;stroke:#1f77b4;\" x=\"159.447539\" xlink:href=\"#mca5d5677a3\" y=\"109.584277\"/>\r\n     <use style=\"fill:#1f77b4;stroke:#1f77b4;\" x=\"165.659042\" xlink:href=\"#mca5d5677a3\" y=\"103.274589\"/>\r\n     <use style=\"fill:#1f77b4;stroke:#1f77b4;\" x=\"171.870544\" xlink:href=\"#mca5d5677a3\" y=\"84.75984\"/>\r\n     <use style=\"fill:#1f77b4;stroke:#1f77b4;\" x=\"178.082047\" xlink:href=\"#mca5d5677a3\" y=\"67.39433\"/>\r\n     <use style=\"fill:#1f77b4;stroke:#1f77b4;\" x=\"184.29355\" xlink:href=\"#mca5d5677a3\" y=\"51.818528\"/>\r\n     <use style=\"fill:#1f77b4;stroke:#1f77b4;\" x=\"190.505053\" xlink:href=\"#mca5d5677a3\" y=\"38.606897\"/>\r\n     <use style=\"fill:#1f77b4;stroke:#1f77b4;\" x=\"196.716556\" xlink:href=\"#mca5d5677a3\" y=\"28.246703\"/>\r\n     <use style=\"fill:#1f77b4;stroke:#1f77b4;\" x=\"202.928058\" xlink:href=\"#mca5d5677a3\" y=\"21.120049\"/>\r\n     <use style=\"fill:#1f77b4;stroke:#1f77b4;\" x=\"209.139561\" xlink:href=\"#mca5d5677a3\" y=\"17.489776\"/>\r\n     <use style=\"fill:#1f77b4;stroke:#1f77b4;\" x=\"215.351064\" xlink:href=\"#mca5d5677a3\" y=\"17.489776\"/>\r\n     <use style=\"fill:#1f77b4;stroke:#1f77b4;\" x=\"221.562567\" xlink:href=\"#mca5d5677a3\" y=\"21.120049\"/>\r\n     <use style=\"fill:#1f77b4;stroke:#1f77b4;\" x=\"227.774069\" xlink:href=\"#mca5d5677a3\" y=\"28.246703\"/>\r\n     <use style=\"fill:#1f77b4;stroke:#1f77b4;\" x=\"233.985572\" xlink:href=\"#mca5d5677a3\" y=\"38.606897\"/>\r\n     <use style=\"fill:#1f77b4;stroke:#1f77b4;\" x=\"240.197075\" xlink:href=\"#mca5d5677a3\" y=\"51.818528\"/>\r\n     <use style=\"fill:#1f77b4;stroke:#1f77b4;\" x=\"246.408578\" xlink:href=\"#mca5d5677a3\" y=\"67.39433\"/>\r\n     <use style=\"fill:#1f77b4;stroke:#1f77b4;\" x=\"252.620081\" xlink:href=\"#mca5d5677a3\" y=\"84.75984\"/>\r\n     <use style=\"fill:#1f77b4;stroke:#1f77b4;\" x=\"258.831583\" xlink:href=\"#mca5d5677a3\" y=\"103.274589\"/>\r\n     <use style=\"fill:#1f77b4;stroke:#1f77b4;\" x=\"265.043086\" xlink:href=\"#mca5d5677a3\" y=\"122.255723\"/>\r\n     <use style=\"fill:#1f77b4;stroke:#1f77b4;\" x=\"271.254589\" xlink:href=\"#mca5d5677a3\" y=\"141.003184\"/>\r\n     <use style=\"fill:#1f77b4;stroke:#1f77b4;\" x=\"277.466092\" xlink:href=\"#mca5d5677a3\" y=\"158.825535\"/>\r\n     <use style=\"fill:#1f77b4;stroke:#1f77b4;\" x=\"283.677595\" xlink:href=\"#mca5d5677a3\" y=\"175.065458\"/>\r\n     <use style=\"fill:#1f77b4;stroke:#1f77b4;\" x=\"289.889097\" xlink:href=\"#mca5d5677a3\" y=\"189.123996\"/>\r\n     <use style=\"fill:#1f77b4;stroke:#1f77b4;\" x=\"296.1006\" xlink:href=\"#mca5d5677a3\" y=\"200.482648\"/>\r\n     <use style=\"fill:#1f77b4;stroke:#1f77b4;\" x=\"302.312103\" xlink:href=\"#mca5d5677a3\" y=\"208.722487\"/>\r\n     <use style=\"fill:#1f77b4;stroke:#1f77b4;\" x=\"308.523606\" xlink:href=\"#mca5d5677a3\" y=\"213.539613\"/>\r\n     <use style=\"fill:#1f77b4;stroke:#1f77b4;\" x=\"314.735108\" xlink:href=\"#mca5d5677a3\" y=\"214.756364\"/>\r\n     <use style=\"fill:#1f77b4;stroke:#1f77b4;\" x=\"320.946611\" xlink:href=\"#mca5d5677a3\" y=\"212.327862\"/>\r\n     <use style=\"fill:#1f77b4;stroke:#1f77b4;\" x=\"327.158114\" xlink:href=\"#mca5d5677a3\" y=\"206.343677\"/>\r\n     <use style=\"fill:#1f77b4;stroke:#1f77b4;\" x=\"333.369617\" xlink:href=\"#mca5d5677a3\" y=\"197.024513\"/>\r\n     <use style=\"fill:#1f77b4;stroke:#1f77b4;\" x=\"339.58112\" xlink:href=\"#mca5d5677a3\" y=\"184.714079\"/>\r\n     <use style=\"fill:#1f77b4;stroke:#1f77b4;\" x=\"345.792622\" xlink:href=\"#mca5d5677a3\" y=\"169.866403\"/>\r\n     <use style=\"fill:#1f77b4;stroke:#1f77b4;\" x=\"352.004125\" xlink:href=\"#mca5d5677a3\" y=\"153.029092\"/>\r\n     <use style=\"fill:#1f77b4;stroke:#1f77b4;\" x=\"358.215628\" xlink:href=\"#mca5d5677a3\" y=\"134.823136\"/>\r\n     <use style=\"fill:#1f77b4;stroke:#1f77b4;\" x=\"364.427131\" xlink:href=\"#mca5d5677a3\" y=\"115.92\"/>\r\n    </g>\r\n   </g>\r\n   <g id=\"matplotlib.axis_1\">\r\n    <g id=\"xtick_1\">\r\n     <g id=\"line2d_1\">\r\n      <defs>\r\n       <path d=\"M 0 0 \r\nL 0 3.5 \r\n\" id=\"m31e7cf7efc\" style=\"stroke:#000000;stroke-width:0.8;\"/>\r\n      </defs>\r\n      <g>\r\n       <use style=\"stroke:#000000;stroke-width:0.8;\" x=\"60.063494\" xlink:href=\"#m31e7cf7efc\" y=\"224.64\"/>\r\n      </g>\r\n     </g>\r\n     <g id=\"text_1\">\r\n      <!-- 0 -->\r\n      <g transform=\"translate(56.882244 239.238437)scale(0.1 -0.1)\">\r\n       <defs>\r\n        <path d=\"M 31.78125 66.40625 \r\nQ 24.171875 66.40625 20.328125 58.90625 \r\nQ 16.5 51.421875 16.5 36.375 \r\nQ 16.5 21.390625 20.328125 13.890625 \r\nQ 24.171875 6.390625 31.78125 6.390625 \r\nQ 39.453125 6.390625 43.28125 13.890625 \r\nQ 47.125 21.390625 47.125 36.375 \r\nQ 47.125 51.421875 43.28125 58.90625 \r\nQ 39.453125 66.40625 31.78125 66.40625 \r\nz\r\nM 31.78125 74.21875 \r\nQ 44.046875 74.21875 50.515625 64.515625 \r\nQ 56.984375 54.828125 56.984375 36.375 \r\nQ 56.984375 17.96875 50.515625 8.265625 \r\nQ 44.046875 -1.421875 31.78125 -1.421875 \r\nQ 19.53125 -1.421875 13.0625 8.265625 \r\nQ 6.59375 17.96875 6.59375 36.375 \r\nQ 6.59375 54.828125 13.0625 64.515625 \r\nQ 19.53125 74.21875 31.78125 74.21875 \r\nz\r\n\" id=\"DejaVuSans-48\"/>\r\n       </defs>\r\n       <use xlink:href=\"#DejaVuSans-48\"/>\r\n      </g>\r\n     </g>\r\n    </g>\r\n    <g id=\"xtick_2\">\r\n     <g id=\"line2d_2\">\r\n      <g>\r\n       <use style=\"stroke:#000000;stroke-width:0.8;\" x=\"124.651464\" xlink:href=\"#m31e7cf7efc\" y=\"224.64\"/>\r\n      </g>\r\n     </g>\r\n     <g id=\"text_2\">\r\n      <!-- 2 -->\r\n      <g transform=\"translate(121.470214 239.238437)scale(0.1 -0.1)\">\r\n       <defs>\r\n        <path d=\"M 19.1875 8.296875 \r\nL 53.609375 8.296875 \r\nL 53.609375 0 \r\nL 7.328125 0 \r\nL 7.328125 8.296875 \r\nQ 12.9375 14.109375 22.625 23.890625 \r\nQ 32.328125 33.6875 34.8125 36.53125 \r\nQ 39.546875 41.84375 41.421875 45.53125 \r\nQ 43.3125 49.21875 43.3125 52.78125 \r\nQ 43.3125 58.59375 39.234375 62.25 \r\nQ 35.15625 65.921875 28.609375 65.921875 \r\nQ 23.96875 65.921875 18.8125 64.3125 \r\nQ 13.671875 62.703125 7.8125 59.421875 \r\nL 7.8125 69.390625 \r\nQ 13.765625 71.78125 18.9375 73 \r\nQ 24.125 74.21875 28.421875 74.21875 \r\nQ 39.75 74.21875 46.484375 68.546875 \r\nQ 53.21875 62.890625 53.21875 53.421875 \r\nQ 53.21875 48.921875 51.53125 44.890625 \r\nQ 49.859375 40.875 45.40625 35.40625 \r\nQ 44.1875 33.984375 37.640625 27.21875 \r\nQ 31.109375 20.453125 19.1875 8.296875 \r\nz\r\n\" id=\"DejaVuSans-50\"/>\r\n       </defs>\r\n       <use xlink:href=\"#DejaVuSans-50\"/>\r\n      </g>\r\n     </g>\r\n    </g>\r\n    <g id=\"xtick_3\">\r\n     <g id=\"line2d_3\">\r\n      <g>\r\n       <use style=\"stroke:#000000;stroke-width:0.8;\" x=\"189.239434\" xlink:href=\"#m31e7cf7efc\" y=\"224.64\"/>\r\n      </g>\r\n     </g>\r\n     <g id=\"text_3\">\r\n      <!-- 4 -->\r\n      <g transform=\"translate(186.058184 239.238437)scale(0.1 -0.1)\">\r\n       <defs>\r\n        <path d=\"M 37.796875 64.3125 \r\nL 12.890625 25.390625 \r\nL 37.796875 25.390625 \r\nz\r\nM 35.203125 72.90625 \r\nL 47.609375 72.90625 \r\nL 47.609375 25.390625 \r\nL 58.015625 25.390625 \r\nL 58.015625 17.1875 \r\nL 47.609375 17.1875 \r\nL 47.609375 0 \r\nL 37.796875 0 \r\nL 37.796875 17.1875 \r\nL 4.890625 17.1875 \r\nL 4.890625 26.703125 \r\nz\r\n\" id=\"DejaVuSans-52\"/>\r\n       </defs>\r\n       <use xlink:href=\"#DejaVuSans-52\"/>\r\n      </g>\r\n     </g>\r\n    </g>\r\n    <g id=\"xtick_4\">\r\n     <g id=\"line2d_4\">\r\n      <g>\r\n       <use style=\"stroke:#000000;stroke-width:0.8;\" x=\"253.827403\" xlink:href=\"#m31e7cf7efc\" y=\"224.64\"/>\r\n      </g>\r\n     </g>\r\n     <g id=\"text_4\">\r\n      <!-- 6 -->\r\n      <g transform=\"translate(250.646153 239.238437)scale(0.1 -0.1)\">\r\n       <defs>\r\n        <path d=\"M 33.015625 40.375 \r\nQ 26.375 40.375 22.484375 35.828125 \r\nQ 18.609375 31.296875 18.609375 23.390625 \r\nQ 18.609375 15.53125 22.484375 10.953125 \r\nQ 26.375 6.390625 33.015625 6.390625 \r\nQ 39.65625 6.390625 43.53125 10.953125 \r\nQ 47.40625 15.53125 47.40625 23.390625 \r\nQ 47.40625 31.296875 43.53125 35.828125 \r\nQ 39.65625 40.375 33.015625 40.375 \r\nz\r\nM 52.59375 71.296875 \r\nL 52.59375 62.3125 \r\nQ 48.875 64.0625 45.09375 64.984375 \r\nQ 41.3125 65.921875 37.59375 65.921875 \r\nQ 27.828125 65.921875 22.671875 59.328125 \r\nQ 17.53125 52.734375 16.796875 39.40625 \r\nQ 19.671875 43.65625 24.015625 45.921875 \r\nQ 28.375 48.1875 33.59375 48.1875 \r\nQ 44.578125 48.1875 50.953125 41.515625 \r\nQ 57.328125 34.859375 57.328125 23.390625 \r\nQ 57.328125 12.15625 50.6875 5.359375 \r\nQ 44.046875 -1.421875 33.015625 -1.421875 \r\nQ 20.359375 -1.421875 13.671875 8.265625 \r\nQ 6.984375 17.96875 6.984375 36.375 \r\nQ 6.984375 53.65625 15.1875 63.9375 \r\nQ 23.390625 74.21875 37.203125 74.21875 \r\nQ 40.921875 74.21875 44.703125 73.484375 \r\nQ 48.484375 72.75 52.59375 71.296875 \r\nz\r\n\" id=\"DejaVuSans-54\"/>\r\n       </defs>\r\n       <use xlink:href=\"#DejaVuSans-54\"/>\r\n      </g>\r\n     </g>\r\n    </g>\r\n    <g id=\"xtick_5\">\r\n     <g id=\"line2d_5\">\r\n      <g>\r\n       <use style=\"stroke:#000000;stroke-width:0.8;\" x=\"318.415373\" xlink:href=\"#m31e7cf7efc\" y=\"224.64\"/>\r\n      </g>\r\n     </g>\r\n     <g id=\"text_5\">\r\n      <!-- 8 -->\r\n      <g transform=\"translate(315.234123 239.238437)scale(0.1 -0.1)\">\r\n       <defs>\r\n        <path d=\"M 31.78125 34.625 \r\nQ 24.75 34.625 20.71875 30.859375 \r\nQ 16.703125 27.09375 16.703125 20.515625 \r\nQ 16.703125 13.921875 20.71875 10.15625 \r\nQ 24.75 6.390625 31.78125 6.390625 \r\nQ 38.8125 6.390625 42.859375 10.171875 \r\nQ 46.921875 13.96875 46.921875 20.515625 \r\nQ 46.921875 27.09375 42.890625 30.859375 \r\nQ 38.875 34.625 31.78125 34.625 \r\nz\r\nM 21.921875 38.8125 \r\nQ 15.578125 40.375 12.03125 44.71875 \r\nQ 8.5 49.078125 8.5 55.328125 \r\nQ 8.5 64.0625 14.71875 69.140625 \r\nQ 20.953125 74.21875 31.78125 74.21875 \r\nQ 42.671875 74.21875 48.875 69.140625 \r\nQ 55.078125 64.0625 55.078125 55.328125 \r\nQ 55.078125 49.078125 51.53125 44.71875 \r\nQ 48 40.375 41.703125 38.8125 \r\nQ 48.828125 37.15625 52.796875 32.3125 \r\nQ 56.78125 27.484375 56.78125 20.515625 \r\nQ 56.78125 9.90625 50.3125 4.234375 \r\nQ 43.84375 -1.421875 31.78125 -1.421875 \r\nQ 19.734375 -1.421875 13.25 4.234375 \r\nQ 6.78125 9.90625 6.78125 20.515625 \r\nQ 6.78125 27.484375 10.78125 32.3125 \r\nQ 14.796875 37.15625 21.921875 38.8125 \r\nz\r\nM 18.3125 54.390625 \r\nQ 18.3125 48.734375 21.84375 45.5625 \r\nQ 25.390625 42.390625 31.78125 42.390625 \r\nQ 38.140625 42.390625 41.71875 45.5625 \r\nQ 45.3125 48.734375 45.3125 54.390625 \r\nQ 45.3125 60.0625 41.71875 63.234375 \r\nQ 38.140625 66.40625 31.78125 66.40625 \r\nQ 25.390625 66.40625 21.84375 63.234375 \r\nQ 18.3125 60.0625 18.3125 54.390625 \r\nz\r\n\" id=\"DejaVuSans-56\"/>\r\n       </defs>\r\n       <use xlink:href=\"#DejaVuSans-56\"/>\r\n      </g>\r\n     </g>\r\n    </g>\r\n   </g>\r\n   <g id=\"matplotlib.axis_2\">\r\n    <g id=\"ytick_1\">\r\n     <g id=\"line2d_6\">\r\n      <defs>\r\n       <path d=\"M 0 0 \r\nL -3.5 0 \r\n\" id=\"me2331e5d7b\" style=\"stroke:#000000;stroke-width:0.8;\"/>\r\n      </defs>\r\n      <g>\r\n       <use style=\"stroke:#000000;stroke-width:0.8;\" x=\"44.845313\" xlink:href=\"#me2331e5d7b\" y=\"214.80717\"/>\r\n      </g>\r\n     </g>\r\n     <g id=\"text_6\">\r\n      <!-- −1.00 -->\r\n      <g transform=\"translate(7.2 218.606389)scale(0.1 -0.1)\">\r\n       <defs>\r\n        <path d=\"M 10.59375 35.5 \r\nL 73.1875 35.5 \r\nL 73.1875 27.203125 \r\nL 10.59375 27.203125 \r\nz\r\n\" id=\"DejaVuSans-8722\"/>\r\n        <path d=\"M 12.40625 8.296875 \r\nL 28.515625 8.296875 \r\nL 28.515625 63.921875 \r\nL 10.984375 60.40625 \r\nL 10.984375 69.390625 \r\nL 28.421875 72.90625 \r\nL 38.28125 72.90625 \r\nL 38.28125 8.296875 \r\nL 54.390625 8.296875 \r\nL 54.390625 0 \r\nL 12.40625 0 \r\nz\r\n\" id=\"DejaVuSans-49\"/>\r\n        <path d=\"M 10.6875 12.40625 \r\nL 21 12.40625 \r\nL 21 0 \r\nL 10.6875 0 \r\nz\r\n\" id=\"DejaVuSans-46\"/>\r\n       </defs>\r\n       <use xlink:href=\"#DejaVuSans-8722\"/>\r\n       <use x=\"83.789062\" xlink:href=\"#DejaVuSans-49\"/>\r\n       <use x=\"147.412109\" xlink:href=\"#DejaVuSans-46\"/>\r\n       <use x=\"179.199219\" xlink:href=\"#DejaVuSans-48\"/>\r\n       <use x=\"242.822266\" xlink:href=\"#DejaVuSans-48\"/>\r\n      </g>\r\n     </g>\r\n    </g>\r\n    <g id=\"ytick_2\">\r\n     <g id=\"line2d_7\">\r\n      <g>\r\n       <use style=\"stroke:#000000;stroke-width:0.8;\" x=\"44.845313\" xlink:href=\"#me2331e5d7b\" y=\"190.085378\"/>\r\n      </g>\r\n     </g>\r\n     <g id=\"text_7\">\r\n      <!-- −0.75 -->\r\n      <g transform=\"translate(7.2 193.884596)scale(0.1 -0.1)\">\r\n       <defs>\r\n        <path d=\"M 8.203125 72.90625 \r\nL 55.078125 72.90625 \r\nL 55.078125 68.703125 \r\nL 28.609375 0 \r\nL 18.3125 0 \r\nL 43.21875 64.59375 \r\nL 8.203125 64.59375 \r\nz\r\n\" id=\"DejaVuSans-55\"/>\r\n        <path d=\"M 10.796875 72.90625 \r\nL 49.515625 72.90625 \r\nL 49.515625 64.59375 \r\nL 19.828125 64.59375 \r\nL 19.828125 46.734375 \r\nQ 21.96875 47.46875 24.109375 47.828125 \r\nQ 26.265625 48.1875 28.421875 48.1875 \r\nQ 40.625 48.1875 47.75 41.5 \r\nQ 54.890625 34.8125 54.890625 23.390625 \r\nQ 54.890625 11.625 47.5625 5.09375 \r\nQ 40.234375 -1.421875 26.90625 -1.421875 \r\nQ 22.3125 -1.421875 17.546875 -0.640625 \r\nQ 12.796875 0.140625 7.71875 1.703125 \r\nL 7.71875 11.625 \r\nQ 12.109375 9.234375 16.796875 8.0625 \r\nQ 21.484375 6.890625 26.703125 6.890625 \r\nQ 35.15625 6.890625 40.078125 11.328125 \r\nQ 45.015625 15.765625 45.015625 23.390625 \r\nQ 45.015625 31 40.078125 35.4375 \r\nQ 35.15625 39.890625 26.703125 39.890625 \r\nQ 22.75 39.890625 18.8125 39.015625 \r\nQ 14.890625 38.140625 10.796875 36.28125 \r\nz\r\n\" id=\"DejaVuSans-53\"/>\r\n       </defs>\r\n       <use xlink:href=\"#DejaVuSans-8722\"/>\r\n       <use x=\"83.789062\" xlink:href=\"#DejaVuSans-48\"/>\r\n       <use x=\"147.412109\" xlink:href=\"#DejaVuSans-46\"/>\r\n       <use x=\"179.199219\" xlink:href=\"#DejaVuSans-55\"/>\r\n       <use x=\"242.822266\" xlink:href=\"#DejaVuSans-53\"/>\r\n      </g>\r\n     </g>\r\n    </g>\r\n    <g id=\"ytick_3\">\r\n     <g id=\"line2d_8\">\r\n      <g>\r\n       <use style=\"stroke:#000000;stroke-width:0.8;\" x=\"44.845313\" xlink:href=\"#me2331e5d7b\" y=\"165.363585\"/>\r\n      </g>\r\n     </g>\r\n     <g id=\"text_8\">\r\n      <!-- −0.50 -->\r\n      <g transform=\"translate(7.2 169.162804)scale(0.1 -0.1)\">\r\n       <use xlink:href=\"#DejaVuSans-8722\"/>\r\n       <use x=\"83.789062\" xlink:href=\"#DejaVuSans-48\"/>\r\n       <use x=\"147.412109\" xlink:href=\"#DejaVuSans-46\"/>\r\n       <use x=\"179.199219\" xlink:href=\"#DejaVuSans-53\"/>\r\n       <use x=\"242.822266\" xlink:href=\"#DejaVuSans-48\"/>\r\n      </g>\r\n     </g>\r\n    </g>\r\n    <g id=\"ytick_4\">\r\n     <g id=\"line2d_9\">\r\n      <g>\r\n       <use style=\"stroke:#000000;stroke-width:0.8;\" x=\"44.845313\" xlink:href=\"#me2331e5d7b\" y=\"140.641793\"/>\r\n      </g>\r\n     </g>\r\n     <g id=\"text_9\">\r\n      <!-- −0.25 -->\r\n      <g transform=\"translate(7.2 144.441011)scale(0.1 -0.1)\">\r\n       <use xlink:href=\"#DejaVuSans-8722\"/>\r\n       <use x=\"83.789062\" xlink:href=\"#DejaVuSans-48\"/>\r\n       <use x=\"147.412109\" xlink:href=\"#DejaVuSans-46\"/>\r\n       <use x=\"179.199219\" xlink:href=\"#DejaVuSans-50\"/>\r\n       <use x=\"242.822266\" xlink:href=\"#DejaVuSans-53\"/>\r\n      </g>\r\n     </g>\r\n    </g>\r\n    <g id=\"ytick_5\">\r\n     <g id=\"line2d_10\">\r\n      <g>\r\n       <use style=\"stroke:#000000;stroke-width:0.8;\" x=\"44.845313\" xlink:href=\"#me2331e5d7b\" y=\"115.92\"/>\r\n      </g>\r\n     </g>\r\n     <g id=\"text_10\">\r\n      <!-- 0.00 -->\r\n      <g transform=\"translate(15.579688 119.719219)scale(0.1 -0.1)\">\r\n       <use xlink:href=\"#DejaVuSans-48\"/>\r\n       <use x=\"63.623047\" xlink:href=\"#DejaVuSans-46\"/>\r\n       <use x=\"95.410156\" xlink:href=\"#DejaVuSans-48\"/>\r\n       <use x=\"159.033203\" xlink:href=\"#DejaVuSans-48\"/>\r\n      </g>\r\n     </g>\r\n    </g>\r\n    <g id=\"ytick_6\">\r\n     <g id=\"line2d_11\">\r\n      <g>\r\n       <use style=\"stroke:#000000;stroke-width:0.8;\" x=\"44.845313\" xlink:href=\"#me2331e5d7b\" y=\"91.198207\"/>\r\n      </g>\r\n     </g>\r\n     <g id=\"text_11\">\r\n      <!-- 0.25 -->\r\n      <g transform=\"translate(15.579688 94.997426)scale(0.1 -0.1)\">\r\n       <use xlink:href=\"#DejaVuSans-48\"/>\r\n       <use x=\"63.623047\" xlink:href=\"#DejaVuSans-46\"/>\r\n       <use x=\"95.410156\" xlink:href=\"#DejaVuSans-50\"/>\r\n       <use x=\"159.033203\" xlink:href=\"#DejaVuSans-53\"/>\r\n      </g>\r\n     </g>\r\n    </g>\r\n    <g id=\"ytick_7\">\r\n     <g id=\"line2d_12\">\r\n      <g>\r\n       <use style=\"stroke:#000000;stroke-width:0.8;\" x=\"44.845313\" xlink:href=\"#me2331e5d7b\" y=\"66.476415\"/>\r\n      </g>\r\n     </g>\r\n     <g id=\"text_12\">\r\n      <!-- 0.50 -->\r\n      <g transform=\"translate(15.579688 70.275634)scale(0.1 -0.1)\">\r\n       <use xlink:href=\"#DejaVuSans-48\"/>\r\n       <use x=\"63.623047\" xlink:href=\"#DejaVuSans-46\"/>\r\n       <use x=\"95.410156\" xlink:href=\"#DejaVuSans-53\"/>\r\n       <use x=\"159.033203\" xlink:href=\"#DejaVuSans-48\"/>\r\n      </g>\r\n     </g>\r\n    </g>\r\n    <g id=\"ytick_8\">\r\n     <g id=\"line2d_13\">\r\n      <g>\r\n       <use style=\"stroke:#000000;stroke-width:0.8;\" x=\"44.845313\" xlink:href=\"#me2331e5d7b\" y=\"41.754622\"/>\r\n      </g>\r\n     </g>\r\n     <g id=\"text_13\">\r\n      <!-- 0.75 -->\r\n      <g transform=\"translate(15.579688 45.553841)scale(0.1 -0.1)\">\r\n       <use xlink:href=\"#DejaVuSans-48\"/>\r\n       <use x=\"63.623047\" xlink:href=\"#DejaVuSans-46\"/>\r\n       <use x=\"95.410156\" xlink:href=\"#DejaVuSans-55\"/>\r\n       <use x=\"159.033203\" xlink:href=\"#DejaVuSans-53\"/>\r\n      </g>\r\n     </g>\r\n    </g>\r\n    <g id=\"ytick_9\">\r\n     <g id=\"line2d_14\">\r\n      <g>\r\n       <use style=\"stroke:#000000;stroke-width:0.8;\" x=\"44.845313\" xlink:href=\"#me2331e5d7b\" y=\"17.03283\"/>\r\n      </g>\r\n     </g>\r\n     <g id=\"text_14\">\r\n      <!-- 1.00 -->\r\n      <g transform=\"translate(15.579688 20.832048)scale(0.1 -0.1)\">\r\n       <use xlink:href=\"#DejaVuSans-49\"/>\r\n       <use x=\"63.623047\" xlink:href=\"#DejaVuSans-46\"/>\r\n       <use x=\"95.410156\" xlink:href=\"#DejaVuSans-48\"/>\r\n       <use x=\"159.033203\" xlink:href=\"#DejaVuSans-48\"/>\r\n      </g>\r\n     </g>\r\n    </g>\r\n   </g>\r\n   <g id=\"patch_3\">\r\n    <path d=\"M 44.845313 224.64 \r\nL 44.845313 7.2 \r\n\" style=\"fill:none;stroke:#000000;stroke-linecap:square;stroke-linejoin:miter;stroke-width:0.8;\"/>\r\n   </g>\r\n   <g id=\"patch_4\">\r\n    <path d=\"M 379.645313 224.64 \r\nL 379.645313 7.2 \r\n\" style=\"fill:none;stroke:#000000;stroke-linecap:square;stroke-linejoin:miter;stroke-width:0.8;\"/>\r\n   </g>\r\n   <g id=\"patch_5\">\r\n    <path d=\"M 44.845313 224.64 \r\nL 379.645313 224.64 \r\n\" style=\"fill:none;stroke:#000000;stroke-linecap:square;stroke-linejoin:miter;stroke-width:0.8;\"/>\r\n   </g>\r\n   <g id=\"patch_6\">\r\n    <path d=\"M 44.845313 7.2 \r\nL 379.645313 7.2 \r\n\" style=\"fill:none;stroke:#000000;stroke-linecap:square;stroke-linejoin:miter;stroke-width:0.8;\"/>\r\n   </g>\r\n  </g>\r\n </g>\r\n <defs>\r\n  <clipPath id=\"p5733356547\">\r\n   <rect height=\"217.44\" width=\"334.8\" x=\"44.845313\" y=\"7.2\"/>\r\n  </clipPath>\r\n </defs>\r\n</svg>\r\n",
      "image/png": "[encoded data removed]"
     },
     "metadata": {
      "needs_background": "light"
     }
    }
   ],
   "metadata": {}
  },
  {
   "cell_type": "code",
   "execution_count": 8,
   "source": [
    "def devided_diff(t, y, r, i):\r\n",
    "    '''\r\n",
    "    t : array of data points t_i, ... , t_{i+r+1}\r\n",
    "    y : array of y_j = f(t_j) + e_j\r\n",
    "    '''\r\n",
    "    \r\n",
    "    products = []\r\n",
    "    for j in range(i, i+r+1):\r\n",
    "        product = 1.0\r\n",
    "        for k in range(i, i+r+1):\r\n",
    "            if k == j:\r\n",
    "                continue\r\n",
    "            product *= 1 / (t[k] - t[j])\r\n",
    "        products.append(y[j] * product)\r\n",
    "\r\n",
    "    products.sort()\r\n",
    "    return math.fsum(products)"
   ],
   "outputs": [],
   "metadata": {}
  },
  {
   "cell_type": "code",
   "execution_count": 9,
   "source": [
    "# Step 1\r\n",
    "def step1(t, y, m, r):\r\n",
    "    i_max = np.argmax([devided_diff(t, y, r, i) for i in range(0, m-r)])\r\n",
    "    u_1 = t[i_max]\r\n",
    "    v_1 = t[i_max + r +1]\r\n",
    "    return u_1, v_1, i_max"
   ],
   "outputs": [],
   "metadata": {}
  },
  {
   "cell_type": "code",
   "execution_count": 10,
   "source": [
    "# Step 2\r\n",
    "def step2(f, t, y, r, d, u_1, v_1, i_max, noise=None):\r\n",
    "    p_neg = interpolate.interp1d(\r\n",
    "        t[i_max - r:i_max + 1],\r\n",
    "        y[i_max - r:i_max + 1],\r\n",
    "        fill_value=\"extrapolate\"\r\n",
    "    )\r\n",
    "    p_pos = interpolate.interp1d(\r\n",
    "        t[i_max + r + 1: i_max + 2 * r + 1 + 1],\r\n",
    "        y[i_max + r + 1: i_max + 2 * r + 1 + 1],\r\n",
    "        fill_value=\"extrapolate\"\r\n",
    "    )\r\n",
    "\r\n",
    "    u = u_1\r\n",
    "    v = v_1\r\n",
    "    while v - u > d:\r\n",
    "        z = [u + j * (v - u) / (r + 2) for j in range(1, r + 2)]\r\n",
    "        dif = np.abs(p_pos(z) - p_neg(z))\r\n",
    "        j_max = np.argmax(dif)\r\n",
    "\r\n",
    "        if noise is None:\r\n",
    "            f_value = f(z[j_max])\r\n",
    "        else:\r\n",
    "            f_value = f(z[j_max]) + np.random.uniform(-noise, noise)\r\n",
    "\r\n",
    "        if np.abs(f_value - p_neg(z[j_max])) <= np.abs(f_value - p_pos(z[j_max])):\r\n",
    "            u = z[j_max]\r\n",
    "        else:\r\n",
    "            v = z[j_max]\r\n",
    "    \r\n",
    "    u_2 = u.item()\r\n",
    "    v_2 = v.item()\r\n",
    "    return u_2, v_2, p_neg, p_pos, z\r\n"
   ],
   "outputs": [],
   "metadata": {}
  },
  {
   "cell_type": "code",
   "execution_count": 11,
   "source": [
    "# Step 3\r\n",
    "def step3(f, t, u_2, v_2, p_neg, p_pos, z, noise=None):\r\n",
    "    u = u_2\r\n",
    "    v = v_2\r\n",
    "\r\n",
    "    def fun(x):\r\n",
    "        return -1 * np.abs(p_neg(x) - p_pos(x)) # \"-\" beacuse we are looking for maximum, not minimum\r\n",
    "        \r\n",
    "    while True:\r\n",
    "        z_max = fminbound(func=fun, x1=u, x2=v)\r\n",
    "        \r\n",
    "        if np.isclose(z_max, u) or np.isclose(z_max, v): # => no local maximum\r\n",
    "            break\r\n",
    "\r\n",
    "\r\n",
    "        if noise is None:\r\n",
    "            f_value = f(z_max)\r\n",
    "        else:\r\n",
    "            f_value = f(z_max) + np.random.uniform(-noise, noise)\r\n",
    "\r\n",
    "        if np.abs(f_value - p_neg(z_max)) <= np.abs(f_value - p_pos(z_max)): # NOISE HANDLING???\r\n",
    "            u = z_max\r\n",
    "        else:\r\n",
    "            v = z_max\r\n",
    "\r\n",
    "    u_3 = u\r\n",
    "    v_3 = v\r\n",
    "    \r\n",
    "    ksi = fminbound(\r\n",
    "        func=lambda x: np.abs(p_neg(x) - p_pos(x)),\r\n",
    "        x1=u_3, x2=v_3)\r\n",
    "    \r\n",
    "    return u_3, v_3, ksi"
   ],
   "outputs": [],
   "metadata": {}
  },
  {
   "cell_type": "code",
   "execution_count": 12,
   "source": [
    "# =====ALGORITHM=====\r\n",
    "\r\n",
    "def Alg2015(f, f__a, f__b, r, rho, m, noise=None):\r\n",
    "    '''\r\n",
    "    f - funkcja, którą aproksymujemy\r\n",
    "    r, rho - stałe regularności funkcji\r\n",
    "    f__a, f__b - aproksymowany przedzial\r\n",
    "    m - początkowa gęstość siatki\r\n",
    "    noise - None lub wartosc losowego szumu\r\n",
    "    '''\r\n",
    "    # Step 0 (initialization of algorithm's constants and function evaluations)\r\n",
    "    h = (f__b - f__a) / m\r\n",
    "    d = h ** (r + rho)  # d = -1.0 * np.random.uniform(-(r + 1) * h, 0) # multiply by -1 because we need interval (0, (r + 1) * h]\r\n",
    "    t = np.linspace(f__a, f__b, m+1, dtype='float64') # czyli mamy m+1 wezlów postaci t[0], ... , t[m]\r\n",
    "    \r\n",
    "    if noise is not None:\r\n",
    "        e = np.random.uniform(-noise, noise, m+1)\r\n",
    "        y = [f(t[j]) + e[j] for j in range(0, m+1)]\r\n",
    "    else:\r\n",
    "        y = np.array(f(t))\r\n",
    "\r\n",
    "    # kroki algorytmu\r\n",
    "    u_1, v_1, i_max = step1(t, y, m, r)\r\n",
    "    u_2, v_2, p_neg, p_pos, z = step2(f, t, y, r, d, u_1, v_1, i_max, noise=noise)\r\n",
    "    u_3, v_3, ksi = step3(f, t, u_2, v_2, p_neg, p_pos, z, noise=noise)\r\n",
    "\r\n",
    "    # finalna funkcja approksymująca podaną funkcję\r\n",
    "    polynomial1 = interpolate.interp1d(\r\n",
    "                t[:i_max + 1],\r\n",
    "                y[:i_max + 1])\r\n",
    "\r\n",
    "    polynomial2 = interpolate.interp1d(\r\n",
    "                t[i_max + r + 1:],\r\n",
    "                y[i_max + r + 1:])\r\n",
    "\r\n",
    "    def final_approximation(x):\r\n",
    "        def raw_f(x):\r\n",
    "            if t[0] <= x < u_1:\r\n",
    "                return polynomial1(x)\r\n",
    "            if u_1 <= x < ksi:\r\n",
    "                return p_neg(x)\r\n",
    "            if ksi <= x < v_1:\r\n",
    "                return p_pos(x)\r\n",
    "            if v_1 <= x <= t[m]:\r\n",
    "                return polynomial2(x)\r\n",
    "            print(\"WATCH OUT!!!\")\r\n",
    "            return -1\r\n",
    "\r\n",
    "        if isinstance(x, (list, np.ndarray)):\r\n",
    "            return [raw_f(elem) for elem in x]\r\n",
    "        return raw_f(x)\r\n",
    "\r\n",
    "    return t, final_approximation"
   ],
   "outputs": [],
   "metadata": {}
  },
  {
   "cell_type": "code",
   "execution_count": 13,
   "source": [
    "# delta = 10e-4\r\n",
    "# m = 100\r\n",
    "# t, f_approximation = Alg2015(f1, f1__a, f1__b, f1__r, f1__rho, m, delta)\r\n",
    "\r\n",
    "# plt.scatter(t,f_approximation(t), s=1)\r\n",
    "# plt.plot(t, f_approximation(t))"
   ],
   "outputs": [],
   "metadata": {}
  },
  {
   "cell_type": "code",
   "execution_count": 13,
   "source": [
    "import types\r\n",
    "import functools\r\n",
    "\r\n",
    "def copy_func(f):\r\n",
    "    g = types.FunctionType(f.__code__, f.__globals__, name=f.__name__,\r\n",
    "                           argdefs=f.__defaults__,\r\n",
    "                           closure=f.__closure__)\r\n",
    "    g = functools.update_wrapper(g, f)\r\n",
    "    g.__kwdefaults__ = f.__kwdefaults__\r\n",
    "    return g"
   ],
   "outputs": [],
   "metadata": {}
  },
  {
   "cell_type": "code",
   "execution_count": 14,
   "source": [
    "import scipy.integrate as integrate\r\n",
    "\r\n",
    "def worst_case_error(fun, fun_data, algorithm, alg_data, num, p=2):\r\n",
    "    '''\r\n",
    "    calculate worst case error with respect to noise for function fun\r\n",
    "    '''\r\n",
    "    f__a, f__b, r, rho = fun_data\r\n",
    "    m, noise = alg_data\r\n",
    "    \r\n",
    "    norms = []\r\n",
    "    errors = [] # Errors of intergation\r\n",
    "\r\n",
    "    fun_copy = copy_func(fun)\r\n",
    "    algorithm_copy = copy_func(algorithm)\r\n",
    "\r\n",
    "    for i in range(num):\r\n",
    "        f_approximation = algorithm_copy(fun_copy, f__a, f__b, r, rho, m, noise)[1]\r\n",
    "        result, error = integrate.quad(lambda x: abs(fun(x) - f_approximation(x))**p, f__a, f__b)\r\n",
    "        norm = result**(1/p)\r\n",
    "        norms.append(norm)\r\n",
    "        errors.append(error) \r\n",
    "\r\n",
    "    result = np.max(norms)\r\n",
    "    print(\"worst case error for {} alg runs with m={} equals: {}\".format(num, m, result))\r\n",
    "\r\n",
    "    return result"
   ],
   "outputs": [],
   "metadata": {}
  },
  {
   "cell_type": "code",
   "execution_count": 16,
   "source": [
    "log10_m_array = np.linspace(1.5, 4.5, num=20)\r\n",
    "m_array = np.array(np.power(10, log10_m_array), dtype='int')\r\n",
    "deltas = [None, 10e-12, 10e-8, 10e-4]"
   ],
   "outputs": [],
   "metadata": {}
  },
  {
   "cell_type": "code",
   "execution_count": 19,
   "source": [
    "dataset = [(f1, (f1__a, f1__b, 2, f1__rho), Alg2015,(m.item(), None), 10, 2) for m in np.nditer(m_array)]\r\n",
    "\r\n",
    "with mp.Pool(processes=3) as pool:\r\n",
    "    results = pool.starmap(worst_case_error, dataset)\r\n",
    "\r\n",
    "    print(results)"
   ],
   "outputs": [],
   "metadata": {}
  },
  {
   "cell_type": "code",
   "execution_count": 18,
   "source": [
    "for m in np.nditer(m_array):\r\n",
    "    error = worst_case_error(\r\n",
    "        fun=f1,\r\n",
    "        fun_data=(f1__a, f1__b, 2, f1__rho),\r\n",
    "        algorithm=Alg2015,\r\n",
    "        alg_data=(m.item(), None),\r\n",
    "        num=10,\r\n",
    "        p=2)"
   ],
   "outputs": [
    {
     "output_type": "stream",
     "name": "stderr",
     "text": [
      "C:\\Users\\tczyz\\Anaconda3\\envs\\myenv\\lib\\site-packages\\ipykernel_launcher.py:18: IntegrationWarning: The maximum number of subdivisions (50) has been achieved.\n",
      "  If increasing the limit yields no improvement it is advised to analyze \n",
      "  the integrand in order to determine the difficulties.  If the position of a \n",
      "  local difficulty can be determined (singularity, discontinuity) one will \n",
      "  probably gain from splitting up the interval and calling the integrator \n",
      "  on the subranges.  Perhaps a special-purpose integrator should be used.\n"
     ]
    },
    {
     "output_type": "stream",
     "name": "stdout",
     "text": [
      "worst case error for 10 alg runs equals: 0.00817848548944266\n"
     ]
    },
    {
     "output_type": "stream",
     "name": "stderr",
     "text": [
      "C:\\Users\\tczyz\\Anaconda3\\envs\\myenv\\lib\\site-packages\\ipykernel_launcher.py:18: IntegrationWarning: The integral is probably divergent, or slowly convergent.\n"
     ]
    },
    {
     "output_type": "stream",
     "name": "stdout",
     "text": [
      "worst case error for 10 alg runs equals: 0.006919047249487012\n",
      "worst case error for 10 alg runs equals: 0.004375743102099608\n",
      "worst case error for 10 alg runs equals: 0.0018015425713376785\n",
      "worst case error for 10 alg runs equals: 0.0008338686496046165\n",
      "worst case error for 10 alg runs equals: 0.0003133181358559252\n",
      "worst case error for 10 alg runs equals: 0.00010520485847919952\n",
      "worst case error for 10 alg runs equals: 4.624879160008224e-05\n",
      "worst case error for 10 alg runs equals: 3.2050394983462604e-05\n",
      "worst case error for 10 alg runs equals: 1.036549539448302e-05\n",
      "worst case error for 10 alg runs equals: 5.1039887292823235e-06\n",
      "worst case error for 10 alg runs equals: 2.5944154593791726e-06\n",
      "worst case error for 10 alg runs equals: 1.2228442702203624e-06\n",
      "worst case error for 10 alg runs equals: 5.961296398791342e-07\n",
      "worst case error for 10 alg runs equals: 3.503632944722126e-07\n",
      "worst case error for 10 alg runs equals: 1.4872154192832635e-07\n",
      "worst case error for 10 alg runs equals: 6.091596016508148e-08\n",
      "worst case error for 10 alg runs equals: 3.109601467828883e-08\n",
      "worst case error for 10 alg runs equals: 1.4976955356162532e-08\n",
      "worst case error for 10 alg runs equals: 8.940837166138847e-09\n"
     ]
    }
   ],
   "metadata": {}
  },
  {
   "cell_type": "code",
   "execution_count": null,
   "source": [
    "# errors_for_deltas_f1 = []\r\n",
    "# for delta in deltas:\r\n",
    "#     errors = []\r\n",
    "#     for m in np.nditer(m_array):\r\n",
    "#         error = worst_case_error(\r\n",
    "#             fun=f1,\r\n",
    "#             fun_data=(f1__a, f1__b, 4, f1__rho),\r\n",
    "#             algorithm=Alg2015,\r\n",
    "#             alg_data=(m, delta),\r\n",
    "#             num=1000,\r\n",
    "#             p=2)\r\n",
    "\r\n",
    "#         errors.append(error)\r\n",
    "#         print(\"delta: {} ---   m: {} -> error: {:.12f}\".format(delta, m, error))\r\n",
    "    \r\n",
    "#     errors_for_deltas_f1.append(errors)\r\n",
    "\r\n",
    "\r\n",
    "# errors_for_deltas_f2 = []\r\n",
    "# for delta in deltas:\r\n",
    "#     errors = []\r\n",
    "#     for m in np.nditer(m_array):\r\n",
    "#         error = worst_case_error(\r\n",
    "#             fun=f2,\r\n",
    "#             fun_data=(f2__a, f2__b, 4, f2__rho),\r\n",
    "#             algorithm=Alg2015,\r\n",
    "#             alg_data=(m, delta),\r\n",
    "#             num=1000,\r\n",
    "#             p=2)\r\n",
    "\r\n",
    "#         errors.append(error)\r\n",
    "#         print(\"delta: {} ---   m: {} -> error: {:.12f}\".format(delta, m, error))\r\n",
    "    \r\n",
    "#     errors_for_deltas_f2.append(errors)\r\n"
   ],
   "outputs": [
    {
     "output_type": "stream",
     "name": "stderr",
     "text": [
      "C:\\Users\\tczyz\\Anaconda3\\envs\\myenv\\lib\\site-packages\\ipykernel_launcher.py:15: IntegrationWarning: The maximum number of subdivisions (50) has been achieved.\n",
      "  If increasing the limit yields no improvement it is advised to analyze \n",
      "  the integrand in order to determine the difficulties.  If the position of a \n",
      "  local difficulty can be determined (singularity, discontinuity) one will \n",
      "  probably gain from splitting up the interval and calling the integrator \n",
      "  on the subranges.  Perhaps a special-purpose integrator should be used.\n",
      "  from ipykernel import kernelapp as app\n"
     ]
    },
    {
     "output_type": "stream",
     "name": "stdout",
     "text": [
      "delta: None ---   m: 31 -> error: 0.028661483096\n",
      "delta: None ---   m: 40 -> error: 0.015960630466\n",
      "delta: None ---   m: 50 -> error: 0.007324217909\n",
      "delta: None ---   m: 64 -> error: 0.004749823670\n",
      "delta: None ---   m: 81 -> error: 0.002727793818\n",
      "delta: None ---   m: 104 -> error: 0.001825614162\n",
      "delta: None ---   m: 132 -> error: 0.000451441154\n",
      "delta: None ---   m: 167 -> error: 0.000587294322\n",
      "delta: None ---   m: 212 -> error: 0.000373526505\n",
      "delta: None ---   m: 269 -> error: 0.000108999567\n",
      "delta: None ---   m: 342 -> error: 0.000071662276\n",
      "delta: None ---   m: 434 -> error: 0.000097957920\n",
      "delta: None ---   m: 551 -> error: 0.000036732087\n",
      "delta: None ---   m: 699 -> error: 0.000015379101\n",
      "delta: None ---   m: 887 -> error: 0.000009648977\n",
      "delta: None ---   m: 1126 -> error: 0.000007399074\n",
      "delta: None ---   m: 1429 -> error: 0.000003662907\n",
      "delta: None ---   m: 1813 -> error: 0.000002307717\n",
      "delta: None ---   m: 2301 -> error: 0.000001406909\n",
      "delta: None ---   m: 2920 -> error: 0.000000793193\n",
      "delta: None ---   m: 3706 -> error: 0.000000575489\n",
      "delta: None ---   m: 4703 -> error: 0.000000339186\n",
      "delta: None ---   m: 5968 -> error: 0.000000189116\n",
      "delta: None ---   m: 7573 -> error: 0.000000128447\n",
      "delta: None ---   m: 9610 -> error: 0.000000085183\n",
      "delta: None ---   m: 12195 -> error: 0.000000050713\n",
      "delta: None ---   m: 15475 -> error: 0.000000031339\n",
      "delta: None ---   m: 19638 -> error: 0.000000022059\n",
      "delta: None ---   m: 24920 -> error: 0.000000010007\n",
      "delta: None ---   m: 31622 -> error: 0.000000008941\n",
      "delta: 1e-11 ---   m: 31 -> error: 0.028661483119\n",
      "delta: 1e-11 ---   m: 40 -> error: 0.015960630491\n",
      "delta: 1e-11 ---   m: 50 -> error: 0.007324217935\n",
      "delta: 1e-11 ---   m: 64 -> error: 0.004749823691\n",
      "delta: 1e-11 ---   m: 81 -> error: 0.002727793836\n",
      "delta: 1e-11 ---   m: 104 -> error: 0.001825614179\n",
      "delta: 1e-11 ---   m: 132 -> error: 0.000451441162\n",
      "delta: 1e-11 ---   m: 167 -> error: 0.000587294333\n",
      "delta: 1e-11 ---   m: 212 -> error: 0.000373526516\n",
      "delta: 1e-11 ---   m: 269 -> error: 0.000108999574\n",
      "delta: 1e-11 ---   m: 342 -> error: 0.000071662282\n",
      "delta: 1e-11 ---   m: 434 -> error: 0.000097957934\n",
      "delta: 1e-11 ---   m: 551 -> error: 0.000036732097\n",
      "delta: 1e-11 ---   m: 699 -> error: 0.000015379108\n",
      "delta: 1e-11 ---   m: 887 -> error: 0.000009648984\n",
      "delta: 1e-11 ---   m: 1126 -> error: 0.000007399079\n",
      "delta: 1e-11 ---   m: 1429 -> error: 0.000003662914\n",
      "delta: 1e-11 ---   m: 1813 -> error: 0.000002307723\n",
      "delta: 1e-11 ---   m: 2301 -> error: 0.000001406915\n",
      "delta: 1e-11 ---   m: 2920 -> error: 0.000000793200\n",
      "delta: 1e-11 ---   m: 3706 -> error: 0.000000575496\n",
      "delta: 1e-11 ---   m: 4703 -> error: 0.000000339193\n",
      "delta: 1e-11 ---   m: 5968 -> error: 0.000000189123\n",
      "delta: 1e-11 ---   m: 7573 -> error: 0.000000128454\n",
      "delta: 1e-11 ---   m: 9610 -> error: 0.000000085190\n",
      "delta: 1e-11 ---   m: 12195 -> error: 0.000000050720\n",
      "delta: 1e-11 ---   m: 15475 -> error: 0.000000031346\n",
      "delta: 1e-11 ---   m: 19638 -> error: 0.000000022066\n",
      "delta: 1e-11 ---   m: 24920 -> error: 0.000000010015\n",
      "delta: 1e-11 ---   m: 31622 -> error: 0.000000008946\n",
      "delta: 1e-07 ---   m: 31 -> error: 0.028661727998\n",
      "delta: 1e-07 ---   m: 40 -> error: 0.015960904353\n",
      "delta: 1e-07 ---   m: 50 -> error: 0.007324431026\n",
      "delta: 1e-07 ---   m: 64 -> error: 0.004750031417\n",
      "delta: 1e-07 ---   m: 81 -> error: 0.002727959043\n",
      "delta: 1e-07 ---   m: 104 -> error: 0.001825786606\n",
      "delta: 1e-07 ---   m: 132 -> error: 0.001103709529\n",
      "delta: 1e-07 ---   m: 167 -> error: 0.000587411582\n",
      "delta: 1e-07 ---   m: 212 -> error: 0.000373632546\n",
      "delta: 1e-07 ---   m: 269 -> error: 0.000109065358\n",
      "delta: 1e-07 ---   m: 342 -> error: 0.000071719004\n",
      "delta: 1e-07 ---   m: 434 -> error: 0.000098089398\n",
      "delta: 1e-07 ---   m: 551 -> error: 0.000036837700\n",
      "delta: 1e-07 ---   m: 699 -> error: 0.000015444566\n",
      "delta: 1e-07 ---   m: 887 -> error: 0.000009721643\n",
      "delta: 1e-07 ---   m: 1126 -> error: 0.000007472877\n",
      "delta: 1e-07 ---   m: 1429 -> error: 0.000003733303\n",
      "delta: 1e-07 ---   m: 1813 -> error: 0.000002963649\n",
      "delta: 1e-07 ---   m: 2301 -> error: 0.000001488390\n",
      "delta: 1e-07 ---   m: 2920 -> error: 0.000000880330\n",
      "delta: 1e-07 ---   m: 3706 -> error: 0.000000652709\n",
      "delta: 1e-07 ---   m: 4703 -> error: 0.000000421115\n",
      "delta: 1e-07 ---   m: 5968 -> error: 0.000000302167\n",
      "delta: 1e-07 ---   m: 7573 -> error: 0.000000226084\n",
      "delta: 1e-07 ---   m: 9610 -> error: 0.000000191760\n",
      "delta: 1e-07 ---   m: 12195 -> error: 0.000000168488\n",
      "delta: 1e-07 ---   m: 15475 -> error: 0.000000167142\n",
      "delta: 1e-07 ---   m: 19638 -> error: 0.000000158702\n",
      "delta: 1e-07 ---   m: 24920 -> error: 0.000000163354\n",
      "delta: 1e-07 ---   m: 31622 -> error: 0.000000146679\n",
      "delta: 0.001 ---   m: 31 -> error: 0.031069756673\n"
     ]
    },
    {
     "output_type": "stream",
     "name": "stderr",
     "text": [
      "C:\\Users\\tczyz\\Anaconda3\\envs\\myenv\\lib\\site-packages\\ipykernel_launcher.py:15: IntegrationWarning: The integral is probably divergent, or slowly convergent.\n",
      "  from ipykernel import kernelapp as app\n"
     ]
    },
    {
     "output_type": "stream",
     "name": "stdout",
     "text": [
      "delta: 0.001 ---   m: 40 -> error: 0.018478053288\n",
      "delta: 0.001 ---   m: 50 -> error: 0.009880453774\n",
      "delta: 0.001 ---   m: 64 -> error: 0.006825335115\n",
      "delta: 0.001 ---   m: 81 -> error: 0.004547136353\n",
      "delta: 0.001 ---   m: 104 -> error: 0.003861128317\n",
      "delta: 0.001 ---   m: 132 -> error: 0.002978247790\n",
      "delta: 0.001 ---   m: 167 -> error: 0.002298974849\n",
      "delta: 0.001 ---   m: 212 -> error: 0.002111203998\n",
      "delta: 0.001 ---   m: 269 -> error: 0.001757342033\n",
      "delta: 0.001 ---   m: 342 -> error: 0.001624385648\n",
      "delta: 0.001 ---   m: 434 -> error: 0.001705469077\n",
      "delta: 0.001 ---   m: 551 -> error: 0.001730162359\n",
      "delta: 0.001 ---   m: 699 -> error: 0.001571320249\n",
      "delta: 0.001 ---   m: 887 -> error: 0.001549161299\n",
      "delta: 0.001 ---   m: 1126 -> error: 0.001494086806\n",
      "delta: 0.001 ---   m: 1429 -> error: 0.001565439793\n",
      "delta: 0.001 ---   m: 1813 -> error: 0.001400067718\n",
      "delta: 0.001 ---   m: 2301 -> error: 0.001480617226\n",
      "delta: 0.001 ---   m: 2920 -> error: 0.001448039693\n",
      "delta: 0.001 ---   m: 3706 -> error: 0.001483332103\n",
      "delta: 0.001 ---   m: 4703 -> error: 0.001443901988\n",
      "delta: 0.001 ---   m: 5968 -> error: 0.001432735055\n",
      "delta: 0.001 ---   m: 7573 -> error: 0.001400662170\n",
      "delta: 0.001 ---   m: 9610 -> error: 0.001433981135\n",
      "delta: 0.001 ---   m: 12195 -> error: 0.001477220563\n",
      "delta: 0.001 ---   m: 15475 -> error: 0.001416084042\n",
      "delta: 0.001 ---   m: 19638 -> error: 0.001477328965\n",
      "delta: 0.001 ---   m: 24920 -> error: 0.001573248335\n",
      "delta: 0.001 ---   m: 31622 -> error: 0.001456354467\n",
      "delta: None ---   m: 31 -> error: 0.165136689184\n",
      "delta: None ---   m: 40 -> error: 0.082006250333\n",
      "delta: None ---   m: 50 -> error: 0.088486794842\n",
      "delta: None ---   m: 64 -> error: 0.019353860241\n",
      "delta: None ---   m: 81 -> error: 0.006775967688\n",
      "delta: None ---   m: 104 -> error: 0.008612781961\n",
      "delta: None ---   m: 132 -> error: 0.001622982096\n",
      "delta: None ---   m: 167 -> error: 0.001773729253\n",
      "delta: None ---   m: 212 -> error: 0.000826466638\n",
      "delta: None ---   m: 269 -> error: 0.000400241654\n",
      "delta: None ---   m: 342 -> error: 0.000183726733\n",
      "delta: None ---   m: 434 -> error: 0.000115915392\n",
      "delta: None ---   m: 551 -> error: 0.000050869647\n",
      "delta: None ---   m: 699 -> error: 0.000034544389\n",
      "delta: None ---   m: 887 -> error: 0.000023790202\n",
      "delta: None ---   m: 1126 -> error: 0.000015747363\n",
      "delta: None ---   m: 1429 -> error: 0.000008179849\n",
      "delta: None ---   m: 1813 -> error: 0.000005114641\n",
      "delta: None ---   m: 2301 -> error: 0.000003202811\n",
      "delta: None ---   m: 2920 -> error: 0.000001732527\n",
      "delta: None ---   m: 3706 -> error: 0.000001077594\n",
      "delta: None ---   m: 4703 -> error: 0.000000810198\n",
      "delta: None ---   m: 5968 -> error: 0.000000480080\n",
      "delta: None ---   m: 7573 -> error: 0.000000298645\n",
      "delta: None ---   m: 9610 -> error: 0.000000205477\n",
      "delta: None ---   m: 12195 -> error: 0.000000114896\n",
      "delta: None ---   m: 15475 -> error: 0.000000073996\n",
      "delta: None ---   m: 19638 -> error: 0.000000046369\n",
      "delta: None ---   m: 24920 -> error: 0.000000025445\n",
      "delta: None ---   m: 31622 -> error: 0.000000020336\n",
      "delta: 1e-11 ---   m: 31 -> error: 0.165136689213\n",
      "delta: 1e-11 ---   m: 40 -> error: 0.082006250362\n",
      "delta: 1e-11 ---   m: 50 -> error: 0.088486794882\n",
      "delta: 1e-11 ---   m: 64 -> error: 0.019353860269\n",
      "delta: 1e-11 ---   m: 81 -> error: 0.014837521179\n",
      "delta: 1e-11 ---   m: 104 -> error: 0.008612781991\n",
      "delta: 1e-11 ---   m: 132 -> error: 0.003096388409\n",
      "delta: 1e-11 ---   m: 167 -> error: 0.001773729279\n",
      "delta: 1e-11 ---   m: 212 -> error: 0.000826466660\n",
      "delta: 1e-11 ---   m: 269 -> error: 0.000400241671\n",
      "delta: 1e-11 ---   m: 342 -> error: 0.000183726743\n",
      "delta: 1e-11 ---   m: 434 -> error: 0.000115915399\n",
      "delta: 1e-11 ---   m: 551 -> error: 0.000050869654\n",
      "delta: 1e-11 ---   m: 699 -> error: 0.000034544399\n",
      "delta: 1e-11 ---   m: 887 -> error: 0.000023790209\n",
      "delta: 1e-11 ---   m: 1126 -> error: 0.000015747370\n",
      "delta: 1e-11 ---   m: 1429 -> error: 0.000008179857\n",
      "delta: 1e-11 ---   m: 1813 -> error: 0.000005114648\n",
      "delta: 1e-11 ---   m: 2301 -> error: 0.000003202818\n",
      "delta: 1e-11 ---   m: 2920 -> error: 0.000001732534\n",
      "delta: 1e-11 ---   m: 3706 -> error: 0.000001077600\n",
      "delta: 1e-11 ---   m: 4703 -> error: 0.000000810205\n",
      "delta: 1e-11 ---   m: 5968 -> error: 0.000000480087\n",
      "delta: 1e-11 ---   m: 7573 -> error: 0.000000298652\n",
      "delta: 1e-11 ---   m: 9610 -> error: 0.000000205485\n",
      "delta: 1e-11 ---   m: 12195 -> error: 0.000000114904\n",
      "delta: 1e-11 ---   m: 15475 -> error: 0.000000074005\n",
      "delta: 1e-11 ---   m: 19638 -> error: 0.000000046379\n",
      "delta: 1e-11 ---   m: 24920 -> error: 0.000000025451\n",
      "delta: 1e-11 ---   m: 31622 -> error: 0.000000020344\n",
      "delta: 1e-07 ---   m: 31 -> error: 0.165137005714\n",
      "delta: 1e-07 ---   m: 40 -> error: 0.082006536614\n",
      "delta: 1e-07 ---   m: 50 -> error: 0.088487196109\n",
      "delta: 1e-07 ---   m: 64 -> error: 0.019354141143\n",
      "delta: 1e-07 ---   m: 81 -> error: 0.014837833940\n",
      "delta: 1e-07 ---   m: 104 -> error: 0.008613087216\n",
      "delta: 1e-07 ---   m: 132 -> error: 0.003096652927\n",
      "delta: 1e-07 ---   m: 167 -> error: 0.001773984896\n",
      "delta: 1e-07 ---   m: 212 -> error: 0.000826682358\n",
      "delta: 1e-07 ---   m: 269 -> error: 0.000400413227\n",
      "delta: 1e-07 ---   m: 342 -> error: 0.000183813588\n",
      "delta: 1e-07 ---   m: 434 -> error: 0.000115973943\n",
      "delta: 1e-07 ---   m: 551 -> error: 0.000050956025\n",
      "delta: 1e-07 ---   m: 699 -> error: 0.000034612212\n",
      "delta: 1e-07 ---   m: 887 -> error: 0.000023857004\n",
      "delta: 1e-07 ---   m: 1126 -> error: 0.000015816460\n",
      "delta: 1e-07 ---   m: 1429 -> error: 0.000008260727\n",
      "delta: 1e-07 ---   m: 1813 -> error: 0.000006952989\n",
      "delta: 1e-07 ---   m: 2301 -> error: 0.000003276917\n",
      "delta: 1e-07 ---   m: 2920 -> error: 0.000001812241\n",
      "delta: 1e-07 ---   m: 3706 -> error: 0.000001156144\n",
      "delta: 1e-07 ---   m: 4703 -> error: 0.000000977775\n",
      "delta: 1e-07 ---   m: 5968 -> error: 0.000000574296\n",
      "delta: 1e-07 ---   m: 7573 -> error: 0.000000393857\n",
      "delta: 1e-07 ---   m: 9610 -> error: 0.000000304326\n",
      "delta: 1e-07 ---   m: 12195 -> error: 0.000000236390\n",
      "delta: 1e-07 ---   m: 15475 -> error: 0.000000216223\n",
      "delta: 1e-07 ---   m: 19638 -> error: 0.000000189504\n",
      "delta: 1e-07 ---   m: 24920 -> error: 0.000000206664\n",
      "delta: 1e-07 ---   m: 31622 -> error: 0.000000177548\n",
      "delta: 0.001 ---   m: 31 -> error: 0.168113764326\n",
      "delta: 0.001 ---   m: 40 -> error: 0.084990364944\n",
      "delta: 0.001 ---   m: 50 -> error: 0.092457335882\n",
      "delta: 0.001 ---   m: 64 -> error: 0.022104419191\n",
      "delta: 0.001 ---   m: 81 -> error: 0.018443315834\n",
      "delta: 0.001 ---   m: 104 -> error: 0.011761704238\n",
      "delta: 0.001 ---   m: 132 -> error: 0.005909681761\n",
      "delta: 0.001 ---   m: 167 -> error: 0.004750875303\n",
      "delta: 0.001 ---   m: 212 -> error: 0.003502060452\n",
      "delta: 0.001 ---   m: 269 -> error: 0.002905051787\n",
      "delta: 0.001 ---   m: 342 -> error: 0.002346136508\n",
      "delta: 0.001 ---   m: 434 -> error: 0.002240333782\n",
      "delta: 0.001 ---   m: 551 -> error: 0.002061362231\n",
      "delta: 0.001 ---   m: 699 -> error: 0.001908905432\n"
     ]
    },
    {
     "output_type": "error",
     "ename": "ValueError",
     "evalue": "cannot reshape array of size 0 into shape (0,newaxis)",
     "traceback": [
      "\u001b[1;31m---------------------------------------------------------------------------\u001b[0m",
      "\u001b[1;31mValueError\u001b[0m                                Traceback (most recent call last)",
      "\u001b[1;32m<ipython-input-15-e1c3bcbbdf93>\u001b[0m in \u001b[0;36m<module>\u001b[1;34m\u001b[0m\n\u001b[0;32m     31\u001b[0m             \u001b[0malg_data\u001b[0m\u001b[1;33m=\u001b[0m\u001b[1;33m(\u001b[0m\u001b[0mm\u001b[0m\u001b[1;33m,\u001b[0m \u001b[0mdelta\u001b[0m\u001b[1;33m)\u001b[0m\u001b[1;33m,\u001b[0m\u001b[1;33m\u001b[0m\u001b[1;33m\u001b[0m\u001b[0m\n\u001b[0;32m     32\u001b[0m             \u001b[0mnum\u001b[0m\u001b[1;33m=\u001b[0m\u001b[1;36m1000\u001b[0m\u001b[1;33m,\u001b[0m\u001b[1;33m\u001b[0m\u001b[1;33m\u001b[0m\u001b[0m\n\u001b[1;32m---> 33\u001b[1;33m             p=2)\n\u001b[0m\u001b[0;32m     34\u001b[0m \u001b[1;33m\u001b[0m\u001b[0m\n\u001b[0;32m     35\u001b[0m         \u001b[0merrors\u001b[0m\u001b[1;33m.\u001b[0m\u001b[0mappend\u001b[0m\u001b[1;33m(\u001b[0m\u001b[0merror\u001b[0m\u001b[1;33m)\u001b[0m\u001b[1;33m\u001b[0m\u001b[1;33m\u001b[0m\u001b[0m\n",
      "\u001b[1;32m<ipython-input-14-87402de01d7d>\u001b[0m in \u001b[0;36mworst_case_error\u001b[1;34m(fun, fun_data, algorithm, alg_data, num, p)\u001b[0m\n\u001b[0;32m     12\u001b[0m \u001b[1;33m\u001b[0m\u001b[0m\n\u001b[0;32m     13\u001b[0m     \u001b[1;32mfor\u001b[0m \u001b[0mi\u001b[0m \u001b[1;32min\u001b[0m \u001b[0mrange\u001b[0m\u001b[1;33m(\u001b[0m\u001b[0mnum\u001b[0m\u001b[1;33m)\u001b[0m\u001b[1;33m:\u001b[0m\u001b[1;33m\u001b[0m\u001b[1;33m\u001b[0m\u001b[0m\n\u001b[1;32m---> 14\u001b[1;33m         \u001b[0mf_approximation\u001b[0m \u001b[1;33m=\u001b[0m \u001b[0malgorithm\u001b[0m\u001b[1;33m(\u001b[0m\u001b[0mfun\u001b[0m\u001b[1;33m,\u001b[0m \u001b[0mf__a\u001b[0m\u001b[1;33m,\u001b[0m \u001b[0mf__b\u001b[0m\u001b[1;33m,\u001b[0m \u001b[0mr\u001b[0m\u001b[1;33m,\u001b[0m \u001b[0mrho\u001b[0m\u001b[1;33m,\u001b[0m \u001b[0mm\u001b[0m\u001b[1;33m,\u001b[0m \u001b[0mnoise\u001b[0m\u001b[1;33m)\u001b[0m\u001b[1;33m[\u001b[0m\u001b[1;36m1\u001b[0m\u001b[1;33m]\u001b[0m\u001b[1;33m\u001b[0m\u001b[1;33m\u001b[0m\u001b[0m\n\u001b[0m\u001b[0;32m     15\u001b[0m         \u001b[0mresult\u001b[0m\u001b[1;33m,\u001b[0m \u001b[0merror\u001b[0m \u001b[1;33m=\u001b[0m \u001b[0mintegrate\u001b[0m\u001b[1;33m.\u001b[0m\u001b[0mquad\u001b[0m\u001b[1;33m(\u001b[0m\u001b[1;32mlambda\u001b[0m \u001b[0mx\u001b[0m\u001b[1;33m:\u001b[0m \u001b[0mabs\u001b[0m\u001b[1;33m(\u001b[0m\u001b[0mfun\u001b[0m\u001b[1;33m(\u001b[0m\u001b[0mx\u001b[0m\u001b[1;33m)\u001b[0m \u001b[1;33m-\u001b[0m \u001b[0mf_approximation\u001b[0m\u001b[1;33m(\u001b[0m\u001b[0mx\u001b[0m\u001b[1;33m)\u001b[0m\u001b[1;33m)\u001b[0m\u001b[1;33m**\u001b[0m\u001b[0mp\u001b[0m\u001b[1;33m,\u001b[0m \u001b[0mf__a\u001b[0m\u001b[1;33m,\u001b[0m \u001b[0mf__b\u001b[0m\u001b[1;33m)\u001b[0m\u001b[1;33m\u001b[0m\u001b[1;33m\u001b[0m\u001b[0m\n\u001b[0;32m     16\u001b[0m         \u001b[0mnorm\u001b[0m \u001b[1;33m=\u001b[0m \u001b[0mresult\u001b[0m\u001b[1;33m**\u001b[0m\u001b[1;33m(\u001b[0m\u001b[1;36m1\u001b[0m\u001b[1;33m/\u001b[0m\u001b[0mp\u001b[0m\u001b[1;33m)\u001b[0m\u001b[1;33m\u001b[0m\u001b[1;33m\u001b[0m\u001b[0m\n",
      "\u001b[1;32m<ipython-input-12-b0621cb77a74>\u001b[0m in \u001b[0;36mAlg2015\u001b[1;34m(f, f__a, f__b, r, rho, m, noise)\u001b[0m\n\u001b[0;32m     22\u001b[0m     \u001b[1;31m# kroki algorytmu\u001b[0m\u001b[1;33m\u001b[0m\u001b[1;33m\u001b[0m\u001b[1;33m\u001b[0m\u001b[0m\n\u001b[0;32m     23\u001b[0m     \u001b[0mu_1\u001b[0m\u001b[1;33m,\u001b[0m \u001b[0mv_1\u001b[0m\u001b[1;33m,\u001b[0m \u001b[0mi_max\u001b[0m \u001b[1;33m=\u001b[0m \u001b[0mstep1\u001b[0m\u001b[1;33m(\u001b[0m\u001b[0mt\u001b[0m\u001b[1;33m,\u001b[0m \u001b[0my\u001b[0m\u001b[1;33m,\u001b[0m \u001b[0mm\u001b[0m\u001b[1;33m,\u001b[0m \u001b[0mr\u001b[0m\u001b[1;33m)\u001b[0m\u001b[1;33m\u001b[0m\u001b[1;33m\u001b[0m\u001b[0m\n\u001b[1;32m---> 24\u001b[1;33m     \u001b[0mu_2\u001b[0m\u001b[1;33m,\u001b[0m \u001b[0mv_2\u001b[0m\u001b[1;33m,\u001b[0m \u001b[0mp_neg\u001b[0m\u001b[1;33m,\u001b[0m \u001b[0mp_pos\u001b[0m\u001b[1;33m,\u001b[0m \u001b[0mz\u001b[0m \u001b[1;33m=\u001b[0m \u001b[0mstep2\u001b[0m\u001b[1;33m(\u001b[0m\u001b[0mf\u001b[0m\u001b[1;33m,\u001b[0m \u001b[0mt\u001b[0m\u001b[1;33m,\u001b[0m \u001b[0my\u001b[0m\u001b[1;33m,\u001b[0m \u001b[0mr\u001b[0m\u001b[1;33m,\u001b[0m \u001b[0md\u001b[0m\u001b[1;33m,\u001b[0m \u001b[0mu_1\u001b[0m\u001b[1;33m,\u001b[0m \u001b[0mv_1\u001b[0m\u001b[1;33m,\u001b[0m \u001b[0mi_max\u001b[0m\u001b[1;33m,\u001b[0m \u001b[0mnoise\u001b[0m\u001b[1;33m=\u001b[0m\u001b[0mnoise\u001b[0m\u001b[1;33m)\u001b[0m\u001b[1;33m\u001b[0m\u001b[1;33m\u001b[0m\u001b[0m\n\u001b[0m\u001b[0;32m     25\u001b[0m     \u001b[0mu_3\u001b[0m\u001b[1;33m,\u001b[0m \u001b[0mv_3\u001b[0m\u001b[1;33m,\u001b[0m \u001b[0mksi\u001b[0m \u001b[1;33m=\u001b[0m \u001b[0mstep3\u001b[0m\u001b[1;33m(\u001b[0m\u001b[0mf\u001b[0m\u001b[1;33m,\u001b[0m \u001b[0mt\u001b[0m\u001b[1;33m,\u001b[0m \u001b[0mu_2\u001b[0m\u001b[1;33m,\u001b[0m \u001b[0mv_2\u001b[0m\u001b[1;33m,\u001b[0m \u001b[0mp_neg\u001b[0m\u001b[1;33m,\u001b[0m \u001b[0mp_pos\u001b[0m\u001b[1;33m,\u001b[0m \u001b[0mz\u001b[0m\u001b[1;33m,\u001b[0m \u001b[0mnoise\u001b[0m\u001b[1;33m=\u001b[0m\u001b[0mnoise\u001b[0m\u001b[1;33m)\u001b[0m\u001b[1;33m\u001b[0m\u001b[1;33m\u001b[0m\u001b[0m\n\u001b[0;32m     26\u001b[0m \u001b[1;33m\u001b[0m\u001b[0m\n",
      "\u001b[1;32m<ipython-input-10-b578a769c984>\u001b[0m in \u001b[0;36mstep2\u001b[1;34m(f, t, y, r, d, u_1, v_1, i_max, noise)\u001b[0m\n\u001b[0;32m      4\u001b[0m         \u001b[0mt\u001b[0m\u001b[1;33m[\u001b[0m\u001b[0mi_max\u001b[0m \u001b[1;33m-\u001b[0m \u001b[0mr\u001b[0m\u001b[1;33m:\u001b[0m\u001b[0mi_max\u001b[0m \u001b[1;33m+\u001b[0m \u001b[1;36m1\u001b[0m\u001b[1;33m]\u001b[0m\u001b[1;33m,\u001b[0m\u001b[1;33m\u001b[0m\u001b[1;33m\u001b[0m\u001b[0m\n\u001b[0;32m      5\u001b[0m         \u001b[0my\u001b[0m\u001b[1;33m[\u001b[0m\u001b[0mi_max\u001b[0m \u001b[1;33m-\u001b[0m \u001b[0mr\u001b[0m\u001b[1;33m:\u001b[0m\u001b[0mi_max\u001b[0m \u001b[1;33m+\u001b[0m \u001b[1;36m1\u001b[0m\u001b[1;33m]\u001b[0m\u001b[1;33m,\u001b[0m\u001b[1;33m\u001b[0m\u001b[1;33m\u001b[0m\u001b[0m\n\u001b[1;32m----> 6\u001b[1;33m         \u001b[0mfill_value\u001b[0m\u001b[1;33m=\u001b[0m\u001b[1;34m\"extrapolate\"\u001b[0m\u001b[1;33m\u001b[0m\u001b[1;33m\u001b[0m\u001b[0m\n\u001b[0m\u001b[0;32m      7\u001b[0m     )\n\u001b[0;32m      8\u001b[0m     p_pos = interpolate.interp1d(\n",
      "\u001b[1;32m~\\Anaconda3\\envs\\myenv\\lib\\site-packages\\scipy\\interpolate\\interpolate.py\u001b[0m in \u001b[0;36m__init__\u001b[1;34m(self, x, y, kind, axis, copy, bounds_error, fill_value, assume_sorted)\u001b[0m\n\u001b[0;32m    456\u001b[0m         \u001b[1;31m# Interpolation goes internally along the first axis\u001b[0m\u001b[1;33m\u001b[0m\u001b[1;33m\u001b[0m\u001b[1;33m\u001b[0m\u001b[0m\n\u001b[0;32m    457\u001b[0m         \u001b[0mself\u001b[0m\u001b[1;33m.\u001b[0m\u001b[0my\u001b[0m \u001b[1;33m=\u001b[0m \u001b[0my\u001b[0m\u001b[1;33m\u001b[0m\u001b[1;33m\u001b[0m\u001b[0m\n\u001b[1;32m--> 458\u001b[1;33m         \u001b[0mself\u001b[0m\u001b[1;33m.\u001b[0m\u001b[0m_y\u001b[0m \u001b[1;33m=\u001b[0m \u001b[0mself\u001b[0m\u001b[1;33m.\u001b[0m\u001b[0m_reshape_yi\u001b[0m\u001b[1;33m(\u001b[0m\u001b[0mself\u001b[0m\u001b[1;33m.\u001b[0m\u001b[0my\u001b[0m\u001b[1;33m)\u001b[0m\u001b[1;33m\u001b[0m\u001b[1;33m\u001b[0m\u001b[0m\n\u001b[0m\u001b[0;32m    459\u001b[0m         \u001b[0mself\u001b[0m\u001b[1;33m.\u001b[0m\u001b[0mx\u001b[0m \u001b[1;33m=\u001b[0m \u001b[0mx\u001b[0m\u001b[1;33m\u001b[0m\u001b[1;33m\u001b[0m\u001b[0m\n\u001b[0;32m    460\u001b[0m         \u001b[1;32mdel\u001b[0m \u001b[0my\u001b[0m\u001b[1;33m,\u001b[0m \u001b[0mx\u001b[0m  \u001b[1;31m# clean up namespace to prevent misuse; use attributes\u001b[0m\u001b[1;33m\u001b[0m\u001b[1;33m\u001b[0m\u001b[0m\n",
      "\u001b[1;32m~\\Anaconda3\\envs\\myenv\\lib\\site-packages\\scipy\\interpolate\\polyint.py\u001b[0m in \u001b[0;36m_reshape_yi\u001b[1;34m(self, yi, check)\u001b[0m\n\u001b[0;32m    104\u001b[0m                                            self._y_extra_shape[:-self._y_axis])\n\u001b[0;32m    105\u001b[0m             \u001b[1;32mraise\u001b[0m \u001b[0mValueError\u001b[0m\u001b[1;33m(\u001b[0m\u001b[1;34m\"Data must be of shape %s\"\u001b[0m \u001b[1;33m%\u001b[0m \u001b[0mok_shape\u001b[0m\u001b[1;33m)\u001b[0m\u001b[1;33m\u001b[0m\u001b[1;33m\u001b[0m\u001b[0m\n\u001b[1;32m--> 106\u001b[1;33m         \u001b[1;32mreturn\u001b[0m \u001b[0myi\u001b[0m\u001b[1;33m.\u001b[0m\u001b[0mreshape\u001b[0m\u001b[1;33m(\u001b[0m\u001b[1;33m(\u001b[0m\u001b[0myi\u001b[0m\u001b[1;33m.\u001b[0m\u001b[0mshape\u001b[0m\u001b[1;33m[\u001b[0m\u001b[1;36m0\u001b[0m\u001b[1;33m]\u001b[0m\u001b[1;33m,\u001b[0m \u001b[1;33m-\u001b[0m\u001b[1;36m1\u001b[0m\u001b[1;33m)\u001b[0m\u001b[1;33m)\u001b[0m\u001b[1;33m\u001b[0m\u001b[1;33m\u001b[0m\u001b[0m\n\u001b[0m\u001b[0;32m    107\u001b[0m \u001b[1;33m\u001b[0m\u001b[0m\n\u001b[0;32m    108\u001b[0m     \u001b[1;32mdef\u001b[0m \u001b[0m_set_yi\u001b[0m\u001b[1;33m(\u001b[0m\u001b[0mself\u001b[0m\u001b[1;33m,\u001b[0m \u001b[0myi\u001b[0m\u001b[1;33m,\u001b[0m \u001b[0mxi\u001b[0m\u001b[1;33m=\u001b[0m\u001b[1;32mNone\u001b[0m\u001b[1;33m,\u001b[0m \u001b[0maxis\u001b[0m\u001b[1;33m=\u001b[0m\u001b[1;32mNone\u001b[0m\u001b[1;33m)\u001b[0m\u001b[1;33m:\u001b[0m\u001b[1;33m\u001b[0m\u001b[1;33m\u001b[0m\u001b[0m\n",
      "\u001b[1;31mValueError\u001b[0m: cannot reshape array of size 0 into shape (0,newaxis)"
     ]
    }
   ],
   "metadata": {}
  },
  {
   "cell_type": "code",
   "execution_count": null,
   "source": [
    "log10errors_for_deltas_f1 = np.log10(errors_for_deltas_f1)\r\n",
    "log10errors_for_deltas_f2 = np.log10(errors_for_deltas_f2)"
   ],
   "outputs": [],
   "metadata": {}
  },
  {
   "cell_type": "code",
   "execution_count": null,
   "source": [
    "log10errors_for_deltas_f1[1]"
   ],
   "outputs": [
    {
     "output_type": "execute_result",
     "data": {
      "text/plain": [
       "array([-1.54270134, -1.79694996, -2.13523874, -2.32332251, -2.56418846,\n",
       "       -2.738591  , -3.34539884, -3.23114419, -3.42767856, -3.9625752 ,\n",
       "       -4.14470937, -4.00896038, -4.43495428, -4.81306884, -5.01551842,\n",
       "       -5.13082231, -5.43617327, -5.63681623, -5.85173205, -6.10061743,\n",
       "       -6.23995767, -6.4695536 , -6.72325676, -6.89125236, -7.06961069,\n",
       "       -7.29482189, -7.50381757, -7.6562689 , -7.99935833, -8.04835562])"
      ]
     },
     "metadata": {},
     "execution_count": 21
    }
   ],
   "metadata": {}
  },
  {
   "cell_type": "code",
   "execution_count": null,
   "source": [
    "colors = ['g', 'red', 'b', 'orange']\r\n",
    "markers = [',', 'x', 'o', '+', '.', 'v', '^', '<', '>', 's', 'd']\r\n",
    "\r\n",
    "for i in range(4):\r\n",
    "    plt.scatter(log10_m_array, -log10errors_for_deltas_f1[i], c=colors[i], marker=markers[i])\r\n",
    "\r\n",
    "plt.show()"
   ],
   "outputs": [
    {
     "output_type": "display_data",
     "data": {
      "text/plain": [
       "<Figure size 432x288 with 1 Axes>"
      ],
      "image/svg+xml": "<?xml version=\"1.0\" encoding=\"utf-8\" standalone=\"no\"?>\r\n<!DOCTYPE svg PUBLIC \"-//W3C//DTD SVG 1.1//EN\"\r\n  \"http://www.w3.org/Graphics/SVG/1.1/DTD/svg11.dtd\">\r\n<!-- Created with matplotlib (https://matplotlib.org/) -->\r\n<svg height=\"248.518125pt\" version=\"1.1\" viewBox=\"0 0 362.5625 248.518125\" width=\"362.5625pt\" xmlns=\"http://www.w3.org/2000/svg\" xmlns:xlink=\"http://www.w3.org/1999/xlink\">\r\n <metadata>\r\n  <rdf:RDF xmlns:cc=\"http://creativecommons.org/ns#\" xmlns:dc=\"http://purl.org/dc/elements/1.1/\" xmlns:rdf=\"http://www.w3.org/1999/02/22-rdf-syntax-ns#\">\r\n   <cc:Work>\r\n    <dc:type rdf:resource=\"http://purl.org/dc/dcmitype/StillImage\"/>\r\n    <dc:date>2021-08-27T13:07:08.089352</dc:date>\r\n    <dc:format>image/svg+xml</dc:format>\r\n    <dc:creator>\r\n     <cc:Agent>\r\n      <dc:title>Matplotlib v3.3.2, https://matplotlib.org/</dc:title>\r\n     </cc:Agent>\r\n    </dc:creator>\r\n   </cc:Work>\r\n  </rdf:RDF>\r\n </metadata>\r\n <defs>\r\n  <style type=\"text/css\">*{stroke-linecap:butt;stroke-linejoin:round;}</style>\r\n </defs>\r\n <g id=\"figure_1\">\r\n  <g id=\"patch_1\">\r\n   <path d=\"M 0 248.518125 \r\nL 362.5625 248.518125 \r\nL 362.5625 0 \r\nL 0 0 \r\nz\r\n\" style=\"fill:none;\"/>\r\n  </g>\r\n  <g id=\"axes_1\">\r\n   <g id=\"patch_2\">\r\n    <path d=\"M 20.5625 224.64 \r\nL 355.3625 224.64 \r\nL 355.3625 7.2 \r\nL 20.5625 7.2 \r\nz\r\n\" style=\"fill:#ffffff;\"/>\r\n   </g>\r\n   <g id=\"PathCollection_1\">\r\n    <defs>\r\n     <path d=\"M -2.99994 2.99994 \r\nL 3.00006 2.99994 \r\nL 3.00006 -3.00006 \r\nL -2.99994 -3.00006 \r\nz\r\n\" id=\"m1d97cb166c\" style=\"stroke:#008000;\"/>\r\n    </defs>\r\n    <g clip-path=\"url(#p98329cb37f)\">\r\n     <use style=\"fill:#008000;stroke:#008000;\" x=\"35.780682\" xlink:href=\"#m1d97cb166c\" y=\"213.697453\"/>\r\n     <use style=\"fill:#008000;stroke:#008000;\" x=\"46.27598\" xlink:href=\"#m1d97cb166c\" y=\"206.013868\"/>\r\n     <use style=\"fill:#008000;stroke:#008000;\" x=\"56.771277\" xlink:href=\"#m1d97cb166c\" y=\"195.790526\"/>\r\n     <use style=\"fill:#008000;stroke:#008000;\" x=\"67.266575\" xlink:href=\"#m1d97cb166c\" y=\"190.106493\"/>\r\n     <use style=\"fill:#008000;stroke:#008000;\" x=\"77.761873\" xlink:href=\"#m1d97cb166c\" y=\"182.827343\"/>\r\n     <use style=\"fill:#008000;stroke:#008000;\" x=\"88.257171\" xlink:href=\"#m1d97cb166c\" y=\"177.556767\"/>\r\n     <use style=\"fill:#008000;stroke:#008000;\" x=\"98.752469\" xlink:href=\"#m1d97cb166c\" y=\"159.218576\"/>\r\n     <use style=\"fill:#008000;stroke:#008000;\" x=\"109.247766\" xlink:href=\"#m1d97cb166c\" y=\"162.671438\"/>\r\n     <use style=\"fill:#008000;stroke:#008000;\" x=\"119.743064\" xlink:href=\"#m1d97cb166c\" y=\"156.732021\"/>\r\n     <use style=\"fill:#008000;stroke:#008000;\" x=\"130.238362\" xlink:href=\"#m1d97cb166c\" y=\"140.567042\"/>\r\n     <use style=\"fill:#008000;stroke:#008000;\" x=\"140.73366\" xlink:href=\"#m1d97cb166c\" y=\"135.06281\"/>\r\n     <use style=\"fill:#008000;stroke:#008000;\" x=\"151.228958\" xlink:href=\"#m1d97cb166c\" y=\"139.165245\"/>\r\n     <use style=\"fill:#008000;stroke:#008000;\" x=\"161.724255\" xlink:href=\"#m1d97cb166c\" y=\"126.291387\"/>\r\n     <use style=\"fill:#008000;stroke:#008000;\" x=\"172.219553\" xlink:href=\"#m1d97cb166c\" y=\"114.864478\"/>\r\n     <use style=\"fill:#008000;stroke:#008000;\" x=\"182.714851\" xlink:href=\"#m1d97cb166c\" y=\"108.746296\"/>\r\n     <use style=\"fill:#008000;stroke:#008000;\" x=\"193.210149\" xlink:href=\"#m1d97cb166c\" y=\"105.261725\"/>\r\n     <use style=\"fill:#008000;stroke:#008000;\" x=\"203.705447\" xlink:href=\"#m1d97cb166c\" y=\"96.033772\"/>\r\n     <use style=\"fill:#008000;stroke:#008000;\" x=\"214.200745\" xlink:href=\"#m1d97cb166c\" y=\"89.970181\"/>\r\n     <use style=\"fill:#008000;stroke:#008000;\" x=\"224.696042\" xlink:href=\"#m1d97cb166c\" y=\"83.47524\"/>\r\n     <use style=\"fill:#008000;stroke:#008000;\" x=\"235.19134\" xlink:href=\"#m1d97cb166c\" y=\"75.953681\"/>\r\n     <use style=\"fill:#008000;stroke:#008000;\" x=\"245.686638\" xlink:href=\"#m1d97cb166c\" y=\"71.742676\"/>\r\n     <use style=\"fill:#008000;stroke:#008000;\" x=\"256.181936\" xlink:href=\"#m1d97cb166c\" y=\"64.804022\"/>\r\n     <use style=\"fill:#008000;stroke:#008000;\" x=\"266.677234\" xlink:href=\"#m1d97cb166c\" y=\"57.136711\"/>\r\n     <use style=\"fill:#008000;stroke:#008000;\" x=\"277.172531\" xlink:href=\"#m1d97cb166c\" y=\"52.059469\"/>\r\n     <use style=\"fill:#008000;stroke:#008000;\" x=\"287.667829\" xlink:href=\"#m1d97cb166c\" y=\"46.669043\"/>\r\n     <use style=\"fill:#008000;stroke:#008000;\" x=\"298.163127\" xlink:href=\"#m1d97cb166c\" y=\"39.862319\"/>\r\n     <use style=\"fill:#008000;stroke:#008000;\" x=\"308.658425\" xlink:href=\"#m1d97cb166c\" y=\"33.545093\"/>\r\n     <use style=\"fill:#008000;stroke:#008000;\" x=\"319.153723\" xlink:href=\"#m1d97cb166c\" y=\"28.936251\"/>\r\n     <use style=\"fill:#008000;stroke:#008000;\" x=\"329.64902\" xlink:href=\"#m1d97cb166c\" y=\"18.562456\"/>\r\n     <use style=\"fill:#008000;stroke:#008000;\" x=\"340.144318\" xlink:href=\"#m1d97cb166c\" y=\"17.083636\"/>\r\n    </g>\r\n   </g>\r\n   <g id=\"PathCollection_2\">\r\n    <defs>\r\n     <path d=\"M -3 3 \r\nL 3 -3 \r\nM -3 -3 \r\nL 3 3 \r\n\" id=\"m6c4659b6e7\" style=\"stroke:#ff0000;stroke-width:1.5;\"/>\r\n    </defs>\r\n    <g clip-path=\"url(#p98329cb37f)\">\r\n     <use style=\"fill:#ff0000;stroke:#ff0000;stroke-width:1.5;\" x=\"35.780682\" xlink:href=\"#m6c4659b6e7\" y=\"213.697453\"/>\r\n     <use style=\"fill:#ff0000;stroke:#ff0000;stroke-width:1.5;\" x=\"46.27598\" xlink:href=\"#m6c4659b6e7\" y=\"206.013868\"/>\r\n     <use style=\"fill:#ff0000;stroke:#ff0000;stroke-width:1.5;\" x=\"56.771277\" xlink:href=\"#m6c4659b6e7\" y=\"195.790526\"/>\r\n     <use style=\"fill:#ff0000;stroke:#ff0000;stroke-width:1.5;\" x=\"67.266575\" xlink:href=\"#m6c4659b6e7\" y=\"190.106493\"/>\r\n     <use style=\"fill:#ff0000;stroke:#ff0000;stroke-width:1.5;\" x=\"77.761873\" xlink:href=\"#m6c4659b6e7\" y=\"182.827343\"/>\r\n     <use style=\"fill:#ff0000;stroke:#ff0000;stroke-width:1.5;\" x=\"88.257171\" xlink:href=\"#m6c4659b6e7\" y=\"177.556767\"/>\r\n     <use style=\"fill:#ff0000;stroke:#ff0000;stroke-width:1.5;\" x=\"98.752469\" xlink:href=\"#m6c4659b6e7\" y=\"159.218577\"/>\r\n     <use style=\"fill:#ff0000;stroke:#ff0000;stroke-width:1.5;\" x=\"109.247766\" xlink:href=\"#m6c4659b6e7\" y=\"162.671438\"/>\r\n     <use style=\"fill:#ff0000;stroke:#ff0000;stroke-width:1.5;\" x=\"119.743064\" xlink:href=\"#m6c4659b6e7\" y=\"156.732022\"/>\r\n     <use style=\"fill:#ff0000;stroke:#ff0000;stroke-width:1.5;\" x=\"130.238362\" xlink:href=\"#m6c4659b6e7\" y=\"140.567042\"/>\r\n     <use style=\"fill:#ff0000;stroke:#ff0000;stroke-width:1.5;\" x=\"140.73366\" xlink:href=\"#m6c4659b6e7\" y=\"135.062811\"/>\r\n     <use style=\"fill:#ff0000;stroke:#ff0000;stroke-width:1.5;\" x=\"151.228958\" xlink:href=\"#m6c4659b6e7\" y=\"139.165247\"/>\r\n     <use style=\"fill:#ff0000;stroke:#ff0000;stroke-width:1.5;\" x=\"161.724255\" xlink:href=\"#m6c4659b6e7\" y=\"126.291391\"/>\r\n     <use style=\"fill:#ff0000;stroke:#ff0000;stroke-width:1.5;\" x=\"172.219553\" xlink:href=\"#m6c4659b6e7\" y=\"114.864484\"/>\r\n     <use style=\"fill:#ff0000;stroke:#ff0000;stroke-width:1.5;\" x=\"182.714851\" xlink:href=\"#m6c4659b6e7\" y=\"108.746305\"/>\r\n     <use style=\"fill:#ff0000;stroke:#ff0000;stroke-width:1.5;\" x=\"193.210149\" xlink:href=\"#m6c4659b6e7\" y=\"105.261735\"/>\r\n     <use style=\"fill:#ff0000;stroke:#ff0000;stroke-width:1.5;\" x=\"203.705447\" xlink:href=\"#m6c4659b6e7\" y=\"96.033799\"/>\r\n     <use style=\"fill:#ff0000;stroke:#ff0000;stroke-width:1.5;\" x=\"214.200745\" xlink:href=\"#m6c4659b6e7\" y=\"89.970217\"/>\r\n     <use style=\"fill:#ff0000;stroke:#ff0000;stroke-width:1.5;\" x=\"224.696042\" xlink:href=\"#m6c4659b6e7\" y=\"83.4753\"/>\r\n     <use style=\"fill:#ff0000;stroke:#ff0000;stroke-width:1.5;\" x=\"235.19134\" xlink:href=\"#m6c4659b6e7\" y=\"75.953796\"/>\r\n     <use style=\"fill:#ff0000;stroke:#ff0000;stroke-width:1.5;\" x=\"245.686638\" xlink:href=\"#m6c4659b6e7\" y=\"71.742829\"/>\r\n     <use style=\"fill:#ff0000;stroke:#ff0000;stroke-width:1.5;\" x=\"256.181936\" xlink:href=\"#m6c4659b6e7\" y=\"64.804267\"/>\r\n     <use style=\"fill:#ff0000;stroke:#ff0000;stroke-width:1.5;\" x=\"266.677234\" xlink:href=\"#m6c4659b6e7\" y=\"57.137166\"/>\r\n     <use style=\"fill:#ff0000;stroke:#ff0000;stroke-width:1.5;\" x=\"277.172531\" xlink:href=\"#m6c4659b6e7\" y=\"52.060213\"/>\r\n     <use style=\"fill:#ff0000;stroke:#ff0000;stroke-width:1.5;\" x=\"287.667829\" xlink:href=\"#m6c4659b6e7\" y=\"46.67009\"/>\r\n     <use style=\"fill:#ff0000;stroke:#ff0000;stroke-width:1.5;\" x=\"298.163127\" xlink:href=\"#m6c4659b6e7\" y=\"39.864038\"/>\r\n     <use style=\"fill:#ff0000;stroke:#ff0000;stroke-width:1.5;\" x=\"308.658425\" xlink:href=\"#m6c4659b6e7\" y=\"33.548031\"/>\r\n     <use style=\"fill:#ff0000;stroke:#ff0000;stroke-width:1.5;\" x=\"319.153723\" xlink:href=\"#m6c4659b6e7\" y=\"28.940837\"/>\r\n     <use style=\"fill:#ff0000;stroke:#ff0000;stroke-width:1.5;\" x=\"329.64902\" xlink:href=\"#m6c4659b6e7\" y=\"18.572416\"/>\r\n     <use style=\"fill:#ff0000;stroke:#ff0000;stroke-width:1.5;\" x=\"340.144318\" xlink:href=\"#m6c4659b6e7\" y=\"17.091681\"/>\r\n    </g>\r\n   </g>\r\n   <g id=\"PathCollection_3\">\r\n    <defs>\r\n     <path d=\"M 0 3 \r\nC 0.795609 3 1.55874 2.683901 2.12132 2.12132 \r\nC 2.683901 1.55874 3 0.795609 3 0 \r\nC 3 -0.795609 2.683901 -1.55874 2.12132 -2.12132 \r\nC 1.55874 -2.683901 0.795609 -3 0 -3 \r\nC -0.795609 -3 -1.55874 -2.683901 -2.12132 -2.12132 \r\nC -2.683901 -1.55874 -3 -0.795609 -3 0 \r\nC -3 0.795609 -2.683901 1.55874 -2.12132 2.12132 \r\nC -1.55874 2.683901 -0.795609 3 0 3 \r\nz\r\n\" id=\"m62bb87dd70\" style=\"stroke:#0000ff;\"/>\r\n    </defs>\r\n    <g clip-path=\"url(#p98329cb37f)\">\r\n     <use style=\"fill:#0000ff;stroke:#0000ff;\" x=\"35.780682\" xlink:href=\"#m62bb87dd70\" y=\"213.697565\"/>\r\n     <use style=\"fill:#0000ff;stroke:#0000ff;\" x=\"46.27598\" xlink:href=\"#m62bb87dd70\" y=\"206.014093\"/>\r\n     <use style=\"fill:#0000ff;stroke:#0000ff;\" x=\"56.771277\" xlink:href=\"#m62bb87dd70\" y=\"195.790908\"/>\r\n     <use style=\"fill:#0000ff;stroke:#0000ff;\" x=\"67.266575\" xlink:href=\"#m62bb87dd70\" y=\"190.107067\"/>\r\n     <use style=\"fill:#0000ff;stroke:#0000ff;\" x=\"77.761873\" xlink:href=\"#m62bb87dd70\" y=\"182.828138\"/>\r\n     <use style=\"fill:#0000ff;stroke:#0000ff;\" x=\"88.257171\" xlink:href=\"#m62bb87dd70\" y=\"177.558006\"/>\r\n     <use style=\"fill:#0000ff;stroke:#0000ff;\" x=\"98.752469\" xlink:href=\"#m62bb87dd70\" y=\"170.951894\"/>\r\n     <use style=\"fill:#0000ff;stroke:#0000ff;\" x=\"109.247766\" xlink:href=\"#m62bb87dd70\" y=\"162.674058\"/>\r\n     <use style=\"fill:#0000ff;stroke:#0000ff;\" x=\"119.743064\" xlink:href=\"#m62bb87dd70\" y=\"156.735747\"/>\r\n     <use style=\"fill:#0000ff;stroke:#0000ff;\" x=\"130.238362\" xlink:href=\"#m62bb87dd70\" y=\"140.574961\"/>\r\n     <use style=\"fill:#0000ff;stroke:#0000ff;\" x=\"140.73366\" xlink:href=\"#m62bb87dd70\" y=\"135.073195\"/>\r\n     <use style=\"fill:#0000ff;stroke:#0000ff;\" x=\"151.228958\" xlink:href=\"#m62bb87dd70\" y=\"139.182849\"/>\r\n     <use style=\"fill:#0000ff;stroke:#0000ff;\" x=\"161.724255\" xlink:href=\"#m62bb87dd70\" y=\"126.32907\"/>\r\n     <use style=\"fill:#0000ff;stroke:#0000ff;\" x=\"172.219553\" xlink:href=\"#m62bb87dd70\" y=\"114.920228\"/>\r\n     <use style=\"fill:#0000ff;stroke:#0000ff;\" x=\"182.714851\" xlink:href=\"#m62bb87dd70\" y=\"108.844767\"/>\r\n     <use style=\"fill:#0000ff;stroke:#0000ff;\" x=\"193.210149\" xlink:href=\"#m62bb87dd70\" y=\"105.391991\"/>\r\n     <use style=\"fill:#0000ff;stroke:#0000ff;\" x=\"203.705447\" xlink:href=\"#m62bb87dd70\" y=\"96.28362\"/>\r\n     <use style=\"fill:#0000ff;stroke:#0000ff;\" x=\"214.200745\" xlink:href=\"#m62bb87dd70\" y=\"93.253493\"/>\r\n     <use style=\"fill:#0000ff;stroke:#0000ff;\" x=\"224.696042\" xlink:href=\"#m62bb87dd70\" y=\"84.214158\"/>\r\n     <use style=\"fill:#0000ff;stroke:#0000ff;\" x=\"235.19134\" xlink:href=\"#m62bb87dd70\" y=\"77.321677\"/>\r\n     <use style=\"fill:#0000ff;stroke:#0000ff;\" x=\"245.686638\" xlink:href=\"#m62bb87dd70\" y=\"73.395225\"/>\r\n     <use style=\"fill:#0000ff;stroke:#0000ff;\" x=\"256.181936\" xlink:href=\"#m62bb87dd70\" y=\"67.643625\"/>\r\n     <use style=\"fill:#0000ff;stroke:#0000ff;\" x=\"266.677234\" xlink:href=\"#m62bb87dd70\" y=\"63.287199\"/>\r\n     <use style=\"fill:#0000ff;stroke:#0000ff;\" x=\"277.172531\" xlink:href=\"#m62bb87dd70\" y=\"59.480102\"/>\r\n     <use style=\"fill:#0000ff;stroke:#0000ff;\" x=\"287.667829\" xlink:href=\"#m62bb87dd70\" y=\"57.318933\"/>\r\n     <use style=\"fill:#0000ff;stroke:#0000ff;\" x=\"298.163127\" xlink:href=\"#m62bb87dd70\" y=\"55.620877\"/>\r\n     <use style=\"fill:#0000ff;stroke:#0000ff;\" x=\"308.658425\" xlink:href=\"#m62bb87dd70\" y=\"55.515596\"/>\r\n     <use style=\"fill:#0000ff;stroke:#0000ff;\" x=\"319.153723\" xlink:href=\"#m62bb87dd70\" y=\"54.835557\"/>\r\n     <use style=\"fill:#0000ff;stroke:#0000ff;\" x=\"329.64902\" xlink:href=\"#m62bb87dd70\" y=\"55.214733\"/>\r\n     <use style=\"fill:#0000ff;stroke:#0000ff;\" x=\"340.144318\" xlink:href=\"#m62bb87dd70\" y=\"53.801569\"/>\r\n    </g>\r\n   </g>\r\n   <g id=\"PathCollection_4\">\r\n    <defs>\r\n     <path d=\"M -3 0 \r\nL 3 0 \r\nM 0 3 \r\nL 0 -3 \r\n\" id=\"m99cd09f96a\" style=\"stroke:#ffa500;stroke-width:1.5;\"/>\r\n    </defs>\r\n    <g clip-path=\"url(#p98329cb37f)\">\r\n     <use style=\"fill:#ffa500;stroke:#ffa500;stroke-width:1.5;\" x=\"35.780682\" xlink:href=\"#m99cd09f96a\" y=\"214.756364\"/>\r\n     <use style=\"fill:#ffa500;stroke:#ffa500;stroke-width:1.5;\" x=\"46.27598\" xlink:href=\"#m99cd09f96a\" y=\"207.936095\"/>\r\n     <use style=\"fill:#ffa500;stroke:#ffa500;stroke-width:1.5;\" x=\"56.771277\" xlink:href=\"#m99cd09f96a\" y=\"199.719697\"/>\r\n     <use style=\"fill:#ffa500;stroke:#ffa500;stroke-width:1.5;\" x=\"67.266575\" xlink:href=\"#m99cd09f96a\" y=\"194.864645\"/>\r\n     <use style=\"fill:#ffa500;stroke:#ffa500;stroke-width:1.5;\" x=\"77.761873\" xlink:href=\"#m99cd09f96a\" y=\"189.534127\"/>\r\n     <use style=\"fill:#ffa500;stroke:#ffa500;stroke-width:1.5;\" x=\"88.257171\" xlink:href=\"#m99cd09f96a\" y=\"187.387736\"/>\r\n     <use style=\"fill:#ffa500;stroke:#ffa500;stroke-width:1.5;\" x=\"98.752469\" xlink:href=\"#m99cd09f96a\" y=\"183.980243\"/>\r\n     <use style=\"fill:#ffa500;stroke:#ffa500;stroke-width:1.5;\" x=\"109.247766\" xlink:href=\"#m99cd09f96a\" y=\"180.582626\"/>\r\n     <use style=\"fill:#ffa500;stroke:#ffa500;stroke-width:1.5;\" x=\"119.743064\" xlink:href=\"#m99cd09f96a\" y=\"179.464337\"/>\r\n     <use style=\"fill:#ffa500;stroke:#ffa500;stroke-width:1.5;\" x=\"130.238362\" xlink:href=\"#m99cd09f96a\" y=\"177.056532\"/>\r\n     <use style=\"fill:#ffa500;stroke:#ffa500;stroke-width:1.5;\" x=\"140.73366\" xlink:href=\"#m99cd09f96a\" y=\"176.023974\"/>\r\n     <use style=\"fill:#ffa500;stroke:#ffa500;stroke-width:1.5;\" x=\"151.228958\" xlink:href=\"#m99cd09f96a\" y=\"176.663286\"/>\r\n     <use style=\"fill:#ffa500;stroke:#ffa500;stroke-width:1.5;\" x=\"161.724255\" xlink:href=\"#m99cd09f96a\" y=\"176.851954\"/>\r\n     <use style=\"fill:#ffa500;stroke:#ffa500;stroke-width:1.5;\" x=\"172.219553\" xlink:href=\"#m99cd09f96a\" y=\"175.588057\"/>\r\n     <use style=\"fill:#ffa500;stroke:#ffa500;stroke-width:1.5;\" x=\"182.714851\" xlink:href=\"#m99cd09f96a\" y=\"175.401653\"/>\r\n     <use style=\"fill:#ffa500;stroke:#ffa500;stroke-width:1.5;\" x=\"193.210149\" xlink:href=\"#m99cd09f96a\" y=\"174.926559\"/>\r\n     <use style=\"fill:#ffa500;stroke:#ffa500;stroke-width:1.5;\" x=\"203.705447\" xlink:href=\"#m99cd09f96a\" y=\"175.538847\"/>\r\n     <use style=\"fill:#ffa500;stroke:#ffa500;stroke-width:1.5;\" x=\"214.200745\" xlink:href=\"#m99cd09f96a\" y=\"174.073524\"/>\r\n     <use style=\"fill:#ffa500;stroke:#ffa500;stroke-width:1.5;\" x=\"224.696042\" xlink:href=\"#m99cd09f96a\" y=\"174.8077\"/>\r\n     <use style=\"fill:#ffa500;stroke:#ffa500;stroke-width:1.5;\" x=\"235.19134\" xlink:href=\"#m99cd09f96a\" y=\"174.515697\"/>\r\n     <use style=\"fill:#ffa500;stroke:#ffa500;stroke-width:1.5;\" x=\"245.686638\" xlink:href=\"#m99cd09f96a\" y=\"174.831743\"/>\r\n     <use style=\"fill:#ffa500;stroke:#ffa500;stroke-width:1.5;\" x=\"256.181936\" xlink:href=\"#m99cd09f96a\" y=\"174.47814\"/>\r\n     <use style=\"fill:#ffa500;stroke:#ffa500;stroke-width:1.5;\" x=\"266.677234\" xlink:href=\"#m99cd09f96a\" y=\"174.376241\"/>\r\n     <use style=\"fill:#ffa500;stroke:#ffa500;stroke-width:1.5;\" x=\"277.172531\" xlink:href=\"#m99cd09f96a\" y=\"174.079095\"/>\r\n     <use style=\"fill:#ffa500;stroke:#ffa500;stroke-width:1.5;\" x=\"287.667829\" xlink:href=\"#m99cd09f96a\" y=\"174.38765\"/>\r\n     <use style=\"fill:#ffa500;stroke:#ffa500;stroke-width:1.5;\" x=\"298.163127\" xlink:href=\"#m99cd09f96a\" y=\"174.777556\"/>\r\n     <use style=\"fill:#ffa500;stroke:#ffa500;stroke-width:1.5;\" x=\"308.658425\" xlink:href=\"#m99cd09f96a\" y=\"174.222814\"/>\r\n     <use style=\"fill:#ffa500;stroke:#ffa500;stroke-width:1.5;\" x=\"319.153723\" xlink:href=\"#m99cd09f96a\" y=\"174.778519\"/>\r\n     <use style=\"fill:#ffa500;stroke:#ffa500;stroke-width:1.5;\" x=\"329.64902\" xlink:href=\"#m99cd09f96a\" y=\"175.604152\"/>\r\n     <use style=\"fill:#ffa500;stroke:#ffa500;stroke-width:1.5;\" x=\"340.144318\" xlink:href=\"#m99cd09f96a\" y=\"174.590844\"/>\r\n    </g>\r\n   </g>\r\n   <g id=\"matplotlib.axis_1\">\r\n    <g id=\"xtick_1\">\r\n     <g id=\"line2d_1\">\r\n      <defs>\r\n       <path d=\"M 0 0 \r\nL 0 3.5 \r\n\" id=\"m3f0623de31\" style=\"stroke:#000000;stroke-width:0.8;\"/>\r\n      </defs>\r\n      <g>\r\n       <use style=\"stroke:#000000;stroke-width:0.8;\" x=\"35.780682\" xlink:href=\"#m3f0623de31\" y=\"224.64\"/>\r\n      </g>\r\n     </g>\r\n     <g id=\"text_1\">\r\n      <!-- 1.5 -->\r\n      <g transform=\"translate(27.829119 239.238438)scale(0.1 -0.1)\">\r\n       <defs>\r\n        <path d=\"M 12.40625 8.296875 \r\nL 28.515625 8.296875 \r\nL 28.515625 63.921875 \r\nL 10.984375 60.40625 \r\nL 10.984375 69.390625 \r\nL 28.421875 72.90625 \r\nL 38.28125 72.90625 \r\nL 38.28125 8.296875 \r\nL 54.390625 8.296875 \r\nL 54.390625 0 \r\nL 12.40625 0 \r\nz\r\n\" id=\"DejaVuSans-49\"/>\r\n        <path d=\"M 10.6875 12.40625 \r\nL 21 12.40625 \r\nL 21 0 \r\nL 10.6875 0 \r\nz\r\n\" id=\"DejaVuSans-46\"/>\r\n        <path d=\"M 10.796875 72.90625 \r\nL 49.515625 72.90625 \r\nL 49.515625 64.59375 \r\nL 19.828125 64.59375 \r\nL 19.828125 46.734375 \r\nQ 21.96875 47.46875 24.109375 47.828125 \r\nQ 26.265625 48.1875 28.421875 48.1875 \r\nQ 40.625 48.1875 47.75 41.5 \r\nQ 54.890625 34.8125 54.890625 23.390625 \r\nQ 54.890625 11.625 47.5625 5.09375 \r\nQ 40.234375 -1.421875 26.90625 -1.421875 \r\nQ 22.3125 -1.421875 17.546875 -0.640625 \r\nQ 12.796875 0.140625 7.71875 1.703125 \r\nL 7.71875 11.625 \r\nQ 12.109375 9.234375 16.796875 8.0625 \r\nQ 21.484375 6.890625 26.703125 6.890625 \r\nQ 35.15625 6.890625 40.078125 11.328125 \r\nQ 45.015625 15.765625 45.015625 23.390625 \r\nQ 45.015625 31 40.078125 35.4375 \r\nQ 35.15625 39.890625 26.703125 39.890625 \r\nQ 22.75 39.890625 18.8125 39.015625 \r\nQ 14.890625 38.140625 10.796875 36.28125 \r\nz\r\n\" id=\"DejaVuSans-53\"/>\r\n       </defs>\r\n       <use xlink:href=\"#DejaVuSans-49\"/>\r\n       <use x=\"63.623047\" xlink:href=\"#DejaVuSans-46\"/>\r\n       <use x=\"95.410156\" xlink:href=\"#DejaVuSans-53\"/>\r\n      </g>\r\n     </g>\r\n    </g>\r\n    <g id=\"xtick_2\">\r\n     <g id=\"line2d_2\">\r\n      <g>\r\n       <use style=\"stroke:#000000;stroke-width:0.8;\" x=\"86.507955\" xlink:href=\"#m3f0623de31\" y=\"224.64\"/>\r\n      </g>\r\n     </g>\r\n     <g id=\"text_2\">\r\n      <!-- 2.0 -->\r\n      <g transform=\"translate(78.556392 239.238438)scale(0.1 -0.1)\">\r\n       <defs>\r\n        <path d=\"M 19.1875 8.296875 \r\nL 53.609375 8.296875 \r\nL 53.609375 0 \r\nL 7.328125 0 \r\nL 7.328125 8.296875 \r\nQ 12.9375 14.109375 22.625 23.890625 \r\nQ 32.328125 33.6875 34.8125 36.53125 \r\nQ 39.546875 41.84375 41.421875 45.53125 \r\nQ 43.3125 49.21875 43.3125 52.78125 \r\nQ 43.3125 58.59375 39.234375 62.25 \r\nQ 35.15625 65.921875 28.609375 65.921875 \r\nQ 23.96875 65.921875 18.8125 64.3125 \r\nQ 13.671875 62.703125 7.8125 59.421875 \r\nL 7.8125 69.390625 \r\nQ 13.765625 71.78125 18.9375 73 \r\nQ 24.125 74.21875 28.421875 74.21875 \r\nQ 39.75 74.21875 46.484375 68.546875 \r\nQ 53.21875 62.890625 53.21875 53.421875 \r\nQ 53.21875 48.921875 51.53125 44.890625 \r\nQ 49.859375 40.875 45.40625 35.40625 \r\nQ 44.1875 33.984375 37.640625 27.21875 \r\nQ 31.109375 20.453125 19.1875 8.296875 \r\nz\r\n\" id=\"DejaVuSans-50\"/>\r\n        <path d=\"M 31.78125 66.40625 \r\nQ 24.171875 66.40625 20.328125 58.90625 \r\nQ 16.5 51.421875 16.5 36.375 \r\nQ 16.5 21.390625 20.328125 13.890625 \r\nQ 24.171875 6.390625 31.78125 6.390625 \r\nQ 39.453125 6.390625 43.28125 13.890625 \r\nQ 47.125 21.390625 47.125 36.375 \r\nQ 47.125 51.421875 43.28125 58.90625 \r\nQ 39.453125 66.40625 31.78125 66.40625 \r\nz\r\nM 31.78125 74.21875 \r\nQ 44.046875 74.21875 50.515625 64.515625 \r\nQ 56.984375 54.828125 56.984375 36.375 \r\nQ 56.984375 17.96875 50.515625 8.265625 \r\nQ 44.046875 -1.421875 31.78125 -1.421875 \r\nQ 19.53125 -1.421875 13.0625 8.265625 \r\nQ 6.59375 17.96875 6.59375 36.375 \r\nQ 6.59375 54.828125 13.0625 64.515625 \r\nQ 19.53125 74.21875 31.78125 74.21875 \r\nz\r\n\" id=\"DejaVuSans-48\"/>\r\n       </defs>\r\n       <use xlink:href=\"#DejaVuSans-50\"/>\r\n       <use x=\"63.623047\" xlink:href=\"#DejaVuSans-46\"/>\r\n       <use x=\"95.410156\" xlink:href=\"#DejaVuSans-48\"/>\r\n      </g>\r\n     </g>\r\n    </g>\r\n    <g id=\"xtick_3\">\r\n     <g id=\"line2d_3\">\r\n      <g>\r\n       <use style=\"stroke:#000000;stroke-width:0.8;\" x=\"137.235227\" xlink:href=\"#m3f0623de31\" y=\"224.64\"/>\r\n      </g>\r\n     </g>\r\n     <g id=\"text_3\">\r\n      <!-- 2.5 -->\r\n      <g transform=\"translate(129.283665 239.238438)scale(0.1 -0.1)\">\r\n       <use xlink:href=\"#DejaVuSans-50\"/>\r\n       <use x=\"63.623047\" xlink:href=\"#DejaVuSans-46\"/>\r\n       <use x=\"95.410156\" xlink:href=\"#DejaVuSans-53\"/>\r\n      </g>\r\n     </g>\r\n    </g>\r\n    <g id=\"xtick_4\">\r\n     <g id=\"line2d_4\">\r\n      <g>\r\n       <use style=\"stroke:#000000;stroke-width:0.8;\" x=\"187.9625\" xlink:href=\"#m3f0623de31\" y=\"224.64\"/>\r\n      </g>\r\n     </g>\r\n     <g id=\"text_4\">\r\n      <!-- 3.0 -->\r\n      <g transform=\"translate(180.010937 239.238438)scale(0.1 -0.1)\">\r\n       <defs>\r\n        <path d=\"M 40.578125 39.3125 \r\nQ 47.65625 37.796875 51.625 33 \r\nQ 55.609375 28.21875 55.609375 21.1875 \r\nQ 55.609375 10.40625 48.1875 4.484375 \r\nQ 40.765625 -1.421875 27.09375 -1.421875 \r\nQ 22.515625 -1.421875 17.65625 -0.515625 \r\nQ 12.796875 0.390625 7.625 2.203125 \r\nL 7.625 11.71875 \r\nQ 11.71875 9.328125 16.59375 8.109375 \r\nQ 21.484375 6.890625 26.8125 6.890625 \r\nQ 36.078125 6.890625 40.9375 10.546875 \r\nQ 45.796875 14.203125 45.796875 21.1875 \r\nQ 45.796875 27.640625 41.28125 31.265625 \r\nQ 36.765625 34.90625 28.71875 34.90625 \r\nL 20.21875 34.90625 \r\nL 20.21875 43.015625 \r\nL 29.109375 43.015625 \r\nQ 36.375 43.015625 40.234375 45.921875 \r\nQ 44.09375 48.828125 44.09375 54.296875 \r\nQ 44.09375 59.90625 40.109375 62.90625 \r\nQ 36.140625 65.921875 28.71875 65.921875 \r\nQ 24.65625 65.921875 20.015625 65.03125 \r\nQ 15.375 64.15625 9.8125 62.3125 \r\nL 9.8125 71.09375 \r\nQ 15.4375 72.65625 20.34375 73.4375 \r\nQ 25.25 74.21875 29.59375 74.21875 \r\nQ 40.828125 74.21875 47.359375 69.109375 \r\nQ 53.90625 64.015625 53.90625 55.328125 \r\nQ 53.90625 49.265625 50.4375 45.09375 \r\nQ 46.96875 40.921875 40.578125 39.3125 \r\nz\r\n\" id=\"DejaVuSans-51\"/>\r\n       </defs>\r\n       <use xlink:href=\"#DejaVuSans-51\"/>\r\n       <use x=\"63.623047\" xlink:href=\"#DejaVuSans-46\"/>\r\n       <use x=\"95.410156\" xlink:href=\"#DejaVuSans-48\"/>\r\n      </g>\r\n     </g>\r\n    </g>\r\n    <g id=\"xtick_5\">\r\n     <g id=\"line2d_5\">\r\n      <g>\r\n       <use style=\"stroke:#000000;stroke-width:0.8;\" x=\"238.689773\" xlink:href=\"#m3f0623de31\" y=\"224.64\"/>\r\n      </g>\r\n     </g>\r\n     <g id=\"text_5\">\r\n      <!-- 3.5 -->\r\n      <g transform=\"translate(230.73821 239.238438)scale(0.1 -0.1)\">\r\n       <use xlink:href=\"#DejaVuSans-51\"/>\r\n       <use x=\"63.623047\" xlink:href=\"#DejaVuSans-46\"/>\r\n       <use x=\"95.410156\" xlink:href=\"#DejaVuSans-53\"/>\r\n      </g>\r\n     </g>\r\n    </g>\r\n    <g id=\"xtick_6\">\r\n     <g id=\"line2d_6\">\r\n      <g>\r\n       <use style=\"stroke:#000000;stroke-width:0.8;\" x=\"289.417045\" xlink:href=\"#m3f0623de31\" y=\"224.64\"/>\r\n      </g>\r\n     </g>\r\n     <g id=\"text_6\">\r\n      <!-- 4.0 -->\r\n      <g transform=\"translate(281.465483 239.238438)scale(0.1 -0.1)\">\r\n       <defs>\r\n        <path d=\"M 37.796875 64.3125 \r\nL 12.890625 25.390625 \r\nL 37.796875 25.390625 \r\nz\r\nM 35.203125 72.90625 \r\nL 47.609375 72.90625 \r\nL 47.609375 25.390625 \r\nL 58.015625 25.390625 \r\nL 58.015625 17.1875 \r\nL 47.609375 17.1875 \r\nL 47.609375 0 \r\nL 37.796875 0 \r\nL 37.796875 17.1875 \r\nL 4.890625 17.1875 \r\nL 4.890625 26.703125 \r\nz\r\n\" id=\"DejaVuSans-52\"/>\r\n       </defs>\r\n       <use xlink:href=\"#DejaVuSans-52\"/>\r\n       <use x=\"63.623047\" xlink:href=\"#DejaVuSans-46\"/>\r\n       <use x=\"95.410156\" xlink:href=\"#DejaVuSans-48\"/>\r\n      </g>\r\n     </g>\r\n    </g>\r\n    <g id=\"xtick_7\">\r\n     <g id=\"line2d_7\">\r\n      <g>\r\n       <use style=\"stroke:#000000;stroke-width:0.8;\" x=\"340.144318\" xlink:href=\"#m3f0623de31\" y=\"224.64\"/>\r\n      </g>\r\n     </g>\r\n     <g id=\"text_7\">\r\n      <!-- 4.5 -->\r\n      <g transform=\"translate(332.192756 239.238438)scale(0.1 -0.1)\">\r\n       <use xlink:href=\"#DejaVuSans-52\"/>\r\n       <use x=\"63.623047\" xlink:href=\"#DejaVuSans-46\"/>\r\n       <use x=\"95.410156\" xlink:href=\"#DejaVuSans-53\"/>\r\n      </g>\r\n     </g>\r\n    </g>\r\n   </g>\r\n   <g id=\"matplotlib.axis_2\">\r\n    <g id=\"ytick_1\">\r\n     <g id=\"line2d_8\">\r\n      <defs>\r\n       <path d=\"M 0 0 \r\nL -3.5 0 \r\n\" id=\"mc8fac272ee\" style=\"stroke:#000000;stroke-width:0.8;\"/>\r\n      </defs>\r\n      <g>\r\n       <use style=\"stroke:#000000;stroke-width:0.8;\" x=\"20.5625\" xlink:href=\"#mc8fac272ee\" y=\"199.877543\"/>\r\n      </g>\r\n     </g>\r\n     <g id=\"text_8\">\r\n      <!-- 2 -->\r\n      <g transform=\"translate(7.2 203.676762)scale(0.1 -0.1)\">\r\n       <use xlink:href=\"#DejaVuSans-50\"/>\r\n      </g>\r\n     </g>\r\n    </g>\r\n    <g id=\"ytick_2\">\r\n     <g id=\"line2d_9\">\r\n      <g>\r\n       <use style=\"stroke:#000000;stroke-width:0.8;\" x=\"20.5625\" xlink:href=\"#mc8fac272ee\" y=\"169.65679\"/>\r\n      </g>\r\n     </g>\r\n     <g id=\"text_9\">\r\n      <!-- 3 -->\r\n      <g transform=\"translate(7.2 173.456009)scale(0.1 -0.1)\">\r\n       <use xlink:href=\"#DejaVuSans-51\"/>\r\n      </g>\r\n     </g>\r\n    </g>\r\n    <g id=\"ytick_3\">\r\n     <g id=\"line2d_10\">\r\n      <g>\r\n       <use style=\"stroke:#000000;stroke-width:0.8;\" x=\"20.5625\" xlink:href=\"#mc8fac272ee\" y=\"139.436037\"/>\r\n      </g>\r\n     </g>\r\n     <g id=\"text_10\">\r\n      <!-- 4 -->\r\n      <g transform=\"translate(7.2 143.235255)scale(0.1 -0.1)\">\r\n       <use xlink:href=\"#DejaVuSans-52\"/>\r\n      </g>\r\n     </g>\r\n    </g>\r\n    <g id=\"ytick_4\">\r\n     <g id=\"line2d_11\">\r\n      <g>\r\n       <use style=\"stroke:#000000;stroke-width:0.8;\" x=\"20.5625\" xlink:href=\"#mc8fac272ee\" y=\"109.215284\"/>\r\n      </g>\r\n     </g>\r\n     <g id=\"text_11\">\r\n      <!-- 5 -->\r\n      <g transform=\"translate(7.2 113.014502)scale(0.1 -0.1)\">\r\n       <use xlink:href=\"#DejaVuSans-53\"/>\r\n      </g>\r\n     </g>\r\n    </g>\r\n    <g id=\"ytick_5\">\r\n     <g id=\"line2d_12\">\r\n      <g>\r\n       <use style=\"stroke:#000000;stroke-width:0.8;\" x=\"20.5625\" xlink:href=\"#mc8fac272ee\" y=\"78.99453\"/>\r\n      </g>\r\n     </g>\r\n     <g id=\"text_12\">\r\n      <!-- 6 -->\r\n      <g transform=\"translate(7.2 82.793749)scale(0.1 -0.1)\">\r\n       <defs>\r\n        <path d=\"M 33.015625 40.375 \r\nQ 26.375 40.375 22.484375 35.828125 \r\nQ 18.609375 31.296875 18.609375 23.390625 \r\nQ 18.609375 15.53125 22.484375 10.953125 \r\nQ 26.375 6.390625 33.015625 6.390625 \r\nQ 39.65625 6.390625 43.53125 10.953125 \r\nQ 47.40625 15.53125 47.40625 23.390625 \r\nQ 47.40625 31.296875 43.53125 35.828125 \r\nQ 39.65625 40.375 33.015625 40.375 \r\nz\r\nM 52.59375 71.296875 \r\nL 52.59375 62.3125 \r\nQ 48.875 64.0625 45.09375 64.984375 \r\nQ 41.3125 65.921875 37.59375 65.921875 \r\nQ 27.828125 65.921875 22.671875 59.328125 \r\nQ 17.53125 52.734375 16.796875 39.40625 \r\nQ 19.671875 43.65625 24.015625 45.921875 \r\nQ 28.375 48.1875 33.59375 48.1875 \r\nQ 44.578125 48.1875 50.953125 41.515625 \r\nQ 57.328125 34.859375 57.328125 23.390625 \r\nQ 57.328125 12.15625 50.6875 5.359375 \r\nQ 44.046875 -1.421875 33.015625 -1.421875 \r\nQ 20.359375 -1.421875 13.671875 8.265625 \r\nQ 6.984375 17.96875 6.984375 36.375 \r\nQ 6.984375 53.65625 15.1875 63.9375 \r\nQ 23.390625 74.21875 37.203125 74.21875 \r\nQ 40.921875 74.21875 44.703125 73.484375 \r\nQ 48.484375 72.75 52.59375 71.296875 \r\nz\r\n\" id=\"DejaVuSans-54\"/>\r\n       </defs>\r\n       <use xlink:href=\"#DejaVuSans-54\"/>\r\n      </g>\r\n     </g>\r\n    </g>\r\n    <g id=\"ytick_6\">\r\n     <g id=\"line2d_13\">\r\n      <g>\r\n       <use style=\"stroke:#000000;stroke-width:0.8;\" x=\"20.5625\" xlink:href=\"#mc8fac272ee\" y=\"48.773777\"/>\r\n      </g>\r\n     </g>\r\n     <g id=\"text_13\">\r\n      <!-- 7 -->\r\n      <g transform=\"translate(7.2 52.572996)scale(0.1 -0.1)\">\r\n       <defs>\r\n        <path d=\"M 8.203125 72.90625 \r\nL 55.078125 72.90625 \r\nL 55.078125 68.703125 \r\nL 28.609375 0 \r\nL 18.3125 0 \r\nL 43.21875 64.59375 \r\nL 8.203125 64.59375 \r\nz\r\n\" id=\"DejaVuSans-55\"/>\r\n       </defs>\r\n       <use xlink:href=\"#DejaVuSans-55\"/>\r\n      </g>\r\n     </g>\r\n    </g>\r\n    <g id=\"ytick_7\">\r\n     <g id=\"line2d_14\">\r\n      <g>\r\n       <use style=\"stroke:#000000;stroke-width:0.8;\" x=\"20.5625\" xlink:href=\"#mc8fac272ee\" y=\"18.553024\"/>\r\n      </g>\r\n     </g>\r\n     <g id=\"text_14\">\r\n      <!-- 8 -->\r\n      <g transform=\"translate(7.2 22.352243)scale(0.1 -0.1)\">\r\n       <defs>\r\n        <path d=\"M 31.78125 34.625 \r\nQ 24.75 34.625 20.71875 30.859375 \r\nQ 16.703125 27.09375 16.703125 20.515625 \r\nQ 16.703125 13.921875 20.71875 10.15625 \r\nQ 24.75 6.390625 31.78125 6.390625 \r\nQ 38.8125 6.390625 42.859375 10.171875 \r\nQ 46.921875 13.96875 46.921875 20.515625 \r\nQ 46.921875 27.09375 42.890625 30.859375 \r\nQ 38.875 34.625 31.78125 34.625 \r\nz\r\nM 21.921875 38.8125 \r\nQ 15.578125 40.375 12.03125 44.71875 \r\nQ 8.5 49.078125 8.5 55.328125 \r\nQ 8.5 64.0625 14.71875 69.140625 \r\nQ 20.953125 74.21875 31.78125 74.21875 \r\nQ 42.671875 74.21875 48.875 69.140625 \r\nQ 55.078125 64.0625 55.078125 55.328125 \r\nQ 55.078125 49.078125 51.53125 44.71875 \r\nQ 48 40.375 41.703125 38.8125 \r\nQ 48.828125 37.15625 52.796875 32.3125 \r\nQ 56.78125 27.484375 56.78125 20.515625 \r\nQ 56.78125 9.90625 50.3125 4.234375 \r\nQ 43.84375 -1.421875 31.78125 -1.421875 \r\nQ 19.734375 -1.421875 13.25 4.234375 \r\nQ 6.78125 9.90625 6.78125 20.515625 \r\nQ 6.78125 27.484375 10.78125 32.3125 \r\nQ 14.796875 37.15625 21.921875 38.8125 \r\nz\r\nM 18.3125 54.390625 \r\nQ 18.3125 48.734375 21.84375 45.5625 \r\nQ 25.390625 42.390625 31.78125 42.390625 \r\nQ 38.140625 42.390625 41.71875 45.5625 \r\nQ 45.3125 48.734375 45.3125 54.390625 \r\nQ 45.3125 60.0625 41.71875 63.234375 \r\nQ 38.140625 66.40625 31.78125 66.40625 \r\nQ 25.390625 66.40625 21.84375 63.234375 \r\nQ 18.3125 60.0625 18.3125 54.390625 \r\nz\r\n\" id=\"DejaVuSans-56\"/>\r\n       </defs>\r\n       <use xlink:href=\"#DejaVuSans-56\"/>\r\n      </g>\r\n     </g>\r\n    </g>\r\n   </g>\r\n   <g id=\"patch_3\">\r\n    <path d=\"M 20.5625 224.64 \r\nL 20.5625 7.2 \r\n\" style=\"fill:none;stroke:#000000;stroke-linecap:square;stroke-linejoin:miter;stroke-width:0.8;\"/>\r\n   </g>\r\n   <g id=\"patch_4\">\r\n    <path d=\"M 355.3625 224.64 \r\nL 355.3625 7.2 \r\n\" style=\"fill:none;stroke:#000000;stroke-linecap:square;stroke-linejoin:miter;stroke-width:0.8;\"/>\r\n   </g>\r\n   <g id=\"patch_5\">\r\n    <path d=\"M 20.5625 224.64 \r\nL 355.3625 224.64 \r\n\" style=\"fill:none;stroke:#000000;stroke-linecap:square;stroke-linejoin:miter;stroke-width:0.8;\"/>\r\n   </g>\r\n   <g id=\"patch_6\">\r\n    <path d=\"M 20.5625 7.2 \r\nL 355.3625 7.2 \r\n\" style=\"fill:none;stroke:#000000;stroke-linecap:square;stroke-linejoin:miter;stroke-width:0.8;\"/>\r\n   </g>\r\n  </g>\r\n </g>\r\n <defs>\r\n  <clipPath id=\"p98329cb37f\">\r\n   <rect height=\"217.44\" width=\"334.8\" x=\"20.5625\" y=\"7.2\"/>\r\n  </clipPath>\r\n </defs>\r\n</svg>\r\n",
      "image/png": "[encoded data removed]"
     },
     "metadata": {
      "needs_background": "light"
     }
    }
   ],
   "metadata": {}
  },
  {
   "cell_type": "code",
   "execution_count": null,
   "source": [
    "print(log10_m_array)\r\n",
    "print(deltas)\r\n",
    "print(log10errors_for_deltas_f1)\r\n",
    "print(log10errors_for_deltas_f2)"
   ],
   "outputs": [
    {
     "output_type": "stream",
     "name": "stdout",
     "text": [
      "[1.5        1.60344828 1.70689655 1.81034483 1.9137931  2.01724138\n",
      " 2.12068966 2.22413793 2.32758621 2.43103448 2.53448276 2.63793103\n",
      " 2.74137931 2.84482759 2.94827586 3.05172414 3.15517241 3.25862069\n",
      " 3.36206897 3.46551724 3.56896552 3.67241379 3.77586207 3.87931034\n",
      " 3.98275862 4.0862069  4.18965517 4.29310345 4.39655172 4.5       ]\n",
      "[None, 1e-11, 1e-07, 0.001]\n",
      "[[-1.54270134 -1.79694996 -2.13523874 -2.32332251 -2.56418846 -2.738591\n",
      "  -3.34539885 -3.2311442  -3.42767858 -3.96257523 -4.1447094  -4.00896045\n",
      "  -4.43495439 -4.81306904 -5.01551872 -5.13082264 -5.43617417 -5.63681744\n",
      "  -5.85173401 -6.10062122 -6.23996273 -6.46956172 -6.72327183 -6.89127698\n",
      "  -7.06964534 -7.29487878 -7.5039148  -7.65642066 -7.9996879  -8.04862181]\n",
      " [-1.54270134 -1.79694996 -2.13523874 -2.32332251 -2.56418846 -2.738591\n",
      "  -3.34539884 -3.23114419 -3.42767856 -3.9625752  -4.14470937 -4.00896038\n",
      "  -4.43495428 -4.81306884 -5.01551842 -5.13082231 -5.43617327 -5.63681623\n",
      "  -5.85173205 -6.10061743 -6.23995767 -6.4695536  -6.72325676 -6.89125236\n",
      "  -7.06961069 -7.29482189 -7.50381757 -7.6562689  -7.99935833 -8.04835562]\n",
      " [-1.54269763 -1.7969425  -2.13522611 -2.32330352 -2.56416215 -2.73854998\n",
      "  -2.95714521 -3.23105749 -3.4275553  -3.96231317 -4.14436575 -4.00837793\n",
      "  -4.43370749 -4.8112243  -5.01226035 -5.12651215 -5.42790673 -5.52817317\n",
      "  -5.82728335 -6.05535444 -6.18528015 -6.37559969 -6.51975316 -6.64572938\n",
      "  -6.71724214 -6.77343055 -6.77691426 -6.79941666 -6.78686977 -6.83363115]\n",
      " [-1.50766215 -1.73334378 -2.00522311 -2.16587602 -2.34226202 -2.41328577\n",
      "  -2.52603917 -2.63846578 -2.6754698  -2.7551437  -2.78931086 -2.76815615\n",
      "  -2.76191314 -2.80373529 -2.80990336 -2.82562417 -2.80536363 -2.85385096\n",
      "  -2.8295572  -2.83921953 -2.8287616  -2.84046229 -2.84383411 -2.8536666\n",
      "  -2.84345656 -2.83055466 -2.84891097 -2.83052279 -2.80320272 -2.83673291]]\n",
      "[[-0.78215643 -1.08615305 -1.05312154 -1.7132324  -2.16902867 -2.06485655\n",
      "  -2.78968627 -2.75111267 -3.08277467 -3.39767772 -3.73582765 -3.93585889\n",
      "  -4.29354127 -4.46162249 -4.62360188 -4.80279216 -5.08725472 -5.29118486\n",
      "  -5.49446874 -5.76131997 -5.96754498 -6.09140872 -6.31868629 -6.52484425\n",
      "  -6.68723589 -6.93969341 -7.13079282 -7.3337757  -7.59440026 -7.6917341 ]\n",
      " [-0.78215643 -1.08615305 -1.05312154 -1.7132324  -1.82863865 -2.06485655\n",
      "  -2.50914457 -2.75111267 -3.08277466 -3.3976777  -3.73582762 -3.93585886\n",
      "  -4.29354121 -4.46162236 -4.62360174 -4.80279197 -5.08725431 -5.29118424\n",
      "  -5.49446775 -5.76131821 -5.96754225 -6.09140505 -6.31868001 -6.52483523\n",
      "  -6.68721972 -6.93966408 -7.13074106 -7.33367761 -7.59429089 -7.69156668]\n",
      " [-0.78215559 -1.08615153 -1.05311957 -1.7132261  -1.82862949 -2.06484116\n",
      "  -2.50910747 -2.75105008 -3.08266133 -3.39749159 -3.73562239 -3.93563958\n",
      "  -4.29280446 -4.46077065 -4.62238409 -4.80089072 -5.08298175 -5.15782843\n",
      "  -5.48453452 -5.74178398 -5.93698792 -6.00976116 -6.24086427 -6.40466094\n",
      "  -6.51666059 -6.62637165 -6.66509807 -6.72238134 -6.68473618 -6.75068393]]\n"
     ]
    }
   ],
   "metadata": {}
  }
 ],
 "metadata": {
  "kernelspec": {
   "name": "python3",
   "display_name": "Python 3.6.12 64-bit ('myenv': conda)"
  },
  "language_info": {
   "codemirror_mode": {
    "name": "ipython",
    "version": 3
   },
   "file_extension": ".py",
   "mimetype": "text/x-python",
   "name": "python",
   "nbconvert_exporter": "python",
   "pygments_lexer": "ipython3",
   "version": "3.6.12"
  },
  "interpreter": {
   "hash": "fdea1c563661d9473c2d386f6f226caac7062ebbd58da9d55fd4abc3b891592d"
  }
 },
 "nbformat": 4,
 "nbformat_minor": 4
}