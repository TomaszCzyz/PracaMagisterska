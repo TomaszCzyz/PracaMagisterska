{
 "cells": [
  {
   "cell_type": "code",
   "execution_count": 1,
   "source": [
    "# ALGORYTM Z \"Approximation of piecewise Hölder functions from inexact information\"\r\n",
    "\r\n",
    "# PARAMETRY ALGORYTMU:\r\n",
    "# h = T/m, gdzie m >= 2r + 1   <--- initial resolution of the mesh\r\n",
    "# 0 < w < (r + 1) * h"
   ],
   "outputs": [],
   "metadata": {}
  },
  {
   "cell_type": "code",
   "execution_count": 2,
   "source": [
    "# Kroki algorytmu:\r\n",
    "# 1. aproksymacja punktu osobliwego s_f\r\n",
    "#   1a. siatka regularna (o długości h) oraz różnice dzielne użyte są do lokalizacji s_f na przedziale [u_1, v_1] (o długości (r+1) * h)\r\n",
    "#   1b. zawęzenie przedziałów z 1a do [u_2, v_2] przy użyciu wielomianów ekstrpolacyjnych p_neg i p_pos\r\n",
    "#   1c. wyprodukowanie przedziału [u_3, v_3] zawierającego się (lub równego) [u_2, v_2], w którym różnica |p_pos - p_neg| jest nierosnąca na [u_3, ksi] i niemalejąca na [ksi, v_3], gdzie ksi jest finalną aproksymacją s_f\r\n",
    "# 2."
   ],
   "outputs": [],
   "metadata": {}
  },
  {
   "cell_type": "code",
   "execution_count": 2,
   "source": [
    "import numpy as np"
   ],
   "outputs": [],
   "metadata": {}
  },
  {
   "cell_type": "code",
   "execution_count": 1,
   "source": [
    "print(np.finfo(np.longdouble))\r\n"
   ],
   "outputs": [
    {
     "ename": "NameError",
     "evalue": "name 'np' is not defined",
     "output_type": "error",
     "traceback": [
      "\u001B[1;31m---------------------------------------------------------------------------\u001B[0m",
      "\u001B[1;31mNameError\u001B[0m                                 Traceback (most recent call last)",
      "\u001B[1;32m<ipython-input-1-8bf41c5e3d21>\u001B[0m in \u001B[0;36m<module>\u001B[1;34m\u001B[0m\n\u001B[1;32m----> 1\u001B[1;33m \u001B[0mprint\u001B[0m\u001B[1;33m(\u001B[0m\u001B[0mnp\u001B[0m\u001B[1;33m.\u001B[0m\u001B[0mfinfo\u001B[0m\u001B[1;33m(\u001B[0m\u001B[0mnp\u001B[0m\u001B[1;33m.\u001B[0m\u001B[0mlongdouble\u001B[0m\u001B[1;33m)\u001B[0m\u001B[1;33m)\u001B[0m\u001B[1;33m\u001B[0m\u001B[1;33m\u001B[0m\u001B[0m\n\u001B[0m\u001B[0;32m      2\u001B[0m \u001B[1;33m\u001B[0m\u001B[0m\n\u001B[0;32m      3\u001B[0m \u001B[1;33m\u001B[0m\u001B[0m\n",
      "\u001B[1;31mNameError\u001B[0m: name 'np' is not defined"
     ]
    }
   ],
   "metadata": {}
  },
  {
   "cell_type": "code",
   "execution_count": 6,
   "source": [
    "T = 2 * np.pi + 0.5\r\n",
    "\r\n",
    "def f(x):\r\n",
    "    if 0 <= x < np.pi:\r\n",
    "        return np.sin(x - np.pi)\r\n",
    "    if np.pi <= x <= 2 * np.pi + 0.5:\r\n",
    "        return np.sin(x - np.pi - 0.5)\r\n"
   ],
   "outputs": [],
   "metadata": {}
  },
  {
   "cell_type": "code",
   "execution_count": 7,
   "source": [
    "T = 3 * np.pi\r\n",
    "\r\n",
    "def f(x):\r\n",
    "    if 0 <= x < np.pi:\r\n",
    "        return np.sin(x)\r\n",
    "    if np.pi <= x <= 3 * np.pi:\r\n",
    "        return np.sin(x - np.pi)"
   ],
   "outputs": [],
   "metadata": {}
  },
  {
   "cell_type": "code",
   "execution_count": 8,
   "source": [
    "from math import fsum\r\n",
    "\r\n",
    "def prod(i, r, t, j):\r\n",
    "    product = 1.0\r\n",
    "    for k in range(i, i+r+1):\r\n",
    "        if k == j:\r\n",
    "            continue\r\n",
    "        product *= 1 / (t[k] - t[j])\r\n",
    "    return product\r\n",
    "\r\n",
    "\r\n",
    "def d_noisy2(i, r, t, y):\r\n",
    "    \"\"\"t : array of data points t_i, ... , t_{i+r+1}\r\n",
    "       y : array of y_j = f(t_j) + e_j  \"\"\"\r\n",
    "    t.astype('float64')\r\n",
    "    y.astype('float64')\r\n",
    "\r\n",
    "    array = [y[j] * prod(i, r, t, j) for j in range(i, i+r+1)]\r\n",
    "    # print(array)\r\n",
    "    return fsum(array)\r\n",
    "    # return np.sum(np.sort([y[j] * prod(i, r, t, j) for j in range(i, i+r+1)]))"
   ],
   "outputs": [],
   "metadata": {}
  },
  {
   "cell_type": "code",
   "execution_count": 9,
   "source": [
    "def d_noisy(i, r, t, y):\r\n",
    "    \"\"\"t : array of data points t_i, ... , t_{i+r+1}\r\n",
    "       y : array of y_j = f(t_j) + e_j  \"\"\"\r\n",
    "    t.astype('float64')\r\n",
    "    y.astype('float64')\r\n",
    "\r\n",
    "    sum = np.float64(0.0)\r\n",
    "    for j in range(i, i+r+1):\r\n",
    "\r\n",
    "        product = 1.0\r\n",
    "        for k in range(i, i+r+1):\r\n",
    "            if k == j:\r\n",
    "                continue\r\n",
    "            product *= 1 / (t[k] - t[j])\r\n",
    "\r\n",
    "        sum += y[j] * product\r\n",
    "\r\n",
    "    return sum"
   ],
   "outputs": [],
   "metadata": {}
  },
  {
   "cell_type": "code",
   "execution_count": 10,
   "source": [
    "delta = 10e-4\r\n",
    "r = 2\r\n",
    "m = 100"
   ],
   "outputs": [],
   "metadata": {}
  },
  {
   "cell_type": "code",
   "execution_count": 11,
   "source": [
    "# Step 0 (initialization of algorithm's constants and function evaluations)\r\n",
    "h = T / m\r\n",
    "w = -1.0 * np.random.uniform(-(r + 1) * h, 0) # multiply by -1 because we need interval (0, (r + 1) * h]\r\n",
    "# print(\"h = {}\".format(h))\r\n",
    "# for i in range(0, m + 1):\r\n",
    "#     print(\"t_{} = {}\".format(i, i*h))\r\n",
    "t = np.linspace(0, T, m+1, dtype='float64') # czyli mamy m+1 wezlów postaci t[0], ... , t[m]\r\n",
    "e = np.random.uniform(-delta, delta, m+1)\r\n",
    "y = np.array([f(t[j]) + e[j] for j in range(0, m+1)])"
   ],
   "outputs": [],
   "metadata": {
    "tags": []
   }
  },
  {
   "cell_type": "code",
   "execution_count": 12,
   "source": [
    "np.set_printoptions(precision = 8, suppress=True)\r\n",
    "print(t)\r\n",
    "print(e)\r\n",
    "print(y)"
   ],
   "outputs": [
    {
     "output_type": "stream",
     "name": "stdout",
     "text": [
      "[0.         0.09424778 0.18849556 0.28274334 0.37699112 0.4712389\n",
      " 0.56548668 0.65973446 0.75398224 0.84823002 0.9424778  1.03672558\n",
      " 1.13097336 1.22522113 1.31946891 1.41371669 1.50796447 1.60221225\n",
      " 1.69646003 1.79070781 1.88495559 1.97920337 2.07345115 2.16769893\n",
      " 2.26194671 2.35619449 2.45044227 2.54469005 2.63893783 2.73318561\n",
      " 2.82743339 2.92168117 3.01592895 3.11017673 3.20442451 3.29867229\n",
      " 3.39292007 3.48716785 3.58141563 3.6756634  3.76991118 3.86415896\n",
      " 3.95840674 4.05265452 4.1469023  4.24115008 4.33539786 4.42964564\n",
      " 4.52389342 4.6181412  4.71238898 4.80663676 4.90088454 4.99513232\n",
      " 5.0893801  5.18362788 5.27787566 5.37212344 5.46637122 5.560619\n",
      " 5.65486678 5.74911456 5.84336234 5.93761012 6.03185789 6.12610567\n",
      " 6.22035345 6.31460123 6.40884901 6.50309679 6.59734457 6.69159235\n",
      " 6.78584013 6.88008791 6.97433569 7.06858347 7.16283125 7.25707903\n",
      " 7.35132681 7.44557459 7.53982237 7.63407015 7.72831793 7.82256571\n",
      " 7.91681349 8.01106127 8.10530905 8.19955683 8.29380461 8.38805239\n",
      " 8.48230016 8.57654794 8.67079572 8.7650435  8.85929128 8.95353906\n",
      " 9.04778684 9.14203462 9.2362824  9.33053018 9.42477796]\n",
      "[-0.00013188 -0.00094142  0.00056794 -0.00094343  0.00093134 -0.00019335\n",
      "  0.00013251  0.00081689 -0.00001129 -0.0000616  -0.0003157  -0.00096036\n",
      "  0.0004225  -0.00048513  0.00036848  0.00052265  0.00048663 -0.00029899\n",
      "  0.00001853  0.000998   -0.00033626  0.00028962  0.00041168  0.00012944\n",
      "  0.00000424 -0.00086317  0.00028162  0.00054833 -0.00071374 -0.00021079\n",
      " -0.0009315  -0.00044729 -0.00095661  0.00014017  0.00004342 -0.00084827\n",
      " -0.00092714 -0.00062048 -0.00066449  0.00004588  0.00048198 -0.00069914\n",
      "  0.00026114 -0.00068588 -0.00096824  0.00065111  0.00001401 -0.00060325\n",
      " -0.00063982  0.00091422 -0.00087999 -0.00099318  0.00011806 -0.0003004\n",
      "  0.0004717   0.00050106 -0.00046448  0.00076697  0.00088418 -0.00039988\n",
      "  0.00055731 -0.00090495  0.0009141  -0.00096625 -0.00026403  0.0001143\n",
      " -0.00078926 -0.00043945 -0.00064307  0.00092956 -0.00038111  0.00003402\n",
      " -0.00008699 -0.00019403 -0.00069797 -0.00082144 -0.00052575  0.00057128\n",
      " -0.00084117 -0.00040935  0.00089166  0.00046976  0.00004332 -0.000903\n",
      " -0.00027977  0.00077579  0.00005672  0.00096598  0.00061722 -0.00025549\n",
      " -0.00043348  0.00070047  0.00025434  0.00084704  0.00042771 -0.00093558\n",
      " -0.00006184 -0.0001787   0.00039987  0.00078868 -0.00021541]\n",
      "[-0.00013188  0.09316689  0.18794926  0.27804767  0.36905589  0.45379715\n",
      "  0.5359593   0.61372395  0.68453582  0.75004947  0.8087013   0.85978167\n",
      "  0.90524956  0.94039564  0.96895164  0.98821099  0.99851336  0.99920757\n",
      "  0.99213323  0.97691476  0.95072026  0.91804425  0.87671836  0.82721001\n",
      "  0.77051748  0.70624361  0.63770561  0.56263171  0.48103993  0.3969371\n",
      "  0.30808549  0.21769596  0.12437662  0.03155092  0.06283394  0.1555862\n",
      "  0.24776275  0.33811744  0.4251148   0.5090873   0.58826724  0.66061272\n",
      "  0.72922976  0.78946914  0.84335969  0.89165764  0.9297905   0.95969044\n",
      "  0.98164743  0.99647618  0.99912001  0.99456878  0.98240531  0.95999329\n",
      "  0.93024818  0.89150759  0.84386345  0.79092198  0.72985281  0.66091199\n",
      "  0.58834256  0.50813647  0.4266934   0.33777167  0.24842585  0.15654876\n",
      "  0.06200126 -0.03185021 -0.1259763  -0.21721368 -0.3093981  -0.39711387\n",
      " -0.48184067 -0.56227741 -0.63812196 -0.70792822 -0.77103899 -0.82650929\n",
      " -0.87714785 -0.91816398 -0.95016486 -0.97544701 -0.99207138 -1.00040956\n",
      " -0.9983065  -0.98691255 -0.96852645 -0.93991479 -0.90420983 -0.86099752\n",
      " -0.80945047 -0.7494106  -0.68429277 -0.61206001 -0.53539909 -0.45492608\n",
      " -0.36818639 -0.27916981 -0.18698144 -0.09331964 -0.00021541]\n"
     ]
    }
   ],
   "metadata": {}
  },
  {
   "cell_type": "code",
   "execution_count": 13,
   "source": [
    "# Step 1\r\n",
    "i_max = np.argmax([d_noisy(i, r, t, y) for i in range(0, m-r)]) # innaczej liczone roznice dzielone\r\n",
    "u_1 = t[i_max]\r\n",
    "v_1 = t[i_max + r +1]\r\n",
    "print(\"i_max = {}  u_1 = {}  v_1 = {}\".format(i_max, t[i_max], t[i_max + r +1]))"
   ],
   "outputs": [
    {
     "output_type": "stream",
     "name": "stdout",
     "text": [
      "i_max = 32  u_1 = 3.015928947446201  v_1 = 3.2986722862692828\n"
     ]
    }
   ],
   "metadata": {}
  },
  {
   "cell_type": "code",
   "execution_count": 14,
   "source": [
    "# Step 1\r\n",
    "i_max = np.argmax([d_noisy2(i, r, t, y) for i in range(0, m-r)])\r\n",
    "u_1 = t[i_max]\r\n",
    "v_1 = t[i_max + r +1]\r\n",
    "print(\"i_max = {}  u_1 = {}  v _1 = {}\".format(i_max, t[i_max], t[i_max + r +1]))"
   ],
   "outputs": [
    {
     "output_type": "stream",
     "name": "stdout",
     "text": [
      "i_max = 32  u_1 = 3.015928947446201  v _1 = 3.2986722862692828\n"
     ]
    }
   ],
   "metadata": {}
  },
  {
   "cell_type": "code",
   "execution_count": 15,
   "source": [
    "import matplotlib.pyplot as plt\r\n",
    "\r\n",
    "plt.scatter(t,y)"
   ],
   "outputs": [
    {
     "output_type": "execute_result",
     "data": {
      "text/plain": [
       "<matplotlib.collections.PathCollection at 0x261b4cda748>"
      ]
     },
     "metadata": {},
     "execution_count": 15
    },
    {
     "output_type": "display_data",
     "data": {
      "text/plain": [
       "<Figure size 432x288 with 1 Axes>"
      ],
      "image/png": "[encoded data removed]"
     },
     "metadata": {
      "needs_background": "light"
     }
    }
   ],
   "metadata": {}
  },
  {
   "cell_type": "code",
   "execution_count": 16,
   "source": [
    "from scipy import interpolate"
   ],
   "outputs": [],
   "metadata": {}
  },
  {
   "cell_type": "code",
   "execution_count": 17,
   "source": [
    "# Step 2\r\n",
    "p_neg = interpolate.interp1d(\r\n",
    "    t[i_max - r:i_max + 1],\r\n",
    "    y[i_max - r:i_max + 1],\r\n",
    "    fill_value=\"extrapolate\"\r\n",
    ")\r\n",
    "p_pos = interpolate.interp1d(\r\n",
    "    t[i_max + r + 1: i_max + 2 * r + 1 + 1],\r\n",
    "    y[i_max + r + 1: i_max + 2 * r + 1 + 1],\r\n",
    "    fill_value=\"extrapolate\"\r\n",
    ")\r\n"
   ],
   "outputs": [],
   "metadata": {}
  },
  {
   "cell_type": "code",
   "execution_count": 18,
   "source": [
    "# Step 2 continued\r\n",
    "u = u_1\r\n",
    "v = v_1\r\n",
    "\r\n",
    "while v - u > w:\r\n",
    "    z = np.array([u + j * (v - u) / (r + 2) for j in range(1, r + 2)])\r\n",
    "    dif = np.abs(p_pos(z) - p_neg(z))\r\n",
    "    j_max = np.argmax(dif)\r\n",
    "\r\n",
    "    # tu chyba nie powinno byc bezposrednio f tylko f_noisy = f() + e\r\n",
    "    if np.abs(f(z[j_max]) - p_neg(z[j_max])) <= np.abs(f(z[j_max]) - p_pos(z[j_max])):\r\n",
    "        u = z[j_max]\r\n",
    "    else:\r\n",
    "        v = z[j_max]\r\n",
    "\r\n",
    "u_2 = u\r\n",
    "v_2 = v"
   ],
   "outputs": [],
   "metadata": {
    "tags": []
   }
  },
  {
   "cell_type": "code",
   "execution_count": 19,
   "source": [
    "print(u_1, v_1)\r\n",
    "print(u_2, v_2)"
   ],
   "outputs": [
    {
     "output_type": "stream",
     "name": "stdout",
     "text": [
      "3.015928947446201 3.2986722862692828\n",
      "3.1320499748244046 3.147972245994224\n"
     ]
    }
   ],
   "metadata": {}
  },
  {
   "cell_type": "code",
   "execution_count": 20,
   "source": [
    "from scipy.optimize import minimize_scalar"
   ],
   "outputs": [],
   "metadata": {}
  },
  {
   "cell_type": "code",
   "execution_count": 21,
   "source": [
    "def fun(x):\r\n",
    "    return -1 * np.abs(p_neg(x) - p_pos(x))"
   ],
   "outputs": [],
   "metadata": {}
  },
  {
   "cell_type": "code",
   "execution_count": 40,
   "source": [
    "interval = np.linspace(u_2, v_2, num=15)\r\n",
    "\r\n",
    "fig, ax = plt.subplots(nrows=1, ncols=2)\r\n",
    "ax[0].scatter(interval, p_pos(interval))\r\n",
    "ax[0].scatter(interval, p_neg(interval))\r\n",
    "\r\n",
    "ax[1].scatter(interval, fun(interval))\r\n",
    "\r\n",
    "plt.setp(ax, ylim=(-0.05, 0.05))\r\n",
    "plt.show()"
   ],
   "outputs": [
    {
     "output_type": "display_data",
     "data": {
      "text/plain": [
       "<Figure size 432x288 with 2 Axes>"
      ],
      "image/png": "[encoded data removed]"
     },
     "metadata": {
      "needs_background": "light"
     }
    }
   ],
   "metadata": {}
  },
  {
   "cell_type": "markdown",
   "source": [],
   "metadata": {}
  },
  {
   "cell_type": "markdown",
   "source": [
    "result = minimize_scalar(fun=fun, bracket=(u,v))\r\n",
    "\r\n",
    "print(\"if success = {}  z_max = {}\".format(result.success, result.x))"
   ],
   "metadata": {}
  },
  {
   "cell_type": "code",
   "execution_count": 23,
   "source": [
    "# Step 3\r\n",
    "u = u_2\r\n",
    "v = v_2\r\n",
    "\r\n",
    "\r\n",
    "z_max = [0.0]   # it list only because we need to modify it inside of function (we cannot modify number)\r\n",
    "while True:\r\n",
    "    result = minimize_scalar(fun=fun, bracket=(u,v))\r\n",
    "    if result.success == False:\r\n",
    "        break\r\n",
    "    \r\n",
    "    z_max = result.x\r\n",
    "    if np.abs(f(z_max) - p_neg(z_max)) <= np.abs(f(z_max) - p_pos(z_max)):\r\n",
    "        u = z\r\n",
    "    else:\r\n",
    "        v = z\r\n",
    "\r\n",
    "u_3 = u\r\n",
    "v_3 = v"
   ],
   "outputs": [
    {
     "output_type": "stream",
     "name": "stderr",
     "text": [
      "C:\\Users\\tczyz\\Anaconda3\\envs\\myenv\\lib\\site-packages\\scipy\\optimize\\optimize.py:2527: RuntimeWarning: overflow encountered in double_scalars\n",
      "  if (w - xc) * (xb - w) > 0.0:\n",
      "C:\\Users\\tczyz\\Anaconda3\\envs\\myenv\\lib\\site-packages\\scipy\\optimize\\optimize.py:2547: RuntimeWarning: overflow encountered in double_scalars\n",
      "  elif (w - wlim)*(xc - w) > 0.0:\n",
      "C:\\Users\\tczyz\\Anaconda3\\envs\\myenv\\lib\\site-packages\\scipy\\optimize\\optimize.py:2543: RuntimeWarning: overflow encountered in double_scalars\n",
      "  elif (w - wlim)*(wlim - xc) >= 0.0:\n",
      "C:\\Users\\tczyz\\Anaconda3\\envs\\myenv\\lib\\site-packages\\scipy\\optimize\\optimize.py:2522: RuntimeWarning: overflow encountered in double_scalars\n",
      "  w = xb - ((xb - xc) * tmp2 - (xb - xa) * tmp1) / denom\n",
      "C:\\Users\\tczyz\\Anaconda3\\envs\\myenv\\lib\\site-packages\\scipy\\optimize\\optimize.py:2515: RuntimeWarning: overflow encountered in double_scalars\n",
      "  tmp1 = (xb - xa) * (fb - fc)\n",
      "C:\\Users\\tczyz\\Anaconda3\\envs\\myenv\\lib\\site-packages\\scipy\\optimize\\optimize.py:2516: RuntimeWarning: overflow encountered in double_scalars\n",
      "  tmp2 = (xb - xc) * (fb - fa)\n",
      "C:\\Users\\tczyz\\Anaconda3\\envs\\myenv\\lib\\site-packages\\scipy\\optimize\\optimize.py:2517: RuntimeWarning: invalid value encountered in double_scalars\n",
      "  val = tmp2 - tmp1\n",
      "C:\\Users\\tczyz\\Anaconda3\\envs\\myenv\\lib\\site-packages\\scipy\\optimize\\optimize.py:2523: RuntimeWarning: overflow encountered in double_scalars\n",
      "  wlim = xb + grow_limit * (xc - xb)\n",
      "C:\\Users\\tczyz\\Anaconda3\\envs\\myenv\\lib\\site-packages\\ipykernel_launcher.py:2: RuntimeWarning: overflow encountered in subtract\n",
      "  \n",
      "C:\\Users\\tczyz\\Anaconda3\\envs\\myenv\\lib\\site-packages\\scipy\\optimize\\optimize.py:2559: RuntimeWarning: overflow encountered in double_scalars\n",
      "  w = xc + _gold * (xc - xb)\n",
      "C:\\Users\\tczyz\\Anaconda3\\envs\\myenv\\lib\\site-packages\\scipy\\optimize\\optimize.py:2103: RuntimeWarning: invalid value encountered in double_scalars\n",
      "  if np.abs(x - xmid) < (tol2 - 0.5 * (b - a)):\n",
      "C:\\Users\\tczyz\\Anaconda3\\envs\\myenv\\lib\\site-packages\\scipy\\optimize\\optimize.py:2110: RuntimeWarning: invalid value encountered in double_scalars\n",
      "  deltax = a - x       # do a golden section step\n"
     ]
    }
   ],
   "metadata": {}
  },
  {
   "cell_type": "code",
   "execution_count": 24,
   "source": [
    "print(u_1, v_1)\r\n",
    "print(u_2, v_2)\r\n",
    "print(u_3, v_3)"
   ],
   "outputs": [
    {
     "output_type": "stream",
     "name": "stdout",
     "text": [
      "3.015928947446201 3.2986722862692828\n",
      "3.1320499748244046 3.147972245994224\n",
      "3.1320499748244046 3.147972245994224\n"
     ]
    }
   ],
   "metadata": {}
  },
  {
   "cell_type": "code",
   "execution_count": 25,
   "source": [
    "# Final approximation (i use custom mesh to find argmin)\r\n",
    "mesh = np.arange(u_1, v_1, step=0.0005)\r\n",
    "x_array = [np.abs(p_pos(k) - p_neg(k)) for k in mesh]\r\n",
    "ksi = mesh[np.argmin(x_array)] # ksi is on x-asix"
   ],
   "outputs": [],
   "metadata": {}
  },
  {
   "cell_type": "code",
   "execution_count": 26,
   "source": [
    "print(ksi)"
   ],
   "outputs": [
    {
     "output_type": "stream",
     "name": "stdout",
     "text": [
      "3.140428947446243\n"
     ]
    }
   ],
   "metadata": {}
  },
  {
   "cell_type": "code",
   "execution_count": 27,
   "source": [
    "# print(z)\r\n",
    "# print(t[i_max:i_max + r + 1])\r\n",
    "\r\n",
    "# Final approximation    <--- wedlug mnie to jest najlogiczniejsze, gdyz dla tych wezłow juz wczesniej liczylismy wartosci funkcji(możnaby nawet gdzies je zapisac i uzyc jeszcze raz zeby nie narazac sie na powtórne liczenie w arytmetyce fl, jednak z drugiej strony tych ovliczonych wartości fun, nie jest duzo)\r\n",
    "# x = [np.abs(p_pos(k) - p_neg(k)) for k in z]\r\n",
    "# ksi = np.argmin(x)\r\n",
    "# print(x)\r\n",
    "# print(ksi)\r\n",
    "\r\n",
    "# Final approximation\r\n",
    "# x = [np.abs(p_pos(k) - p_neg(k)) for k in t[i_max:i_max + r + 1]]\r\n",
    "# ksi = np.argmin(x)\r\n",
    "# print(x)\r\n",
    "# print(ksi)"
   ],
   "outputs": [],
   "metadata": {}
  },
  {
   "cell_type": "code",
   "execution_count": 28,
   "source": [
    "# mamy \"przedziały\" na osi x-ów:\r\n",
    "# t[0],...,t[i_max-1]      u_1,...,mesh[ksi]   mesh[ksi],...,v_1   t[i_max + r + 1 + 1],...,T\r\n",
    "# u_1 = t[i_max]   v_1 = t[i_max + r + 1]\r\n",
    "\r\n",
    "# finding closest value to ksi in orginal mesh\r\n",
    "k = 0\r\n",
    "while ksi > t[k]:\r\n",
    "    k += 1\r\n",
    "\r\n",
    "k = k if np.abs(ksi - t[k]) < np.abs(ksi - t[k+1]) else k+1\r\n",
    "\r\n",
    "x_array = np.append(t[:i_max-1], t[i_max:k], )"
   ],
   "outputs": [],
   "metadata": {}
  },
  {
   "cell_type": "code",
   "execution_count": 29,
   "source": [
    "# Final interpolating polynomial\r\n",
    "\r\n",
    "polynomial1 = interpolate.interp1d(\r\n",
    "            t[:i_max + 1],\r\n",
    "            y[:i_max + 1])\r\n",
    "\r\n",
    "polynomial2 = interpolate.interp1d(\r\n",
    "            t[i_max + r + 1:],\r\n",
    "            y[i_max + r + 1:])\r\n",
    "\r\n",
    "def final_polynomial(x):\r\n",
    "    if (t[0] <= x).all() and (x < u_1).all():\r\n",
    "        return polynomial1(x)\r\n",
    "    if (u_1 <= x).all() and (x < ksi).all():\r\n",
    "        return p_neg(x)\r\n",
    "    if (ksi <= x).all() and (x < v_1).all():\r\n",
    "        return p_pos(x)\r\n",
    "    if (v_1 <= x).all() and (x <= t[m]).all():\r\n",
    "        return polynomial2(x)"
   ],
   "outputs": [],
   "metadata": {}
  },
  {
   "cell_type": "code",
   "execution_count": 30,
   "source": [
    "values = []\r\n",
    "for x in t:\r\n",
    "    values += [final_polynomial(x)]\r\n",
    "\r\n",
    "values = np.array(values)"
   ],
   "outputs": [],
   "metadata": {}
  },
  {
   "cell_type": "code",
   "execution_count": 31,
   "source": [
    "t.shape"
   ],
   "outputs": [
    {
     "output_type": "execute_result",
     "data": {
      "text/plain": [
       "(101,)"
      ]
     },
     "metadata": {},
     "execution_count": 31
    }
   ],
   "metadata": {}
  },
  {
   "cell_type": "code",
   "execution_count": 32,
   "source": [
    "values.shape"
   ],
   "outputs": [
    {
     "output_type": "execute_result",
     "data": {
      "text/plain": [
       "(101,)"
      ]
     },
     "metadata": {},
     "execution_count": 32
    }
   ],
   "metadata": {}
  },
  {
   "cell_type": "code",
   "execution_count": 33,
   "source": [
    "print(values)"
   ],
   "outputs": [
    {
     "output_type": "stream",
     "name": "stdout",
     "text": [
      "[-0.00013188  0.09316689  0.18794926  0.27804767  0.36905589  0.45379715\n",
      "  0.5359593   0.61372395  0.68453582  0.75004947  0.8087013   0.85978167\n",
      "  0.90524956  0.94039564  0.96895164  0.98821099  0.99851336  0.99920757\n",
      "  0.99213323  0.97691476  0.95072026  0.91804425  0.87671836  0.82721001\n",
      "  0.77051748  0.70624361  0.63770561  0.56263171  0.48103993  0.3969371\n",
      "  0.30808549  0.21769596  0.12437662  0.03105729  0.06340965  0.1555862\n",
      "  0.24776275  0.33811744  0.4251148   0.5090873   0.58826724  0.66061272\n",
      "  0.72922976  0.78946914  0.84335969  0.89165764  0.9297905   0.95969044\n",
      "  0.98164743  0.99647618  0.99912001  0.99456878  0.98240531  0.95999329\n",
      "  0.93024818  0.89150759  0.84386345  0.79092198  0.72985281  0.66091199\n",
      "  0.58834256  0.50813647  0.4266934   0.33777167  0.24842585  0.15654876\n",
      "  0.06200126 -0.03185021 -0.1259763  -0.21721368 -0.3093981  -0.39711387\n",
      " -0.48184067 -0.56227741 -0.63812196 -0.70792822 -0.77103899 -0.82650929\n",
      " -0.87714785 -0.91816398 -0.95016486 -0.97544701 -0.99207138 -1.00040956\n",
      " -0.9983065  -0.98691255 -0.96852645 -0.93991479 -0.90420983 -0.86099752\n",
      " -0.80945047 -0.7494106  -0.68429277 -0.61206001 -0.53539909 -0.45492608\n",
      " -0.36818639 -0.27916981 -0.18698144 -0.09331964 -0.00021541]\n"
     ]
    }
   ],
   "metadata": {}
  },
  {
   "cell_type": "code",
   "execution_count": 34,
   "source": [
    "plt.scatter(t,values)"
   ],
   "outputs": [
    {
     "output_type": "execute_result",
     "data": {
      "text/plain": [
       "<matplotlib.collections.PathCollection at 0x261b5a91ef0>"
      ]
     },
     "metadata": {},
     "execution_count": 34
    },
    {
     "output_type": "display_data",
     "data": {
      "text/plain": [
       "<Figure size 432x288 with 1 Axes>"
      ],
      "image/png": "[encoded data removed]"
     },
     "metadata": {
      "needs_background": "light"
     }
    }
   ],
   "metadata": {}
  },
  {
   "cell_type": "code",
   "execution_count": 35,
   "source": [
    "plt.plot(t,values)\r\n",
    "plt.show()"
   ],
   "outputs": [
    {
     "output_type": "display_data",
     "data": {
      "text/plain": [
       "<Figure size 432x288 with 1 Axes>"
      ],
      "image/png": "[encoded data removed]"
     },
     "metadata": {
      "needs_background": "light"
     }
    }
   ],
   "metadata": {}
  },
  {
   "cell_type": "code",
   "execution_count": 36,
   "source": [
    "# here will be error plot"
   ],
   "outputs": [],
   "metadata": {}
  },
  {
   "cell_type": "code",
   "execution_count": 37,
   "source": [
    "def error_of_approximation(x):\r\n",
    "    return np.abs(f(x) - final_polynomial(x))"
   ],
   "outputs": [],
   "metadata": {}
  },
  {
   "cell_type": "code",
   "execution_count": 38,
   "source": [
    "error_of_approximation(1.72)"
   ],
   "outputs": [
    {
     "output_type": "execute_result",
     "data": {
      "text/plain": [
       "0.0005576043736579273"
      ]
     },
     "metadata": {},
     "execution_count": 38
    }
   ],
   "metadata": {}
  },
  {
   "cell_type": "code",
   "execution_count": null,
   "source": [],
   "outputs": [],
   "metadata": {}
  }
 ],
 "metadata": {
  "kernelspec": {
   "name": "python3",
   "language": "python",
   "display_name": "Python 3"
  },
  "language_info": {
   "codemirror_mode": {
    "name": "ipython",
    "version": 3
   },
   "file_extension": ".py",
   "mimetype": "text/x-python",
   "name": "python",
   "nbconvert_exporter": "python",
   "pygments_lexer": "ipython3",
   "version": "3.6.12"
  },
  "interpreter": {
   "hash": "fdea1c563661d9473c2d386f6f226caac7062ebbd58da9d55fd4abc3b891592d"
  }
 },
 "nbformat": 4,
 "nbformat_minor": 4
}