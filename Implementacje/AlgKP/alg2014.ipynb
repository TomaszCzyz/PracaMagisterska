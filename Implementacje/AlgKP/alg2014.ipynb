{
 "cells": [
  {
   "cell_type": "code",
   "execution_count": null,
   "source": [
    "%matplotlib inline"
   ],
   "outputs": [],
   "metadata": {}
  },
  {
   "cell_type": "code",
   "execution_count": null,
   "source": [
    "import numpy as np\n",
    "import math\n",
    "from numpy.polynomial.polynomial import Polynomial\n",
    "import matplotlib.pyplot as plt"
   ],
   "outputs": [],
   "metadata": {}
  },
  {
   "cell_type": "code",
   "execution_count": null,
   "source": [
    "f__0 = 0\n",
    "f__T = 3 * np.pi\n",
    "\n",
    "def f(x):\n",
    "    if 0 <= x < np.pi:\n",
    "        return np.sin(x)\n",
    "    if np.pi <= x <= 3 * np.pi:\n",
    "        return np.sin(x - np.pi)\n"
   ],
   "outputs": [],
   "metadata": {}
  },
  {
   "cell_type": "code",
   "execution_count": null,
   "source": [
    "\n",
    "mesh = np.linspace(f__0, f__T, 50, dtype='float64')\n",
    "values = [f(knot) for knot in mesh]\n",
    "plt.scatter(mesh, values)"
   ],
   "outputs": [],
   "metadata": {}
  },
  {
   "cell_type": "code",
   "execution_count": null,
   "source": [
    "f__0 = 0\n",
    "f__T = 2 * np.pi + 0.5\n",
    "\n",
    "def f(x):\n",
    "    if 0 <= x < np.pi:\n",
    "        return np.sin(x - np.pi)\n",
    "    if np.pi <= x <= 2 * np.pi + 0.5:\n",
    "        return np.sin(x - np.pi - 0.5)\n"
   ],
   "outputs": [],
   "metadata": {}
  },
  {
   "cell_type": "code",
   "execution_count": null,
   "source": [
    "\n",
    "mesh = np.linspace(f__0, f__T, 50, dtype='float64')\n",
    "values = [f(knot) for knot in mesh]\n",
    "plt.scatter(mesh, values)"
   ],
   "outputs": [],
   "metadata": {}
  },
  {
   "cell_type": "code",
   "execution_count": null,
   "source": [
    "def interpolate(knots, values): # NUMERYCZNIE NIEPOPRAWNE!!!!!! plus zła implementacja\n",
    "    # Wyznacza listę wielomianów bazowych Lagrange'a dla podanych węzłów interpolacji.\n",
    "    base = []\n",
    "    inx = list(range(len(knots)))\n",
    "    for k in inx:\n",
    "        zeros = np.take(knots, inx[:k] + inx[k+1:])\n",
    "        multipier = 1 / (knots[k] - zeros).prod()\n",
    "        polynomial = Polynomial.fromroots(zeros) * multipier\n",
    "        base.append(polynomial)\n",
    "\n",
    "    # Wyznacza wielomian\n",
    "    polynomial = Polynomial([0.])\n",
    "    for k in range(len(knots)):\n",
    "        polynomial += values[k] * base[k]\n",
    "    return polynomial"
   ],
   "outputs": [],
   "metadata": {}
  },
  {
   "cell_type": "code",
   "execution_count": null,
   "source": [
    "from scipy import interpolate\n",
    "\n",
    "def A_test(f, a0, a1, b1, b0, r, rho):\n",
    "    knots = np.linspace(b1, b0, r+1, endpoint=True)\n",
    "    values = np.array([f(x) for x in knots])\n",
    "    w1 = interpolate.interp1d(knots, values, fill_value=\"extrapolate\")\n",
    "    # w1 = interpolate(knots, values) # NIE dziala poprawinie dla okolo r > 3\n",
    "    \n",
    "    knots = np.linspace(a0, a1, r+1, endpoint=True)\n",
    "    values = np.array([f(x) for x in knots])\n",
    "    w2 = interpolate.interp1d(knots, values, fill_value=\"extrapolate\")\n",
    "    # w2 = interpolate(knots, values)\n",
    "    \n",
    "    z_arr = np.linspace(a1, b1, r+1, endpoint=True) # \"endpoint=True\" is 100% good here\n",
    "    values = [(np.abs(w1(z_i) - w2(z_i))) / ((b0 - a0) ** (r + rho)) for z_i in z_arr]\n",
    "    \n",
    "    # print(\"a0: {}   b0: {}   test_result: {}\".format(a0, b0, result))\n",
    "    # print(\"f(a0): {}   w1(a0): {}\".format(f(a0), f(b0)))\n",
    "    return np.max(values)"
   ],
   "outputs": [],
   "metadata": {}
  },
  {
   "cell_type": "code",
   "execution_count": null,
   "source": [
    "def step1(g, c, delta, r, rho):\n",
    "    max_diam = np.max([c[i+1] - c[i] for i in range(len(c)-1)])\n",
    "    \n",
    "    if max_diam <= 4 * delta:\n",
    "        return 0, 0\n",
    "    else:\n",
    "        largest_result = 0\n",
    "        second_largest_result = 0\n",
    "        lagrest_result_index = 0\n",
    "\n",
    "        for i in range(len(c)-1):\n",
    "            if c[i+1] - c[i] > 4 * delta:\n",
    "                # print(\"c[i]: {}, c[i] + delta: {}, c[i+1] - delta: {}, c[i+1]: {}\".format(c[i], c[i] + delta, c[i+1] - delta, c[i+1]))\n",
    "                test_result = A_test(g, c[i], c[i] + delta, c[i+1] - delta, c[i+1], r, rho)\n",
    "                # print(\"i: {}   [{:.6f}, {:.6f}] -> test_result: {}\".format(i, c[i], c[i+1], test_result))\n",
    "\n",
    "                if test_result > largest_result:\n",
    "                    largest_result = test_result\n",
    "                    lagrest_result_index = i\n",
    "                elif largest_result > test_result > second_largest_result:\n",
    "                    second_largest_result = test_result\n",
    "        \n",
    "        if math.isclose(largest_result, second_largest_result, rel_tol=1e-7):\n",
    "            print(\"HERE10\")\n",
    "            return 0, 0\n",
    "\n",
    "    # print(\"delta: {}\".format(delta))\n",
    "    # print(\"lagrest_result_index: {}\".format(lagrest_result_index))\n",
    "    return c[lagrest_result_index], c[lagrest_result_index+1]"
   ],
   "outputs": [],
   "metadata": {}
  },
  {
   "cell_type": "code",
   "execution_count": null,
   "source": [
    "def step2(g, a, b, delta, r, rho): # bisection\n",
    "    if a == 0 and b == 0:\n",
    "        return []\n",
    "    a_new, b_new = a, b\n",
    "    B = [a, b]\n",
    "\n",
    "    while True:\n",
    "        if b_new - a_new <= 4 * delta:\n",
    "            # print(\"HERE1\")\n",
    "            return B\n",
    "        \n",
    "        v = (a_new + b_new) / 2\n",
    "        A1 = A_test(g, a_new, a_new +  delta, v - delta, v, r, rho)\n",
    "        A2 = A_test(g, v, v +  delta, b_new - delta, b_new, r, rho)\n",
    "        B.append(v)\n",
    "\n",
    "        if math.isclose(A1, A2, rel_tol=1e-14):  # TODO: it should depend on precision\n",
    "            # print(\"HERE2\")\n",
    "            return B\n",
    "        elif A1 > A2:\n",
    "            b_new = v    \n",
    "        else:\n",
    "            a_new = v"
   ],
   "outputs": [],
   "metadata": {}
  },
  {
   "cell_type": "code",
   "execution_count": null,
   "source": [
    "def step3(g, c, B, delta):\n",
    "    M = np.concatenate((c, B))\n",
    "    M = np.sort(M)\n",
    "\n",
    "    def adaptive_approximate(t):\n",
    "        # locate knot that is smaller or equal to t (and it is closest to t)\n",
    "        # print(\"t equals: {}\".format(t))\n",
    "        for i in range(len(M)-1):\n",
    "            # print(\"t: {}   i: {}   M[i]: {}\".format(t, i, M[i]))\n",
    "            if t < M[i+1]:\n",
    "                break\n",
    "                \n",
    "        # print(\"i: {}\\t M[i]: {:.8f} t: {:.8f} --- [{:.8f} {:.8f} {:.8f} {:.8f}]\".format(i, M[i], t, M[i], M[i] + delta, M[i+1] - delta, M[i+1]))\n",
    "        \n",
    "        if M[i+1] - M[i] <= 4 * delta:\n",
    "            # print(\"small interval\")\n",
    "            return g(M[i])\n",
    "        else:\n",
    "            # print(\"not small interval -> \", end='')\n",
    "            if M[i] <= t < M[i] + delta:\n",
    "                # print(\"left\")\n",
    "                return g(M[i])\n",
    "            if M[i] + delta <= t < M[i+1] - delta:\n",
    "                # print(\"central\")\n",
    "                left, right = M[i] + delta, M[i+1] - delta\n",
    "                knots = np.linspace(left, right, r+1, endpoint=True)\n",
    "                values = np.array([g(x) for x in knots])\n",
    "                polynomial = interpolate.interp1d(knots, values)\n",
    "                return polynomial(t)\n",
    "            if M[i+1] - delta <= t < M[i+1]:\n",
    "                # print(\"right\")\n",
    "                return g(M[i+1] - delta)\n",
    "\n",
    "        if math.isclose(t, M[-1]):\n",
    "            # print(\"end of interval\")\n",
    "            return g(M[-1])\n",
    "\n",
    "        return -1\n",
    "    return M, adaptive_approximate"
   ],
   "outputs": [],
   "metadata": {}
  },
  {
   "cell_type": "code",
   "execution_count": null,
   "source": [
    "def Alg2014(g, a, b, m, r, rho):\n",
    "    '''\n",
    "    g - funkcja, którą aproksymujemy\n",
    "    r - regularność funkcji\n",
    "    a, b - brzegi przedziału [a,b]\n",
    "    m - początkowa gęstość siatki\n",
    "    '''\n",
    "    # Step 0 (inicjalizacja stałych itp.)\n",
    "    h = (b - a) / m\n",
    "    delta = h ** (r + rho)\n",
    "    c = np.linspace(a, b, m+1, dtype='float64', endpoint=True) # mamy m+1 wezlów postaci c[0], ... , c[m]\n",
    "\n",
    "    # kroki algorytmu\n",
    "    # Krok 1: Lokalizowanie osobliwosci\n",
    "    left, right = step1(g, c, delta, r, rho)\n",
    "    # print(\"przedzial z osobliwoscia: [{}, {}]\".format(left, right))\n",
    "\n",
    "    # Krok 2: Wybieranie dodatkowych punktów metoda bisekcji\n",
    "    B = step2(g, left, right, delta, r, rho)\n",
    "    # print(\"B(qty: {}): {}\".format(len(B), B))\n",
    "    \n",
    "    # Krok 3: konstruowanie finalnej aproksymacji\n",
    "    M, approx = step3(g, c, B, delta)\n",
    "    # print(\"M: {}\".format(M))\n",
    "    \n",
    "    return M, approx\n"
   ],
   "outputs": [],
   "metadata": {}
  },
  {
   "cell_type": "code",
   "execution_count": null,
   "source": [
    "m = 200\n",
    "r = 3\n",
    "rho = 10e-4\n",
    "\n",
    "M, f_approximation = Alg2014(f, f__0, f__T, m, r, rho)"
   ],
   "outputs": [],
   "metadata": {}
  },
  {
   "cell_type": "code",
   "execution_count": null,
   "source": [
    "def f_values(mesh, fun):\n",
    "    return [fun(knot) + 0.1 for knot in mesh]"
   ],
   "outputs": [],
   "metadata": {}
  },
  {
   "cell_type": "code",
   "execution_count": null,
   "source": [
    "plt.figure(figsize=(16, 8))\n",
    "\n",
    "plt.subplot(3, 1, 1) # row 1, col 2 index 1\n",
    "plt.scatter(M, f_values(M, f), color=\"orange\", s=1)\n",
    "plt.scatter(M, f_values(M, f_approximation), s=1)\n",
    "\n",
    "plt.subplot(3, 1, 2) # index 2\n",
    "mesh = np.linspace(f__0, f__T, num=m*2, endpoint=True)\n",
    "plt.scatter(mesh, f_values(mesh, f), color=\"orange\", s=1)\n",
    "plt.scatter(mesh, f_values(mesh, f_approximation), s=1)\n",
    "\n",
    "# plt.subplot(3, 1, 3)\n",
    "# mesh = np.linspace(f__0, f__T, num=m, endpoint=True)\n",
    "# plt.scatter(mesh, f_values(mesh, f_approximation), s=1)\n",
    "# plt.scatter(mesh, f_values(mesh, f_approximation), color=\"green\", s=1)"
   ],
   "outputs": [],
   "metadata": {}
  },
  {
   "cell_type": "code",
   "execution_count": null,
   "source": [
    "# mesh  = np.linspace(f__0, f__T, num=50) # endpoint should be included...\n",
    "\n",
    "# for elem in mesh:\n",
    "#     print(\"(x, y): ({}, {})\".format(elem, f_approximation(elem)))\n"
   ],
   "outputs": [],
   "metadata": {}
  },
  {
   "cell_type": "code",
   "execution_count": null,
   "source": [
    "import scipy.integrate as integrate\n",
    "\n",
    "def worst_case_error(fun, algorithm, alg_data, num, p=2):\n",
    "    '''\n",
    "    calculate worst case error with respect to noise for function fun\n",
    "    '''\n",
    "    f__a, f__b, m, r, rho = [value for value in alg_data]\n",
    "    norms = []\n",
    "    errors = []\n",
    "\n",
    "    for i in range(num):\n",
    "        f_approximation = algorithm(f, f__a, f__b, m, r, rho)[1]\n",
    "        result, error = integrate.quad(lambda x: abs(f(x) - f_approximation(x))**p, f__a, f__b)\n",
    "        norm = result**(1/p)\n",
    "        norms.append(norm)\n",
    "        errors.append(error) # ERORRS OF INTEGRATION!!! not errors of approximation\n",
    "\n",
    "    print(\"norms: \")\n",
    "    print([\"{:.8f}, \".format(value) for value in norms])\n",
    "    # print(\"errors: \")\n",
    "    # print([\"{:.13f}, \".format(value) for value in errors])\n",
    "\n",
    "    return np.max(norms)"
   ],
   "outputs": [],
   "metadata": {}
  },
  {
   "cell_type": "code",
   "execution_count": null,
   "source": [
    "m, r, rho = 100, 3, 10e-4\n",
    "\n",
    "worst_case_error(\n",
    "    fun=f, \n",
    "    algorithm=Alg2014,\n",
    "    alg_data=(f__0, f__T, m, r, rho),\n",
    "    num=5)"
   ],
   "outputs": [],
   "metadata": {}
  }
 ],
 "metadata": {
  "orig_nbformat": 4,
  "language_info": {
   "name": "python",
   "version": "3.6.12",
   "mimetype": "text/x-python",
   "codemirror_mode": {
    "name": "ipython",
    "version": 3
   },
   "pygments_lexer": "ipython3",
   "nbconvert_exporter": "python",
   "file_extension": ".py"
  },
  "kernelspec": {
   "name": "python3",
   "display_name": "Python 3.6.12 64-bit ('myenv': conda)"
  },
  "interpreter": {
   "hash": "fdea1c563661d9473c2d386f6f226caac7062ebbd58da9d55fd4abc3b891592d"
  }
 },
 "nbformat": 4,
 "nbformat_minor": 2
}
