{
 "cells": [
  {
   "cell_type": "code",
   "execution_count": null,
   "source": [
    "%matplotlib inline\n",
    "import math\n",
    "import numpy as np\n",
    "import matplotlib.pyplot as plt\n",
    "from scipy import interpolate, integrate"
   ],
   "outputs": [],
   "metadata": {}
  },
  {
   "cell_type": "code",
   "execution_count": null,
   "source": [
    "# EXAMPLE FUNCTION\n",
    "f__0 = 0\n",
    "f__T = 3 * np.pi\n",
    "r = 3\n",
    "rho = 10e-4\n",
    "\n",
    "def f(x):\n",
    "    def raw_f(x):\n",
    "        if 0 <= x < np.pi:\n",
    "            return np.sin(x)\n",
    "        if np.pi <= x <= 3 * np.pi:\n",
    "            return np.sin(x - np.pi)\n",
    "\n",
    "    if isinstance(x, (list, np.ndarray)):\n",
    "        return [raw_f(elem) for elem in x]\n",
    "\n",
    "    return raw_f(x)"
   ],
   "outputs": [],
   "metadata": {}
  },
  {
   "cell_type": "code",
   "execution_count": null,
   "source": [
    "mesh = np.linspace(f__0, f__T, 50, dtype='float64')\n",
    "plt.scatter(mesh, f(mesh))"
   ],
   "outputs": [],
   "metadata": {}
  },
  {
   "cell_type": "code",
   "execution_count": null,
   "source": [
    "# EXAMPLE FUNCTION\n",
    "f__0 = 0\n",
    "f__T = 2 * np.pi + 0.5\n",
    "r = 3\n",
    "rho = 10e-4\n",
    "\n",
    "def f(x):\n",
    "    def raw_f(x):\n",
    "        if 0 <= x < np.pi:\n",
    "            return np.sin(x - np.pi)\n",
    "        if np.pi <= x <= 2 * np.pi + 0.5:\n",
    "            return np.sin(x - np.pi - 0.5)\n",
    "\n",
    "    if isinstance(x, (list, np.ndarray)):\n",
    "        return [raw_f(elem) for elem in x]\n",
    "\n",
    "    return raw_f(x)"
   ],
   "outputs": [],
   "metadata": {}
  },
  {
   "cell_type": "code",
   "execution_count": null,
   "source": [
    "mesh = np.linspace(f__0, f__T, 50, dtype='float64')\n",
    "plt.scatter(mesh, f(mesh))"
   ],
   "outputs": [],
   "metadata": {}
  },
  {
   "cell_type": "code",
   "execution_count": null,
   "source": [
    "def A_test(f, a0, a1, b1, b0, r, rho):\n",
    "    knots = np.linspace(b1, b0, r+1, endpoint=True)\n",
    "    values = np.array([f(x) for x in knots])\n",
    "    w1 = interpolate.interp1d(knots, values, fill_value=\"extrapolate\")\n",
    "    \n",
    "    knots = np.linspace(a0, a1, r+1, endpoint=True)\n",
    "    values = np.array([f(x) for x in knots])\n",
    "    w2 = interpolate.interp1d(knots, values, fill_value=\"extrapolate\")\n",
    "    \n",
    "    z_arr = np.linspace(a1, b1, r+1, endpoint=True) # \"endpoint=True\" is 100% good here\n",
    "    values = [(np.abs(w1(z_i) - w2(z_i))) / ((b0 - a0) ** (r + rho)) for z_i in z_arr]\n",
    "    \n",
    "    return np.max(values)"
   ],
   "outputs": [],
   "metadata": {}
  },
  {
   "cell_type": "code",
   "execution_count": null,
   "source": [
    "def step1(g, c, d, r, rho):\n",
    "    max_diam = np.max([c[i+1] - c[i] for i in range(len(c)-1)])\n",
    "    \n",
    "    if max_diam <= 4 * d:\n",
    "        return 0, 0\n",
    "    else:\n",
    "        largest_result = 0\n",
    "        second_largest_result = 0\n",
    "        lagrest_result_index = 0\n",
    "\n",
    "        for i in range(len(c)-1):\n",
    "            if c[i+1] - c[i] > 4 * d:\n",
    "                test_result = A_test(g, c[i], c[i] + d, c[i+1] - d, c[i+1], r, rho)\n",
    "\n",
    "                if test_result > largest_result:\n",
    "                    largest_result = test_result\n",
    "                    lagrest_result_index = i\n",
    "                elif largest_result > test_result > second_largest_result:\n",
    "                    second_largest_result = test_result\n",
    "        \n",
    "        if math.isclose(largest_result, second_largest_result, rel_tol=1e-7):\n",
    "            return 0, 0\n",
    "\n",
    "    return c[lagrest_result_index], c[lagrest_result_index+1]"
   ],
   "outputs": [],
   "metadata": {}
  },
  {
   "cell_type": "code",
   "execution_count": null,
   "source": [
    "def step2(g, a, b, d, r, rho): # bisection\n",
    "    if a == 0 and b == 0:\n",
    "        return []\n",
    "    a_new, b_new = a, b\n",
    "    B = [a, b]\n",
    "\n",
    "    while True:\n",
    "        if b_new - a_new <= 4 * d:\n",
    "            return B\n",
    "        \n",
    "        v = (a_new + b_new) / 2\n",
    "        A1 = A_test(g, a_new, a_new +  d, v - d, v, r, rho)\n",
    "        A2 = A_test(g, v, v +  d, b_new - d, b_new, r, rho)\n",
    "        B.append(v)\n",
    "\n",
    "        if math.isclose(A1, A2, rel_tol=1e-14):  # TODO: it should depend on precision\n",
    "            return B\n",
    "        elif A1 > A2:\n",
    "            b_new = v    \n",
    "        else:\n",
    "            a_new = v"
   ],
   "outputs": [],
   "metadata": {}
  },
  {
   "cell_type": "code",
   "execution_count": null,
   "source": [
    "def step3(g, c, B, d):\n",
    "    M = np.concatenate((c, B))\n",
    "    M = np.sort(M)\n",
    "\n",
    "    def adaptive_approximate(t):\n",
    "        # locate knot that is smaller or equal to t (and it is closest to t)\n",
    "        for i in range(len(M)-1):\n",
    "            if t < M[i+1]:\n",
    "                break\n",
    "                \n",
    "        if M[i+1] - M[i] <= 4 * d:\n",
    "            return g(M[i])\n",
    "        else:\n",
    "            if M[i] <= t < M[i] + d:\n",
    "                return g(M[i])\n",
    "            if M[i] + d <= t < M[i+1] - d:\n",
    "                left, right = M[i] + d, M[i+1] - d\n",
    "                knots = np.linspace(left, right, r+1, endpoint=True)\n",
    "                values = np.array([g(x) for x in knots])\n",
    "                polynomial = interpolate.interp1d(knots, values)\n",
    "                return polynomial(t)\n",
    "            if M[i+1] - d <= t < M[i+1]:\n",
    "                return g(M[i+1] - d)\n",
    "\n",
    "        if math.isclose(t, M[-1]):\n",
    "            return g(M[-1])\n",
    "\n",
    "        return -1\n",
    "    return M, adaptive_approximate"
   ],
   "outputs": [],
   "metadata": {}
  },
  {
   "cell_type": "code",
   "execution_count": null,
   "source": [
    "def Alg2014(g, a, b, m, r, rho):\n",
    "    '''\n",
    "    g - funkcja, którą aproksymujemy\n",
    "    r - regularność funkcji\n",
    "    a, b - brzegi przedziału [a,b]\n",
    "    m - początkowa gęstość siatki\n",
    "    '''\n",
    "    # Step 0 (inicjalizacja stałych itp.)\n",
    "    h = (b - a) / m\n",
    "    d = h ** (r + rho)\n",
    "    c = np.linspace(a, b, m+1, dtype='float64', endpoint=True)\n",
    "\n",
    "    # kroki algorytmu\n",
    "    # Krok 1: Lokalizowanie osobliwosci\n",
    "    left, right = step1(g, c, d, r, rho)\n",
    "\n",
    "    # Krok 2: Wybieranie dodatkowych punktów metoda bisekcji\n",
    "    B = step2(g, left, right, d, r, rho)\n",
    "    \n",
    "    # Krok 3: konstruowanie finalnej aproksymacji\n",
    "    M, approx = step3(g, c, B, d)\n",
    "    \n",
    "    return M, approx\n"
   ],
   "outputs": [],
   "metadata": {}
  },
  {
   "cell_type": "code",
   "execution_count": null,
   "source": [
    "m = 200\n",
    "\n",
    "M, f_approximation = Alg2014(f, f__0, f__T, m, r, rho)"
   ],
   "outputs": [],
   "metadata": {}
  },
  {
   "cell_type": "code",
   "execution_count": null,
   "source": [
    "def f_values(mesh, fun):\n",
    "    return [fun(knot) + 0.1 for knot in mesh]"
   ],
   "outputs": [],
   "metadata": {}
  },
  {
   "cell_type": "code",
   "execution_count": null,
   "source": [
    "plt.figure(figsize=(16, 8))\n",
    "\n",
    "plt.subplot(3, 1, 1) # row 1, col 2 index 1\n",
    "plt.scatter(M, f_values(M, f), color=\"orange\", s=1)\n",
    "plt.scatter(M, f_values(M, f_approximation), s=1)\n",
    "\n",
    "plt.subplot(3, 1, 2) # index 2\n",
    "mesh = np.linspace(f__0, f__T, num=m*2, endpoint=True)\n",
    "plt.scatter(mesh, f_values(mesh, f), color=\"orange\", s=1)\n",
    "plt.scatter(mesh, f_values(mesh, f_approximation), s=1)"
   ],
   "outputs": [],
   "metadata": {}
  },
  {
   "cell_type": "code",
   "execution_count": null,
   "source": [
    "def worst_case_error(fun, algorithm, alg_data, num, p=2):\n",
    "    '''\n",
    "    calculate worst case error with respect to noise for function fun\n",
    "    '''\n",
    "    f__a, f__b, m, r, rho = [value for value in alg_data]\n",
    "    norms = []\n",
    "    errors = []\n",
    "\n",
    "    for i in range(num):\n",
    "        f_approximation = algorithm(f, f__a, f__b, m, r, rho)[1]\n",
    "        result, error = integrate.quad(lambda x: abs(fun(x) - f_approximation(x))**p, f__a, f__b)\n",
    "        norm = result**(1/p)\n",
    "        norms.append(norm)\n",
    "        errors.append(error) # ERORRS OF INTEGRATION!!! not errors of approximation\n",
    "\n",
    "    print(\"norms: \")\n",
    "    print([\"{:.12f}, \".format(value) for value in norms])\n",
    "    # print(\"errors: \")\n",
    "    # print([\"{:.13f}, \".format(value) for value in errors])\n",
    "\n",
    "    return np.max(norms)"
   ],
   "outputs": [],
   "metadata": {}
  },
  {
   "cell_type": "code",
   "execution_count": null,
   "source": [
    "m = 100\n",
    "\n",
    "worst_case_error(\n",
    "    fun=f, \n",
    "    algorithm=Alg2014,\n",
    "    alg_data=(f__0, f__T, m, r, rho),\n",
    "    num=5)"
   ],
   "outputs": [],
   "metadata": {}
  }
 ],
 "metadata": {
  "orig_nbformat": 4,
  "language_info": {
   "name": "python",
   "version": "3.6.12",
   "mimetype": "text/x-python",
   "codemirror_mode": {
    "name": "ipython",
    "version": 3
   },
   "pygments_lexer": "ipython3",
   "nbconvert_exporter": "python",
   "file_extension": ".py"
  },
  "kernelspec": {
   "name": "python3",
   "display_name": "Python 3.6.12 64-bit ('myenv': conda)"
  },
  "interpreter": {
   "hash": "fdea1c563661d9473c2d386f6f226caac7062ebbd58da9d55fd4abc3b891592d"
  }
 },
 "nbformat": 4,
 "nbformat_minor": 2
}
