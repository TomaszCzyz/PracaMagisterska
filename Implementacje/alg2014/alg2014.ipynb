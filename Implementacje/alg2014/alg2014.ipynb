{
    "cells": [
        {
            "cell_type": "code",
            "execution_count": 308,
            "source": [
                "%matplotlib inline"
            ],
            "outputs": [],
            "metadata": {}
        },
        {
            "cell_type": "code",
            "execution_count": 309,
            "source": [
                "import numpy as np\r\n",
                "import math\r\n",
                "from numpy.polynomial.polynomial import Polynomial\r\n",
                "import matplotlib.pyplot as plt"
            ],
            "outputs": [],
            "metadata": {}
        },
        {
            "cell_type": "code",
            "execution_count": 310,
            "source": [
                "f__0 = 0\r\n",
                "f__T = 2 * np.pi + 0.5\r\n",
                "\r\n",
                "def f(x):\r\n",
                "    if 0 <= x < np.pi:\r\n",
                "        return np.sin(x - np.pi)\r\n",
                "    if np.pi <= x <= 2 * np.pi + 0.5:\r\n",
                "        return np.sin(x - np.pi - 0.5)"
            ],
            "outputs": [],
            "metadata": {}
        },
        {
            "cell_type": "code",
            "execution_count": 311,
            "source": [
                "f__0 = 0\r\n",
                "f__T = 3 * np.pi\r\n",
                "\r\n",
                "def f(x):\r\n",
                "    if 0 <= x < np.pi:\r\n",
                "        return np.sin(x)\r\n",
                "    if np.pi <= x <= 3 * np.pi:\r\n",
                "        return np.sin(x - np.pi)\r\n",
                "\r\n",
                "mesh = np.linspace(f__0, f__T, 50, dtype='float64')\r\n",
                "values = [f(knot) for knot in mesh]\r\n",
                "plt.scatter(mesh, values)"
            ],
            "outputs": [
                {
                    "output_type": "execute_result",
                    "data": {
                        "text/plain": [
                            "<matplotlib.collections.PathCollection at 0x275168ad3c8>"
                        ]
                    },
                    "metadata": {},
                    "execution_count": 311
                },
                {
                    "output_type": "display_data",
                    "data": {
                        "text/plain": [
                            "<Figure size 432x288 with 1 Axes>"
                        ],
                        "image/svg+xml": "<?xml version=\"1.0\" encoding=\"utf-8\" standalone=\"no\"?>\r\n<!DOCTYPE svg PUBLIC \"-//W3C//DTD SVG 1.1//EN\"\r\n  \"http://www.w3.org/Graphics/SVG/1.1/DTD/svg11.dtd\">\r\n<!-- Created with matplotlib (https://matplotlib.org/) -->\r\n<svg height=\"248.518125pt\" version=\"1.1\" viewBox=\"0 0 386.845313 248.518125\" width=\"386.845313pt\" xmlns=\"http://www.w3.org/2000/svg\" xmlns:xlink=\"http://www.w3.org/1999/xlink\">\r\n <metadata>\r\n  <rdf:RDF xmlns:cc=\"http://creativecommons.org/ns#\" xmlns:dc=\"http://purl.org/dc/elements/1.1/\" xmlns:rdf=\"http://www.w3.org/1999/02/22-rdf-syntax-ns#\">\r\n   <cc:Work>\r\n    <dc:type rdf:resource=\"http://purl.org/dc/dcmitype/StillImage\"/>\r\n    <dc:date>2021-08-12T01:23:53.629169</dc:date>\r\n    <dc:format>image/svg+xml</dc:format>\r\n    <dc:creator>\r\n     <cc:Agent>\r\n      <dc:title>Matplotlib v3.3.2, https://matplotlib.org/</dc:title>\r\n     </cc:Agent>\r\n    </dc:creator>\r\n   </cc:Work>\r\n  </rdf:RDF>\r\n </metadata>\r\n <defs>\r\n  <style type=\"text/css\">*{stroke-linecap:butt;stroke-linejoin:round;}</style>\r\n </defs>\r\n <g id=\"figure_1\">\r\n  <g id=\"patch_1\">\r\n   <path d=\"M 0 248.518125 \r\nL 386.845313 248.518125 \r\nL 386.845313 0 \r\nL 0 0 \r\nz\r\n\" style=\"fill:none;\"/>\r\n  </g>\r\n  <g id=\"axes_1\">\r\n   <g id=\"patch_2\">\r\n    <path d=\"M 44.845313 224.64 \r\nL 379.645313 224.64 \r\nL 379.645313 7.2 \r\nL 44.845313 7.2 \r\nz\r\n\" style=\"fill:#ffffff;\"/>\r\n   </g>\r\n   <g id=\"PathCollection_1\">\r\n    <defs>\r\n     <path d=\"M 0 3 \r\nC 0.795609 3 1.55874 2.683901 2.12132 2.12132 \r\nC 2.683901 1.55874 3 0.795609 3 0 \r\nC 3 -0.795609 2.683901 -1.55874 2.12132 -2.12132 \r\nC 1.55874 -2.683901 0.795609 -3 0 -3 \r\nC -0.795609 -3 -1.55874 -2.683901 -2.12132 -2.12132 \r\nC -2.683901 -1.55874 -3 -0.795609 -3 0 \r\nC -3 0.795609 -2.683901 1.55874 -2.12132 2.12132 \r\nC -1.55874 2.683901 -0.795609 3 0 3 \r\nz\r\n\" id=\"m2050c976e8\" style=\"stroke:#1f77b4;\"/>\r\n    </defs>\r\n    <g clip-path=\"url(#pbe51da1603)\">\r\n     <use style=\"fill:#1f77b4;stroke:#1f77b4;\" x=\"60.063494\" xlink:href=\"#m2050c976e8\" y=\"115.92\"/>\r\n     <use style=\"fill:#1f77b4;stroke:#1f77b4;\" x=\"66.274997\" xlink:href=\"#m2050c976e8\" y=\"97.016864\"/>\r\n     <use style=\"fill:#1f77b4;stroke:#1f77b4;\" x=\"72.4865\" xlink:href=\"#m2050c976e8\" y=\"78.810908\"/>\r\n     <use style=\"fill:#1f77b4;stroke:#1f77b4;\" x=\"78.698003\" xlink:href=\"#m2050c976e8\" y=\"61.973597\"/>\r\n     <use style=\"fill:#1f77b4;stroke:#1f77b4;\" x=\"84.909505\" xlink:href=\"#m2050c976e8\" y=\"47.125921\"/>\r\n     <use style=\"fill:#1f77b4;stroke:#1f77b4;\" x=\"91.121008\" xlink:href=\"#m2050c976e8\" y=\"34.815487\"/>\r\n     <use style=\"fill:#1f77b4;stroke:#1f77b4;\" x=\"97.332511\" xlink:href=\"#m2050c976e8\" y=\"25.496323\"/>\r\n     <use style=\"fill:#1f77b4;stroke:#1f77b4;\" x=\"103.544014\" xlink:href=\"#m2050c976e8\" y=\"19.512138\"/>\r\n     <use style=\"fill:#1f77b4;stroke:#1f77b4;\" x=\"109.755517\" xlink:href=\"#m2050c976e8\" y=\"17.083636\"/>\r\n     <use style=\"fill:#1f77b4;stroke:#1f77b4;\" x=\"115.967019\" xlink:href=\"#m2050c976e8\" y=\"18.300387\"/>\r\n     <use style=\"fill:#1f77b4;stroke:#1f77b4;\" x=\"122.178522\" xlink:href=\"#m2050c976e8\" y=\"23.117513\"/>\r\n     <use style=\"fill:#1f77b4;stroke:#1f77b4;\" x=\"128.390025\" xlink:href=\"#m2050c976e8\" y=\"31.357352\"/>\r\n     <use style=\"fill:#1f77b4;stroke:#1f77b4;\" x=\"134.601528\" xlink:href=\"#m2050c976e8\" y=\"42.716004\"/>\r\n     <use style=\"fill:#1f77b4;stroke:#1f77b4;\" x=\"140.81303\" xlink:href=\"#m2050c976e8\" y=\"56.774542\"/>\r\n     <use style=\"fill:#1f77b4;stroke:#1f77b4;\" x=\"147.024533\" xlink:href=\"#m2050c976e8\" y=\"73.014465\"/>\r\n     <use style=\"fill:#1f77b4;stroke:#1f77b4;\" x=\"153.236036\" xlink:href=\"#m2050c976e8\" y=\"90.836816\"/>\r\n     <use style=\"fill:#1f77b4;stroke:#1f77b4;\" x=\"159.447539\" xlink:href=\"#m2050c976e8\" y=\"109.584277\"/>\r\n     <use style=\"fill:#1f77b4;stroke:#1f77b4;\" x=\"165.659042\" xlink:href=\"#m2050c976e8\" y=\"103.274589\"/>\r\n     <use style=\"fill:#1f77b4;stroke:#1f77b4;\" x=\"171.870544\" xlink:href=\"#m2050c976e8\" y=\"84.75984\"/>\r\n     <use style=\"fill:#1f77b4;stroke:#1f77b4;\" x=\"178.082047\" xlink:href=\"#m2050c976e8\" y=\"67.39433\"/>\r\n     <use style=\"fill:#1f77b4;stroke:#1f77b4;\" x=\"184.29355\" xlink:href=\"#m2050c976e8\" y=\"51.818528\"/>\r\n     <use style=\"fill:#1f77b4;stroke:#1f77b4;\" x=\"190.505053\" xlink:href=\"#m2050c976e8\" y=\"38.606897\"/>\r\n     <use style=\"fill:#1f77b4;stroke:#1f77b4;\" x=\"196.716556\" xlink:href=\"#m2050c976e8\" y=\"28.246703\"/>\r\n     <use style=\"fill:#1f77b4;stroke:#1f77b4;\" x=\"202.928058\" xlink:href=\"#m2050c976e8\" y=\"21.120049\"/>\r\n     <use style=\"fill:#1f77b4;stroke:#1f77b4;\" x=\"209.139561\" xlink:href=\"#m2050c976e8\" y=\"17.489776\"/>\r\n     <use style=\"fill:#1f77b4;stroke:#1f77b4;\" x=\"215.351064\" xlink:href=\"#m2050c976e8\" y=\"17.489776\"/>\r\n     <use style=\"fill:#1f77b4;stroke:#1f77b4;\" x=\"221.562567\" xlink:href=\"#m2050c976e8\" y=\"21.120049\"/>\r\n     <use style=\"fill:#1f77b4;stroke:#1f77b4;\" x=\"227.774069\" xlink:href=\"#m2050c976e8\" y=\"28.246703\"/>\r\n     <use style=\"fill:#1f77b4;stroke:#1f77b4;\" x=\"233.985572\" xlink:href=\"#m2050c976e8\" y=\"38.606897\"/>\r\n     <use style=\"fill:#1f77b4;stroke:#1f77b4;\" x=\"240.197075\" xlink:href=\"#m2050c976e8\" y=\"51.818528\"/>\r\n     <use style=\"fill:#1f77b4;stroke:#1f77b4;\" x=\"246.408578\" xlink:href=\"#m2050c976e8\" y=\"67.39433\"/>\r\n     <use style=\"fill:#1f77b4;stroke:#1f77b4;\" x=\"252.620081\" xlink:href=\"#m2050c976e8\" y=\"84.75984\"/>\r\n     <use style=\"fill:#1f77b4;stroke:#1f77b4;\" x=\"258.831583\" xlink:href=\"#m2050c976e8\" y=\"103.274589\"/>\r\n     <use style=\"fill:#1f77b4;stroke:#1f77b4;\" x=\"265.043086\" xlink:href=\"#m2050c976e8\" y=\"122.255723\"/>\r\n     <use style=\"fill:#1f77b4;stroke:#1f77b4;\" x=\"271.254589\" xlink:href=\"#m2050c976e8\" y=\"141.003184\"/>\r\n     <use style=\"fill:#1f77b4;stroke:#1f77b4;\" x=\"277.466092\" xlink:href=\"#m2050c976e8\" y=\"158.825535\"/>\r\n     <use style=\"fill:#1f77b4;stroke:#1f77b4;\" x=\"283.677595\" xlink:href=\"#m2050c976e8\" y=\"175.065458\"/>\r\n     <use style=\"fill:#1f77b4;stroke:#1f77b4;\" x=\"289.889097\" xlink:href=\"#m2050c976e8\" y=\"189.123996\"/>\r\n     <use style=\"fill:#1f77b4;stroke:#1f77b4;\" x=\"296.1006\" xlink:href=\"#m2050c976e8\" y=\"200.482648\"/>\r\n     <use style=\"fill:#1f77b4;stroke:#1f77b4;\" x=\"302.312103\" xlink:href=\"#m2050c976e8\" y=\"208.722487\"/>\r\n     <use style=\"fill:#1f77b4;stroke:#1f77b4;\" x=\"308.523606\" xlink:href=\"#m2050c976e8\" y=\"213.539613\"/>\r\n     <use style=\"fill:#1f77b4;stroke:#1f77b4;\" x=\"314.735108\" xlink:href=\"#m2050c976e8\" y=\"214.756364\"/>\r\n     <use style=\"fill:#1f77b4;stroke:#1f77b4;\" x=\"320.946611\" xlink:href=\"#m2050c976e8\" y=\"212.327862\"/>\r\n     <use style=\"fill:#1f77b4;stroke:#1f77b4;\" x=\"327.158114\" xlink:href=\"#m2050c976e8\" y=\"206.343677\"/>\r\n     <use style=\"fill:#1f77b4;stroke:#1f77b4;\" x=\"333.369617\" xlink:href=\"#m2050c976e8\" y=\"197.024513\"/>\r\n     <use style=\"fill:#1f77b4;stroke:#1f77b4;\" x=\"339.58112\" xlink:href=\"#m2050c976e8\" y=\"184.714079\"/>\r\n     <use style=\"fill:#1f77b4;stroke:#1f77b4;\" x=\"345.792622\" xlink:href=\"#m2050c976e8\" y=\"169.866403\"/>\r\n     <use style=\"fill:#1f77b4;stroke:#1f77b4;\" x=\"352.004125\" xlink:href=\"#m2050c976e8\" y=\"153.029092\"/>\r\n     <use style=\"fill:#1f77b4;stroke:#1f77b4;\" x=\"358.215628\" xlink:href=\"#m2050c976e8\" y=\"134.823136\"/>\r\n     <use style=\"fill:#1f77b4;stroke:#1f77b4;\" x=\"364.427131\" xlink:href=\"#m2050c976e8\" y=\"115.92\"/>\r\n    </g>\r\n   </g>\r\n   <g id=\"matplotlib.axis_1\">\r\n    <g id=\"xtick_1\">\r\n     <g id=\"line2d_1\">\r\n      <defs>\r\n       <path d=\"M 0 0 \r\nL 0 3.5 \r\n\" id=\"ma9e6fec700\" style=\"stroke:#000000;stroke-width:0.8;\"/>\r\n      </defs>\r\n      <g>\r\n       <use style=\"stroke:#000000;stroke-width:0.8;\" x=\"60.063494\" xlink:href=\"#ma9e6fec700\" y=\"224.64\"/>\r\n      </g>\r\n     </g>\r\n     <g id=\"text_1\">\r\n      <!-- 0 -->\r\n      <g transform=\"translate(56.882244 239.238437)scale(0.1 -0.1)\">\r\n       <defs>\r\n        <path d=\"M 31.78125 66.40625 \r\nQ 24.171875 66.40625 20.328125 58.90625 \r\nQ 16.5 51.421875 16.5 36.375 \r\nQ 16.5 21.390625 20.328125 13.890625 \r\nQ 24.171875 6.390625 31.78125 6.390625 \r\nQ 39.453125 6.390625 43.28125 13.890625 \r\nQ 47.125 21.390625 47.125 36.375 \r\nQ 47.125 51.421875 43.28125 58.90625 \r\nQ 39.453125 66.40625 31.78125 66.40625 \r\nz\r\nM 31.78125 74.21875 \r\nQ 44.046875 74.21875 50.515625 64.515625 \r\nQ 56.984375 54.828125 56.984375 36.375 \r\nQ 56.984375 17.96875 50.515625 8.265625 \r\nQ 44.046875 -1.421875 31.78125 -1.421875 \r\nQ 19.53125 -1.421875 13.0625 8.265625 \r\nQ 6.59375 17.96875 6.59375 36.375 \r\nQ 6.59375 54.828125 13.0625 64.515625 \r\nQ 19.53125 74.21875 31.78125 74.21875 \r\nz\r\n\" id=\"DejaVuSans-48\"/>\r\n       </defs>\r\n       <use xlink:href=\"#DejaVuSans-48\"/>\r\n      </g>\r\n     </g>\r\n    </g>\r\n    <g id=\"xtick_2\">\r\n     <g id=\"line2d_2\">\r\n      <g>\r\n       <use style=\"stroke:#000000;stroke-width:0.8;\" x=\"124.651464\" xlink:href=\"#ma9e6fec700\" y=\"224.64\"/>\r\n      </g>\r\n     </g>\r\n     <g id=\"text_2\">\r\n      <!-- 2 -->\r\n      <g transform=\"translate(121.470214 239.238437)scale(0.1 -0.1)\">\r\n       <defs>\r\n        <path d=\"M 19.1875 8.296875 \r\nL 53.609375 8.296875 \r\nL 53.609375 0 \r\nL 7.328125 0 \r\nL 7.328125 8.296875 \r\nQ 12.9375 14.109375 22.625 23.890625 \r\nQ 32.328125 33.6875 34.8125 36.53125 \r\nQ 39.546875 41.84375 41.421875 45.53125 \r\nQ 43.3125 49.21875 43.3125 52.78125 \r\nQ 43.3125 58.59375 39.234375 62.25 \r\nQ 35.15625 65.921875 28.609375 65.921875 \r\nQ 23.96875 65.921875 18.8125 64.3125 \r\nQ 13.671875 62.703125 7.8125 59.421875 \r\nL 7.8125 69.390625 \r\nQ 13.765625 71.78125 18.9375 73 \r\nQ 24.125 74.21875 28.421875 74.21875 \r\nQ 39.75 74.21875 46.484375 68.546875 \r\nQ 53.21875 62.890625 53.21875 53.421875 \r\nQ 53.21875 48.921875 51.53125 44.890625 \r\nQ 49.859375 40.875 45.40625 35.40625 \r\nQ 44.1875 33.984375 37.640625 27.21875 \r\nQ 31.109375 20.453125 19.1875 8.296875 \r\nz\r\n\" id=\"DejaVuSans-50\"/>\r\n       </defs>\r\n       <use xlink:href=\"#DejaVuSans-50\"/>\r\n      </g>\r\n     </g>\r\n    </g>\r\n    <g id=\"xtick_3\">\r\n     <g id=\"line2d_3\">\r\n      <g>\r\n       <use style=\"stroke:#000000;stroke-width:0.8;\" x=\"189.239434\" xlink:href=\"#ma9e6fec700\" y=\"224.64\"/>\r\n      </g>\r\n     </g>\r\n     <g id=\"text_3\">\r\n      <!-- 4 -->\r\n      <g transform=\"translate(186.058184 239.238437)scale(0.1 -0.1)\">\r\n       <defs>\r\n        <path d=\"M 37.796875 64.3125 \r\nL 12.890625 25.390625 \r\nL 37.796875 25.390625 \r\nz\r\nM 35.203125 72.90625 \r\nL 47.609375 72.90625 \r\nL 47.609375 25.390625 \r\nL 58.015625 25.390625 \r\nL 58.015625 17.1875 \r\nL 47.609375 17.1875 \r\nL 47.609375 0 \r\nL 37.796875 0 \r\nL 37.796875 17.1875 \r\nL 4.890625 17.1875 \r\nL 4.890625 26.703125 \r\nz\r\n\" id=\"DejaVuSans-52\"/>\r\n       </defs>\r\n       <use xlink:href=\"#DejaVuSans-52\"/>\r\n      </g>\r\n     </g>\r\n    </g>\r\n    <g id=\"xtick_4\">\r\n     <g id=\"line2d_4\">\r\n      <g>\r\n       <use style=\"stroke:#000000;stroke-width:0.8;\" x=\"253.827403\" xlink:href=\"#ma9e6fec700\" y=\"224.64\"/>\r\n      </g>\r\n     </g>\r\n     <g id=\"text_4\">\r\n      <!-- 6 -->\r\n      <g transform=\"translate(250.646153 239.238437)scale(0.1 -0.1)\">\r\n       <defs>\r\n        <path d=\"M 33.015625 40.375 \r\nQ 26.375 40.375 22.484375 35.828125 \r\nQ 18.609375 31.296875 18.609375 23.390625 \r\nQ 18.609375 15.53125 22.484375 10.953125 \r\nQ 26.375 6.390625 33.015625 6.390625 \r\nQ 39.65625 6.390625 43.53125 10.953125 \r\nQ 47.40625 15.53125 47.40625 23.390625 \r\nQ 47.40625 31.296875 43.53125 35.828125 \r\nQ 39.65625 40.375 33.015625 40.375 \r\nz\r\nM 52.59375 71.296875 \r\nL 52.59375 62.3125 \r\nQ 48.875 64.0625 45.09375 64.984375 \r\nQ 41.3125 65.921875 37.59375 65.921875 \r\nQ 27.828125 65.921875 22.671875 59.328125 \r\nQ 17.53125 52.734375 16.796875 39.40625 \r\nQ 19.671875 43.65625 24.015625 45.921875 \r\nQ 28.375 48.1875 33.59375 48.1875 \r\nQ 44.578125 48.1875 50.953125 41.515625 \r\nQ 57.328125 34.859375 57.328125 23.390625 \r\nQ 57.328125 12.15625 50.6875 5.359375 \r\nQ 44.046875 -1.421875 33.015625 -1.421875 \r\nQ 20.359375 -1.421875 13.671875 8.265625 \r\nQ 6.984375 17.96875 6.984375 36.375 \r\nQ 6.984375 53.65625 15.1875 63.9375 \r\nQ 23.390625 74.21875 37.203125 74.21875 \r\nQ 40.921875 74.21875 44.703125 73.484375 \r\nQ 48.484375 72.75 52.59375 71.296875 \r\nz\r\n\" id=\"DejaVuSans-54\"/>\r\n       </defs>\r\n       <use xlink:href=\"#DejaVuSans-54\"/>\r\n      </g>\r\n     </g>\r\n    </g>\r\n    <g id=\"xtick_5\">\r\n     <g id=\"line2d_5\">\r\n      <g>\r\n       <use style=\"stroke:#000000;stroke-width:0.8;\" x=\"318.415373\" xlink:href=\"#ma9e6fec700\" y=\"224.64\"/>\r\n      </g>\r\n     </g>\r\n     <g id=\"text_5\">\r\n      <!-- 8 -->\r\n      <g transform=\"translate(315.234123 239.238437)scale(0.1 -0.1)\">\r\n       <defs>\r\n        <path d=\"M 31.78125 34.625 \r\nQ 24.75 34.625 20.71875 30.859375 \r\nQ 16.703125 27.09375 16.703125 20.515625 \r\nQ 16.703125 13.921875 20.71875 10.15625 \r\nQ 24.75 6.390625 31.78125 6.390625 \r\nQ 38.8125 6.390625 42.859375 10.171875 \r\nQ 46.921875 13.96875 46.921875 20.515625 \r\nQ 46.921875 27.09375 42.890625 30.859375 \r\nQ 38.875 34.625 31.78125 34.625 \r\nz\r\nM 21.921875 38.8125 \r\nQ 15.578125 40.375 12.03125 44.71875 \r\nQ 8.5 49.078125 8.5 55.328125 \r\nQ 8.5 64.0625 14.71875 69.140625 \r\nQ 20.953125 74.21875 31.78125 74.21875 \r\nQ 42.671875 74.21875 48.875 69.140625 \r\nQ 55.078125 64.0625 55.078125 55.328125 \r\nQ 55.078125 49.078125 51.53125 44.71875 \r\nQ 48 40.375 41.703125 38.8125 \r\nQ 48.828125 37.15625 52.796875 32.3125 \r\nQ 56.78125 27.484375 56.78125 20.515625 \r\nQ 56.78125 9.90625 50.3125 4.234375 \r\nQ 43.84375 -1.421875 31.78125 -1.421875 \r\nQ 19.734375 -1.421875 13.25 4.234375 \r\nQ 6.78125 9.90625 6.78125 20.515625 \r\nQ 6.78125 27.484375 10.78125 32.3125 \r\nQ 14.796875 37.15625 21.921875 38.8125 \r\nz\r\nM 18.3125 54.390625 \r\nQ 18.3125 48.734375 21.84375 45.5625 \r\nQ 25.390625 42.390625 31.78125 42.390625 \r\nQ 38.140625 42.390625 41.71875 45.5625 \r\nQ 45.3125 48.734375 45.3125 54.390625 \r\nQ 45.3125 60.0625 41.71875 63.234375 \r\nQ 38.140625 66.40625 31.78125 66.40625 \r\nQ 25.390625 66.40625 21.84375 63.234375 \r\nQ 18.3125 60.0625 18.3125 54.390625 \r\nz\r\n\" id=\"DejaVuSans-56\"/>\r\n       </defs>\r\n       <use xlink:href=\"#DejaVuSans-56\"/>\r\n      </g>\r\n     </g>\r\n    </g>\r\n   </g>\r\n   <g id=\"matplotlib.axis_2\">\r\n    <g id=\"ytick_1\">\r\n     <g id=\"line2d_6\">\r\n      <defs>\r\n       <path d=\"M 0 0 \r\nL -3.5 0 \r\n\" id=\"m5416d6a207\" style=\"stroke:#000000;stroke-width:0.8;\"/>\r\n      </defs>\r\n      <g>\r\n       <use style=\"stroke:#000000;stroke-width:0.8;\" x=\"44.845313\" xlink:href=\"#m5416d6a207\" y=\"214.80717\"/>\r\n      </g>\r\n     </g>\r\n     <g id=\"text_6\">\r\n      <!-- −1.00 -->\r\n      <g transform=\"translate(7.2 218.606389)scale(0.1 -0.1)\">\r\n       <defs>\r\n        <path d=\"M 10.59375 35.5 \r\nL 73.1875 35.5 \r\nL 73.1875 27.203125 \r\nL 10.59375 27.203125 \r\nz\r\n\" id=\"DejaVuSans-8722\"/>\r\n        <path d=\"M 12.40625 8.296875 \r\nL 28.515625 8.296875 \r\nL 28.515625 63.921875 \r\nL 10.984375 60.40625 \r\nL 10.984375 69.390625 \r\nL 28.421875 72.90625 \r\nL 38.28125 72.90625 \r\nL 38.28125 8.296875 \r\nL 54.390625 8.296875 \r\nL 54.390625 0 \r\nL 12.40625 0 \r\nz\r\n\" id=\"DejaVuSans-49\"/>\r\n        <path d=\"M 10.6875 12.40625 \r\nL 21 12.40625 \r\nL 21 0 \r\nL 10.6875 0 \r\nz\r\n\" id=\"DejaVuSans-46\"/>\r\n       </defs>\r\n       <use xlink:href=\"#DejaVuSans-8722\"/>\r\n       <use x=\"83.789062\" xlink:href=\"#DejaVuSans-49\"/>\r\n       <use x=\"147.412109\" xlink:href=\"#DejaVuSans-46\"/>\r\n       <use x=\"179.199219\" xlink:href=\"#DejaVuSans-48\"/>\r\n       <use x=\"242.822266\" xlink:href=\"#DejaVuSans-48\"/>\r\n      </g>\r\n     </g>\r\n    </g>\r\n    <g id=\"ytick_2\">\r\n     <g id=\"line2d_7\">\r\n      <g>\r\n       <use style=\"stroke:#000000;stroke-width:0.8;\" x=\"44.845313\" xlink:href=\"#m5416d6a207\" y=\"190.085378\"/>\r\n      </g>\r\n     </g>\r\n     <g id=\"text_7\">\r\n      <!-- −0.75 -->\r\n      <g transform=\"translate(7.2 193.884596)scale(0.1 -0.1)\">\r\n       <defs>\r\n        <path d=\"M 8.203125 72.90625 \r\nL 55.078125 72.90625 \r\nL 55.078125 68.703125 \r\nL 28.609375 0 \r\nL 18.3125 0 \r\nL 43.21875 64.59375 \r\nL 8.203125 64.59375 \r\nz\r\n\" id=\"DejaVuSans-55\"/>\r\n        <path d=\"M 10.796875 72.90625 \r\nL 49.515625 72.90625 \r\nL 49.515625 64.59375 \r\nL 19.828125 64.59375 \r\nL 19.828125 46.734375 \r\nQ 21.96875 47.46875 24.109375 47.828125 \r\nQ 26.265625 48.1875 28.421875 48.1875 \r\nQ 40.625 48.1875 47.75 41.5 \r\nQ 54.890625 34.8125 54.890625 23.390625 \r\nQ 54.890625 11.625 47.5625 5.09375 \r\nQ 40.234375 -1.421875 26.90625 -1.421875 \r\nQ 22.3125 -1.421875 17.546875 -0.640625 \r\nQ 12.796875 0.140625 7.71875 1.703125 \r\nL 7.71875 11.625 \r\nQ 12.109375 9.234375 16.796875 8.0625 \r\nQ 21.484375 6.890625 26.703125 6.890625 \r\nQ 35.15625 6.890625 40.078125 11.328125 \r\nQ 45.015625 15.765625 45.015625 23.390625 \r\nQ 45.015625 31 40.078125 35.4375 \r\nQ 35.15625 39.890625 26.703125 39.890625 \r\nQ 22.75 39.890625 18.8125 39.015625 \r\nQ 14.890625 38.140625 10.796875 36.28125 \r\nz\r\n\" id=\"DejaVuSans-53\"/>\r\n       </defs>\r\n       <use xlink:href=\"#DejaVuSans-8722\"/>\r\n       <use x=\"83.789062\" xlink:href=\"#DejaVuSans-48\"/>\r\n       <use x=\"147.412109\" xlink:href=\"#DejaVuSans-46\"/>\r\n       <use x=\"179.199219\" xlink:href=\"#DejaVuSans-55\"/>\r\n       <use x=\"242.822266\" xlink:href=\"#DejaVuSans-53\"/>\r\n      </g>\r\n     </g>\r\n    </g>\r\n    <g id=\"ytick_3\">\r\n     <g id=\"line2d_8\">\r\n      <g>\r\n       <use style=\"stroke:#000000;stroke-width:0.8;\" x=\"44.845313\" xlink:href=\"#m5416d6a207\" y=\"165.363585\"/>\r\n      </g>\r\n     </g>\r\n     <g id=\"text_8\">\r\n      <!-- −0.50 -->\r\n      <g transform=\"translate(7.2 169.162804)scale(0.1 -0.1)\">\r\n       <use xlink:href=\"#DejaVuSans-8722\"/>\r\n       <use x=\"83.789062\" xlink:href=\"#DejaVuSans-48\"/>\r\n       <use x=\"147.412109\" xlink:href=\"#DejaVuSans-46\"/>\r\n       <use x=\"179.199219\" xlink:href=\"#DejaVuSans-53\"/>\r\n       <use x=\"242.822266\" xlink:href=\"#DejaVuSans-48\"/>\r\n      </g>\r\n     </g>\r\n    </g>\r\n    <g id=\"ytick_4\">\r\n     <g id=\"line2d_9\">\r\n      <g>\r\n       <use style=\"stroke:#000000;stroke-width:0.8;\" x=\"44.845313\" xlink:href=\"#m5416d6a207\" y=\"140.641793\"/>\r\n      </g>\r\n     </g>\r\n     <g id=\"text_9\">\r\n      <!-- −0.25 -->\r\n      <g transform=\"translate(7.2 144.441011)scale(0.1 -0.1)\">\r\n       <use xlink:href=\"#DejaVuSans-8722\"/>\r\n       <use x=\"83.789062\" xlink:href=\"#DejaVuSans-48\"/>\r\n       <use x=\"147.412109\" xlink:href=\"#DejaVuSans-46\"/>\r\n       <use x=\"179.199219\" xlink:href=\"#DejaVuSans-50\"/>\r\n       <use x=\"242.822266\" xlink:href=\"#DejaVuSans-53\"/>\r\n      </g>\r\n     </g>\r\n    </g>\r\n    <g id=\"ytick_5\">\r\n     <g id=\"line2d_10\">\r\n      <g>\r\n       <use style=\"stroke:#000000;stroke-width:0.8;\" x=\"44.845313\" xlink:href=\"#m5416d6a207\" y=\"115.92\"/>\r\n      </g>\r\n     </g>\r\n     <g id=\"text_10\">\r\n      <!-- 0.00 -->\r\n      <g transform=\"translate(15.579688 119.719219)scale(0.1 -0.1)\">\r\n       <use xlink:href=\"#DejaVuSans-48\"/>\r\n       <use x=\"63.623047\" xlink:href=\"#DejaVuSans-46\"/>\r\n       <use x=\"95.410156\" xlink:href=\"#DejaVuSans-48\"/>\r\n       <use x=\"159.033203\" xlink:href=\"#DejaVuSans-48\"/>\r\n      </g>\r\n     </g>\r\n    </g>\r\n    <g id=\"ytick_6\">\r\n     <g id=\"line2d_11\">\r\n      <g>\r\n       <use style=\"stroke:#000000;stroke-width:0.8;\" x=\"44.845313\" xlink:href=\"#m5416d6a207\" y=\"91.198207\"/>\r\n      </g>\r\n     </g>\r\n     <g id=\"text_11\">\r\n      <!-- 0.25 -->\r\n      <g transform=\"translate(15.579688 94.997426)scale(0.1 -0.1)\">\r\n       <use xlink:href=\"#DejaVuSans-48\"/>\r\n       <use x=\"63.623047\" xlink:href=\"#DejaVuSans-46\"/>\r\n       <use x=\"95.410156\" xlink:href=\"#DejaVuSans-50\"/>\r\n       <use x=\"159.033203\" xlink:href=\"#DejaVuSans-53\"/>\r\n      </g>\r\n     </g>\r\n    </g>\r\n    <g id=\"ytick_7\">\r\n     <g id=\"line2d_12\">\r\n      <g>\r\n       <use style=\"stroke:#000000;stroke-width:0.8;\" x=\"44.845313\" xlink:href=\"#m5416d6a207\" y=\"66.476415\"/>\r\n      </g>\r\n     </g>\r\n     <g id=\"text_12\">\r\n      <!-- 0.50 -->\r\n      <g transform=\"translate(15.579688 70.275634)scale(0.1 -0.1)\">\r\n       <use xlink:href=\"#DejaVuSans-48\"/>\r\n       <use x=\"63.623047\" xlink:href=\"#DejaVuSans-46\"/>\r\n       <use x=\"95.410156\" xlink:href=\"#DejaVuSans-53\"/>\r\n       <use x=\"159.033203\" xlink:href=\"#DejaVuSans-48\"/>\r\n      </g>\r\n     </g>\r\n    </g>\r\n    <g id=\"ytick_8\">\r\n     <g id=\"line2d_13\">\r\n      <g>\r\n       <use style=\"stroke:#000000;stroke-width:0.8;\" x=\"44.845313\" xlink:href=\"#m5416d6a207\" y=\"41.754622\"/>\r\n      </g>\r\n     </g>\r\n     <g id=\"text_13\">\r\n      <!-- 0.75 -->\r\n      <g transform=\"translate(15.579688 45.553841)scale(0.1 -0.1)\">\r\n       <use xlink:href=\"#DejaVuSans-48\"/>\r\n       <use x=\"63.623047\" xlink:href=\"#DejaVuSans-46\"/>\r\n       <use x=\"95.410156\" xlink:href=\"#DejaVuSans-55\"/>\r\n       <use x=\"159.033203\" xlink:href=\"#DejaVuSans-53\"/>\r\n      </g>\r\n     </g>\r\n    </g>\r\n    <g id=\"ytick_9\">\r\n     <g id=\"line2d_14\">\r\n      <g>\r\n       <use style=\"stroke:#000000;stroke-width:0.8;\" x=\"44.845313\" xlink:href=\"#m5416d6a207\" y=\"17.03283\"/>\r\n      </g>\r\n     </g>\r\n     <g id=\"text_14\">\r\n      <!-- 1.00 -->\r\n      <g transform=\"translate(15.579688 20.832048)scale(0.1 -0.1)\">\r\n       <use xlink:href=\"#DejaVuSans-49\"/>\r\n       <use x=\"63.623047\" xlink:href=\"#DejaVuSans-46\"/>\r\n       <use x=\"95.410156\" xlink:href=\"#DejaVuSans-48\"/>\r\n       <use x=\"159.033203\" xlink:href=\"#DejaVuSans-48\"/>\r\n      </g>\r\n     </g>\r\n    </g>\r\n   </g>\r\n   <g id=\"patch_3\">\r\n    <path d=\"M 44.845313 224.64 \r\nL 44.845313 7.2 \r\n\" style=\"fill:none;stroke:#000000;stroke-linecap:square;stroke-linejoin:miter;stroke-width:0.8;\"/>\r\n   </g>\r\n   <g id=\"patch_4\">\r\n    <path d=\"M 379.645313 224.64 \r\nL 379.645313 7.2 \r\n\" style=\"fill:none;stroke:#000000;stroke-linecap:square;stroke-linejoin:miter;stroke-width:0.8;\"/>\r\n   </g>\r\n   <g id=\"patch_5\">\r\n    <path d=\"M 44.845313 224.64 \r\nL 379.645313 224.64 \r\n\" style=\"fill:none;stroke:#000000;stroke-linecap:square;stroke-linejoin:miter;stroke-width:0.8;\"/>\r\n   </g>\r\n   <g id=\"patch_6\">\r\n    <path d=\"M 44.845313 7.2 \r\nL 379.645313 7.2 \r\n\" style=\"fill:none;stroke:#000000;stroke-linecap:square;stroke-linejoin:miter;stroke-width:0.8;\"/>\r\n   </g>\r\n  </g>\r\n </g>\r\n <defs>\r\n  <clipPath id=\"pbe51da1603\">\r\n   <rect height=\"217.44\" width=\"334.8\" x=\"44.845313\" y=\"7.2\"/>\r\n  </clipPath>\r\n </defs>\r\n</svg>\r\n",
                        "image/png": "[encoded data removed]"
                    },
                    "metadata": {
                        "needs_background": "light"
                    }
                }
            ],
            "metadata": {}
        },
        {
            "cell_type": "code",
            "execution_count": null,
            "source": [],
            "outputs": [],
            "metadata": {}
        },
        {
            "cell_type": "code",
            "execution_count": 312,
            "source": [
                "def interpolate(knots, values):\r\n",
                "    # Wyznacza listę wielomianów bazowych Lagrange'a dla podanych węzłów interpolacji.\r\n",
                "    base = []\r\n",
                "    inx = list(range(len(knots)))\r\n",
                "    for k in inx:\r\n",
                "        zeros = np.take(knots, inx[:k] + inx[k+1:])\r\n",
                "        multipier = 1 / (knots[k] - zeros).prod()\r\n",
                "        polynomial = Polynomial.fromroots(zeros) * multipier\r\n",
                "        base.append(polynomial)\r\n",
                "\r\n",
                "    # Wyznacza wielomian\r\n",
                "    polynomial = Polynomial([0.])\r\n",
                "    for k in range(len(knots)):\r\n",
                "        polynomial += values[k] * base[k]\r\n",
                "    return polynomial"
            ],
            "outputs": [],
            "metadata": {}
        },
        {
            "cell_type": "code",
            "execution_count": 313,
            "source": [
                "def A_test(f, a0, a1, b1, b0, r, rho):\r\n",
                "    knots = np.linspace(b1, b0, r+1, endpoint=True)\r\n",
                "    values = np.array([f(x) for x in knots])\r\n",
                "    w1 = interpolate(knots, values)\r\n",
                "    \r\n",
                "    knots = np.linspace(a1, a0, r+1, endpoint=True)\r\n",
                "    values = np.array([f(x) for x in knots])\r\n",
                "    w2 = interpolate(knots, values)\r\n",
                "    \r\n",
                "    z = np.linspace(a1, b1, r+1, endpoint=True)\r\n",
                "    temp = (b0 - a0) ** (r + rho)\r\n",
                "\r\n",
                "    values = np.array([np.abs(w1(z_i) - w2(z_i)) for z_i in z]) / temp\r\n",
                "    return np.max(values)"
            ],
            "outputs": [],
            "metadata": {}
        },
        {
            "cell_type": "code",
            "execution_count": 314,
            "source": [
                "def step1(g, c, delta, r, rho):\r\n",
                "    max_diam = np.max([c[i+1] - c[i] for i in range(len(c)-1)])\r\n",
                "    if max_diam <= 4 * delta:\r\n",
                "        return 0, 0\r\n",
                "    else:\r\n",
                "        largest_result = 0\r\n",
                "        second_largest_result = 0\r\n",
                "        lagrest_result_index = 0\r\n",
                "        for i in range(len(c)-1):\r\n",
                "            if c[i+1] - c[i] > 4 * delta:\r\n",
                "                test_result = A_test(g, c[i], c[i] + delta, c[i+1] - delta, c[i+1], r, rho)\r\n",
                "                print(\"i: {}   c[i]: {}   test_result: {}\".format(i, c[i], test_result))\r\n",
                "                if test_result > largest_result:\r\n",
                "                    largest_result = test_result\r\n",
                "                    lagrest_result_index = i\r\n",
                "                elif test_result > second_largest_result:\r\n",
                "                    second_largest_result = test_result\r\n",
                "        \r\n",
                "        if math.isclose(largest_result, second_largest_result, rel_tol=1e-14):\r\n",
                "            return 0, 0\r\n",
                "\r\n",
                "    return c[lagrest_result_index], c[lagrest_result_index+1]"
            ],
            "outputs": [],
            "metadata": {}
        },
        {
            "cell_type": "code",
            "execution_count": 315,
            "source": [
                "def step2(g, a, b, delta, r, rho): # bisection\r\n",
                "    if a == 0 and b == 0:\r\n",
                "        return []\r\n",
                "    a_new, b_new = a, b\r\n",
                "    B = [a, b]\r\n",
                "\r\n",
                "    while True:\r\n",
                "        if b_new - a_new <= 4 * delta:\r\n",
                "            print(\"HERE1\")\r\n",
                "            return B\r\n",
                "        \r\n",
                "        v = (a_new + b_new) / 2\r\n",
                "        A1 = A_test(g, a_new, a_new +  delta, v - delta, v, r, rho)\r\n",
                "        A2 = A_test(g, v, v +  delta, b_new - delta, b_new, r, rho)\r\n",
                "        B.append(v)\r\n",
                "\r\n",
                "        if math.isclose(A1, A2, rel_tol=1e-14):  # TODO: it should depend on precision\r\n",
                "            print(\"HERE2\")\r\n",
                "            return B\r\n",
                "        elif A1 > A2:\r\n",
                "            b_new = v    \r\n",
                "        else:\r\n",
                "            a_new = v"
            ],
            "outputs": [],
            "metadata": {}
        },
        {
            "cell_type": "code",
            "execution_count": 316,
            "source": [
                "def step3(g, c, B, delta):\r\n",
                "    M = np.concatenate((c, B))\r\n",
                "    M = np.sort(M)\r\n",
                "\r\n",
                "    def adaptive_approximate(t):\r\n",
                "        # locate knot that smaller or equal to t (and it is closest to t)\r\n",
                "        for i in range(len(M)-1):\r\n",
                "            if t >= M[i]:\r\n",
                "                continue\r\n",
                "        \r\n",
                "        is_smaller = lambda i: M[i+1] - M[i] <= 4 * delta\r\n",
                "\r\n",
                "        print(\"i: {}\".format(i))\r\n",
                "        if t <= M[i+1] and is_smaller:\r\n",
                "            print(\"HERE3\")\r\n",
                "            return g(M[i])\r\n",
                "        if t < M[i] + delta and not is_smaller:\r\n",
                "            print(\"HERE4\")\r\n",
                "            return g(M[i])\r\n",
                "        if t > M[i] + delta and t < M[i+1] - delta and not is_smaller:\r\n",
                "            print(\"HERE5\")\r\n",
                "            left, right = M[i] + delta, M[i+1] - delta\r\n",
                "            knots = [left, right]\r\n",
                "            values = [g(left), g(right)]\r\n",
                "            polynomial = interpolate(knots, values)\r\n",
                "            return polynomial(t)\r\n",
                "        if t > M[i+1] - delta and t < M[i+1] and not is_smaller:\r\n",
                "            print(\"HERE6\")\r\n",
                "            return g(M[i+1] - delta)\r\n",
                "    return M, adaptive_approximate"
            ],
            "outputs": [],
            "metadata": {}
        },
        {
            "cell_type": "code",
            "execution_count": 317,
            "source": [
                "def Alg2014(g, a, b, m, r, rho):\r\n",
                "    '''\r\n",
                "    g - funkcja, którą aproksymujemy\r\n",
                "    r - regularność funkcji\r\n",
                "    a, b - brzegi przedziału [a,b]\r\n",
                "    m - początkowa gęstość siatki\r\n",
                "    '''\r\n",
                "    # Step 0 (inicjalizacja stałych itp.)\r\n",
                "    h = (b - a) / m\r\n",
                "    delta = h ** (r + rho)\r\n",
                "    c = np.linspace(a, b, m+1, dtype='float64') # mamy m+1 wezlów postaci c[0], ... , c[m]\r\n",
                "\r\n",
                "    # kroki algorytmu\r\n",
                "    left, right = step1(g, c, delta, r, rho)\r\n",
                "    print(\"left: {}, right {}\".format(left, right))\r\n",
                "\r\n",
                "    B = step2(g, left, right, delta, r, rho)\r\n",
                "    print(\"B: {}\".format(B))\r\n",
                "    \r\n",
                "    M, approx = step3(g, c, B, delta)\r\n",
                "    print(\"M: {}\".format(M))\r\n",
                "    \r\n",
                "    return M, approx\r\n"
            ],
            "outputs": [],
            "metadata": {}
        },
        {
            "cell_type": "code",
            "execution_count": 321,
            "source": [
                "mesh, f_approximation = Alg2014(f, f__0, f__T, 100, 5, 0.5)\r\n",
                "\r\n",
                "# function to calculate values of approximation function\r\n",
                "def f_values(mesh, fun):\r\n",
                "    return [fun(knot) for knot in mesh]\r\n",
                "\r\n",
                "f_approximation(2.0)\r\n",
                "\r\n",
                "# print(\"mesh: {}\".format(mesh))\r\n",
                "# print(\"values: {}\".format(f_values(mesh, f_approximation)))"
            ],
            "outputs": [
                {
                    "output_type": "stream",
                    "name": "stdout",
                    "text": [
                        "i: 0   c[i]: 0.0   test_result: 261997809350562.28\n",
                        "i: 1   c[i]: 0.09424777960769379   test_result: 3.388255001351844e+16\n",
                        "i: 2   c[i]: 0.18849555921538758   test_result: 7.8766365885245e+17\n",
                        "i: 3   c[i]: 0.28274333882308134   test_result: 1.0138946744906537e+19\n",
                        "i: 4   c[i]: 0.37699111843077515   test_result: 7.926380452897385e+18\n",
                        "i: 5   c[i]: 0.47123889803846897   test_result: 4.001163258614607e+19\n",
                        "i: 6   c[i]: 0.5654866776461627   test_result: 1.0362271279578312e+20\n",
                        "i: 7   c[i]: 0.6597344572538565   test_result: 7.94232732452273e+20\n",
                        "i: 8   c[i]: 0.7539822368615503   test_result: 1.096949969812964e+21\n",
                        "i: 9   c[i]: 0.8482300164692441   test_result: 2.1368145984288378e+20\n",
                        "i: 10   c[i]: 0.9424777960769379   test_result: 2.4202494416010944e+21\n",
                        "i: 11   c[i]: 1.0367255756846316   test_result: 1.0836984139215328e+21\n",
                        "i: 12   c[i]: 1.1309733552923253   test_result: 3.173974007103574e+21\n",
                        "i: 13   c[i]: 1.2252211349000193   test_result: 1.7854218705420094e+22\n",
                        "i: 14   c[i]: 1.319468914507713   test_result: 5.714497867376678e+22\n",
                        "i: 15   c[i]: 1.413716694115407   test_result: 3.6103886397651087e+22\n",
                        "i: 16   c[i]: 1.5079644737231006   test_result: 3.962137099450654e+22\n",
                        "i: 17   c[i]: 1.6022122533307943   test_result: 4.076671419138453e+22\n",
                        "i: 18   c[i]: 1.6964600329384882   test_result: 8.101009924199186e+22\n",
                        "i: 19   c[i]: 1.790707812546182   test_result: 2.5982460869219073e+22\n",
                        "i: 20   c[i]: 1.8849555921538759   test_result: 2.7738303317881614e+23\n",
                        "i: 21   c[i]: 1.9792033717615696   test_result: 2.2118549543185243e+23\n",
                        "i: 22   c[i]: 2.0734511513692633   test_result: 9.392768502446577e+22\n",
                        "i: 23   c[i]: 2.167698930976957   test_result: 2.6617645505193596e+22\n",
                        "i: 24   c[i]: 2.2619467105846507   test_result: 3.34552130397646e+22\n",
                        "i: 25   c[i]: 2.356194490192345   test_result: 1.0121478092959942e+22\n",
                        "i: 26   c[i]: 2.4504422698000385   test_result: 2.5889390417410234e+23\n",
                        "i: 27   c[i]: 2.5446900494077322   test_result: 4.9777617088727905e+23\n",
                        "i: 28   c[i]: 2.638937829015426   test_result: 1.2376596169595726e+23\n",
                        "i: 29   c[i]: 2.7331856086231197   test_result: 1.0401091894058959e+23\n",
                        "i: 30   c[i]: 2.827433388230814   test_result: 1.7904379201011153e+23\n",
                        "i: 31   c[i]: 2.9216811678385075   test_result: 1.0710087504451862e+23\n",
                        "i: 32   c[i]: 3.015928947446201   test_result: 8.789319212209266e+21\n",
                        "i: 33   c[i]: 3.110176727053895   test_result: 1.098380323665522e+22\n",
                        "i: 34   c[i]: 3.2044245066615886   test_result: 7.3394821809340305e+22\n",
                        "i: 35   c[i]: 3.2986722862692828   test_result: 7.028243656559829e+23\n",
                        "i: 36   c[i]: 3.3929200658769765   test_result: 6.494342168784098e+23\n",
                        "i: 37   c[i]: 3.48716784548467   test_result: 1.1169262282171623e+24\n",
                        "i: 38   c[i]: 3.581415625092364   test_result: 3.249854904847075e+24\n",
                        "i: 39   c[i]: 3.6756634047000576   test_result: 4.677852731772646e+24\n",
                        "i: 40   c[i]: 3.7699111843077517   test_result: 5.56328652427153e+24\n",
                        "i: 41   c[i]: 3.8641589639154454   test_result: 2.517822006811423e+24\n",
                        "i: 42   c[i]: 3.958406743523139   test_result: 7.006593617791012e+24\n",
                        "i: 43   c[i]: 4.052654523130833   test_result: 7.028855154847811e+24\n",
                        "i: 44   c[i]: 4.146902302738527   test_result: 8.533895149529396e+24\n",
                        "i: 45   c[i]: 4.241150082346221   test_result: 2.2964847503676957e+25\n",
                        "i: 46   c[i]: 4.335397861953914   test_result: 2.2523962872236032e+24\n",
                        "i: 47   c[i]: 4.429645641561608   test_result: 1.0520050320119167e+24\n",
                        "i: 48   c[i]: 4.523893421169301   test_result: 2.466366352361304e+25\n",
                        "i: 49   c[i]: 4.6181412007769955   test_result: 2.6052905992163862e+25\n",
                        "i: 50   c[i]: 4.71238898038469   test_result: 2.530718439484108e+25\n",
                        "i: 51   c[i]: 4.806636759992383   test_result: 1.2851153513028992e+25\n",
                        "i: 52   c[i]: 4.900884539600077   test_result: 1.0226905294468592e+25\n",
                        "i: 53   c[i]: 4.99513231920777   test_result: 9.954140758483056e+24\n",
                        "i: 54   c[i]: 5.0893800988154645   test_result: 3.416088340702484e+25\n",
                        "i: 55   c[i]: 5.183627878423159   test_result: 3.124349770040546e+25\n",
                        "i: 56   c[i]: 5.277875658030852   test_result: 6.460474419680262e+24\n",
                        "i: 57   c[i]: 5.372123437638546   test_result: 1.4323806297434905e+25\n",
                        "i: 58   c[i]: 5.466371217246239   test_result: 7.637036446126099e+23\n",
                        "i: 59   c[i]: 5.5606189968539335   test_result: 6.147160582439308e+24\n",
                        "i: 60   c[i]: 5.654866776461628   test_result: 1.9901347212052893e+25\n",
                        "i: 61   c[i]: 5.749114556069321   test_result: 4.110538336849586e+25\n",
                        "i: 62   c[i]: 5.843362335677015   test_result: 1.0710278008110633e+25\n",
                        "i: 63   c[i]: 5.937610115284708   test_result: 2.49830432511991e+25\n",
                        "i: 64   c[i]: 6.031857894892402   test_result: 6.52464590807643e+24\n",
                        "i: 65   c[i]: 6.126105674500097   test_result: 7.923585928040428e+24\n",
                        "i: 66   c[i]: 6.22035345410779   test_result: 3.410427480913799e+24\n",
                        "i: 67   c[i]: 6.314601233715484   test_result: 1.195778767642873e+25\n",
                        "i: 68   c[i]: 6.408849013323177   test_result: 1.8886756280788907e+25\n",
                        "i: 69   c[i]: 6.503096792930871   test_result: 3.4842162791657687e+24\n",
                        "i: 70   c[i]: 6.5973445725385655   test_result: 1.5733494193622944e+24\n",
                        "i: 71   c[i]: 6.691592352146259   test_result: 6.614503159243203e+24\n",
                        "i: 72   c[i]: 6.785840131753953   test_result: 1.961045804066928e+25\n",
                        "i: 73   c[i]: 6.880087911361646   test_result: 3.393972309148983e+25\n",
                        "i: 74   c[i]: 6.97433569096934   test_result: 2.153619403348476e+24\n",
                        "i: 75   c[i]: 7.0685834705770345   test_result: 7.817449128438024e+25\n",
                        "i: 76   c[i]: 7.162831250184728   test_result: 1.7945580122773763e+25\n",
                        "i: 77   c[i]: 7.257079029792422   test_result: 1.224834450260395e+26\n",
                        "i: 78   c[i]: 7.351326809400115   test_result: 8.124416208220557e+25\n",
                        "i: 79   c[i]: 7.445574589007809   test_result: 6.523659494643989e+25\n",
                        "i: 80   c[i]: 7.5398223686155035   test_result: 7.678705094489608e+25\n",
                        "i: 81   c[i]: 7.634070148223197   test_result: 3.1188702462408034e+24\n",
                        "i: 82   c[i]: 7.728317927830891   test_result: 1.246862929026558e+25\n",
                        "i: 83   c[i]: 7.822565707438584   test_result: 1.0588955284595553e+26\n",
                        "i: 84   c[i]: 7.916813487046278   test_result: 3.1529718008950214e+26\n",
                        "i: 85   c[i]: 8.011061266653972   test_result: 8.469889546238185e+25\n",
                        "i: 86   c[i]: 8.105309046261667   test_result: 2.163074482841168e+26\n",
                        "i: 87   c[i]: 8.19955682586936   test_result: 1.5181732018104544e+26\n",
                        "i: 88   c[i]: 8.293804605477053   test_result: 1.570538692986422e+26\n",
                        "i: 89   c[i]: 8.388052385084746   test_result: 7.401117440823764e+24\n",
                        "i: 90   c[i]: 8.482300164692441   test_result: 4.207744498174383e+26\n",
                        "i: 91   c[i]: 8.576547944300135   test_result: 3.349377415086329e+26\n",
                        "i: 92   c[i]: 8.670795723907828   test_result: 2.7775311571674504e+26\n",
                        "i: 93   c[i]: 8.765043503515523   test_result: 4.67415030742798e+25\n",
                        "i: 94   c[i]: 8.859291283123216   test_result: 1.7517348482083435e+26\n",
                        "i: 95   c[i]: 8.95353906273091   test_result: 2.2047023683871038e+26\n",
                        "i: 96   c[i]: 9.047786842338603   test_result: 1.9427361852451525e+26\n",
                        "i: 97   c[i]: 9.142034621946298   test_result: 1.072225630794693e+26\n",
                        "i: 98   c[i]: 9.236282401553991   test_result: 1.4064360010027993e+24\n",
                        "i: 99   c[i]: 9.330530181161684   test_result: 7.316527542228492e+25\n",
                        "left: 8.482300164692441, right 8.576547944300135\n",
                        "HERE1\n",
                        "B: [8.482300164692441, 8.576547944300135, 8.529424054496289, 8.505862109594364, 8.494081137143404, 8.488190650917922, 8.48524540780518, 8.48377278624881, 8.483036475470627, 8.482668320081533, 8.482484242386988, 8.48257628123426, 8.482530261810624, 8.482507252098806, 8.482495747242897, 8.482489994814943]\n",
                        "M: [0.         0.09424778 0.18849556 0.28274334 0.37699112 0.4712389\n",
                        " 0.56548668 0.65973446 0.75398224 0.84823002 0.9424778  1.03672558\n",
                        " 1.13097336 1.22522113 1.31946891 1.41371669 1.50796447 1.60221225\n",
                        " 1.69646003 1.79070781 1.88495559 1.97920337 2.07345115 2.16769893\n",
                        " 2.26194671 2.35619449 2.45044227 2.54469005 2.63893783 2.73318561\n",
                        " 2.82743339 2.92168117 3.01592895 3.11017673 3.20442451 3.29867229\n",
                        " 3.39292007 3.48716785 3.58141563 3.6756634  3.76991118 3.86415896\n",
                        " 3.95840674 4.05265452 4.1469023  4.24115008 4.33539786 4.42964564\n",
                        " 4.52389342 4.6181412  4.71238898 4.80663676 4.90088454 4.99513232\n",
                        " 5.0893801  5.18362788 5.27787566 5.37212344 5.46637122 5.560619\n",
                        " 5.65486678 5.74911456 5.84336234 5.93761012 6.03185789 6.12610567\n",
                        " 6.22035345 6.31460123 6.40884901 6.50309679 6.59734457 6.69159235\n",
                        " 6.78584013 6.88008791 6.97433569 7.06858347 7.16283125 7.25707903\n",
                        " 7.35132681 7.44557459 7.53982237 7.63407015 7.72831793 7.82256571\n",
                        " 7.91681349 8.01106127 8.10530905 8.19955683 8.29380461 8.38805239\n",
                        " 8.48230016 8.48230016 8.48248424 8.48248999 8.48249575 8.48250725\n",
                        " 8.48253026 8.48257628 8.48266832 8.48303648 8.48377279 8.48524541\n",
                        " 8.48819065 8.49408114 8.50586211 8.52942405 8.57654794 8.57654794\n",
                        " 8.67079572 8.7650435  8.85929128 8.95353906 9.04778684 9.14203462\n",
                        " 9.2362824  9.33053018 9.42477796]\n",
                        "i: 115\n",
                        "HERE3\n"
                    ]
                },
                {
                    "output_type": "execute_result",
                    "data": {
                        "text/plain": [
                            "-0.0941083133185158"
                        ]
                    },
                    "metadata": {},
                    "execution_count": 321
                }
            ],
            "metadata": {}
        },
        {
            "cell_type": "code",
            "execution_count": 319,
            "source": [
                "print(mesh)\r\n",
                "print(f_values(mesh, f_approximation))"
            ],
            "outputs": [
                {
                    "output_type": "stream",
                    "name": "stdout",
                    "text": [
                        "[0.         0.4712389  0.9424778  1.41371669 1.88495559 2.35619449\n",
                        " 2.82743339 3.29867229 3.76991118 4.24115008 4.71238898 5.18362788\n",
                        " 5.65486678 6.12610567 6.59734457 7.06858347 7.53982237 8.01106127\n",
                        " 8.01106127 8.12887099 8.18777585 8.24668072 8.48230016 8.48230016\n",
                        " 8.95353906 9.42477796]\n",
                        "i: 24\n",
                        "HERE3\n",
                        "i: 24\n",
                        "HERE3\n",
                        "i: 24\n",
                        "HERE3\n",
                        "i: 24\n",
                        "HERE3\n",
                        "i: 24\n",
                        "HERE3\n",
                        "i: 24\n",
                        "HERE3\n",
                        "i: 24\n",
                        "HERE3\n",
                        "i: 24\n",
                        "HERE3\n",
                        "i: 24\n",
                        "HERE3\n",
                        "i: 24\n",
                        "HERE3\n",
                        "i: 24\n",
                        "HERE3\n",
                        "i: 24\n",
                        "HERE3\n",
                        "i: 24\n",
                        "HERE3\n",
                        "i: 24\n",
                        "HERE3\n",
                        "i: 24\n",
                        "HERE3\n",
                        "i: 24\n",
                        "HERE3\n",
                        "i: 24\n",
                        "HERE3\n",
                        "i: 24\n",
                        "HERE3\n",
                        "i: 24\n",
                        "HERE3\n",
                        "i: 24\n",
                        "HERE3\n",
                        "i: 24\n",
                        "HERE3\n",
                        "i: 24\n",
                        "HERE3\n",
                        "i: 24\n",
                        "HERE3\n",
                        "i: 24\n",
                        "HERE3\n",
                        "i: 24\n",
                        "HERE3\n",
                        "i: 24\n",
                        "HERE3\n",
                        "[-0.4539904997395462, -0.4539904997395462, -0.4539904997395462, -0.4539904997395462, -0.4539904997395462, -0.4539904997395462, -0.4539904997395462, -0.4539904997395462, -0.4539904997395462, -0.4539904997395462, -0.4539904997395462, -0.4539904997395462, -0.4539904997395462, -0.4539904997395462, -0.4539904997395462, -0.4539904997395462, -0.4539904997395462, -0.4539904997395462, -0.4539904997395462, -0.4539904997395462, -0.4539904997395462, -0.4539904997395462, -0.4539904997395462, -0.4539904997395462, -0.4539904997395462, -0.4539904997395462]\n"
                    ]
                }
            ],
            "metadata": {}
        },
        {
            "cell_type": "code",
            "execution_count": null,
            "source": [],
            "outputs": [],
            "metadata": {}
        },
        {
            "cell_type": "code",
            "execution_count": 320,
            "source": [
                "plt.scatter(mesh, f_values(mesh, f_approximation))"
            ],
            "outputs": [
                {
                    "output_type": "stream",
                    "name": "stdout",
                    "text": [
                        "i: 24\n",
                        "HERE3\n",
                        "i: 24\n",
                        "HERE3\n",
                        "i: 24\n",
                        "HERE3\n",
                        "i: 24\n",
                        "HERE3\n",
                        "i: 24\n",
                        "HERE3\n",
                        "i: 24\n",
                        "HERE3\n",
                        "i: 24\n",
                        "HERE3\n",
                        "i: 24\n",
                        "HERE3\n",
                        "i: 24\n",
                        "HERE3\n",
                        "i: 24\n",
                        "HERE3\n",
                        "i: 24\n",
                        "HERE3\n",
                        "i: 24\n",
                        "HERE3\n",
                        "i: 24\n",
                        "HERE3\n",
                        "i: 24\n",
                        "HERE3\n",
                        "i: 24\n",
                        "HERE3\n",
                        "i: 24\n",
                        "HERE3\n",
                        "i: 24\n",
                        "HERE3\n",
                        "i: 24\n",
                        "HERE3\n",
                        "i: 24\n",
                        "HERE3\n",
                        "i: 24\n",
                        "HERE3\n",
                        "i: 24\n",
                        "HERE3\n",
                        "i: 24\n",
                        "HERE3\n",
                        "i: 24\n",
                        "HERE3\n",
                        "i: 24\n",
                        "HERE3\n",
                        "i: 24\n",
                        "HERE3\n",
                        "i: 24\n",
                        "HERE3\n"
                    ]
                },
                {
                    "output_type": "execute_result",
                    "data": {
                        "text/plain": [
                            "<matplotlib.collections.PathCollection at 0x27516cbf2b0>"
                        ]
                    },
                    "metadata": {},
                    "execution_count": 320
                },
                {
                    "output_type": "display_data",
                    "data": {
                        "text/plain": [
                            "<Figure size 432x288 with 1 Axes>"
                        ],
                        "image/svg+xml": "<?xml version=\"1.0\" encoding=\"utf-8\" standalone=\"no\"?>\r\n<!DOCTYPE svg PUBLIC \"-//W3C//DTD SVG 1.1//EN\"\r\n  \"http://www.w3.org/Graphics/SVG/1.1/DTD/svg11.dtd\">\r\n<!-- Created with matplotlib (https://matplotlib.org/) -->\r\n<svg height=\"248.518125pt\" version=\"1.1\" viewBox=\"0 0 386.845313 248.518125\" width=\"386.845313pt\" xmlns=\"http://www.w3.org/2000/svg\" xmlns:xlink=\"http://www.w3.org/1999/xlink\">\r\n <metadata>\r\n  <rdf:RDF xmlns:cc=\"http://creativecommons.org/ns#\" xmlns:dc=\"http://purl.org/dc/elements/1.1/\" xmlns:rdf=\"http://www.w3.org/1999/02/22-rdf-syntax-ns#\">\r\n   <cc:Work>\r\n    <dc:type rdf:resource=\"http://purl.org/dc/dcmitype/StillImage\"/>\r\n    <dc:date>2021-08-12T01:23:54.547164</dc:date>\r\n    <dc:format>image/svg+xml</dc:format>\r\n    <dc:creator>\r\n     <cc:Agent>\r\n      <dc:title>Matplotlib v3.3.2, https://matplotlib.org/</dc:title>\r\n     </cc:Agent>\r\n    </dc:creator>\r\n   </cc:Work>\r\n  </rdf:RDF>\r\n </metadata>\r\n <defs>\r\n  <style type=\"text/css\">*{stroke-linecap:butt;stroke-linejoin:round;}</style>\r\n </defs>\r\n <g id=\"figure_1\">\r\n  <g id=\"patch_1\">\r\n   <path d=\"M 0 248.518125 \r\nL 386.845313 248.518125 \r\nL 386.845313 0 \r\nL 0 0 \r\nz\r\n\" style=\"fill:none;\"/>\r\n  </g>\r\n  <g id=\"axes_1\">\r\n   <g id=\"patch_2\">\r\n    <path d=\"M 44.845313 224.64 \r\nL 379.645313 224.64 \r\nL 379.645313 7.2 \r\nL 44.845313 7.2 \r\nz\r\n\" style=\"fill:#ffffff;\"/>\r\n   </g>\r\n   <g id=\"PathCollection_1\">\r\n    <defs>\r\n     <path d=\"M 0 3 \r\nC 0.795609 3 1.55874 2.683901 2.12132 2.12132 \r\nC 2.683901 1.55874 3 0.795609 3 0 \r\nC 3 -0.795609 2.683901 -1.55874 2.12132 -2.12132 \r\nC 1.55874 -2.683901 0.795609 -3 0 -3 \r\nC -0.795609 -3 -1.55874 -2.683901 -2.12132 -2.12132 \r\nC -2.683901 -1.55874 -3 -0.795609 -3 0 \r\nC -3 0.795609 -2.683901 1.55874 -2.12132 2.12132 \r\nC -1.55874 2.683901 -0.795609 3 0 3 \r\nz\r\n\" id=\"m6cee29243a\" style=\"stroke:#1f77b4;\"/>\r\n    </defs>\r\n    <g clip-path=\"url(#pe175e67d67)\">\r\n     <use style=\"fill:#1f77b4;stroke:#1f77b4;\" x=\"60.063494\" xlink:href=\"#m6cee29243a\" y=\"115.92\"/>\r\n     <use style=\"fill:#1f77b4;stroke:#1f77b4;\" x=\"75.281676\" xlink:href=\"#m6cee29243a\" y=\"115.92\"/>\r\n     <use style=\"fill:#1f77b4;stroke:#1f77b4;\" x=\"90.499858\" xlink:href=\"#m6cee29243a\" y=\"115.92\"/>\r\n     <use style=\"fill:#1f77b4;stroke:#1f77b4;\" x=\"105.71804\" xlink:href=\"#m6cee29243a\" y=\"115.92\"/>\r\n     <use style=\"fill:#1f77b4;stroke:#1f77b4;\" x=\"120.936222\" xlink:href=\"#m6cee29243a\" y=\"115.92\"/>\r\n     <use style=\"fill:#1f77b4;stroke:#1f77b4;\" x=\"136.154403\" xlink:href=\"#m6cee29243a\" y=\"115.92\"/>\r\n     <use style=\"fill:#1f77b4;stroke:#1f77b4;\" x=\"151.372585\" xlink:href=\"#m6cee29243a\" y=\"115.92\"/>\r\n     <use style=\"fill:#1f77b4;stroke:#1f77b4;\" x=\"166.590767\" xlink:href=\"#m6cee29243a\" y=\"115.92\"/>\r\n     <use style=\"fill:#1f77b4;stroke:#1f77b4;\" x=\"181.808949\" xlink:href=\"#m6cee29243a\" y=\"115.92\"/>\r\n     <use style=\"fill:#1f77b4;stroke:#1f77b4;\" x=\"197.027131\" xlink:href=\"#m6cee29243a\" y=\"115.92\"/>\r\n     <use style=\"fill:#1f77b4;stroke:#1f77b4;\" x=\"212.245313\" xlink:href=\"#m6cee29243a\" y=\"115.92\"/>\r\n     <use style=\"fill:#1f77b4;stroke:#1f77b4;\" x=\"227.463494\" xlink:href=\"#m6cee29243a\" y=\"115.92\"/>\r\n     <use style=\"fill:#1f77b4;stroke:#1f77b4;\" x=\"242.681676\" xlink:href=\"#m6cee29243a\" y=\"115.92\"/>\r\n     <use style=\"fill:#1f77b4;stroke:#1f77b4;\" x=\"257.899858\" xlink:href=\"#m6cee29243a\" y=\"115.92\"/>\r\n     <use style=\"fill:#1f77b4;stroke:#1f77b4;\" x=\"273.11804\" xlink:href=\"#m6cee29243a\" y=\"115.92\"/>\r\n     <use style=\"fill:#1f77b4;stroke:#1f77b4;\" x=\"288.336222\" xlink:href=\"#m6cee29243a\" y=\"115.92\"/>\r\n     <use style=\"fill:#1f77b4;stroke:#1f77b4;\" x=\"303.554403\" xlink:href=\"#m6cee29243a\" y=\"115.92\"/>\r\n     <use style=\"fill:#1f77b4;stroke:#1f77b4;\" x=\"318.772585\" xlink:href=\"#m6cee29243a\" y=\"115.92\"/>\r\n     <use style=\"fill:#1f77b4;stroke:#1f77b4;\" x=\"318.772585\" xlink:href=\"#m6cee29243a\" y=\"115.92\"/>\r\n     <use style=\"fill:#1f77b4;stroke:#1f77b4;\" x=\"322.577131\" xlink:href=\"#m6cee29243a\" y=\"115.92\"/>\r\n     <use style=\"fill:#1f77b4;stroke:#1f77b4;\" x=\"324.479403\" xlink:href=\"#m6cee29243a\" y=\"115.92\"/>\r\n     <use style=\"fill:#1f77b4;stroke:#1f77b4;\" x=\"326.381676\" xlink:href=\"#m6cee29243a\" y=\"115.92\"/>\r\n     <use style=\"fill:#1f77b4;stroke:#1f77b4;\" x=\"333.990767\" xlink:href=\"#m6cee29243a\" y=\"115.92\"/>\r\n     <use style=\"fill:#1f77b4;stroke:#1f77b4;\" x=\"333.990767\" xlink:href=\"#m6cee29243a\" y=\"115.92\"/>\r\n     <use style=\"fill:#1f77b4;stroke:#1f77b4;\" x=\"349.208949\" xlink:href=\"#m6cee29243a\" y=\"115.92\"/>\r\n     <use style=\"fill:#1f77b4;stroke:#1f77b4;\" x=\"364.427131\" xlink:href=\"#m6cee29243a\" y=\"115.92\"/>\r\n    </g>\r\n   </g>\r\n   <g id=\"matplotlib.axis_1\">\r\n    <g id=\"xtick_1\">\r\n     <g id=\"line2d_1\">\r\n      <defs>\r\n       <path d=\"M 0 0 \r\nL 0 3.5 \r\n\" id=\"m9a7f64bf21\" style=\"stroke:#000000;stroke-width:0.8;\"/>\r\n      </defs>\r\n      <g>\r\n       <use style=\"stroke:#000000;stroke-width:0.8;\" x=\"60.063494\" xlink:href=\"#m9a7f64bf21\" y=\"224.64\"/>\r\n      </g>\r\n     </g>\r\n     <g id=\"text_1\">\r\n      <!-- 0 -->\r\n      <g transform=\"translate(56.882244 239.238438)scale(0.1 -0.1)\">\r\n       <defs>\r\n        <path d=\"M 31.78125 66.40625 \r\nQ 24.171875 66.40625 20.328125 58.90625 \r\nQ 16.5 51.421875 16.5 36.375 \r\nQ 16.5 21.390625 20.328125 13.890625 \r\nQ 24.171875 6.390625 31.78125 6.390625 \r\nQ 39.453125 6.390625 43.28125 13.890625 \r\nQ 47.125 21.390625 47.125 36.375 \r\nQ 47.125 51.421875 43.28125 58.90625 \r\nQ 39.453125 66.40625 31.78125 66.40625 \r\nz\r\nM 31.78125 74.21875 \r\nQ 44.046875 74.21875 50.515625 64.515625 \r\nQ 56.984375 54.828125 56.984375 36.375 \r\nQ 56.984375 17.96875 50.515625 8.265625 \r\nQ 44.046875 -1.421875 31.78125 -1.421875 \r\nQ 19.53125 -1.421875 13.0625 8.265625 \r\nQ 6.59375 17.96875 6.59375 36.375 \r\nQ 6.59375 54.828125 13.0625 64.515625 \r\nQ 19.53125 74.21875 31.78125 74.21875 \r\nz\r\n\" id=\"DejaVuSans-48\"/>\r\n       </defs>\r\n       <use xlink:href=\"#DejaVuSans-48\"/>\r\n      </g>\r\n     </g>\r\n    </g>\r\n    <g id=\"xtick_2\">\r\n     <g id=\"line2d_2\">\r\n      <g>\r\n       <use style=\"stroke:#000000;stroke-width:0.8;\" x=\"124.651464\" xlink:href=\"#m9a7f64bf21\" y=\"224.64\"/>\r\n      </g>\r\n     </g>\r\n     <g id=\"text_2\">\r\n      <!-- 2 -->\r\n      <g transform=\"translate(121.470214 239.238438)scale(0.1 -0.1)\">\r\n       <defs>\r\n        <path d=\"M 19.1875 8.296875 \r\nL 53.609375 8.296875 \r\nL 53.609375 0 \r\nL 7.328125 0 \r\nL 7.328125 8.296875 \r\nQ 12.9375 14.109375 22.625 23.890625 \r\nQ 32.328125 33.6875 34.8125 36.53125 \r\nQ 39.546875 41.84375 41.421875 45.53125 \r\nQ 43.3125 49.21875 43.3125 52.78125 \r\nQ 43.3125 58.59375 39.234375 62.25 \r\nQ 35.15625 65.921875 28.609375 65.921875 \r\nQ 23.96875 65.921875 18.8125 64.3125 \r\nQ 13.671875 62.703125 7.8125 59.421875 \r\nL 7.8125 69.390625 \r\nQ 13.765625 71.78125 18.9375 73 \r\nQ 24.125 74.21875 28.421875 74.21875 \r\nQ 39.75 74.21875 46.484375 68.546875 \r\nQ 53.21875 62.890625 53.21875 53.421875 \r\nQ 53.21875 48.921875 51.53125 44.890625 \r\nQ 49.859375 40.875 45.40625 35.40625 \r\nQ 44.1875 33.984375 37.640625 27.21875 \r\nQ 31.109375 20.453125 19.1875 8.296875 \r\nz\r\n\" id=\"DejaVuSans-50\"/>\r\n       </defs>\r\n       <use xlink:href=\"#DejaVuSans-50\"/>\r\n      </g>\r\n     </g>\r\n    </g>\r\n    <g id=\"xtick_3\">\r\n     <g id=\"line2d_3\">\r\n      <g>\r\n       <use style=\"stroke:#000000;stroke-width:0.8;\" x=\"189.239434\" xlink:href=\"#m9a7f64bf21\" y=\"224.64\"/>\r\n      </g>\r\n     </g>\r\n     <g id=\"text_3\">\r\n      <!-- 4 -->\r\n      <g transform=\"translate(186.058184 239.238438)scale(0.1 -0.1)\">\r\n       <defs>\r\n        <path d=\"M 37.796875 64.3125 \r\nL 12.890625 25.390625 \r\nL 37.796875 25.390625 \r\nz\r\nM 35.203125 72.90625 \r\nL 47.609375 72.90625 \r\nL 47.609375 25.390625 \r\nL 58.015625 25.390625 \r\nL 58.015625 17.1875 \r\nL 47.609375 17.1875 \r\nL 47.609375 0 \r\nL 37.796875 0 \r\nL 37.796875 17.1875 \r\nL 4.890625 17.1875 \r\nL 4.890625 26.703125 \r\nz\r\n\" id=\"DejaVuSans-52\"/>\r\n       </defs>\r\n       <use xlink:href=\"#DejaVuSans-52\"/>\r\n      </g>\r\n     </g>\r\n    </g>\r\n    <g id=\"xtick_4\">\r\n     <g id=\"line2d_4\">\r\n      <g>\r\n       <use style=\"stroke:#000000;stroke-width:0.8;\" x=\"253.827403\" xlink:href=\"#m9a7f64bf21\" y=\"224.64\"/>\r\n      </g>\r\n     </g>\r\n     <g id=\"text_4\">\r\n      <!-- 6 -->\r\n      <g transform=\"translate(250.646153 239.238438)scale(0.1 -0.1)\">\r\n       <defs>\r\n        <path d=\"M 33.015625 40.375 \r\nQ 26.375 40.375 22.484375 35.828125 \r\nQ 18.609375 31.296875 18.609375 23.390625 \r\nQ 18.609375 15.53125 22.484375 10.953125 \r\nQ 26.375 6.390625 33.015625 6.390625 \r\nQ 39.65625 6.390625 43.53125 10.953125 \r\nQ 47.40625 15.53125 47.40625 23.390625 \r\nQ 47.40625 31.296875 43.53125 35.828125 \r\nQ 39.65625 40.375 33.015625 40.375 \r\nz\r\nM 52.59375 71.296875 \r\nL 52.59375 62.3125 \r\nQ 48.875 64.0625 45.09375 64.984375 \r\nQ 41.3125 65.921875 37.59375 65.921875 \r\nQ 27.828125 65.921875 22.671875 59.328125 \r\nQ 17.53125 52.734375 16.796875 39.40625 \r\nQ 19.671875 43.65625 24.015625 45.921875 \r\nQ 28.375 48.1875 33.59375 48.1875 \r\nQ 44.578125 48.1875 50.953125 41.515625 \r\nQ 57.328125 34.859375 57.328125 23.390625 \r\nQ 57.328125 12.15625 50.6875 5.359375 \r\nQ 44.046875 -1.421875 33.015625 -1.421875 \r\nQ 20.359375 -1.421875 13.671875 8.265625 \r\nQ 6.984375 17.96875 6.984375 36.375 \r\nQ 6.984375 53.65625 15.1875 63.9375 \r\nQ 23.390625 74.21875 37.203125 74.21875 \r\nQ 40.921875 74.21875 44.703125 73.484375 \r\nQ 48.484375 72.75 52.59375 71.296875 \r\nz\r\n\" id=\"DejaVuSans-54\"/>\r\n       </defs>\r\n       <use xlink:href=\"#DejaVuSans-54\"/>\r\n      </g>\r\n     </g>\r\n    </g>\r\n    <g id=\"xtick_5\">\r\n     <g id=\"line2d_5\">\r\n      <g>\r\n       <use style=\"stroke:#000000;stroke-width:0.8;\" x=\"318.415373\" xlink:href=\"#m9a7f64bf21\" y=\"224.64\"/>\r\n      </g>\r\n     </g>\r\n     <g id=\"text_5\">\r\n      <!-- 8 -->\r\n      <g transform=\"translate(315.234123 239.238438)scale(0.1 -0.1)\">\r\n       <defs>\r\n        <path d=\"M 31.78125 34.625 \r\nQ 24.75 34.625 20.71875 30.859375 \r\nQ 16.703125 27.09375 16.703125 20.515625 \r\nQ 16.703125 13.921875 20.71875 10.15625 \r\nQ 24.75 6.390625 31.78125 6.390625 \r\nQ 38.8125 6.390625 42.859375 10.171875 \r\nQ 46.921875 13.96875 46.921875 20.515625 \r\nQ 46.921875 27.09375 42.890625 30.859375 \r\nQ 38.875 34.625 31.78125 34.625 \r\nz\r\nM 21.921875 38.8125 \r\nQ 15.578125 40.375 12.03125 44.71875 \r\nQ 8.5 49.078125 8.5 55.328125 \r\nQ 8.5 64.0625 14.71875 69.140625 \r\nQ 20.953125 74.21875 31.78125 74.21875 \r\nQ 42.671875 74.21875 48.875 69.140625 \r\nQ 55.078125 64.0625 55.078125 55.328125 \r\nQ 55.078125 49.078125 51.53125 44.71875 \r\nQ 48 40.375 41.703125 38.8125 \r\nQ 48.828125 37.15625 52.796875 32.3125 \r\nQ 56.78125 27.484375 56.78125 20.515625 \r\nQ 56.78125 9.90625 50.3125 4.234375 \r\nQ 43.84375 -1.421875 31.78125 -1.421875 \r\nQ 19.734375 -1.421875 13.25 4.234375 \r\nQ 6.78125 9.90625 6.78125 20.515625 \r\nQ 6.78125 27.484375 10.78125 32.3125 \r\nQ 14.796875 37.15625 21.921875 38.8125 \r\nz\r\nM 18.3125 54.390625 \r\nQ 18.3125 48.734375 21.84375 45.5625 \r\nQ 25.390625 42.390625 31.78125 42.390625 \r\nQ 38.140625 42.390625 41.71875 45.5625 \r\nQ 45.3125 48.734375 45.3125 54.390625 \r\nQ 45.3125 60.0625 41.71875 63.234375 \r\nQ 38.140625 66.40625 31.78125 66.40625 \r\nQ 25.390625 66.40625 21.84375 63.234375 \r\nQ 18.3125 60.0625 18.3125 54.390625 \r\nz\r\n\" id=\"DejaVuSans-56\"/>\r\n       </defs>\r\n       <use xlink:href=\"#DejaVuSans-56\"/>\r\n      </g>\r\n     </g>\r\n    </g>\r\n   </g>\r\n   <g id=\"matplotlib.axis_2\">\r\n    <g id=\"ytick_1\">\r\n     <g id=\"line2d_6\">\r\n      <defs>\r\n       <path d=\"M 0 0 \r\nL -3.5 0 \r\n\" id=\"m1ee38d5bc5\" style=\"stroke:#000000;stroke-width:0.8;\"/>\r\n      </defs>\r\n      <g>\r\n       <use style=\"stroke:#000000;stroke-width:0.8;\" x=\"44.845313\" xlink:href=\"#m1ee38d5bc5\" y=\"185.62722\"/>\r\n      </g>\r\n     </g>\r\n     <g id=\"text_6\">\r\n      <!-- −0.47 -->\r\n      <g transform=\"translate(7.2 189.426439)scale(0.1 -0.1)\">\r\n       <defs>\r\n        <path d=\"M 10.59375 35.5 \r\nL 73.1875 35.5 \r\nL 73.1875 27.203125 \r\nL 10.59375 27.203125 \r\nz\r\n\" id=\"DejaVuSans-8722\"/>\r\n        <path d=\"M 10.6875 12.40625 \r\nL 21 12.40625 \r\nL 21 0 \r\nL 10.6875 0 \r\nz\r\n\" id=\"DejaVuSans-46\"/>\r\n        <path d=\"M 8.203125 72.90625 \r\nL 55.078125 72.90625 \r\nL 55.078125 68.703125 \r\nL 28.609375 0 \r\nL 18.3125 0 \r\nL 43.21875 64.59375 \r\nL 8.203125 64.59375 \r\nz\r\n\" id=\"DejaVuSans-55\"/>\r\n       </defs>\r\n       <use xlink:href=\"#DejaVuSans-8722\"/>\r\n       <use x=\"83.789062\" xlink:href=\"#DejaVuSans-48\"/>\r\n       <use x=\"147.412109\" xlink:href=\"#DejaVuSans-46\"/>\r\n       <use x=\"179.199219\" xlink:href=\"#DejaVuSans-52\"/>\r\n       <use x=\"242.822266\" xlink:href=\"#DejaVuSans-55\"/>\r\n      </g>\r\n     </g>\r\n    </g>\r\n    <g id=\"ytick_2\">\r\n     <g id=\"line2d_7\">\r\n      <g>\r\n       <use style=\"stroke:#000000;stroke-width:0.8;\" x=\"44.845313\" xlink:href=\"#m1ee38d5bc5\" y=\"142.086061\"/>\r\n      </g>\r\n     </g>\r\n     <g id=\"text_7\">\r\n      <!-- −0.46 -->\r\n      <g transform=\"translate(7.2 145.88528)scale(0.1 -0.1)\">\r\n       <use xlink:href=\"#DejaVuSans-8722\"/>\r\n       <use x=\"83.789062\" xlink:href=\"#DejaVuSans-48\"/>\r\n       <use x=\"147.412109\" xlink:href=\"#DejaVuSans-46\"/>\r\n       <use x=\"179.199219\" xlink:href=\"#DejaVuSans-52\"/>\r\n       <use x=\"242.822266\" xlink:href=\"#DejaVuSans-54\"/>\r\n      </g>\r\n     </g>\r\n    </g>\r\n    <g id=\"ytick_3\">\r\n     <g id=\"line2d_8\">\r\n      <g>\r\n       <use style=\"stroke:#000000;stroke-width:0.8;\" x=\"44.845313\" xlink:href=\"#m1ee38d5bc5\" y=\"98.544901\"/>\r\n      </g>\r\n     </g>\r\n     <g id=\"text_8\">\r\n      <!-- −0.45 -->\r\n      <g transform=\"translate(7.2 102.34412)scale(0.1 -0.1)\">\r\n       <defs>\r\n        <path d=\"M 10.796875 72.90625 \r\nL 49.515625 72.90625 \r\nL 49.515625 64.59375 \r\nL 19.828125 64.59375 \r\nL 19.828125 46.734375 \r\nQ 21.96875 47.46875 24.109375 47.828125 \r\nQ 26.265625 48.1875 28.421875 48.1875 \r\nQ 40.625 48.1875 47.75 41.5 \r\nQ 54.890625 34.8125 54.890625 23.390625 \r\nQ 54.890625 11.625 47.5625 5.09375 \r\nQ 40.234375 -1.421875 26.90625 -1.421875 \r\nQ 22.3125 -1.421875 17.546875 -0.640625 \r\nQ 12.796875 0.140625 7.71875 1.703125 \r\nL 7.71875 11.625 \r\nQ 12.109375 9.234375 16.796875 8.0625 \r\nQ 21.484375 6.890625 26.703125 6.890625 \r\nQ 35.15625 6.890625 40.078125 11.328125 \r\nQ 45.015625 15.765625 45.015625 23.390625 \r\nQ 45.015625 31 40.078125 35.4375 \r\nQ 35.15625 39.890625 26.703125 39.890625 \r\nQ 22.75 39.890625 18.8125 39.015625 \r\nQ 14.890625 38.140625 10.796875 36.28125 \r\nz\r\n\" id=\"DejaVuSans-53\"/>\r\n       </defs>\r\n       <use xlink:href=\"#DejaVuSans-8722\"/>\r\n       <use x=\"83.789062\" xlink:href=\"#DejaVuSans-48\"/>\r\n       <use x=\"147.412109\" xlink:href=\"#DejaVuSans-46\"/>\r\n       <use x=\"179.199219\" xlink:href=\"#DejaVuSans-52\"/>\r\n       <use x=\"242.822266\" xlink:href=\"#DejaVuSans-53\"/>\r\n      </g>\r\n     </g>\r\n    </g>\r\n    <g id=\"ytick_4\">\r\n     <g id=\"line2d_9\">\r\n      <g>\r\n       <use style=\"stroke:#000000;stroke-width:0.8;\" x=\"44.845313\" xlink:href=\"#m1ee38d5bc5\" y=\"55.003742\"/>\r\n      </g>\r\n     </g>\r\n     <g id=\"text_9\">\r\n      <!-- −0.44 -->\r\n      <g transform=\"translate(7.2 58.802961)scale(0.1 -0.1)\">\r\n       <use xlink:href=\"#DejaVuSans-8722\"/>\r\n       <use x=\"83.789062\" xlink:href=\"#DejaVuSans-48\"/>\r\n       <use x=\"147.412109\" xlink:href=\"#DejaVuSans-46\"/>\r\n       <use x=\"179.199219\" xlink:href=\"#DejaVuSans-52\"/>\r\n       <use x=\"242.822266\" xlink:href=\"#DejaVuSans-52\"/>\r\n      </g>\r\n     </g>\r\n    </g>\r\n    <g id=\"ytick_5\">\r\n     <g id=\"line2d_10\">\r\n      <g>\r\n       <use style=\"stroke:#000000;stroke-width:0.8;\" x=\"44.845313\" xlink:href=\"#m1ee38d5bc5\" y=\"11.462583\"/>\r\n      </g>\r\n     </g>\r\n     <g id=\"text_10\">\r\n      <!-- −0.43 -->\r\n      <g transform=\"translate(7.2 15.261801)scale(0.1 -0.1)\">\r\n       <defs>\r\n        <path d=\"M 40.578125 39.3125 \r\nQ 47.65625 37.796875 51.625 33 \r\nQ 55.609375 28.21875 55.609375 21.1875 \r\nQ 55.609375 10.40625 48.1875 4.484375 \r\nQ 40.765625 -1.421875 27.09375 -1.421875 \r\nQ 22.515625 -1.421875 17.65625 -0.515625 \r\nQ 12.796875 0.390625 7.625 2.203125 \r\nL 7.625 11.71875 \r\nQ 11.71875 9.328125 16.59375 8.109375 \r\nQ 21.484375 6.890625 26.8125 6.890625 \r\nQ 36.078125 6.890625 40.9375 10.546875 \r\nQ 45.796875 14.203125 45.796875 21.1875 \r\nQ 45.796875 27.640625 41.28125 31.265625 \r\nQ 36.765625 34.90625 28.71875 34.90625 \r\nL 20.21875 34.90625 \r\nL 20.21875 43.015625 \r\nL 29.109375 43.015625 \r\nQ 36.375 43.015625 40.234375 45.921875 \r\nQ 44.09375 48.828125 44.09375 54.296875 \r\nQ 44.09375 59.90625 40.109375 62.90625 \r\nQ 36.140625 65.921875 28.71875 65.921875 \r\nQ 24.65625 65.921875 20.015625 65.03125 \r\nQ 15.375 64.15625 9.8125 62.3125 \r\nL 9.8125 71.09375 \r\nQ 15.4375 72.65625 20.34375 73.4375 \r\nQ 25.25 74.21875 29.59375 74.21875 \r\nQ 40.828125 74.21875 47.359375 69.109375 \r\nQ 53.90625 64.015625 53.90625 55.328125 \r\nQ 53.90625 49.265625 50.4375 45.09375 \r\nQ 46.96875 40.921875 40.578125 39.3125 \r\nz\r\n\" id=\"DejaVuSans-51\"/>\r\n       </defs>\r\n       <use xlink:href=\"#DejaVuSans-8722\"/>\r\n       <use x=\"83.789062\" xlink:href=\"#DejaVuSans-48\"/>\r\n       <use x=\"147.412109\" xlink:href=\"#DejaVuSans-46\"/>\r\n       <use x=\"179.199219\" xlink:href=\"#DejaVuSans-52\"/>\r\n       <use x=\"242.822266\" xlink:href=\"#DejaVuSans-51\"/>\r\n      </g>\r\n     </g>\r\n    </g>\r\n   </g>\r\n   <g id=\"patch_3\">\r\n    <path d=\"M 44.845313 224.64 \r\nL 44.845313 7.2 \r\n\" style=\"fill:none;stroke:#000000;stroke-linecap:square;stroke-linejoin:miter;stroke-width:0.8;\"/>\r\n   </g>\r\n   <g id=\"patch_4\">\r\n    <path d=\"M 379.645313 224.64 \r\nL 379.645313 7.2 \r\n\" style=\"fill:none;stroke:#000000;stroke-linecap:square;stroke-linejoin:miter;stroke-width:0.8;\"/>\r\n   </g>\r\n   <g id=\"patch_5\">\r\n    <path d=\"M 44.845313 224.64 \r\nL 379.645313 224.64 \r\n\" style=\"fill:none;stroke:#000000;stroke-linecap:square;stroke-linejoin:miter;stroke-width:0.8;\"/>\r\n   </g>\r\n   <g id=\"patch_6\">\r\n    <path d=\"M 44.845313 7.2 \r\nL 379.645313 7.2 \r\n\" style=\"fill:none;stroke:#000000;stroke-linecap:square;stroke-linejoin:miter;stroke-width:0.8;\"/>\r\n   </g>\r\n  </g>\r\n </g>\r\n <defs>\r\n  <clipPath id=\"pe175e67d67\">\r\n   <rect height=\"217.44\" width=\"334.8\" x=\"44.845313\" y=\"7.2\"/>\r\n  </clipPath>\r\n </defs>\r\n</svg>\r\n",
                        "image/png": "[encoded data removed]"
                    },
                    "metadata": {
                        "needs_background": "light"
                    }
                }
            ],
            "metadata": {}
        },
        {
            "cell_type": "code",
            "execution_count": null,
            "source": [],
            "outputs": [],
            "metadata": {}
        }
    ],
    "metadata": {
        "orig_nbformat": 4,
        "language_info": {
            "name": "python",
            "version": "3.6.12",
            "mimetype": "text/x-python",
            "codemirror_mode": {
                "name": "ipython",
                "version": 3
            },
            "pygments_lexer": "ipython3",
            "nbconvert_exporter": "python",
            "file_extension": ".py"
        },
        "kernelspec": {
            "name": "python3",
            "display_name": "Python 3.6.12 64-bit ('myenv': conda)"
        },
        "interpreter": {
            "hash": "fdea1c563661d9473c2d386f6f226caac7062ebbd58da9d55fd4abc3b891592d"
        }
    },
    "nbformat": 4,
    "nbformat_minor": 2
}