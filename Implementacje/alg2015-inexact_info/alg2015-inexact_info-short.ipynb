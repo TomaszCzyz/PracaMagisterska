{
 "cells": [
  {
   "cell_type": "code",
   "execution_count": 3,
   "source": [
    "# ALGORYTM Z \"Approximation of piecewise Hölder functions from inexact information\"\r\n",
    "\r\n",
    "# PARAMETRY ALGORYTMU:\r\n",
    "# h = T/m, gdzie m >= 2r + 1   <--- initial resolution of the mesh\r\n",
    "# 0 < w < (r + 1) * h"
   ],
   "outputs": [],
   "metadata": {}
  },
  {
   "cell_type": "code",
   "execution_count": null,
   "source": [
    "# Kroki algorytmu:\r\n",
    "# 1. aproksymacja punktu osobliwego s_f\r\n",
    "#   1a. siatka regularna (o długości h) oraz różnice dzielne użyte są do lokalizacji s_f na przedziale [u_1, v_1] (o długości (r+1) * h)\r\n",
    "#   1b. zawęzenie przedziałów z 1a do [u_2, v_2] przy użyciu wielomianów ekstrpolacyjnych p_neg i p_pos\r\n",
    "#   1c. wyprodukowanie przedziału [u_3, v_3] zawierającego się (lub równego) [u_2, v_2], w którym różnica |p_pos - p_neg| jest nierosnąca na [u_3, ksi] i niemalejąca na [ksi, v_3], gdzie ksi jest finalną aproksymacją s_f\r\n",
    "# 2."
   ],
   "outputs": [],
   "metadata": {}
  },
  {
   "cell_type": "code",
   "execution_count": 4,
   "source": [
    "import numpy as np\r\n",
    "import matplotlib.pyplot as plt\r\n",
    "from scipy.optimize import minimize_scalar\r\n",
    "from scipy import interpolate"
   ],
   "outputs": [],
   "metadata": {}
  },
  {
   "cell_type": "code",
   "execution_count": 5,
   "source": [
    "# EXAMPLE FUNCTION\r\n",
    "T = 2 * np.pi + 0.5\r\n",
    "\r\n",
    "def f(x):\r\n",
    "    if 0 <= x < np.pi:\r\n",
    "        return np.sin(x - np.pi)\r\n",
    "    if np.pi <= x <= 2 * np.pi + 0.5:\r\n",
    "        return np.sin(x - np.pi - 0.5)\r\n"
   ],
   "outputs": [],
   "metadata": {}
  },
  {
   "cell_type": "code",
   "execution_count": 6,
   "source": [
    "# EXAMPLE FUNCTION\r\n",
    "T = 3 * np.pi\r\n",
    "\r\n",
    "def f(x):\r\n",
    "    if 0 <= x < np.pi:\r\n",
    "        return np.sin(x)\r\n",
    "    if np.pi <= x <= 3 * np.pi:\r\n",
    "        return np.sin(x - np.pi)"
   ],
   "outputs": [],
   "metadata": {}
  },
  {
   "cell_type": "code",
   "execution_count": 7,
   "source": [
    "def d_noisy(i, r, t, y):\r\n",
    "    '''t : array of data points t_i, ... , t_{i+r+1}\r\n",
    "       y : array of y_j = f(t_j) + e_j  '''\r\n",
    "    t.astype('float64')\r\n",
    "    y.astype('float64')\r\n",
    "\r\n",
    "    sum = np.float64(0.0)\r\n",
    "    for j in range(i, i+r+1):\r\n",
    "\r\n",
    "        product = 1.0\r\n",
    "        for k in range(i, i+r+1):\r\n",
    "            if k == j:\r\n",
    "                continue\r\n",
    "            product *= 1 / (t[k] - t[j])\r\n",
    "\r\n",
    "        # TODO: sort before adding\r\n",
    "        sum += y[j] * product\r\n",
    "\r\n",
    "    return sum"
   ],
   "outputs": [],
   "metadata": {}
  },
  {
   "cell_type": "code",
   "execution_count": 8,
   "source": [
    "# Step 1\r\n",
    "def step1(t, y):\r\n",
    "    i_max = np.argmax([d_noisy(i, r, t, y) for i in range(0, m-r)])\r\n",
    "    u_1 = t[i_max]\r\n",
    "    v_1 = t[i_max + r +1]\r\n",
    "    return u_1, v_1, i_max"
   ],
   "outputs": [],
   "metadata": {}
  },
  {
   "cell_type": "code",
   "execution_count": 9,
   "source": [
    "# Step 2\r\n",
    "def step2(t, y, w, u_1, v_1, i_max):\r\n",
    "    p_neg = interpolate.interp1d(\r\n",
    "        t[i_max - r:i_max + 1],\r\n",
    "        y[i_max - r:i_max + 1],\r\n",
    "        fill_value=\"extrapolate\"\r\n",
    "    )\r\n",
    "    p_pos = interpolate.interp1d(\r\n",
    "        t[i_max + r + 1: i_max + 2 * r + 1 + 1],\r\n",
    "        y[i_max + r + 1: i_max + 2 * r + 1 + 1],\r\n",
    "        fill_value=\"extrapolate\"\r\n",
    "    )\r\n",
    "\r\n",
    "    u = u_1\r\n",
    "    v = v_1\r\n",
    "    while v - u > w:\r\n",
    "        z = np.array([u + j * (v - u) / (r + 2) for j in range(1, r + 2)])\r\n",
    "        dif = np.abs(p_pos(z) - p_neg(z))\r\n",
    "        j_max = np.argmax(dif)\r\n",
    "\r\n",
    "        # tu chyba nie powinno byc bezposrednio f tylko f_noisy = f() + e\r\n",
    "        if np.abs(f(z[j_max]) - p_neg(z[j_max])) <= np.abs(f(z[j_max]) - p_pos(z[j_max])):\r\n",
    "            u = z[j_max]\r\n",
    "        else:\r\n",
    "            v = z[j_max]\r\n",
    "\r\n",
    "    u_2 = u\r\n",
    "    v_2 = v\r\n",
    "    return u_2, v_2, p_neg, p_pos, z\r\n"
   ],
   "outputs": [],
   "metadata": {}
  },
  {
   "cell_type": "code",
   "execution_count": 10,
   "source": [
    "# Step 3\r\n",
    "def step3(t, y, u_2, v_2, p_neg, p_pos, u_1, v_1, z):\r\n",
    "    u = u_2\r\n",
    "    v = v_2\r\n",
    "\r\n",
    "    def fun(x):\r\n",
    "        return -1 * np.abs(p_neg(x) - p_pos(x))\r\n",
    "        \r\n",
    "    z_max = [0.0]   # it list only because we need to modify it inside of function (we cannot modify number)\r\n",
    "    while True:\r\n",
    "        result = minimize_scalar(fun=fun, bracket=(u,v))\r\n",
    "        if not result.success:\r\n",
    "            break\r\n",
    "        \r\n",
    "        z_max = result.x\r\n",
    "        if np.abs(f(z_max) - p_neg(z_max)) <= np.abs(f(z_max) - p_pos(z_max)):\r\n",
    "            u = z\r\n",
    "        else:\r\n",
    "            v = z\r\n",
    "\r\n",
    "    u_3 = u\r\n",
    "    v_3 = v\r\n",
    "    # Final approximation (i use custom mesh to find argmin)\r\n",
    "    mesh = np.arange(u_1, v_1, step=0.0005)\r\n",
    "    x_array = [np.abs(p_pos(k) - p_neg(k)) for k in mesh]\r\n",
    "    ksi = mesh[np.argmin(x_array)] # ksi is on x-asix\r\n",
    "\r\n",
    "    # finding closest value to ksi in orginal mesh\r\n",
    "    k = 0\r\n",
    "    while ksi > t[k]:\r\n",
    "        k += 1\r\n",
    "    k = k if np.abs(ksi - t[k]) < np.abs(ksi - t[k+1]) else k+1\r\n",
    "    ksi = t[k]\r\n",
    "\r\n",
    "    return u_3, v_3, ksi\r\n",
    "\r\n",
    "\r\n",
    "# x_array = np.append(t[:i_max-1], t[i_max:k], )"
   ],
   "outputs": [],
   "metadata": {}
  },
  {
   "cell_type": "code",
   "execution_count": 11,
   "source": [
    "# ===ALGORITHM===\r\n",
    "def alg3_inexact_info(f, r, T, m, delta):\r\n",
    "    '''\r\n",
    "    f - funkcja, którą aproksymujemy\r\n",
    "    r - regularność funkcji\r\n",
    "    T - dlugość przedziału (0,T]\r\n",
    "    m - początkowa gęstość siatki\r\n",
    "    delta - \r\n",
    "    '''\r\n",
    "    # Step 0 (initialization of algorithm's constants and function evaluations)\r\n",
    "    h = T / m\r\n",
    "    w = -1.0 * np.random.uniform(-(r + 1) * h, 0) # multiply by -1 because we need interval (0, (r + 1) * h]\r\n",
    "\r\n",
    "    t = np.linspace(0, T, m+1, dtype='float64') # czyli mamy m+1 wezlów postaci t[0], ... , t[m]\r\n",
    "    e = np.random.uniform(-delta, delta, m+1)\r\n",
    "    y = np.array([f(t[j]) + e[j] for j in range(0, m+1)])\r\n",
    "\r\n",
    "    # kroki algorytmu\r\n",
    "    u_1, v_1, i_max = step1(t, y)\r\n",
    "    u_2, v_2, p_neg, p_pos, z = step2(t, y, w, u_1, v_1, i_max)\r\n",
    "    u_3, v_3, ksi = step3(t, y, u_2, v_2, p_neg, p_pos, u_1, v_1, z)\r\n",
    "\r\n",
    "    # finalna funkcja approksymująca podaną funkcję\r\n",
    "    polynomial1 = interpolate.interp1d(\r\n",
    "                t[:i_max + 1],\r\n",
    "                y[:i_max + 1])\r\n",
    "\r\n",
    "    polynomial2 = interpolate.interp1d(\r\n",
    "                t[i_max + r + 1:],\r\n",
    "                y[i_max + r + 1:])\r\n",
    "\r\n",
    "    def final_approximation(x):\r\n",
    "        if (t[0] <= x).all() and (x < u_1).all():\r\n",
    "            return polynomial1(x)\r\n",
    "        if (u_1 <= x).all() and (x < ksi).all():\r\n",
    "            return p_neg(x)\r\n",
    "        if (ksi <= x).all() and (x < v_1).all():\r\n",
    "            return p_pos(x)\r\n",
    "        if (v_1 <= x).all() and (x <= t[m]).all():\r\n",
    "            return polynomial2(x)\r\n",
    "    \r\n",
    "    return t, final_approximation"
   ],
   "outputs": [],
   "metadata": {}
  },
  {
   "cell_type": "code",
   "execution_count": 12,
   "source": [
    "delta = 10e-4\r\n",
    "r = 2\r\n",
    "m = 100"
   ],
   "outputs": [],
   "metadata": {}
  },
  {
   "cell_type": "code",
   "execution_count": 13,
   "source": [
    "t, f_approximation = alg3_inexact_info(f, r, T, m, delta)"
   ],
   "outputs": [
    {
     "output_type": "stream",
     "name": "stderr",
     "text": [
      "C:\\Users\\tczyz\\Anaconda3\\envs\\myenv\\lib\\site-packages\\scipy\\optimize\\optimize.py:2527: RuntimeWarning: overflow encountered in double_scalars\n",
      "  if (w - xc) * (xb - w) > 0.0:\n",
      "C:\\Users\\tczyz\\Anaconda3\\envs\\myenv\\lib\\site-packages\\scipy\\optimize\\optimize.py:2547: RuntimeWarning: overflow encountered in double_scalars\n",
      "  elif (w - wlim)*(xc - w) > 0.0:\n",
      "C:\\Users\\tczyz\\Anaconda3\\envs\\myenv\\lib\\site-packages\\scipy\\optimize\\optimize.py:2543: RuntimeWarning: overflow encountered in double_scalars\n",
      "  elif (w - wlim)*(wlim - xc) >= 0.0:\n",
      "C:\\Users\\tczyz\\Anaconda3\\envs\\myenv\\lib\\site-packages\\scipy\\optimize\\optimize.py:2522: RuntimeWarning: overflow encountered in double_scalars\n",
      "  w = xb - ((xb - xc) * tmp2 - (xb - xa) * tmp1) / denom\n",
      "C:\\Users\\tczyz\\Anaconda3\\envs\\myenv\\lib\\site-packages\\scipy\\optimize\\optimize.py:2515: RuntimeWarning: overflow encountered in double_scalars\n",
      "  tmp1 = (xb - xa) * (fb - fc)\n",
      "C:\\Users\\tczyz\\Anaconda3\\envs\\myenv\\lib\\site-packages\\scipy\\optimize\\optimize.py:2516: RuntimeWarning: overflow encountered in double_scalars\n",
      "  tmp2 = (xb - xc) * (fb - fa)\n",
      "C:\\Users\\tczyz\\Anaconda3\\envs\\myenv\\lib\\site-packages\\scipy\\optimize\\optimize.py:2517: RuntimeWarning: invalid value encountered in double_scalars\n",
      "  val = tmp2 - tmp1\n",
      "C:\\Users\\tczyz\\Anaconda3\\envs\\myenv\\lib\\site-packages\\scipy\\optimize\\optimize.py:2523: RuntimeWarning: overflow encountered in double_scalars\n",
      "  wlim = xb + grow_limit * (xc - xb)\n",
      "C:\\Users\\tczyz\\Anaconda3\\envs\\myenv\\lib\\site-packages\\ipykernel_launcher.py:7: RuntimeWarning: overflow encountered in subtract\n",
      "  import sys\n",
      "C:\\Users\\tczyz\\Anaconda3\\envs\\myenv\\lib\\site-packages\\scipy\\optimize\\optimize.py:2559: RuntimeWarning: overflow encountered in double_scalars\n",
      "  w = xc + _gold * (xc - xb)\n",
      "C:\\Users\\tczyz\\Anaconda3\\envs\\myenv\\lib\\site-packages\\scipy\\optimize\\optimize.py:2103: RuntimeWarning: invalid value encountered in double_scalars\n",
      "  if np.abs(x - xmid) < (tol2 - 0.5 * (b - a)):\n",
      "C:\\Users\\tczyz\\Anaconda3\\envs\\myenv\\lib\\site-packages\\scipy\\optimize\\optimize.py:2110: RuntimeWarning: invalid value encountered in double_scalars\n",
      "  deltax = a - x       # do a golden section step\n"
     ]
    }
   ],
   "metadata": {}
  },
  {
   "cell_type": "code",
   "execution_count": 14,
   "source": [
    "# function to calculate values of approximation function\r\n",
    "def f_values(mesh, fun):\r\n",
    "    values = []\r\n",
    "    for x in mesh:\r\n",
    "        values += [fun(x)]\r\n",
    "    return np.array(values)"
   ],
   "outputs": [],
   "metadata": {}
  },
  {
   "cell_type": "code",
   "execution_count": 15,
   "source": [
    "plt.scatter(t,f_values(t, f_approximation))"
   ],
   "outputs": [
    {
     "output_type": "execute_result",
     "data": {
      "text/plain": [
       "<matplotlib.collections.PathCollection at 0x20c22dede48>"
      ]
     },
     "metadata": {},
     "execution_count": 15
    },
    {
     "output_type": "display_data",
     "data": {
      "text/plain": [
       "<Figure size 432x288 with 1 Axes>"
      ],
      "image/svg+xml": "<?xml version=\"1.0\" encoding=\"utf-8\" standalone=\"no\"?>\r\n<!DOCTYPE svg PUBLIC \"-//W3C//DTD SVG 1.1//EN\"\r\n  \"http://www.w3.org/Graphics/SVG/1.1/DTD/svg11.dtd\">\r\n<!-- Created with matplotlib (https://matplotlib.org/) -->\r\n<svg height=\"248.518125pt\" version=\"1.1\" viewBox=\"0 0 386.845313 248.518125\" width=\"386.845313pt\" xmlns=\"http://www.w3.org/2000/svg\" xmlns:xlink=\"http://www.w3.org/1999/xlink\">\r\n <metadata>\r\n  <rdf:RDF xmlns:cc=\"http://creativecommons.org/ns#\" xmlns:dc=\"http://purl.org/dc/elements/1.1/\" xmlns:rdf=\"http://www.w3.org/1999/02/22-rdf-syntax-ns#\">\r\n   <cc:Work>\r\n    <dc:type rdf:resource=\"http://purl.org/dc/dcmitype/StillImage\"/>\r\n    <dc:date>2021-08-21T16:05:20.801456</dc:date>\r\n    <dc:format>image/svg+xml</dc:format>\r\n    <dc:creator>\r\n     <cc:Agent>\r\n      <dc:title>Matplotlib v3.3.2, https://matplotlib.org/</dc:title>\r\n     </cc:Agent>\r\n    </dc:creator>\r\n   </cc:Work>\r\n  </rdf:RDF>\r\n </metadata>\r\n <defs>\r\n  <style type=\"text/css\">*{stroke-linecap:butt;stroke-linejoin:round;}</style>\r\n </defs>\r\n <g id=\"figure_1\">\r\n  <g id=\"patch_1\">\r\n   <path d=\"M 0 248.518125 \r\nL 386.845313 248.518125 \r\nL 386.845313 0 \r\nL 0 0 \r\nz\r\n\" style=\"fill:none;\"/>\r\n  </g>\r\n  <g id=\"axes_1\">\r\n   <g id=\"patch_2\">\r\n    <path d=\"M 44.845313 224.64 \r\nL 379.645313 224.64 \r\nL 379.645313 7.2 \r\nL 44.845313 7.2 \r\nz\r\n\" style=\"fill:#ffffff;\"/>\r\n   </g>\r\n   <g id=\"PathCollection_1\">\r\n    <defs>\r\n     <path d=\"M 0 3 \r\nC 0.795609 3 1.55874 2.683901 2.12132 2.12132 \r\nC 2.683901 1.55874 3 0.795609 3 0 \r\nC 3 -0.795609 2.683901 -1.55874 2.12132 -2.12132 \r\nC 1.55874 -2.683901 0.795609 -3 0 -3 \r\nC -0.795609 -3 -1.55874 -2.683901 -2.12132 -2.12132 \r\nC -2.683901 -1.55874 -3 -0.795609 -3 0 \r\nC -3 0.795609 -2.683901 1.55874 -2.12132 2.12132 \r\nC -1.55874 2.683901 -0.795609 3 0 3 \r\nz\r\n\" id=\"mb79ffe1fb5\" style=\"stroke:#1f77b4;\"/>\r\n    </defs>\r\n    <g clip-path=\"url(#pbdcb4830a6)\">\r\n     <use style=\"fill:#1f77b4;stroke:#1f77b4;\" x=\"60.063494\" xlink:href=\"#mb79ffe1fb5\" y=\"115.993528\"/>\r\n     <use style=\"fill:#1f77b4;stroke:#1f77b4;\" x=\"63.107131\" xlink:href=\"#mb79ffe1fb5\" y=\"106.713985\"/>\r\n     <use style=\"fill:#1f77b4;stroke:#1f77b4;\" x=\"66.150767\" xlink:href=\"#mb79ffe1fb5\" y=\"97.547159\"/>\r\n     <use style=\"fill:#1f77b4;stroke:#1f77b4;\" x=\"69.194403\" xlink:href=\"#mb79ffe1fb5\" y=\"88.495842\"/>\r\n     <use style=\"fill:#1f77b4;stroke:#1f77b4;\" x=\"72.23804\" xlink:href=\"#mb79ffe1fb5\" y=\"79.561604\"/>\r\n     <use style=\"fill:#1f77b4;stroke:#1f77b4;\" x=\"75.281676\" xlink:href=\"#mb79ffe1fb5\" y=\"71.118949\"/>\r\n     <use style=\"fill:#1f77b4;stroke:#1f77b4;\" x=\"78.325313\" xlink:href=\"#mb79ffe1fb5\" y=\"63.084494\"/>\r\n     <use style=\"fill:#1f77b4;stroke:#1f77b4;\" x=\"81.368949\" xlink:href=\"#mb79ffe1fb5\" y=\"55.350417\"/>\r\n     <use style=\"fill:#1f77b4;stroke:#1f77b4;\" x=\"84.412585\" xlink:href=\"#mb79ffe1fb5\" y=\"48.299529\"/>\r\n     <use style=\"fill:#1f77b4;stroke:#1f77b4;\" x=\"87.456222\" xlink:href=\"#mb79ffe1fb5\" y=\"41.873272\"/>\r\n     <use style=\"fill:#1f77b4;stroke:#1f77b4;\" x=\"90.499858\" xlink:href=\"#mb79ffe1fb5\" y=\"36.034547\"/>\r\n     <use style=\"fill:#1f77b4;stroke:#1f77b4;\" x=\"93.543494\" xlink:href=\"#mb79ffe1fb5\" y=\"30.872519\"/>\r\n     <use style=\"fill:#1f77b4;stroke:#1f77b4;\" x=\"96.587131\" xlink:href=\"#mb79ffe1fb5\" y=\"26.630234\"/>\r\n     <use style=\"fill:#1f77b4;stroke:#1f77b4;\" x=\"99.630767\" xlink:href=\"#mb79ffe1fb5\" y=\"23.100889\"/>\r\n     <use style=\"fill:#1f77b4;stroke:#1f77b4;\" x=\"102.674403\" xlink:href=\"#mb79ffe1fb5\" y=\"20.308961\"/>\r\n     <use style=\"fill:#1f77b4;stroke:#1f77b4;\" x=\"105.71804\" xlink:href=\"#mb79ffe1fb5\" y=\"18.366083\"/>\r\n     <use style=\"fill:#1f77b4;stroke:#1f77b4;\" x=\"108.761676\" xlink:href=\"#mb79ffe1fb5\" y=\"17.461912\"/>\r\n     <use style=\"fill:#1f77b4;stroke:#1f77b4;\" x=\"111.805313\" xlink:href=\"#mb79ffe1fb5\" y=\"17.1899\"/>\r\n     <use style=\"fill:#1f77b4;stroke:#1f77b4;\" x=\"114.848949\" xlink:href=\"#mb79ffe1fb5\" y=\"17.98687\"/>\r\n     <use style=\"fill:#1f77b4;stroke:#1f77b4;\" x=\"117.892585\" xlink:href=\"#mb79ffe1fb5\" y=\"19.630129\"/>\r\n     <use style=\"fill:#1f77b4;stroke:#1f77b4;\" x=\"120.936222\" xlink:href=\"#mb79ffe1fb5\" y=\"22.001384\"/>\r\n     <use style=\"fill:#1f77b4;stroke:#1f77b4;\" x=\"123.979858\" xlink:href=\"#mb79ffe1fb5\" y=\"25.395102\"/>\r\n     <use style=\"fill:#1f77b4;stroke:#1f77b4;\" x=\"127.023494\" xlink:href=\"#mb79ffe1fb5\" y=\"29.36768\"/>\r\n     <use style=\"fill:#1f77b4;stroke:#1f77b4;\" x=\"130.067131\" xlink:href=\"#mb79ffe1fb5\" y=\"34.228186\"/>\r\n     <use style=\"fill:#1f77b4;stroke:#1f77b4;\" x=\"133.110767\" xlink:href=\"#mb79ffe1fb5\" y=\"39.80918\"/>\r\n     <use style=\"fill:#1f77b4;stroke:#1f77b4;\" x=\"136.154403\" xlink:href=\"#mb79ffe1fb5\" y=\"46.11965\"/>\r\n     <use style=\"fill:#1f77b4;stroke:#1f77b4;\" x=\"139.19804\" xlink:href=\"#mb79ffe1fb5\" y=\"52.945392\"/>\r\n     <use style=\"fill:#1f77b4;stroke:#1f77b4;\" x=\"142.241676\" xlink:href=\"#mb79ffe1fb5\" y=\"60.527122\"/>\r\n     <use style=\"fill:#1f77b4;stroke:#1f77b4;\" x=\"145.285313\" xlink:href=\"#mb79ffe1fb5\" y=\"68.340047\"/>\r\n     <use style=\"fill:#1f77b4;stroke:#1f77b4;\" x=\"148.328949\" xlink:href=\"#mb79ffe1fb5\" y=\"76.658986\"/>\r\n     <use style=\"fill:#1f77b4;stroke:#1f77b4;\" x=\"151.372585\" xlink:href=\"#mb79ffe1fb5\" y=\"85.402796\"/>\r\n     <use style=\"fill:#1f77b4;stroke:#1f77b4;\" x=\"154.416222\" xlink:href=\"#mb79ffe1fb5\" y=\"94.37549\"/>\r\n     <use style=\"fill:#1f77b4;stroke:#1f77b4;\" x=\"157.459858\" xlink:href=\"#mb79ffe1fb5\" y=\"103.555636\"/>\r\n     <use style=\"fill:#1f77b4;stroke:#1f77b4;\" x=\"160.503494\" xlink:href=\"#mb79ffe1fb5\" y=\"112.735782\"/>\r\n     <use style=\"fill:#1f77b4;stroke:#1f77b4;\" x=\"163.547131\" xlink:href=\"#mb79ffe1fb5\" y=\"109.59749\"/>\r\n     <use style=\"fill:#1f77b4;stroke:#1f77b4;\" x=\"166.590767\" xlink:href=\"#mb79ffe1fb5\" y=\"100.481458\"/>\r\n     <use style=\"fill:#1f77b4;stroke:#1f77b4;\" x=\"169.634403\" xlink:href=\"#mb79ffe1fb5\" y=\"91.365427\"/>\r\n     <use style=\"fill:#1f77b4;stroke:#1f77b4;\" x=\"172.67804\" xlink:href=\"#mb79ffe1fb5\" y=\"82.456179\"/>\r\n     <use style=\"fill:#1f77b4;stroke:#1f77b4;\" x=\"175.721676\" xlink:href=\"#mb79ffe1fb5\" y=\"73.967479\"/>\r\n     <use style=\"fill:#1f77b4;stroke:#1f77b4;\" x=\"178.765313\" xlink:href=\"#mb79ffe1fb5\" y=\"65.622835\"/>\r\n     <use style=\"fill:#1f77b4;stroke:#1f77b4;\" x=\"181.808949\" xlink:href=\"#mb79ffe1fb5\" y=\"57.946953\"/>\r\n     <use style=\"fill:#1f77b4;stroke:#1f77b4;\" x=\"184.852585\" xlink:href=\"#mb79ffe1fb5\" y=\"50.678196\"/>\r\n     <use style=\"fill:#1f77b4;stroke:#1f77b4;\" x=\"187.896222\" xlink:href=\"#mb79ffe1fb5\" y=\"43.959316\"/>\r\n     <use style=\"fill:#1f77b4;stroke:#1f77b4;\" x=\"190.939858\" xlink:href=\"#mb79ffe1fb5\" y=\"37.889732\"/>\r\n     <use style=\"fill:#1f77b4;stroke:#1f77b4;\" x=\"193.983494\" xlink:href=\"#mb79ffe1fb5\" y=\"32.616107\"/>\r\n     <use style=\"fill:#1f77b4;stroke:#1f77b4;\" x=\"197.027131\" xlink:href=\"#mb79ffe1fb5\" y=\"28.039862\"/>\r\n     <use style=\"fill:#1f77b4;stroke:#1f77b4;\" x=\"200.070767\" xlink:href=\"#mb79ffe1fb5\" y=\"24.06876\"/>\r\n     <use style=\"fill:#1f77b4;stroke:#1f77b4;\" x=\"203.114403\" xlink:href=\"#mb79ffe1fb5\" y=\"21.036865\"/>\r\n     <use style=\"fill:#1f77b4;stroke:#1f77b4;\" x=\"206.15804\" xlink:href=\"#mb79ffe1fb5\" y=\"18.841247\"/>\r\n     <use style=\"fill:#1f77b4;stroke:#1f77b4;\" x=\"209.201676\" xlink:href=\"#mb79ffe1fb5\" y=\"17.596742\"/>\r\n     <use style=\"fill:#1f77b4;stroke:#1f77b4;\" x=\"212.245313\" xlink:href=\"#mb79ffe1fb5\" y=\"17.083636\"/>\r\n     <use style=\"fill:#1f77b4;stroke:#1f77b4;\" x=\"215.288949\" xlink:href=\"#mb79ffe1fb5\" y=\"17.686098\"/>\r\n     <use style=\"fill:#1f77b4;stroke:#1f77b4;\" x=\"218.332585\" xlink:href=\"#mb79ffe1fb5\" y=\"18.991567\"/>\r\n     <use style=\"fill:#1f77b4;stroke:#1f77b4;\" x=\"221.376222\" xlink:href=\"#mb79ffe1fb5\" y=\"21.084165\"/>\r\n     <use style=\"fill:#1f77b4;stroke:#1f77b4;\" x=\"224.419858\" xlink:href=\"#mb79ffe1fb5\" y=\"24.044402\"/>\r\n     <use style=\"fill:#1f77b4;stroke:#1f77b4;\" x=\"227.463494\" xlink:href=\"#mb79ffe1fb5\" y=\"27.881562\"/>\r\n     <use style=\"fill:#1f77b4;stroke:#1f77b4;\" x=\"230.507131\" xlink:href=\"#mb79ffe1fb5\" y=\"32.496585\"/>\r\n     <use style=\"fill:#1f77b4;stroke:#1f77b4;\" x=\"233.550767\" xlink:href=\"#mb79ffe1fb5\" y=\"37.987435\"/>\r\n     <use style=\"fill:#1f77b4;stroke:#1f77b4;\" x=\"236.594403\" xlink:href=\"#mb79ffe1fb5\" y=\"43.979397\"/>\r\n     <use style=\"fill:#1f77b4;stroke:#1f77b4;\" x=\"239.63804\" xlink:href=\"#mb79ffe1fb5\" y=\"50.650552\"/>\r\n     <use style=\"fill:#1f77b4;stroke:#1f77b4;\" x=\"242.681676\" xlink:href=\"#mb79ffe1fb5\" y=\"58.006979\"/>\r\n     <use style=\"fill:#1f77b4;stroke:#1f77b4;\" x=\"245.725313\" xlink:href=\"#mb79ffe1fb5\" y=\"65.635754\"/>\r\n     <use style=\"fill:#1f77b4;stroke:#1f77b4;\" x=\"248.768949\" xlink:href=\"#mb79ffe1fb5\" y=\"73.87254\"/>\r\n     <use style=\"fill:#1f77b4;stroke:#1f77b4;\" x=\"251.812585\" xlink:href=\"#mb79ffe1fb5\" y=\"82.497661\"/>\r\n     <use style=\"fill:#1f77b4;stroke:#1f77b4;\" x=\"254.856222\" xlink:href=\"#mb79ffe1fb5\" y=\"91.454362\"/>\r\n     <use style=\"fill:#1f77b4;stroke:#1f77b4;\" x=\"257.899858\" xlink:href=\"#mb79ffe1fb5\" y=\"100.581834\"/>\r\n     <use style=\"fill:#1f77b4;stroke:#1f77b4;\" x=\"260.943494\" xlink:href=\"#mb79ffe1fb5\" y=\"109.697287\"/>\r\n     <use style=\"fill:#1f77b4;stroke:#1f77b4;\" x=\"263.987131\" xlink:href=\"#mb79ffe1fb5\" y=\"119.043329\"/>\r\n     <use style=\"fill:#1f77b4;stroke:#1f77b4;\" x=\"267.030767\" xlink:href=\"#mb79ffe1fb5\" y=\"128.402634\"/>\r\n     <use style=\"fill:#1f77b4;stroke:#1f77b4;\" x=\"270.074403\" xlink:href=\"#mb79ffe1fb5\" y=\"137.633287\"/>\r\n     <use style=\"fill:#1f77b4;stroke:#1f77b4;\" x=\"273.11804\" xlink:href=\"#mb79ffe1fb5\" y=\"146.46201\"/>\r\n     <use style=\"fill:#1f77b4;stroke:#1f77b4;\" x=\"276.161676\" xlink:href=\"#mb79ffe1fb5\" y=\"155.272965\"/>\r\n     <use style=\"fill:#1f77b4;stroke:#1f77b4;\" x=\"279.205313\" xlink:href=\"#mb79ffe1fb5\" y=\"163.616126\"/>\r\n     <use style=\"fill:#1f77b4;stroke:#1f77b4;\" x=\"282.248949\" xlink:href=\"#mb79ffe1fb5\" y=\"171.510451\"/>\r\n     <use style=\"fill:#1f77b4;stroke:#1f77b4;\" x=\"285.292585\" xlink:href=\"#mb79ffe1fb5\" y=\"179.065245\"/>\r\n     <use style=\"fill:#1f77b4;stroke:#1f77b4;\" x=\"288.336222\" xlink:href=\"#mb79ffe1fb5\" y=\"185.839763\"/>\r\n     <use style=\"fill:#1f77b4;stroke:#1f77b4;\" x=\"291.379858\" xlink:href=\"#mb79ffe1fb5\" y=\"192.096782\"/>\r\n     <use style=\"fill:#1f77b4;stroke:#1f77b4;\" x=\"294.423494\" xlink:href=\"#mb79ffe1fb5\" y=\"197.763795\"/>\r\n     <use style=\"fill:#1f77b4;stroke:#1f77b4;\" x=\"297.467131\" xlink:href=\"#mb79ffe1fb5\" y=\"202.607374\"/>\r\n     <use style=\"fill:#1f77b4;stroke:#1f77b4;\" x=\"300.510767\" xlink:href=\"#mb79ffe1fb5\" y=\"206.702771\"/>\r\n     <use style=\"fill:#1f77b4;stroke:#1f77b4;\" x=\"303.554403\" xlink:href=\"#mb79ffe1fb5\" y=\"210.057723\"/>\r\n     <use style=\"fill:#1f77b4;stroke:#1f77b4;\" x=\"306.59804\" xlink:href=\"#mb79ffe1fb5\" y=\"212.332768\"/>\r\n     <use style=\"fill:#1f77b4;stroke:#1f77b4;\" x=\"309.641676\" xlink:href=\"#mb79ffe1fb5\" y=\"213.932546\"/>\r\n     <use style=\"fill:#1f77b4;stroke:#1f77b4;\" x=\"312.685313\" xlink:href=\"#mb79ffe1fb5\" y=\"214.756364\"/>\r\n     <use style=\"fill:#1f77b4;stroke:#1f77b4;\" x=\"315.728949\" xlink:href=\"#mb79ffe1fb5\" y=\"214.639695\"/>\r\n     <use style=\"fill:#1f77b4;stroke:#1f77b4;\" x=\"318.772585\" xlink:href=\"#mb79ffe1fb5\" y=\"213.540156\"/>\r\n     <use style=\"fill:#1f77b4;stroke:#1f77b4;\" x=\"321.816222\" xlink:href=\"#mb79ffe1fb5\" y=\"211.691137\"/>\r\n     <use style=\"fill:#1f77b4;stroke:#1f77b4;\" x=\"324.859858\" xlink:href=\"#mb79ffe1fb5\" y=\"209.028462\"/>\r\n     <use style=\"fill:#1f77b4;stroke:#1f77b4;\" x=\"327.903494\" xlink:href=\"#mb79ffe1fb5\" y=\"205.442618\"/>\r\n     <use style=\"fill:#1f77b4;stroke:#1f77b4;\" x=\"330.947131\" xlink:href=\"#mb79ffe1fb5\" y=\"201.000741\"/>\r\n     <use style=\"fill:#1f77b4;stroke:#1f77b4;\" x=\"333.990767\" xlink:href=\"#mb79ffe1fb5\" y=\"196.011292\"/>\r\n     <use style=\"fill:#1f77b4;stroke:#1f77b4;\" x=\"337.034403\" xlink:href=\"#mb79ffe1fb5\" y=\"190.018446\"/>\r\n     <use style=\"fill:#1f77b4;stroke:#1f77b4;\" x=\"340.07804\" xlink:href=\"#mb79ffe1fb5\" y=\"183.719396\"/>\r\n     <use style=\"fill:#1f77b4;stroke:#1f77b4;\" x=\"343.121676\" xlink:href=\"#mb79ffe1fb5\" y=\"176.583297\"/>\r\n     <use style=\"fill:#1f77b4;stroke:#1f77b4;\" x=\"346.165313\" xlink:href=\"#mb79ffe1fb5\" y=\"168.99926\"/>\r\n     <use style=\"fill:#1f77b4;stroke:#1f77b4;\" x=\"349.208949\" xlink:href=\"#mb79ffe1fb5\" y=\"160.826705\"/>\r\n     <use style=\"fill:#1f77b4;stroke:#1f77b4;\" x=\"352.252585\" xlink:href=\"#mb79ffe1fb5\" y=\"152.288476\"/>\r\n     <use style=\"fill:#1f77b4;stroke:#1f77b4;\" x=\"355.296222\" xlink:href=\"#mb79ffe1fb5\" y=\"143.551901\"/>\r\n     <use style=\"fill:#1f77b4;stroke:#1f77b4;\" x=\"358.339858\" xlink:href=\"#mb79ffe1fb5\" y=\"134.595673\"/>\r\n     <use style=\"fill:#1f77b4;stroke:#1f77b4;\" x=\"361.383494\" xlink:href=\"#mb79ffe1fb5\" y=\"125.236285\"/>\r\n     <use style=\"fill:#1f77b4;stroke:#1f77b4;\" x=\"364.427131\" xlink:href=\"#mb79ffe1fb5\" y=\"115.993259\"/>\r\n    </g>\r\n   </g>\r\n   <g id=\"matplotlib.axis_1\">\r\n    <g id=\"xtick_1\">\r\n     <g id=\"line2d_1\">\r\n      <defs>\r\n       <path d=\"M 0 0 \r\nL 0 3.5 \r\n\" id=\"m99f85ffe5f\" style=\"stroke:#000000;stroke-width:0.8;\"/>\r\n      </defs>\r\n      <g>\r\n       <use style=\"stroke:#000000;stroke-width:0.8;\" x=\"60.063494\" xlink:href=\"#m99f85ffe5f\" y=\"224.64\"/>\r\n      </g>\r\n     </g>\r\n     <g id=\"text_1\">\r\n      <!-- 0 -->\r\n      <g transform=\"translate(56.882244 239.238437)scale(0.1 -0.1)\">\r\n       <defs>\r\n        <path d=\"M 31.78125 66.40625 \r\nQ 24.171875 66.40625 20.328125 58.90625 \r\nQ 16.5 51.421875 16.5 36.375 \r\nQ 16.5 21.390625 20.328125 13.890625 \r\nQ 24.171875 6.390625 31.78125 6.390625 \r\nQ 39.453125 6.390625 43.28125 13.890625 \r\nQ 47.125 21.390625 47.125 36.375 \r\nQ 47.125 51.421875 43.28125 58.90625 \r\nQ 39.453125 66.40625 31.78125 66.40625 \r\nz\r\nM 31.78125 74.21875 \r\nQ 44.046875 74.21875 50.515625 64.515625 \r\nQ 56.984375 54.828125 56.984375 36.375 \r\nQ 56.984375 17.96875 50.515625 8.265625 \r\nQ 44.046875 -1.421875 31.78125 -1.421875 \r\nQ 19.53125 -1.421875 13.0625 8.265625 \r\nQ 6.59375 17.96875 6.59375 36.375 \r\nQ 6.59375 54.828125 13.0625 64.515625 \r\nQ 19.53125 74.21875 31.78125 74.21875 \r\nz\r\n\" id=\"DejaVuSans-48\"/>\r\n       </defs>\r\n       <use xlink:href=\"#DejaVuSans-48\"/>\r\n      </g>\r\n     </g>\r\n    </g>\r\n    <g id=\"xtick_2\">\r\n     <g id=\"line2d_2\">\r\n      <g>\r\n       <use style=\"stroke:#000000;stroke-width:0.8;\" x=\"124.651464\" xlink:href=\"#m99f85ffe5f\" y=\"224.64\"/>\r\n      </g>\r\n     </g>\r\n     <g id=\"text_2\">\r\n      <!-- 2 -->\r\n      <g transform=\"translate(121.470214 239.238437)scale(0.1 -0.1)\">\r\n       <defs>\r\n        <path d=\"M 19.1875 8.296875 \r\nL 53.609375 8.296875 \r\nL 53.609375 0 \r\nL 7.328125 0 \r\nL 7.328125 8.296875 \r\nQ 12.9375 14.109375 22.625 23.890625 \r\nQ 32.328125 33.6875 34.8125 36.53125 \r\nQ 39.546875 41.84375 41.421875 45.53125 \r\nQ 43.3125 49.21875 43.3125 52.78125 \r\nQ 43.3125 58.59375 39.234375 62.25 \r\nQ 35.15625 65.921875 28.609375 65.921875 \r\nQ 23.96875 65.921875 18.8125 64.3125 \r\nQ 13.671875 62.703125 7.8125 59.421875 \r\nL 7.8125 69.390625 \r\nQ 13.765625 71.78125 18.9375 73 \r\nQ 24.125 74.21875 28.421875 74.21875 \r\nQ 39.75 74.21875 46.484375 68.546875 \r\nQ 53.21875 62.890625 53.21875 53.421875 \r\nQ 53.21875 48.921875 51.53125 44.890625 \r\nQ 49.859375 40.875 45.40625 35.40625 \r\nQ 44.1875 33.984375 37.640625 27.21875 \r\nQ 31.109375 20.453125 19.1875 8.296875 \r\nz\r\n\" id=\"DejaVuSans-50\"/>\r\n       </defs>\r\n       <use xlink:href=\"#DejaVuSans-50\"/>\r\n      </g>\r\n     </g>\r\n    </g>\r\n    <g id=\"xtick_3\">\r\n     <g id=\"line2d_3\">\r\n      <g>\r\n       <use style=\"stroke:#000000;stroke-width:0.8;\" x=\"189.239434\" xlink:href=\"#m99f85ffe5f\" y=\"224.64\"/>\r\n      </g>\r\n     </g>\r\n     <g id=\"text_3\">\r\n      <!-- 4 -->\r\n      <g transform=\"translate(186.058184 239.238437)scale(0.1 -0.1)\">\r\n       <defs>\r\n        <path d=\"M 37.796875 64.3125 \r\nL 12.890625 25.390625 \r\nL 37.796875 25.390625 \r\nz\r\nM 35.203125 72.90625 \r\nL 47.609375 72.90625 \r\nL 47.609375 25.390625 \r\nL 58.015625 25.390625 \r\nL 58.015625 17.1875 \r\nL 47.609375 17.1875 \r\nL 47.609375 0 \r\nL 37.796875 0 \r\nL 37.796875 17.1875 \r\nL 4.890625 17.1875 \r\nL 4.890625 26.703125 \r\nz\r\n\" id=\"DejaVuSans-52\"/>\r\n       </defs>\r\n       <use xlink:href=\"#DejaVuSans-52\"/>\r\n      </g>\r\n     </g>\r\n    </g>\r\n    <g id=\"xtick_4\">\r\n     <g id=\"line2d_4\">\r\n      <g>\r\n       <use style=\"stroke:#000000;stroke-width:0.8;\" x=\"253.827403\" xlink:href=\"#m99f85ffe5f\" y=\"224.64\"/>\r\n      </g>\r\n     </g>\r\n     <g id=\"text_4\">\r\n      <!-- 6 -->\r\n      <g transform=\"translate(250.646153 239.238437)scale(0.1 -0.1)\">\r\n       <defs>\r\n        <path d=\"M 33.015625 40.375 \r\nQ 26.375 40.375 22.484375 35.828125 \r\nQ 18.609375 31.296875 18.609375 23.390625 \r\nQ 18.609375 15.53125 22.484375 10.953125 \r\nQ 26.375 6.390625 33.015625 6.390625 \r\nQ 39.65625 6.390625 43.53125 10.953125 \r\nQ 47.40625 15.53125 47.40625 23.390625 \r\nQ 47.40625 31.296875 43.53125 35.828125 \r\nQ 39.65625 40.375 33.015625 40.375 \r\nz\r\nM 52.59375 71.296875 \r\nL 52.59375 62.3125 \r\nQ 48.875 64.0625 45.09375 64.984375 \r\nQ 41.3125 65.921875 37.59375 65.921875 \r\nQ 27.828125 65.921875 22.671875 59.328125 \r\nQ 17.53125 52.734375 16.796875 39.40625 \r\nQ 19.671875 43.65625 24.015625 45.921875 \r\nQ 28.375 48.1875 33.59375 48.1875 \r\nQ 44.578125 48.1875 50.953125 41.515625 \r\nQ 57.328125 34.859375 57.328125 23.390625 \r\nQ 57.328125 12.15625 50.6875 5.359375 \r\nQ 44.046875 -1.421875 33.015625 -1.421875 \r\nQ 20.359375 -1.421875 13.671875 8.265625 \r\nQ 6.984375 17.96875 6.984375 36.375 \r\nQ 6.984375 53.65625 15.1875 63.9375 \r\nQ 23.390625 74.21875 37.203125 74.21875 \r\nQ 40.921875 74.21875 44.703125 73.484375 \r\nQ 48.484375 72.75 52.59375 71.296875 \r\nz\r\n\" id=\"DejaVuSans-54\"/>\r\n       </defs>\r\n       <use xlink:href=\"#DejaVuSans-54\"/>\r\n      </g>\r\n     </g>\r\n    </g>\r\n    <g id=\"xtick_5\">\r\n     <g id=\"line2d_5\">\r\n      <g>\r\n       <use style=\"stroke:#000000;stroke-width:0.8;\" x=\"318.415373\" xlink:href=\"#m99f85ffe5f\" y=\"224.64\"/>\r\n      </g>\r\n     </g>\r\n     <g id=\"text_5\">\r\n      <!-- 8 -->\r\n      <g transform=\"translate(315.234123 239.238437)scale(0.1 -0.1)\">\r\n       <defs>\r\n        <path d=\"M 31.78125 34.625 \r\nQ 24.75 34.625 20.71875 30.859375 \r\nQ 16.703125 27.09375 16.703125 20.515625 \r\nQ 16.703125 13.921875 20.71875 10.15625 \r\nQ 24.75 6.390625 31.78125 6.390625 \r\nQ 38.8125 6.390625 42.859375 10.171875 \r\nQ 46.921875 13.96875 46.921875 20.515625 \r\nQ 46.921875 27.09375 42.890625 30.859375 \r\nQ 38.875 34.625 31.78125 34.625 \r\nz\r\nM 21.921875 38.8125 \r\nQ 15.578125 40.375 12.03125 44.71875 \r\nQ 8.5 49.078125 8.5 55.328125 \r\nQ 8.5 64.0625 14.71875 69.140625 \r\nQ 20.953125 74.21875 31.78125 74.21875 \r\nQ 42.671875 74.21875 48.875 69.140625 \r\nQ 55.078125 64.0625 55.078125 55.328125 \r\nQ 55.078125 49.078125 51.53125 44.71875 \r\nQ 48 40.375 41.703125 38.8125 \r\nQ 48.828125 37.15625 52.796875 32.3125 \r\nQ 56.78125 27.484375 56.78125 20.515625 \r\nQ 56.78125 9.90625 50.3125 4.234375 \r\nQ 43.84375 -1.421875 31.78125 -1.421875 \r\nQ 19.734375 -1.421875 13.25 4.234375 \r\nQ 6.78125 9.90625 6.78125 20.515625 \r\nQ 6.78125 27.484375 10.78125 32.3125 \r\nQ 14.796875 37.15625 21.921875 38.8125 \r\nz\r\nM 18.3125 54.390625 \r\nQ 18.3125 48.734375 21.84375 45.5625 \r\nQ 25.390625 42.390625 31.78125 42.390625 \r\nQ 38.140625 42.390625 41.71875 45.5625 \r\nQ 45.3125 48.734375 45.3125 54.390625 \r\nQ 45.3125 60.0625 41.71875 63.234375 \r\nQ 38.140625 66.40625 31.78125 66.40625 \r\nQ 25.390625 66.40625 21.84375 63.234375 \r\nQ 18.3125 60.0625 18.3125 54.390625 \r\nz\r\n\" id=\"DejaVuSans-56\"/>\r\n       </defs>\r\n       <use xlink:href=\"#DejaVuSans-56\"/>\r\n      </g>\r\n     </g>\r\n    </g>\r\n   </g>\r\n   <g id=\"matplotlib.axis_2\">\r\n    <g id=\"ytick_1\">\r\n     <g id=\"line2d_6\">\r\n      <defs>\r\n       <path d=\"M 0 0 \r\nL -3.5 0 \r\n\" id=\"ma953c9ec21\" style=\"stroke:#000000;stroke-width:0.8;\"/>\r\n      </defs>\r\n      <g>\r\n       <use style=\"stroke:#000000;stroke-width:0.8;\" x=\"44.845313\" xlink:href=\"#ma953c9ec21\" y=\"214.802768\"/>\r\n      </g>\r\n     </g>\r\n     <g id=\"text_6\">\r\n      <!-- −1.00 -->\r\n      <g transform=\"translate(7.2 218.601987)scale(0.1 -0.1)\">\r\n       <defs>\r\n        <path d=\"M 10.59375 35.5 \r\nL 73.1875 35.5 \r\nL 73.1875 27.203125 \r\nL 10.59375 27.203125 \r\nz\r\n\" id=\"DejaVuSans-8722\"/>\r\n        <path d=\"M 12.40625 8.296875 \r\nL 28.515625 8.296875 \r\nL 28.515625 63.921875 \r\nL 10.984375 60.40625 \r\nL 10.984375 69.390625 \r\nL 28.421875 72.90625 \r\nL 38.28125 72.90625 \r\nL 38.28125 8.296875 \r\nL 54.390625 8.296875 \r\nL 54.390625 0 \r\nL 12.40625 0 \r\nz\r\n\" id=\"DejaVuSans-49\"/>\r\n        <path d=\"M 10.6875 12.40625 \r\nL 21 12.40625 \r\nL 21 0 \r\nL 10.6875 0 \r\nz\r\n\" id=\"DejaVuSans-46\"/>\r\n       </defs>\r\n       <use xlink:href=\"#DejaVuSans-8722\"/>\r\n       <use x=\"83.789062\" xlink:href=\"#DejaVuSans-49\"/>\r\n       <use x=\"147.412109\" xlink:href=\"#DejaVuSans-46\"/>\r\n       <use x=\"179.199219\" xlink:href=\"#DejaVuSans-48\"/>\r\n       <use x=\"242.822266\" xlink:href=\"#DejaVuSans-48\"/>\r\n      </g>\r\n     </g>\r\n    </g>\r\n    <g id=\"ytick_2\">\r\n     <g id=\"line2d_7\">\r\n      <g>\r\n       <use style=\"stroke:#000000;stroke-width:0.8;\" x=\"44.845313\" xlink:href=\"#ma953c9ec21\" y=\"190.099928\"/>\r\n      </g>\r\n     </g>\r\n     <g id=\"text_7\">\r\n      <!-- −0.75 -->\r\n      <g transform=\"translate(7.2 193.899147)scale(0.1 -0.1)\">\r\n       <defs>\r\n        <path d=\"M 8.203125 72.90625 \r\nL 55.078125 72.90625 \r\nL 55.078125 68.703125 \r\nL 28.609375 0 \r\nL 18.3125 0 \r\nL 43.21875 64.59375 \r\nL 8.203125 64.59375 \r\nz\r\n\" id=\"DejaVuSans-55\"/>\r\n        <path d=\"M 10.796875 72.90625 \r\nL 49.515625 72.90625 \r\nL 49.515625 64.59375 \r\nL 19.828125 64.59375 \r\nL 19.828125 46.734375 \r\nQ 21.96875 47.46875 24.109375 47.828125 \r\nQ 26.265625 48.1875 28.421875 48.1875 \r\nQ 40.625 48.1875 47.75 41.5 \r\nQ 54.890625 34.8125 54.890625 23.390625 \r\nQ 54.890625 11.625 47.5625 5.09375 \r\nQ 40.234375 -1.421875 26.90625 -1.421875 \r\nQ 22.3125 -1.421875 17.546875 -0.640625 \r\nQ 12.796875 0.140625 7.71875 1.703125 \r\nL 7.71875 11.625 \r\nQ 12.109375 9.234375 16.796875 8.0625 \r\nQ 21.484375 6.890625 26.703125 6.890625 \r\nQ 35.15625 6.890625 40.078125 11.328125 \r\nQ 45.015625 15.765625 45.015625 23.390625 \r\nQ 45.015625 31 40.078125 35.4375 \r\nQ 35.15625 39.890625 26.703125 39.890625 \r\nQ 22.75 39.890625 18.8125 39.015625 \r\nQ 14.890625 38.140625 10.796875 36.28125 \r\nz\r\n\" id=\"DejaVuSans-53\"/>\r\n       </defs>\r\n       <use xlink:href=\"#DejaVuSans-8722\"/>\r\n       <use x=\"83.789062\" xlink:href=\"#DejaVuSans-48\"/>\r\n       <use x=\"147.412109\" xlink:href=\"#DejaVuSans-46\"/>\r\n       <use x=\"179.199219\" xlink:href=\"#DejaVuSans-55\"/>\r\n       <use x=\"242.822266\" xlink:href=\"#DejaVuSans-53\"/>\r\n      </g>\r\n     </g>\r\n    </g>\r\n    <g id=\"ytick_3\">\r\n     <g id=\"line2d_8\">\r\n      <g>\r\n       <use style=\"stroke:#000000;stroke-width:0.8;\" x=\"44.845313\" xlink:href=\"#ma953c9ec21\" y=\"165.397088\"/>\r\n      </g>\r\n     </g>\r\n     <g id=\"text_8\">\r\n      <!-- −0.50 -->\r\n      <g transform=\"translate(7.2 169.196307)scale(0.1 -0.1)\">\r\n       <use xlink:href=\"#DejaVuSans-8722\"/>\r\n       <use x=\"83.789062\" xlink:href=\"#DejaVuSans-48\"/>\r\n       <use x=\"147.412109\" xlink:href=\"#DejaVuSans-46\"/>\r\n       <use x=\"179.199219\" xlink:href=\"#DejaVuSans-53\"/>\r\n       <use x=\"242.822266\" xlink:href=\"#DejaVuSans-48\"/>\r\n      </g>\r\n     </g>\r\n    </g>\r\n    <g id=\"ytick_4\">\r\n     <g id=\"line2d_9\">\r\n      <g>\r\n       <use style=\"stroke:#000000;stroke-width:0.8;\" x=\"44.845313\" xlink:href=\"#ma953c9ec21\" y=\"140.694248\"/>\r\n      </g>\r\n     </g>\r\n     <g id=\"text_9\">\r\n      <!-- −0.25 -->\r\n      <g transform=\"translate(7.2 144.493467)scale(0.1 -0.1)\">\r\n       <use xlink:href=\"#DejaVuSans-8722\"/>\r\n       <use x=\"83.789062\" xlink:href=\"#DejaVuSans-48\"/>\r\n       <use x=\"147.412109\" xlink:href=\"#DejaVuSans-46\"/>\r\n       <use x=\"179.199219\" xlink:href=\"#DejaVuSans-50\"/>\r\n       <use x=\"242.822266\" xlink:href=\"#DejaVuSans-53\"/>\r\n      </g>\r\n     </g>\r\n    </g>\r\n    <g id=\"ytick_5\">\r\n     <g id=\"line2d_10\">\r\n      <g>\r\n       <use style=\"stroke:#000000;stroke-width:0.8;\" x=\"44.845313\" xlink:href=\"#ma953c9ec21\" y=\"115.991408\"/>\r\n      </g>\r\n     </g>\r\n     <g id=\"text_10\">\r\n      <!-- 0.00 -->\r\n      <g transform=\"translate(15.579688 119.790627)scale(0.1 -0.1)\">\r\n       <use xlink:href=\"#DejaVuSans-48\"/>\r\n       <use x=\"63.623047\" xlink:href=\"#DejaVuSans-46\"/>\r\n       <use x=\"95.410156\" xlink:href=\"#DejaVuSans-48\"/>\r\n       <use x=\"159.033203\" xlink:href=\"#DejaVuSans-48\"/>\r\n      </g>\r\n     </g>\r\n    </g>\r\n    <g id=\"ytick_6\">\r\n     <g id=\"line2d_11\">\r\n      <g>\r\n       <use style=\"stroke:#000000;stroke-width:0.8;\" x=\"44.845313\" xlink:href=\"#ma953c9ec21\" y=\"91.288569\"/>\r\n      </g>\r\n     </g>\r\n     <g id=\"text_11\">\r\n      <!-- 0.25 -->\r\n      <g transform=\"translate(15.579688 95.087787)scale(0.1 -0.1)\">\r\n       <use xlink:href=\"#DejaVuSans-48\"/>\r\n       <use x=\"63.623047\" xlink:href=\"#DejaVuSans-46\"/>\r\n       <use x=\"95.410156\" xlink:href=\"#DejaVuSans-50\"/>\r\n       <use x=\"159.033203\" xlink:href=\"#DejaVuSans-53\"/>\r\n      </g>\r\n     </g>\r\n    </g>\r\n    <g id=\"ytick_7\">\r\n     <g id=\"line2d_12\">\r\n      <g>\r\n       <use style=\"stroke:#000000;stroke-width:0.8;\" x=\"44.845313\" xlink:href=\"#ma953c9ec21\" y=\"66.585729\"/>\r\n      </g>\r\n     </g>\r\n     <g id=\"text_12\">\r\n      <!-- 0.50 -->\r\n      <g transform=\"translate(15.579688 70.384948)scale(0.1 -0.1)\">\r\n       <use xlink:href=\"#DejaVuSans-48\"/>\r\n       <use x=\"63.623047\" xlink:href=\"#DejaVuSans-46\"/>\r\n       <use x=\"95.410156\" xlink:href=\"#DejaVuSans-53\"/>\r\n       <use x=\"159.033203\" xlink:href=\"#DejaVuSans-48\"/>\r\n      </g>\r\n     </g>\r\n    </g>\r\n    <g id=\"ytick_8\">\r\n     <g id=\"line2d_13\">\r\n      <g>\r\n       <use style=\"stroke:#000000;stroke-width:0.8;\" x=\"44.845313\" xlink:href=\"#ma953c9ec21\" y=\"41.882889\"/>\r\n      </g>\r\n     </g>\r\n     <g id=\"text_13\">\r\n      <!-- 0.75 -->\r\n      <g transform=\"translate(15.579688 45.682108)scale(0.1 -0.1)\">\r\n       <use xlink:href=\"#DejaVuSans-48\"/>\r\n       <use x=\"63.623047\" xlink:href=\"#DejaVuSans-46\"/>\r\n       <use x=\"95.410156\" xlink:href=\"#DejaVuSans-55\"/>\r\n       <use x=\"159.033203\" xlink:href=\"#DejaVuSans-53\"/>\r\n      </g>\r\n     </g>\r\n    </g>\r\n    <g id=\"ytick_9\">\r\n     <g id=\"line2d_14\">\r\n      <g>\r\n       <use style=\"stroke:#000000;stroke-width:0.8;\" x=\"44.845313\" xlink:href=\"#ma953c9ec21\" y=\"17.180049\"/>\r\n      </g>\r\n     </g>\r\n     <g id=\"text_14\">\r\n      <!-- 1.00 -->\r\n      <g transform=\"translate(15.579688 20.979268)scale(0.1 -0.1)\">\r\n       <use xlink:href=\"#DejaVuSans-49\"/>\r\n       <use x=\"63.623047\" xlink:href=\"#DejaVuSans-46\"/>\r\n       <use x=\"95.410156\" xlink:href=\"#DejaVuSans-48\"/>\r\n       <use x=\"159.033203\" xlink:href=\"#DejaVuSans-48\"/>\r\n      </g>\r\n     </g>\r\n    </g>\r\n   </g>\r\n   <g id=\"patch_3\">\r\n    <path d=\"M 44.845313 224.64 \r\nL 44.845313 7.2 \r\n\" style=\"fill:none;stroke:#000000;stroke-linecap:square;stroke-linejoin:miter;stroke-width:0.8;\"/>\r\n   </g>\r\n   <g id=\"patch_4\">\r\n    <path d=\"M 379.645313 224.64 \r\nL 379.645313 7.2 \r\n\" style=\"fill:none;stroke:#000000;stroke-linecap:square;stroke-linejoin:miter;stroke-width:0.8;\"/>\r\n   </g>\r\n   <g id=\"patch_5\">\r\n    <path d=\"M 44.845313 224.64 \r\nL 379.645313 224.64 \r\n\" style=\"fill:none;stroke:#000000;stroke-linecap:square;stroke-linejoin:miter;stroke-width:0.8;\"/>\r\n   </g>\r\n   <g id=\"patch_6\">\r\n    <path d=\"M 44.845313 7.2 \r\nL 379.645313 7.2 \r\n\" style=\"fill:none;stroke:#000000;stroke-linecap:square;stroke-linejoin:miter;stroke-width:0.8;\"/>\r\n   </g>\r\n  </g>\r\n </g>\r\n <defs>\r\n  <clipPath id=\"pbdcb4830a6\">\r\n   <rect height=\"217.44\" width=\"334.8\" x=\"44.845313\" y=\"7.2\"/>\r\n  </clipPath>\r\n </defs>\r\n</svg>\r\n",
      "image/png": "[encoded data removed]"
     },
     "metadata": {
      "needs_background": "light"
     }
    }
   ],
   "metadata": {}
  },
  {
   "cell_type": "code",
   "execution_count": 16,
   "source": [
    "def worst_case_error(fun, x):\r\n",
    "    '''\r\n",
    "    calculate worst case error for function fun\r\n",
    "    '''\r\n",
    "    \r\n",
    "\r\n",
    "    return np.abs(f(x) - f_approximation(x))"
   ],
   "outputs": [],
   "metadata": {}
  },
  {
   "cell_type": "code",
   "execution_count": 17,
   "source": [
    "m_array = np.arange(10, 10**5, 100)"
   ],
   "outputs": [],
   "metadata": {}
  }
 ],
 "metadata": {
  "kernelspec": {
   "name": "python3",
   "display_name": "Python 3.6.12 64-bit ('myenv': conda)"
  },
  "language_info": {
   "codemirror_mode": {
    "name": "ipython",
    "version": 3
   },
   "file_extension": ".py",
   "mimetype": "text/x-python",
   "name": "python",
   "nbconvert_exporter": "python",
   "pygments_lexer": "ipython3",
   "version": "3.6.12"
  },
  "interpreter": {
   "hash": "fdea1c563661d9473c2d386f6f226caac7062ebbd58da9d55fd4abc3b891592d"
  }
 },
 "nbformat": 4,
 "nbformat_minor": 4
}