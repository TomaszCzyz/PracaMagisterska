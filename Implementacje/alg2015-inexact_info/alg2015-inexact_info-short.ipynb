{
 "cells": [
  {
   "cell_type": "code",
   "execution_count": null,
   "source": [
    "# ALGORYTM Z \"Approximation of piecewise Hölder functions from inexact information\"\r\n",
    "\r\n",
    "# PARAMETRY ALGORYTMU:\r\n",
    "# h = T/m, gdzie m >= 2r + 1   <--- initial resolution of the mesh\r\n",
    "# 0 < w < (r + 1) * h"
   ],
   "outputs": [],
   "metadata": {}
  },
  {
   "cell_type": "code",
   "execution_count": null,
   "source": [
    "# Kroki algorytmu:\r\n",
    "# 1. aproksymacja punktu osobliwego s_f\r\n",
    "#   1a. siatka regularna (o długości h) oraz różnice dzielne użyte są do lokalizacji s_f na przedziale [u_1, v_1] (o długości (r+1) * h)\r\n",
    "#   1b. zawęzenie przedziałów z 1a do [u_2, v_2] przy użyciu wielomianów ekstrpolacyjnych p_neg i p_pos\r\n",
    "#   1c. wyprodukowanie przedziału [u_3, v_3] zawierającego się (lub równego) [u_2, v_2], w którym różnica |p_pos - p_neg| jest nierosnąca na [u_3, ksi] i niemalejąca na [ksi, v_3], gdzie ksi jest finalną aproksymacją s_f\r\n",
    "# 2."
   ],
   "outputs": [],
   "metadata": {}
  },
  {
   "cell_type": "code",
   "execution_count": 16,
   "source": [
    "import numpy as np\r\n",
    "import matplotlib.pyplot as plt\r\n",
    "from scipy.optimize import minimize_scalar\r\n",
    "from scipy import interpolate"
   ],
   "outputs": [],
   "metadata": {}
  },
  {
   "cell_type": "code",
   "execution_count": 17,
   "source": [
    "# EXAMPLE FUNCTION\r\n",
    "T = 2 * np.pi + 0.5\r\n",
    "\r\n",
    "def f(x):\r\n",
    "    if 0 <= x < np.pi:\r\n",
    "        return np.sin(x - np.pi)\r\n",
    "    if np.pi <= x <= 2 * np.pi + 0.5:\r\n",
    "        return np.sin(x - np.pi - 0.5)\r\n"
   ],
   "outputs": [],
   "metadata": {}
  },
  {
   "cell_type": "code",
   "execution_count": 18,
   "source": [
    "# EXAMPLE FUNCTION\r\n",
    "T = 3 * np.pi\r\n",
    "\r\n",
    "def f(x):\r\n",
    "    if 0 <= x < np.pi:\r\n",
    "        return np.sin(x)\r\n",
    "    if np.pi <= x <= 3 * np.pi:\r\n",
    "        return np.sin(x - np.pi)"
   ],
   "outputs": [],
   "metadata": {}
  },
  {
   "cell_type": "code",
   "execution_count": 19,
   "source": [
    "def d_noisy(i, r, t, y):\r\n",
    "    '''t : array of data points t_i, ... , t_{i+r+1}\r\n",
    "       y : array of y_j = f(t_j) + e_j  '''\r\n",
    "    t.astype('float64')\r\n",
    "    y.astype('float64')\r\n",
    "\r\n",
    "    sum = np.float64(0.0)\r\n",
    "    for j in range(i, i+r+1):\r\n",
    "\r\n",
    "        product = 1.0\r\n",
    "        for k in range(i, i+r+1):\r\n",
    "            if k == j:\r\n",
    "                continue\r\n",
    "            product *= 1 / (t[k] - t[j])\r\n",
    "\r\n",
    "        sum += y[j] * product\r\n",
    "\r\n",
    "    return sum"
   ],
   "outputs": [],
   "metadata": {}
  },
  {
   "cell_type": "code",
   "execution_count": 20,
   "source": [
    "# Step 1\r\n",
    "def step1(t, y):\r\n",
    "    i_max = np.argmax([d_noisy(i, r, t, y) for i in range(0, m-r)])\r\n",
    "    u_1 = t[i_max]\r\n",
    "    v_1 = t[i_max + r +1]\r\n",
    "    return u_1, v_1, i_max"
   ],
   "outputs": [],
   "metadata": {}
  },
  {
   "cell_type": "code",
   "execution_count": 21,
   "source": [
    "# Step 2\r\n",
    "def step2(t, y, w, u_1, v_1, i_max):\r\n",
    "    p_neg = interpolate.interp1d(\r\n",
    "        t[i_max - r:i_max + 1],\r\n",
    "        y[i_max - r:i_max + 1],\r\n",
    "        fill_value=\"extrapolate\"\r\n",
    "    )\r\n",
    "    p_pos = interpolate.interp1d(\r\n",
    "        t[i_max + r + 1: i_max + 2 * r + 1 + 1],\r\n",
    "        y[i_max + r + 1: i_max + 2 * r + 1 + 1],\r\n",
    "        fill_value=\"extrapolate\"\r\n",
    "    )\r\n",
    "\r\n",
    "    u = u_1\r\n",
    "    v = v_1\r\n",
    "    while v - u > w:\r\n",
    "        z = np.array([u + j * (v - u) / (r + 2) for j in range(1, r + 2)])\r\n",
    "        dif = np.abs(p_pos(z) - p_neg(z))\r\n",
    "        j_max = np.argmax(dif)\r\n",
    "\r\n",
    "        # tu chyba nie powinno byc bezposrednio f tylko f_noisy = f() + e\r\n",
    "        if np.abs(f(z[j_max]) - p_neg(z[j_max])) <= np.abs(f(z[j_max]) - p_pos(z[j_max])):\r\n",
    "            u = z[j_max]\r\n",
    "        else:\r\n",
    "            v = z[j_max]\r\n",
    "\r\n",
    "    u_2 = u\r\n",
    "    v_2 = v\r\n",
    "    return u_2, v_2, p_neg, p_pos\r\n"
   ],
   "outputs": [],
   "metadata": {}
  },
  {
   "cell_type": "code",
   "execution_count": 22,
   "source": [
    "# Step 3\r\n",
    "def step3(t, y, u_2, v_2, p_neg, p_pos, u_1, v_1):\r\n",
    "    u = u_2\r\n",
    "    v = v_2\r\n",
    "\r\n",
    "    def fun(x):\r\n",
    "        return -1 * np.abs(p_neg(x) - p_pos(x))\r\n",
    "        \r\n",
    "    z_max = [0.0]   # it list only because we need to modify it inside of function (we cannot modify number)\r\n",
    "    while True:\r\n",
    "        result = minimize_scalar(fun=fun, bracket=(u,v))\r\n",
    "        if not result.success:\r\n",
    "            break\r\n",
    "        \r\n",
    "        z_max = result.x\r\n",
    "        if np.abs(f(z_max) - p_neg(z_max)) <= np.abs(f(z_max) - p_pos(z_max)):\r\n",
    "            u = z\r\n",
    "        else:\r\n",
    "            v = z\r\n",
    "\r\n",
    "    u_3 = u\r\n",
    "    v_3 = v\r\n",
    "    # Final approximation (i use custom mesh to find argmin)\r\n",
    "    mesh = np.arange(u_1, v_1, step=0.0005)\r\n",
    "    x_array = [np.abs(p_pos(k) - p_neg(k)) for k in mesh]\r\n",
    "    ksi = mesh[np.argmin(x_array)] # ksi is on x-asix\r\n",
    "\r\n",
    "    # finding closest value to ksi in orginal mesh\r\n",
    "    k = 0\r\n",
    "    while ksi > t[k]:\r\n",
    "        k += 1\r\n",
    "    k = k if np.abs(ksi - t[k]) < np.abs(ksi - t[k+1]) else k+1\r\n",
    "    ksi = t[k]\r\n",
    "\r\n",
    "    return u_3, v_3, ksi\r\n",
    "\r\n",
    "\r\n",
    "# x_array = np.append(t[:i_max-1], t[i_max:k], )"
   ],
   "outputs": [],
   "metadata": {}
  },
  {
   "cell_type": "code",
   "execution_count": 23,
   "source": [
    "# ===ALGORITHM===\r\n",
    "def alg3_inexact_info(f, r, T, m, delta):\r\n",
    "    '''\r\n",
    "    f - funkcja, którą aproksymujemy\r\n",
    "    r - regularność funkcji\r\n",
    "    T - dlugość przedziału (0,T]\r\n",
    "    m - początkowa gęstość siatki\r\n",
    "    delta - \r\n",
    "    '''\r\n",
    "    # Step 0 (initialization of algorithm's constants and function evaluations)\r\n",
    "    h = T / m\r\n",
    "    w = -1.0 * np.random.uniform(-(r + 1) * h, 0) # multiply by -1 because we need interval (0, (r + 1) * h]\r\n",
    "\r\n",
    "    t = np.linspace(0, T, m+1, dtype='float64') # czyli mamy m+1 wezlów postaci t[0], ... , t[m]\r\n",
    "    e = np.random.uniform(-delta, delta, m+1)\r\n",
    "    y = np.array([f(t[j]) + e[j] for j in range(0, m+1)])\r\n",
    "\r\n",
    "    # kroki algorytmu\r\n",
    "    u_1, v_1, i_max = step1(t, y)\r\n",
    "    u_2, v_2, p_neg, p_pos = step2(t, y, w, u_1, v_1, i_max)\r\n",
    "    u_3, v_3, ksi = step3(t, y, u_2, v_2, p_neg, p_pos, u_1, v_1)\r\n",
    "\r\n",
    "    # finalna funkcja approksymująca podaną funkcję\r\n",
    "    polynomial1 = interpolate.interp1d(\r\n",
    "                t[:i_max + 1],\r\n",
    "                y[:i_max + 1])\r\n",
    "\r\n",
    "    polynomial2 = interpolate.interp1d(\r\n",
    "                t[i_max + r + 1:],\r\n",
    "                y[i_max + r + 1:])\r\n",
    "\r\n",
    "    def final_approximation(x):\r\n",
    "        if (t[0] <= x).all() and (x < u_1).all():\r\n",
    "            return polynomial1(x)\r\n",
    "        if (u_1 <= x).all() and (x < ksi).all():\r\n",
    "            return p_neg(x)\r\n",
    "        if (ksi <= x).all() and (x < v_1).all():\r\n",
    "            return p_pos(x)\r\n",
    "        if (v_1 <= x).all() and (x <= t[m]).all():\r\n",
    "            return polynomial2(x)\r\n",
    "    \r\n",
    "    return t, final_approximation"
   ],
   "outputs": [],
   "metadata": {}
  },
  {
   "cell_type": "code",
   "execution_count": 24,
   "source": [
    "delta = 10e-4\r\n",
    "r = 2\r\n",
    "m = 100"
   ],
   "outputs": [],
   "metadata": {}
  },
  {
   "cell_type": "code",
   "execution_count": 25,
   "source": [
    "t, f_approximation = alg3_inexact_info(f, r, T, m, delta)"
   ],
   "outputs": [
    {
     "output_type": "stream",
     "name": "stderr",
     "text": [
      "C:\\Users\\tczyz\\Anaconda3\\envs\\myenv\\lib\\site-packages\\scipy\\optimize\\optimize.py:2547: RuntimeWarning: overflow encountered in double_scalars\n",
      "  elif (w - wlim)*(xc - w) > 0.0:\n",
      "C:\\Users\\tczyz\\Anaconda3\\envs\\myenv\\lib\\site-packages\\ipykernel_launcher.py:7: RuntimeWarning: overflow encountered in subtract\n",
      "  import sys\n",
      "C:\\Users\\tczyz\\Anaconda3\\envs\\myenv\\lib\\site-packages\\scipy\\optimize\\optimize.py:2559: RuntimeWarning: overflow encountered in double_scalars\n",
      "  w = xc + _gold * (xc - xb)\n",
      "C:\\Users\\tczyz\\Anaconda3\\envs\\myenv\\lib\\site-packages\\scipy\\optimize\\optimize.py:2103: RuntimeWarning: invalid value encountered in double_scalars\n",
      "  if np.abs(x - xmid) < (tol2 - 0.5 * (b - a)):\n",
      "C:\\Users\\tczyz\\Anaconda3\\envs\\myenv\\lib\\site-packages\\scipy\\optimize\\optimize.py:2110: RuntimeWarning: invalid value encountered in double_scalars\n",
      "  deltax = a - x       # do a golden section step\n"
     ]
    }
   ],
   "metadata": {}
  },
  {
   "cell_type": "code",
   "execution_count": 26,
   "source": [
    "# function to calculate values of approximation function\r\n",
    "def f_values(mesh, fun):\r\n",
    "    values = []\r\n",
    "    for x in mesh:\r\n",
    "        values += [fun(x)]\r\n",
    "    return np.array(values)"
   ],
   "outputs": [],
   "metadata": {}
  },
  {
   "cell_type": "code",
   "execution_count": 27,
   "source": [
    "plt.scatter(t,f_values(t, f_approximation))"
   ],
   "outputs": [
    {
     "output_type": "execute_result",
     "data": {
      "text/plain": [
       "<matplotlib.collections.PathCollection at 0x2435bef6d68>"
      ]
     },
     "metadata": {},
     "execution_count": 27
    },
    {
     "output_type": "display_data",
     "data": {
      "text/plain": [
       "<Figure size 432x288 with 1 Axes>"
      ],
      "image/png": "[encoded data removed]"
     },
     "metadata": {
      "needs_background": "light"
     }
    }
   ],
   "metadata": {}
  },
  {
   "cell_type": "code",
   "execution_count": 28,
   "source": [
    "def worst_case_error(fun, x):\r\n",
    "    '''\r\n",
    "    calculate worst case error for function fun\r\n",
    "    '''\r\n",
    "    \r\n",
    "\r\n",
    "    return np.abs(f(x) - f_approximation(x))"
   ],
   "outputs": [],
   "metadata": {}
  },
  {
   "cell_type": "code",
   "execution_count": 29,
   "source": [
    "m_array = np.arange(10, 10**5, 100)"
   ],
   "outputs": [],
   "metadata": {}
  }
 ],
 "metadata": {
  "kernelspec": {
   "name": "python3",
   "display_name": "Python 3.6.12 64-bit ('myenv': conda)"
  },
  "language_info": {
   "codemirror_mode": {
    "name": "ipython",
    "version": 3
   },
   "file_extension": ".py",
   "mimetype": "text/x-python",
   "name": "python",
   "nbconvert_exporter": "python",
   "pygments_lexer": "ipython3",
   "version": "3.6.12"
  },
  "interpreter": {
   "hash": "fdea1c563661d9473c2d386f6f226caac7062ebbd58da9d55fd4abc3b891592d"
  }
 },
 "nbformat": 4,
 "nbformat_minor": 4
}